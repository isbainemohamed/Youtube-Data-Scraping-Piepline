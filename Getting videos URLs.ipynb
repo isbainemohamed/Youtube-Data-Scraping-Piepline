{
 "cells": [
  {
   "cell_type": "code",
   "execution_count": 1,
   "id": "926d3cff",
   "metadata": {},
   "outputs": [
    {
     "name": "stdout",
     "output_type": "stream",
     "text": [
      "Requirement already satisfied: chromedriver-py==101.0.4951.41 in /data/venv/lib/python3.6/site-packages (101.0.4951.41)\n",
      "Requirement already satisfied: selenium in /data/venv/lib/python3.6/site-packages (3.141.0)\n",
      "Requirement already satisfied: urllib3 in /data/venv/lib/python3.6/site-packages (from selenium) (1.26.9)\n",
      "Requirement already satisfied: matplotlib in /data/venv/lib/python3.6/site-packages (2.2.3)\n",
      "Requirement already satisfied: python-dateutil>=2.1 in /data/venv/lib/python3.6/site-packages (from matplotlib) (2.8.2)\n",
      "Requirement already satisfied: kiwisolver>=1.0.1 in /data/venv/lib/python3.6/site-packages (from matplotlib) (1.3.1)\n",
      "Requirement already satisfied: pytz in /data/venv/lib/python3.6/site-packages (from matplotlib) (2022.1)\n",
      "Requirement already satisfied: cycler>=0.10 in /data/venv/lib/python3.6/site-packages (from matplotlib) (0.11.0)\n",
      "Requirement already satisfied: numpy>=1.7.1 in /data/venv/lib/python3.6/site-packages (from matplotlib) (1.15.1)\n",
      "Requirement already satisfied: pyparsing!=2.0.4,!=2.1.2,!=2.1.6,>=2.0.1 in /data/venv/lib/python3.6/site-packages (from matplotlib) (3.0.9)\n",
      "Requirement already satisfied: six>=1.10 in /data/venv/lib/python3.6/site-packages (from matplotlib) (1.16.0)\n",
      "Requirement already satisfied: yaspin in /data/venv/lib/python3.6/site-packages (2.1.0)\n",
      "Requirement already satisfied: termcolor<2.0.0,>=1.1.0 in /data/venv/lib/python3.6/site-packages (from yaspin) (1.1.0)\n",
      "Requirement already satisfied: dataclasses<0.9,>=0.8 in /data/venv/lib/python3.6/site-packages (from yaspin) (0.8)\n",
      "Requirement already satisfied: unidecode in /data/venv/lib/python3.6/site-packages (1.3.4)\n",
      "Requirement already satisfied: scrapetube in /data/venv/lib/python3.6/site-packages (2.2.2)\n",
      "Requirement already satisfied: requests in /data/venv/lib/python3.6/site-packages (from scrapetube) (2.27.1)\n",
      "Requirement already satisfied: typing-extensions in /data/venv/lib/python3.6/site-packages (from scrapetube) (4.1.1)\n",
      "Requirement already satisfied: charset-normalizer~=2.0.0 in /data/venv/lib/python3.6/site-packages (from requests->scrapetube) (2.0.12)\n",
      "Requirement already satisfied: urllib3<1.27,>=1.21.1 in /data/venv/lib/python3.6/site-packages (from requests->scrapetube) (1.26.9)\n",
      "Requirement already satisfied: idna<4,>=2.5 in /data/venv/lib/python3.6/site-packages (from requests->scrapetube) (2.10)\n",
      "Requirement already satisfied: certifi>=2017.4.17 in /data/venv/lib/python3.6/site-packages (from requests->scrapetube) (2022.6.15)\n",
      "Requirement already satisfied: yt_dlp in /data/venv/lib/python3.6/site-packages (2022.6.22.1)\n",
      "Requirement already satisfied: certifi in /data/venv/lib/python3.6/site-packages (from yt_dlp) (2022.6.15)\n",
      "Requirement already satisfied: mutagen in /data/venv/lib/python3.6/site-packages (from yt_dlp) (1.45.1)\n",
      "Requirement already satisfied: pycryptodomex in /data/venv/lib/python3.6/site-packages (from yt_dlp) (3.15.0)\n",
      "Requirement already satisfied: websockets in /data/venv/lib/python3.6/site-packages (from yt_dlp) (9.1)\n",
      "Requirement already satisfied: brotli in /data/venv/lib/python3.6/site-packages (from yt_dlp) (1.0.9)\n"
     ]
    }
   ],
   "source": [
    "# install chromedriver and selenium\n",
    "!pip install chromedriver-py==101.0.4951.41\n",
    "!pip install selenium\n",
    "!pip install matplotlib\n",
    "!pip install yaspin\n",
    "!pip install unidecode\n",
    "!pip install scrapetube\n",
    "!pip install yt_dlp"
   ]
  },
  {
   "cell_type": "code",
   "execution_count": 25,
   "id": "31103180",
   "metadata": {},
   "outputs": [
    {
     "name": "stdout",
     "output_type": "stream",
     "text": [
      "/data/notebooks/DATA-ISBAINE/Youtube\r\n"
     ]
    }
   ],
   "source": [
    "!pwd"
   ]
  },
  {
   "cell_type": "code",
   "execution_count": 2,
   "id": "f6489fcb",
   "metadata": {},
   "outputs": [],
   "source": [
    "# importing necessary packages\n",
    "from __future__ import unicode_literals\n",
    "import numpy as np\n",
    "import pandas as pd\n",
    "import requests\n",
    "from bs4 import BeautifulSoup\n",
    "from selenium import webdriver\n",
    "from selenium.webdriver.chrome.options import Options\n",
    "from selenium.webdriver.common.by import By\n",
    "from selenium.webdriver.support.ui import WebDriverWait\n",
    "from selenium.webdriver.support import expected_conditions as EC\n",
    "from chromedriver_py import binary_path\n",
    "import time\n",
    "from selenium import webdriver\n",
    "from tqdm import tqdm\n",
    "import os\n",
    "import matplotlib.pyplot as plt\n",
    "%matplotlib inline\n",
    "from unidecode import unidecode\n",
    "import time\n",
    "from yaspin import yaspin\n",
    "import itertools\n",
    "import os\n",
    "import scrapetube\n",
    "from os.path import exists\n",
    "from datetime import datetime\n",
    "from datetime import date\n",
    "import yt_dlp\n",
    "\n",
    "# Don't Show Warning Messages"
   ]
  },
  {
   "cell_type": "code",
   "execution_count": 3,
   "id": "4188cb70",
   "metadata": {},
   "outputs": [],
   "source": [
    "# creating a function that creates a chrome options object with given parameters\n",
    "def add_driver_options(options):\n",
    "    \"\"\"\n",
    "    This function sets driver options ( given as parameter)\n",
    "    \"\"\"\n",
    "    chrome_options = Options()\n",
    "    for opt in options:\n",
    "        chrome_options.add_argument(opt)\n",
    "    return chrome_options\n",
    "\n",
    "# create function that initialize the driver and return it\n",
    "\n",
    "\n",
    "def initialize_driver():\n",
    "    \"\"\"\n",
    "    This function create an instace of the web driver with the options below:\n",
    "    \"\"\"\n",
    "    driver_config = {\n",
    "        \"executable_path\": binary_path,\n",
    "        \"options\": [\n",
    "            \"--headless\",\n",
    "            \"--no-sandbox\",\n",
    "            \"--start-fullscreen\",\n",
    "            \"--allow-insecure-localhost\",\n",
    "            \"--disable-dev-shm-usage\",\n",
    "            \n",
    "        ],\n",
    "    }\n",
    "    options = add_driver_options(driver_config[\"options\"])\n",
    "    options.add_experimental_option(\"prefs\", {\"profile.default_content_setting_values.cookies\": 2})\n",
    "\n",
    "    driver = webdriver.Chrome(\n",
    "        executable_path=driver_config[\"executable_path\"], options=options\n",
    "    )\n",
    "    return driver"
   ]
  },
  {
   "cell_type": "code",
   "execution_count": 4,
   "id": "a37e3edb",
   "metadata": {},
   "outputs": [],
   "source": [
    "# create a driver with initialize_driver method\n",
    "driver = initialize_driver()"
   ]
  },
  {
   "cell_type": "code",
   "execution_count": 5,
   "id": "4cfe6e5c",
   "metadata": {},
   "outputs": [],
   "source": [
    "import logging\n",
    "logging.basicConfig(filename='logs.log', level=logging.DEBUG, \n",
    "                    format='%(asctime)s %(levelname)s %(name)s %(message)s')\n",
    "logger=logging.getLogger(__name__)"
   ]
  },
  {
   "cell_type": "code",
   "execution_count": 6,
   "id": "c82ceece",
   "metadata": {},
   "outputs": [],
   "source": [
    "# DEFINE OUR STATIC KEYWORDS\n",
    "\n",
    "import json\n",
    "from itertools import chain\n",
    "\n",
    "\n",
    "with open('Keywords.json', 'r') as f:\n",
    "    data = json.load(f)\n",
    "KEYWORDS=list(chain(*data.values()))\n",
    "SCRAPED_URLS=[]"
   ]
  },
  {
   "cell_type": "code",
   "execution_count": 7,
   "id": "1fca0430",
   "metadata": {},
   "outputs": [
    {
     "name": "stdout",
     "output_type": "stream",
     "text": [
      "['DAKARACTU TV HD', 'Walfadjri TV', 'Sen Tv Officiel [DMEDIA]', 'azactu', 'MakhPro boy kl', 'TMS TV Thierno Moule Sow', 'dakar instant', 'Thiesinfo.com', 'guediawayeinfos TV', 'KOLDA TV HD', 'Equivox TV HD', 'Koolo Hinde TV', 'Buzz Senegal Officiel', \"L'Oeil Hibou TV\", 'Touba infos', 'Thiey dakar', 'JTv / Senegal', 'LOUGA TV OFFICIEL', 'wiktivi - Mauritanie', 'baolmediasfm', 'La Vie Senegalaise', 'fecbeut tv', 'Jotay Net', 'TELE DAKAR', 'Sunuinfos TV HD', 'DAKAR 24', 'RDV TV', 'Mourides Tv HD', 'BTV (Banlieue TV Sénégal)', 'Keurdjeggdji TV', 'SenePlus TV', 'seneviral', '3M VISION', 'PARCELLES365', 'DoudouTV', 'Djoloff 24', 'MAGAL-TV EN DIRECT', 'Dalu Ndakaaru', 'KEPPAR TV', 'Tuning Studios', 'Diamiya TV', 'SUNUTUBE', \"L' Oeil du Senegal\", 'OUAKAM INFO', 'SENEGAL INTERNATION24', 'MEDIAS DAKAR TV', 'Ousdarou', 'SENEGAL-NEWS.NET', 'DreamProd', 'GALSEN 24', 'La Maison Des Reporters']\n"
     ]
    }
   ],
   "source": [
    "# Getting Youtube channels Names :\n",
    "driver.get(\"https://eg.youtubers.me/senegal/news-politics/top-50-youtube-channels-in-senegal/en\")\n",
    "time.sleep(1)\n",
    "elements = driver.find_elements(by=By.XPATH, value=\"//body[1]/div[4]/div[1]/div[1]/div[4]/div[1]/div[1]/div[1]/table[1]/tbody[1]/tr/td[2]/a[1]\")\n",
    "Youtube_Channels=[]\n",
    "for e in elements:\n",
    "    Youtube_Channels.append(e.text)\n",
    "Youtube_Channels.append(\"La Maison Des Reporters\")\n",
    "print(Youtube_Channels)"
   ]
  },
  {
   "cell_type": "code",
   "execution_count": 8,
   "id": "25368e76",
   "metadata": {},
   "outputs": [],
   "source": [
    "# A function to \n",
    "def get_number_of_videos(driver):\n",
    "    titles=driver.find_elements(by=By.XPATH, value=\"//h3[@class='title-and-badge style-scope ytd-video-renderer']\")\n",
    "    return len(titles)"
   ]
  },
  {
   "cell_type": "code",
   "execution_count": 9,
   "id": "69cf3a31",
   "metadata": {},
   "outputs": [],
   "source": [
    "# function to add to JSON\n",
    "def write_json(url,upload_date, filename='History.json'):\n",
    "    #date=get_upload_date(url).strftime(\"%Y-%m-%d\")\n",
    "    now = datetime.now().strftime(\"%Y-%m-%d\") # current date and time\n",
    "    # get video id from url:\n",
    "    video_id=url.split(\"=\")[1]\n",
    "    new_data={'id':video_id,'visiteDate':now,'uploadDate':upload_date}\n",
    "    with open(filename,'r+') as file:\n",
    "          # First we load existing data into a dict.\n",
    "        file_data = json.load(file)\n",
    "        # Join new_data with file_data inside emp_details\n",
    "        file_data[\"scraped_urls\"].append(new_data)\n",
    "        # Sets file's current position at offset.\n",
    "        file.seek(0)\n",
    "        # convert back to json.\n",
    "        json.dump(file_data, file, indent = 4)\n",
    "        file.close()"
   ]
  },
  {
   "cell_type": "code",
   "execution_count": 10,
   "id": "1d3d450b",
   "metadata": {},
   "outputs": [],
   "source": [
    "import numpy as np\n",
    "  \n",
    "# function to get unique values\n",
    "def unique(list1):\n",
    "    x = np.array(list1)\n",
    "    return list(np.unique(x))"
   ]
  },
  {
   "cell_type": "code",
   "execution_count": 11,
   "id": "4e8ed2f9",
   "metadata": {},
   "outputs": [],
   "source": [
    "# Define a function to search the item\n",
    "def search_id(id,filename='History.json'):\n",
    "    with open(filename,'r+') as file:\n",
    "        file_data = json.load(file)\n",
    "            # Join new_data with file_data inside emp_details\n",
    "        items=file_data[\"scraped_urls\"]\n",
    "    for item in items:\n",
    "        if id == item['id']:\n",
    "            return item\n",
    "    return None"
   ]
  },
  {
   "cell_type": "code",
   "execution_count": 12,
   "id": "cb9af1d4",
   "metadata": {},
   "outputs": [],
   "source": [
    "# A function to perform keyword search on a specific channel, this function takes (channel name (string) and search query (keyword))\n",
    "## This returns a url to the result page containing videos with specific keyword\n",
    "def perform_keyword_search_on_channel(channel_name,search_query):\n",
    "    query=\"https://www.youtube.com/results?search_query=\"+channel_name.replace(\" \", \"+\")\n",
    "    driver.get(query)\n",
    "    time.sleep(1.5)\n",
    "    link_to_channel =driver.find_elements(By.CSS_SELECTOR,value=\"#main-link\")[0].get_attribute(\"href\")\n",
    "    search_query_link=link_to_channel+\"/search?query=\"+search_query.replace(\" \",\"%20\")\n",
    "    return search_query_link\n"
   ]
  },
  {
   "cell_type": "code",
   "execution_count": 14,
   "id": "70091b5d",
   "metadata": {},
   "outputs": [],
   "source": [
    "# A function that gets all videos links in a result page, it takes two parameters: Search_query_link (the url to the result page) and the max number of videos the scrape (since we have infinity scroll)\n",
    "## It returns the urls list\n",
    "def get_videos_urls(search_query_link,max_videos):\n",
    "    try:\n",
    "        driver.get(search_query_link)\n",
    "        \n",
    "        if 'consent.youtube.com' in driver.current_url: # THIS IS THE CHECK\n",
    "            driver.find_element_by_xpath('//button[@class=\"VfPpkd-LgbsSe VfPpkd-LgbsSe-OWXEXe-k8QpJ VfPpkd-LgbsSe-OWXEXe-dgl2Hf nCP5yc AjY5Oe DuMIQc LQeN7 IIdkle\"]').click() # THIS ACCEPTS THE COOKIE CONSENT FORM\n",
    "        \n",
    "        while True:\n",
    "            scroll_height = 40000\n",
    "            document_height_before = driver.execute_script(\"return document.documentElement.scrollHeight\")\n",
    "            driver.execute_script(f\"window.scrollTo(0, {document_height_before + scroll_height});\")\n",
    "            time.sleep(1.5)\n",
    "            document_height_after = driver.execute_script(\"return document.documentElement.scrollHeight\")\n",
    "            links=driver.find_elements(By.XPATH,value=\"//body/ytd-app[1]/div[1]/ytd-page-manager[1]/ytd-browse[1]/ytd-two-column-browse-results-renderer[1]/div[1]/ytd-section-list-renderer[1]/div[2]/ytd-item-section-renderer/div[3]/ytd-video-renderer[1]/div[1]/div[1]/div[1]/div[1]/h3[1]/a[1]\")\n",
    "            if document_height_after == document_height_before or len(links)>=max_videos:\n",
    "                urls=[url.get_attribute(\"href\") for url in links]\n",
    "                return urls\n",
    "    except IOError as e:\n",
    "        logging.error('Error occurred ' + str(e))\n",
    "        \n",
    "## The number of returned urls will be not equal to specified max_videos number , but will be very close to it"
   ]
  },
  {
   "cell_type": "code",
   "execution_count": 16,
   "id": "639bc564",
   "metadata": {},
   "outputs": [],
   "source": [
    "def get_upload_date(url):\n",
    "    driver.get(url)\n",
    "    # Waits 20 seconds for the \"date\" the appear on the webpage\n",
    "    date = WebDriverWait(driver, 3).until(\n",
    "        EC.visibility_of_element_located(\n",
    "            (By.CSS_SELECTOR, \"#info-strings yt-formatted-string\")\n",
    "        )\n",
    "    )\n",
    "\n",
    "    return datetime.strptime(date.text, '%b %d, %Y')"
   ]
  },
  {
   "cell_type": "code",
   "execution_count": null,
   "id": "5478a094",
   "metadata": {},
   "outputs": [],
   "source": [
    "#get_upload_date('https://www.youtube.com/watch?v=Pr0tC-6hh44&ab_channel=JieJenn').strftime(\"%Y-%m-%d\")"
   ]
  },
  {
   "cell_type": "code",
   "execution_count": 17,
   "id": "8f37ad88",
   "metadata": {},
   "outputs": [],
   "source": [
    "def update_json(video_id,filename=\"History.json\"):\n",
    "    now = datetime.now().strftime(\"%Y-%m-%d\") # current date and time\n",
    "    with open(filename,'r+') as file:\n",
    "          # First we load existing data into a dict.\n",
    "        file_data = json.load(file)\n",
    "            # Join new_data with file_data inside emp_details\n",
    "        items=file_data[\"scraped_urls\"]\n",
    "        for item in items:\n",
    "            if video_id == item['id']:\n",
    "                item[\"visiteDate\"]=now\n",
    "                break\n",
    "        # Sets file's current position at offset.\n",
    "        file.seek(0)\n",
    "        # convert back to json.\n",
    "        json.dump(file_data, file, indent = 4)\n",
    "        file.close()\n",
    "\n",
    "    "
   ]
  },
  {
   "cell_type": "code",
   "execution_count": 18,
   "id": "adc76786",
   "metadata": {},
   "outputs": [],
   "source": [
    "def filter_by_comments(url,keywords=KEYWORDS):\n",
    "    # get comments of the video\n",
    "     # get video id from url:\n",
    "    video_id=url.split(\"=\")[1]\n",
    "    #output=f'/data/notebooks/DATA-ISBAINE/Youtube/Temp data/{video_id}.json'\n",
    "    #!youtube-comment-downloader --youtubeid {video_id} --output '{output}'\n",
    "    ydl_opts = {\n",
    "\n",
    "            'noplaylist': True,\n",
    "            'continue_dl': True,\n",
    "            'outtmpl': f'/data/notebooks/DATA-ISBAINE/Youtube/Temp data/{video_id}',\n",
    "            'geobypass':True,\n",
    "            'ffmpeg_location':'/usr/bin/ffmpeg',\n",
    "            \"skip_download\":True,\n",
    "            'writeinfojson':True,\n",
    "            'getcomments':True,\n",
    "\n",
    "    }\n",
    "    with yt_dlp.YoutubeDL(ydl_opts) as ydl:\n",
    "       \n",
    "        error_code = ydl.download(url)\n",
    "    if error_code:\n",
    "        print('Some videos failed to download')\n",
    "\n",
    "    with open(f'/data/notebooks/DATA-ISBAINE/Youtube/Temp data/{video_id}.info.json', 'r') as metadata:\n",
    "        data = json.load(metadata)\n",
    "    # Get comments list and create a dataframe associated to it\n",
    "    df=pd.DataFrame(data['comments'])\n",
    "    upload_date=data[\"upload_date\"]\n",
    "    try:\n",
    "        os.remove(f'/data/notebooks/DATA-ISBAINE/Youtube/Temp data/{video_id}.info.json')\n",
    "    except IOError as e:\n",
    "        logging.error('Error occurred ' + str(e))\n",
    "    if len(df)>0:\n",
    "        for keyword in keywords:\n",
    "            df[keyword] = df['text'].apply(lambda _str: _str.lower().count(keyword))\n",
    "        df['sum'] = df.sum(axis=1)\n",
    "        count_keywords = sum(df['sum'].tolist())\n",
    "    else:\n",
    "        count_keywords=0\n",
    "    return len(df),count_keywords,upload_date\n",
    "     \n",
    "          \n",
    "    #os.system(\"source /data/venv/bin/activate\")\n",
    "    #os.system(f'youtube-comment-downloader --youtubeid {video_id} --output /data/notebooks/DATA-ISBAINE/Youtube/Temp data/{video_id}.json')"
   ]
  },
  {
   "cell_type": "code",
   "execution_count": 19,
   "id": "cdfb313a",
   "metadata": {},
   "outputs": [],
   "source": [
    "def add_to_list(video_url,desination=\"./To_Scrape.txt\"):\n",
    "    # Open the file in append & read mode ('a+')\n",
    "    try:\n",
    "        with open(\"./To_Scrape.txt\", \"a+\") as file_object:\n",
    "            file_object.seek(0)\n",
    "            # If file is not empty then append '\\n'\n",
    "            list = file_object.readlines()\n",
    "            found = False\n",
    "            for line in list:\n",
    "                if video_url in line:\n",
    "                    found = True\n",
    "            if not found:\n",
    "                if len(list) > 0 :\n",
    "                    file_object.write(\"\\n\")\n",
    "                # Append text at the end of file\n",
    "                file_object.write(video_url)\n",
    "                # Close the file\"\"\"\n",
    " \n",
    "            \"\"\"text = file_object.read()\n",
    "\n",
    "            with open(\"./To_Scrape.txt\", \"a+\") as fobj:\n",
    "                if not text.endswith('\\n'):\n",
    "                    fobj.write('\\n')\n",
    "                fobj.write(video_url)\"\"\"\n",
    "            file_object.close()\n",
    "            return True\n",
    "    except:\n",
    "        print(\"there was an error while saving the video url\")\n",
    "        return False"
   ]
  },
  {
   "cell_type": "code",
   "execution_count": 20,
   "id": "05985881",
   "metadata": {},
   "outputs": [],
   "source": [
    "def filter_video(video_url,threshold):\n",
    "    # get video id from url:\n",
    "    video_id=video_url.split(\"=\")[1]\n",
    "    # check if the video have been scraped already: (if it's ID exists in the log file):\n",
    "    already_scraped=search_id(video_id)\n",
    "    if already_scraped!=None:\n",
    "        number_of_comments,count,upload_date=filter_by_comments(video_url)\n",
    "        delay=(datetime.strptime(datetime.now().strftime(\"%Y-%m-%d\"),\"%Y-%m-%d\")- datetime.strptime(upload_date,\"%Y%m%d\")).days\n",
    "        if delay<100:\n",
    "            #number_of_comments,count=filter_by_comments(video_url)\n",
    "            if count>threshold:\n",
    "                # add to do list \n",
    "                add_to_list(video_url)\n",
    "                update_json(video_id)\n",
    "                \n",
    "            \n",
    "    else:\n",
    "        number_of_comments,count,upload_date=filter_by_comments(video_url)\n",
    "        if count>threshold:\n",
    "                # add to do list \n",
    "            add_to_list(video_url)\n",
    "            write_json(video_url,datetime.strptime(upload_date,\"%Y%m%d\").strftime(\"%Y-%m-%d\"))\n",
    "            "
   ]
  },
  {
   "cell_type": "code",
   "execution_count": null,
   "id": "a51ac442",
   "metadata": {},
   "outputs": [],
   "source": [
    "#datetime.strptime(\"20200315\",\"%Y%m%d\").strftime(\"%Y-%m-%d\")"
   ]
  },
  {
   "cell_type": "code",
   "execution_count": 21,
   "id": "64f59cd1",
   "metadata": {},
   "outputs": [],
   "source": [
    "def get_videos_by_channel(channel_name,max_videos):\n",
    "    urls=[]\n",
    "    for i in tqdm(range(1)):\n",
    "        link=perform_keyword_search_on_channel(channel_name,KEYWORDS[i])\n",
    "        urls.extend(get_videos_urls(link,max_videos))\n",
    "        SCRAPED_URLS.extend(get_videos_urls(link,max_videos))\n",
    "    return urls"
   ]
  },
  {
   "cell_type": "code",
   "execution_count": null,
   "id": "843aa06c",
   "metadata": {},
   "outputs": [],
   "source": [
    "\"\"\"def main():\n",
    "    MAX_VIDEOS=5000\n",
    "    for i in tqdm(range(len(Youtube_Channels))):\n",
    "        urls=get_videos_by_channel(Youtube_Channels[i],MAX_VIDEOS)\n",
    "        print(len(urls))\n",
    "    return urls\n",
    "urls=main()\"\"\""
   ]
  },
  {
   "cell_type": "code",
   "execution_count": 22,
   "id": "7ad45b6e",
   "metadata": {},
   "outputs": [],
   "source": [
    "def get_data():\n",
    "    MAX_VIDEOS=3000\n",
    "    for i in tqdm(range(1)):\n",
    "        try:\n",
    "            urls=get_videos_by_channel(Youtube_Channels[i],MAX_VIDEOS)\n",
    "            print(len(urls))\n",
    "        except IOError as e:\n",
    "            logging.error('Error occurred ' + str(e))\n",
    "            pass\n",
    "        \n"
   ]
  },
  {
   "cell_type": "code",
   "execution_count": 23,
   "id": "02db20b7",
   "metadata": {},
   "outputs": [],
   "source": [
    "def main():\n",
    "    get_data()\n",
    "    links=unique(SCRAPED_URLS)\n",
    "    for i in tqdm(range(len(links))):\n",
    "        filter_video(links[i],10)"
   ]
  },
  {
   "cell_type": "code",
   "execution_count": 24,
   "id": "6f7ee9d1",
   "metadata": {},
   "outputs": [
    {
     "name": "stderr",
     "output_type": "stream",
     "text": [
      "  0%|          | 0/1 [00:00<?, ?it/s]\n",
      "  0%|          | 0/1 [00:00<?, ?it/s]\u001b[A\n",
      "100%|██████████| 1/1 [00:44<00:00, 44.06s/it]\u001b[A\n",
      "100%|██████████| 1/1 [00:44<00:00, 44.06s/it]\n"
     ]
    },
    {
     "name": "stdout",
     "output_type": "stream",
     "text": [
      "329\n"
     ]
    },
    {
     "name": "stderr",
     "output_type": "stream",
     "text": [
      "  0%|          | 0/329 [00:00<?, ?it/s]DeprecationWarning: Support for Python version 3.6 has been deprecated and will break in future versions of yt-dlp! Please update to Python 3.7 or above\n"
     ]
    },
    {
     "name": "stdout",
     "output_type": "stream",
     "text": [
      "[youtube] -0OcflFWFAQ: Downloading webpage\n",
      "[youtube] -0OcflFWFAQ: Downloading android player API JSON\n",
      "[youtube] -0OcflFWFAQ: Downloading MPD manifest\n",
      "[youtube] -0OcflFWFAQ: Downloading MPD manifest\n",
      "[youtube] Downloading comment section API JSON\n",
      "[youtube] Downloading ~1 comments\n",
      "[youtube] Sorting comments by newest first\n",
      "[youtube] Downloading comment API JSON page 1 (0/1)\n",
      "[youtube] Extracted 1 comments\n",
      "[info] -0OcflFWFAQ: Downloading 1 format(s): 243+251\n",
      "[info] Writing video metadata as JSON to: /data/notebooks/DATA-ISBAINE/Youtube/Temp data/-0OcflFWFAQ.info.json\n"
     ]
    },
    {
     "name": "stderr",
     "output_type": "stream",
     "text": [
      "  0%|          | 1/329 [00:02<11:07,  2.04s/it]DeprecationWarning: Support for Python version 3.6 has been deprecated and will break in future versions of yt-dlp! Please update to Python 3.7 or above\n"
     ]
    },
    {
     "name": "stdout",
     "output_type": "stream",
     "text": [
      "[youtube] -2_v7cgq3GM: Downloading webpage\n",
      "[youtube] -2_v7cgq3GM: Downloading android player API JSON\n",
      "[youtube] -2_v7cgq3GM: Downloading MPD manifest\n",
      "[youtube] -2_v7cgq3GM: Downloading MPD manifest\n",
      "[youtube] Downloading comment section API JSON\n",
      "[youtube] Sorting comments by newest first\n",
      "[youtube] Downloading comment API JSON page 1 (0/0)\n",
      "[youtube] Extracted 0 comments\n",
      "[info] -2_v7cgq3GM: Downloading 1 format(s): 302+140\n",
      "[info] Writing video metadata as JSON to: /data/notebooks/DATA-ISBAINE/Youtube/Temp data/-2_v7cgq3GM.info.json\n"
     ]
    },
    {
     "name": "stderr",
     "output_type": "stream",
     "text": [
      "  1%|          | 2/329 [00:03<08:08,  1.49s/it]DeprecationWarning: Support for Python version 3.6 has been deprecated and will break in future versions of yt-dlp! Please update to Python 3.7 or above\n"
     ]
    },
    {
     "name": "stdout",
     "output_type": "stream",
     "text": [
      "[youtube] -7GmSDpMgOg: Downloading webpage\n",
      "[youtube] -7GmSDpMgOg: Downloading android player API JSON\n",
      "[youtube] -7GmSDpMgOg: Downloading MPD manifest\n",
      "[youtube] -7GmSDpMgOg: Downloading MPD manifest\n",
      "[youtube] Downloading comment section API JSON\n",
      "[youtube] Sorting comments by newest first\n",
      "[youtube] Downloading comment API JSON page 1 (0/0)\n",
      "[youtube] Extracted 0 comments\n",
      "[info] -7GmSDpMgOg: Downloading 1 format(s): 248+251\n",
      "[info] Writing video metadata as JSON to: /data/notebooks/DATA-ISBAINE/Youtube/Temp data/-7GmSDpMgOg.info.json\n"
     ]
    },
    {
     "name": "stderr",
     "output_type": "stream",
     "text": [
      "  1%|          | 3/329 [00:04<07:21,  1.35s/it]DeprecationWarning: Support for Python version 3.6 has been deprecated and will break in future versions of yt-dlp! Please update to Python 3.7 or above\n"
     ]
    },
    {
     "name": "stdout",
     "output_type": "stream",
     "text": [
      "[youtube] -9a1dJ3Elao: Downloading webpage\n",
      "[youtube] -9a1dJ3Elao: Downloading android player API JSON\n",
      "[youtube] Downloading comment section API JSON\n",
      "[youtube] Downloading ~3 comments\n",
      "[youtube] Sorting comments by newest first\n",
      "[youtube] Downloading comment API JSON page 1 (0/3)\n",
      "[youtube] Extracted 3 comments\n",
      "[info] -9a1dJ3Elao: Downloading 1 format(s): 302+251\n",
      "[info] Writing video metadata as JSON to: /data/notebooks/DATA-ISBAINE/Youtube/Temp data/-9a1dJ3Elao.info.json\n"
     ]
    },
    {
     "name": "stderr",
     "output_type": "stream",
     "text": [
      "  1%|          | 4/329 [00:05<06:56,  1.28s/it]DeprecationWarning: Support for Python version 3.6 has been deprecated and will break in future versions of yt-dlp! Please update to Python 3.7 or above\n"
     ]
    },
    {
     "name": "stdout",
     "output_type": "stream",
     "text": [
      "[youtube] -QmCu6QxmIg: Downloading webpage\n",
      "[youtube] -QmCu6QxmIg: Downloading android player API JSON\n",
      "[youtube] -QmCu6QxmIg: Downloading MPD manifest\n",
      "[youtube] -QmCu6QxmIg: Downloading MPD manifest\n",
      "[youtube] Downloading comment section API JSON\n",
      "[youtube] Sorting comments by newest first\n",
      "[youtube] Downloading comment API JSON page 1 (0/0)\n",
      "[youtube] Extracted 0 comments\n",
      "[info] -QmCu6QxmIg: Downloading 1 format(s): 248+251\n",
      "[info] Writing video metadata as JSON to: /data/notebooks/DATA-ISBAINE/Youtube/Temp data/-QmCu6QxmIg.info.json\n"
     ]
    },
    {
     "name": "stderr",
     "output_type": "stream",
     "text": [
      "  2%|▏         | 5/329 [00:06<06:42,  1.24s/it]DeprecationWarning: Support for Python version 3.6 has been deprecated and will break in future versions of yt-dlp! Please update to Python 3.7 or above\n"
     ]
    },
    {
     "name": "stdout",
     "output_type": "stream",
     "text": [
      "[youtube] -VdHFglMiI4: Downloading webpage\n",
      "[youtube] -VdHFglMiI4: Downloading android player API JSON\n",
      "[youtube] Downloading comment section API JSON\n",
      "[youtube] Sorting comments by newest first\n",
      "[youtube] Downloading comment API JSON page 1 (0/0)\n",
      "[youtube] Extracted 0 comments\n",
      "[info] -VdHFglMiI4: Downloading 1 format(s): 248+251\n",
      "[info] Writing video metadata as JSON to: /data/notebooks/DATA-ISBAINE/Youtube/Temp data/-VdHFglMiI4.info.json\n"
     ]
    },
    {
     "name": "stderr",
     "output_type": "stream",
     "text": [
      "  2%|▏         | 6/329 [00:07<05:41,  1.06s/it]DeprecationWarning: Support for Python version 3.6 has been deprecated and will break in future versions of yt-dlp! Please update to Python 3.7 or above\n"
     ]
    },
    {
     "name": "stdout",
     "output_type": "stream",
     "text": [
      "[youtube] -WyqC6rBGy0: Downloading webpage\n",
      "[youtube] -WyqC6rBGy0: Downloading android player API JSON\n",
      "[youtube] -WyqC6rBGy0: Downloading MPD manifest\n",
      "[youtube] -WyqC6rBGy0: Downloading MPD manifest\n",
      "[youtube] Downloading comment section API JSON\n",
      "[youtube] Sorting comments by newest first\n",
      "[youtube] Downloading comment API JSON page 1 (0/0)\n",
      "[youtube] Extracted 0 comments\n",
      "[info] -WyqC6rBGy0: Downloading 1 format(s): 248+251\n",
      "[info] Writing video metadata as JSON to: /data/notebooks/DATA-ISBAINE/Youtube/Temp data/-WyqC6rBGy0.info.json\n"
     ]
    },
    {
     "name": "stderr",
     "output_type": "stream",
     "text": [
      "  2%|▏         | 7/329 [00:08<06:09,  1.15s/it]DeprecationWarning: Support for Python version 3.6 has been deprecated and will break in future versions of yt-dlp! Please update to Python 3.7 or above\n"
     ]
    },
    {
     "name": "stdout",
     "output_type": "stream",
     "text": [
      "[youtube] -ollpvYk7Ek: Downloading webpage\n",
      "[youtube] -ollpvYk7Ek: Downloading android player API JSON\n",
      "[youtube] Downloading comment section API JSON\n",
      "[youtube] Downloading ~1 comments\n",
      "[youtube] Sorting comments by newest first\n",
      "[youtube] Downloading comment API JSON page 1 (0/1)\n",
      "[youtube] Extracted 1 comments\n",
      "[info] -ollpvYk7Ek: Downloading 1 format(s): 303+251\n",
      "[info] Writing video metadata as JSON to: /data/notebooks/DATA-ISBAINE/Youtube/Temp data/-ollpvYk7Ek.info.json\n"
     ]
    },
    {
     "name": "stderr",
     "output_type": "stream",
     "text": [
      "  2%|▏         | 8/329 [00:09<06:12,  1.16s/it]DeprecationWarning: Support for Python version 3.6 has been deprecated and will break in future versions of yt-dlp! Please update to Python 3.7 or above\n"
     ]
    },
    {
     "name": "stdout",
     "output_type": "stream",
     "text": [
      "[youtube] -s6mGEMb2AU: Downloading webpage\n",
      "[youtube] -s6mGEMb2AU: Downloading android player API JSON\n",
      "[youtube] Downloading comment section API JSON\n",
      "[youtube] Downloading ~1 comments\n",
      "[youtube] Sorting comments by newest first\n",
      "[youtube] Downloading comment API JSON page 1 (0/1)\n",
      "[youtube] Extracted 1 comments\n",
      "[info] -s6mGEMb2AU: Downloading 1 format(s): 248+251\n",
      "[info] Writing video metadata as JSON to: /data/notebooks/DATA-ISBAINE/Youtube/Temp data/-s6mGEMb2AU.info.json\n"
     ]
    },
    {
     "name": "stderr",
     "output_type": "stream",
     "text": [
      "  3%|▎         | 9/329 [00:10<05:48,  1.09s/it]DeprecationWarning: Support for Python version 3.6 has been deprecated and will break in future versions of yt-dlp! Please update to Python 3.7 or above\n"
     ]
    },
    {
     "name": "stdout",
     "output_type": "stream",
     "text": [
      "[youtube] 0HGv4NwgSSU: Downloading webpage\n",
      "[youtube] 0HGv4NwgSSU: Downloading android player API JSON\n",
      "[youtube] 0HGv4NwgSSU: Downloading MPD manifest\n",
      "[youtube] 0HGv4NwgSSU: Downloading MPD manifest\n",
      "[youtube] Downloading comment section API JSON\n",
      "[youtube] Downloading ~2 comments\n",
      "[youtube] Sorting comments by newest first\n",
      "[youtube] Downloading comment API JSON page 1 (0/2)\n",
      "[youtube] Extracted 2 comments\n",
      "[info] 0HGv4NwgSSU: Downloading 1 format(s): 247+251\n",
      "[info] Writing video metadata as JSON to: /data/notebooks/DATA-ISBAINE/Youtube/Temp data/0HGv4NwgSSU.info.json\n"
     ]
    },
    {
     "name": "stderr",
     "output_type": "stream",
     "text": [
      "  3%|▎         | 10/329 [00:12<06:06,  1.15s/it]DeprecationWarning: Support for Python version 3.6 has been deprecated and will break in future versions of yt-dlp! Please update to Python 3.7 or above\n"
     ]
    },
    {
     "name": "stdout",
     "output_type": "stream",
     "text": [
      "[youtube] 0TKunV8m_4I: Downloading webpage\n",
      "[youtube] 0TKunV8m_4I: Downloading android player API JSON\n",
      "[youtube] Downloading comment section API JSON\n",
      "[youtube] Downloading ~1 comments\n",
      "[youtube] Sorting comments by newest first\n",
      "[youtube] Downloading comment API JSON page 1 (0/1)\n",
      "[youtube] Extracted 1 comments\n",
      "[info] 0TKunV8m_4I: Downloading 1 format(s): 247+251\n",
      "[info] Writing video metadata as JSON to: /data/notebooks/DATA-ISBAINE/Youtube/Temp data/0TKunV8m_4I.info.json\n"
     ]
    },
    {
     "name": "stderr",
     "output_type": "stream",
     "text": [
      "  3%|▎         | 11/329 [00:13<05:52,  1.11s/it]DeprecationWarning: Support for Python version 3.6 has been deprecated and will break in future versions of yt-dlp! Please update to Python 3.7 or above\n"
     ]
    },
    {
     "name": "stdout",
     "output_type": "stream",
     "text": [
      "[youtube] 0b6q0QdsweU: Downloading webpage\n",
      "[youtube] 0b6q0QdsweU: Downloading android player API JSON\n",
      "[youtube] 0b6q0QdsweU: Downloading MPD manifest\n",
      "[youtube] 0b6q0QdsweU: Downloading MPD manifest\n",
      "[youtube] Downloading comment section API JSON\n",
      "[youtube] Downloading ~2 comments\n",
      "[youtube] Sorting comments by newest first\n",
      "[youtube] Downloading comment API JSON page 1 (0/2)\n",
      "[youtube] Extracted 2 comments\n",
      "[info] 0b6q0QdsweU: Downloading 1 format(s): 248+251\n",
      "[info] Writing video metadata as JSON to: /data/notebooks/DATA-ISBAINE/Youtube/Temp data/0b6q0QdsweU.info.json\n"
     ]
    },
    {
     "name": "stderr",
     "output_type": "stream",
     "text": [
      "  4%|▎         | 12/329 [00:14<06:14,  1.18s/it]DeprecationWarning: Support for Python version 3.6 has been deprecated and will break in future versions of yt-dlp! Please update to Python 3.7 or above\n"
     ]
    },
    {
     "name": "stdout",
     "output_type": "stream",
     "text": [
      "[youtube] 0ie3PKabxgg: Downloading webpage\n",
      "[youtube] 0ie3PKabxgg: Downloading android player API JSON\n",
      "[youtube] Downloading comment section API JSON\n",
      "[youtube] Sorting comments by newest first\n",
      "[youtube] Downloading comment API JSON page 1 (0/0)\n",
      "[youtube] Extracted 0 comments\n",
      "[info] 0ie3PKabxgg: Downloading 1 format(s): 248+251\n",
      "[info] Writing video metadata as JSON to: /data/notebooks/DATA-ISBAINE/Youtube/Temp data/0ie3PKabxgg.info.json\n"
     ]
    },
    {
     "name": "stderr",
     "output_type": "stream",
     "text": [
      "  4%|▍         | 13/329 [00:15<05:40,  1.08s/it]DeprecationWarning: Support for Python version 3.6 has been deprecated and will break in future versions of yt-dlp! Please update to Python 3.7 or above\n"
     ]
    },
    {
     "name": "stdout",
     "output_type": "stream",
     "text": [
      "[youtube] 0lHwkXzQO5c: Downloading webpage\n",
      "[youtube] 0lHwkXzQO5c: Downloading android player API JSON\n",
      "[youtube] 0lHwkXzQO5c: Downloading MPD manifest\n",
      "[youtube] 0lHwkXzQO5c: Downloading MPD manifest\n",
      "[youtube] Downloading comment section API JSON\n",
      "[youtube] Sorting comments by newest first\n",
      "[youtube] Downloading comment API JSON page 1 (0/0)\n",
      "[youtube] Extracted 0 comments\n",
      "[info] 0lHwkXzQO5c: Downloading 1 format(s): 248+251\n",
      "[info] Writing video metadata as JSON to: /data/notebooks/DATA-ISBAINE/Youtube/Temp data/0lHwkXzQO5c.info.json\n"
     ]
    },
    {
     "name": "stderr",
     "output_type": "stream",
     "text": [
      "  4%|▍         | 14/329 [00:16<06:04,  1.16s/it]DeprecationWarning: Support for Python version 3.6 has been deprecated and will break in future versions of yt-dlp! Please update to Python 3.7 or above\n"
     ]
    },
    {
     "name": "stdout",
     "output_type": "stream",
     "text": [
      "[youtube] 0uqpct6pxLs: Downloading webpage\n",
      "[youtube] 0uqpct6pxLs: Downloading android player API JSON\n",
      "[youtube] 0uqpct6pxLs: Downloading MPD manifest\n",
      "[youtube] 0uqpct6pxLs: Downloading MPD manifest\n",
      "[youtube] Downloading comment section API JSON\n",
      "[youtube] Sorting comments by newest first\n",
      "[youtube] Downloading comment API JSON page 1 (0/0)\n",
      "[youtube] Extracted 0 comments\n",
      "[info] 0uqpct6pxLs: Downloading 1 format(s): 248+251\n",
      "[info] Writing video metadata as JSON to: /data/notebooks/DATA-ISBAINE/Youtube/Temp data/0uqpct6pxLs.info.json\n"
     ]
    },
    {
     "name": "stderr",
     "output_type": "stream",
     "text": [
      "  5%|▍         | 15/329 [00:17<06:01,  1.15s/it]DeprecationWarning: Support for Python version 3.6 has been deprecated and will break in future versions of yt-dlp! Please update to Python 3.7 or above\n"
     ]
    },
    {
     "name": "stdout",
     "output_type": "stream",
     "text": [
      "[youtube] 0vFxd9YE8-A: Downloading webpage\n",
      "[youtube] 0vFxd9YE8-A: Downloading android player API JSON\n",
      "[youtube] 0vFxd9YE8-A: Downloading MPD manifest\n",
      "[youtube] 0vFxd9YE8-A: Downloading MPD manifest\n",
      "[youtube] Downloading comment section API JSON\n",
      "[youtube] Sorting comments by newest first\n",
      "[youtube] Downloading comment API JSON page 1 (0/0)\n",
      "[youtube] Extracted 0 comments\n",
      "[info] 0vFxd9YE8-A: Downloading 1 format(s): 248+251\n",
      "[info] Writing video metadata as JSON to: /data/notebooks/DATA-ISBAINE/Youtube/Temp data/0vFxd9YE8-A.info.json\n"
     ]
    },
    {
     "name": "stderr",
     "output_type": "stream",
     "text": [
      "  5%|▍         | 16/329 [00:18<06:04,  1.16s/it]DeprecationWarning: Support for Python version 3.6 has been deprecated and will break in future versions of yt-dlp! Please update to Python 3.7 or above\n"
     ]
    },
    {
     "name": "stdout",
     "output_type": "stream",
     "text": [
      "[youtube] 1T62LoCjixc: Downloading webpage\n",
      "[youtube] 1T62LoCjixc: Downloading android player API JSON\n",
      "[youtube] 1T62LoCjixc: Downloading MPD manifest\n",
      "[youtube] 1T62LoCjixc: Downloading MPD manifest\n",
      "[youtube] Downloading comment section API JSON\n"
     ]
    },
    {
     "name": "stderr",
     "output_type": "stream",
     "text": [
      "WARNING: [youtube] 1T62LoCjixc: Youtube said: Comments are turned off. \n"
     ]
    },
    {
     "name": "stdout",
     "output_type": "stream",
     "text": [
      "[youtube] Extracted 0 comments\n",
      "[info] 1T62LoCjixc: Downloading 1 format(s): 248+251\n",
      "[info] Writing video metadata as JSON to: /data/notebooks/DATA-ISBAINE/Youtube/Temp data/1T62LoCjixc.info.json\n"
     ]
    },
    {
     "name": "stderr",
     "output_type": "stream",
     "text": [
      "  5%|▌         | 17/329 [00:20<05:51,  1.13s/it]DeprecationWarning: Support for Python version 3.6 has been deprecated and will break in future versions of yt-dlp! Please update to Python 3.7 or above\n"
     ]
    },
    {
     "name": "stdout",
     "output_type": "stream",
     "text": [
      "[youtube] 1UEJCI3VG4M: Downloading webpage\n",
      "[youtube] 1UEJCI3VG4M: Downloading android player API JSON\n",
      "[youtube] Downloading comment section API JSON\n",
      "[youtube] Sorting comments by newest first\n",
      "[youtube] Downloading comment API JSON page 1 (0/0)\n",
      "[youtube] Extracted 0 comments\n",
      "[info] 1UEJCI3VG4M: Downloading 1 format(s): 248+251\n",
      "[info] Writing video metadata as JSON to: /data/notebooks/DATA-ISBAINE/Youtube/Temp data/1UEJCI3VG4M.info.json\n"
     ]
    },
    {
     "name": "stderr",
     "output_type": "stream",
     "text": [
      "  5%|▌         | 18/329 [00:20<05:24,  1.04s/it]DeprecationWarning: Support for Python version 3.6 has been deprecated and will break in future versions of yt-dlp! Please update to Python 3.7 or above\n"
     ]
    },
    {
     "name": "stdout",
     "output_type": "stream",
     "text": [
      "[youtube] 1XdivsHxg-A: Downloading webpage\n",
      "[youtube] 1XdivsHxg-A: Downloading android player API JSON\n",
      "[youtube] 1XdivsHxg-A: Downloading MPD manifest\n",
      "[youtube] 1XdivsHxg-A: Downloading MPD manifest\n",
      "[youtube] Downloading comment section API JSON\n",
      "[youtube] Downloading ~1 comments\n",
      "[youtube] Sorting comments by newest first\n",
      "[youtube] Downloading comment API JSON page 1 (0/1)\n",
      "[youtube] Extracted 1 comments\n",
      "[info] 1XdivsHxg-A: Downloading 1 format(s): 248+251\n",
      "[info] Writing video metadata as JSON to: /data/notebooks/DATA-ISBAINE/Youtube/Temp data/1XdivsHxg-A.info.json\n"
     ]
    },
    {
     "name": "stderr",
     "output_type": "stream",
     "text": [
      "  6%|▌         | 19/329 [00:22<05:58,  1.16s/it]DeprecationWarning: Support for Python version 3.6 has been deprecated and will break in future versions of yt-dlp! Please update to Python 3.7 or above\n"
     ]
    },
    {
     "name": "stdout",
     "output_type": "stream",
     "text": [
      "[youtube] 1YpBc3ThpNY: Downloading webpage\n",
      "[youtube] 1YpBc3ThpNY: Downloading android player API JSON\n",
      "[youtube] Downloading comment section API JSON\n"
     ]
    },
    {
     "name": "stderr",
     "output_type": "stream",
     "text": [
      "WARNING: [youtube] 1YpBc3ThpNY: Youtube said: Comments are turned off. \n"
     ]
    },
    {
     "name": "stdout",
     "output_type": "stream",
     "text": [
      "[youtube] Extracted 0 comments\n",
      "[info] 1YpBc3ThpNY: Downloading 1 format(s): 302+251\n",
      "[info] Writing video metadata as JSON to: /data/notebooks/DATA-ISBAINE/Youtube/Temp data/1YpBc3ThpNY.info.json\n"
     ]
    },
    {
     "name": "stderr",
     "output_type": "stream",
     "text": [
      "  6%|▌         | 20/329 [00:23<05:53,  1.14s/it]DeprecationWarning: Support for Python version 3.6 has been deprecated and will break in future versions of yt-dlp! Please update to Python 3.7 or above\n"
     ]
    },
    {
     "name": "stdout",
     "output_type": "stream",
     "text": [
      "[youtube] 1aYPcLXp1io: Downloading webpage\n",
      "[youtube] 1aYPcLXp1io: Downloading android player API JSON\n",
      "[youtube] 1aYPcLXp1io: Downloading MPD manifest\n",
      "[youtube] 1aYPcLXp1io: Downloading MPD manifest\n",
      "[youtube] Downloading comment section API JSON\n",
      "[youtube] Downloading ~3 comments\n",
      "[youtube] Sorting comments by newest first\n",
      "[youtube] Downloading comment API JSON page 1 (0/3)\n",
      "[youtube] Extracted 3 comments\n",
      "[info] 1aYPcLXp1io: Downloading 1 format(s): 248+251\n",
      "[info] Writing video metadata as JSON to: /data/notebooks/DATA-ISBAINE/Youtube/Temp data/1aYPcLXp1io.info.json\n"
     ]
    },
    {
     "name": "stderr",
     "output_type": "stream",
     "text": [
      "  6%|▋         | 21/329 [00:24<06:19,  1.23s/it]DeprecationWarning: Support for Python version 3.6 has been deprecated and will break in future versions of yt-dlp! Please update to Python 3.7 or above\n"
     ]
    },
    {
     "name": "stdout",
     "output_type": "stream",
     "text": [
      "[youtube] 1k2KjJPfd3Y: Downloading webpage\n",
      "[youtube] 1k2KjJPfd3Y: Downloading android player API JSON\n",
      "[youtube] Downloading comment section API JSON\n",
      "[youtube] Sorting comments by newest first\n",
      "[youtube] Downloading comment API JSON page 1 (0/0)\n",
      "[youtube] Extracted 0 comments\n",
      "[info] 1k2KjJPfd3Y: Downloading 1 format(s): 302+251\n",
      "[info] Writing video metadata as JSON to: /data/notebooks/DATA-ISBAINE/Youtube/Temp data/1k2KjJPfd3Y.info.json\n"
     ]
    },
    {
     "name": "stderr",
     "output_type": "stream",
     "text": [
      "  7%|▋         | 22/329 [00:25<06:04,  1.19s/it]DeprecationWarning: Support for Python version 3.6 has been deprecated and will break in future versions of yt-dlp! Please update to Python 3.7 or above\n"
     ]
    },
    {
     "name": "stdout",
     "output_type": "stream",
     "text": [
      "[youtube] 1vHfcU6TXlk: Downloading webpage\n",
      "[youtube] 1vHfcU6TXlk: Downloading android player API JSON\n",
      "[youtube] Downloading comment section API JSON\n",
      "[youtube] Downloading ~13 comments\n",
      "[youtube] Sorting comments by newest first\n",
      "[youtube] Downloading comment API JSON page 1 (0/13)\n",
      "[youtube] Extracted 13 comments\n",
      "[info] 1vHfcU6TXlk: Downloading 1 format(s): 248+251\n",
      "[info] Writing video metadata as JSON to: /data/notebooks/DATA-ISBAINE/Youtube/Temp data/1vHfcU6TXlk.info.json\n"
     ]
    },
    {
     "name": "stderr",
     "output_type": "stream",
     "text": [
      "  7%|▋         | 23/329 [00:26<05:46,  1.13s/it]DeprecationWarning: Support for Python version 3.6 has been deprecated and will break in future versions of yt-dlp! Please update to Python 3.7 or above\n"
     ]
    },
    {
     "name": "stdout",
     "output_type": "stream",
     "text": [
      "[youtube] 1z_gr46GoMY: Downloading webpage\n",
      "[youtube] 1z_gr46GoMY: Downloading android player API JSON\n",
      "[youtube] 1z_gr46GoMY: Downloading MPD manifest\n",
      "[youtube] 1z_gr46GoMY: Downloading MPD manifest\n",
      "[youtube] Downloading comment section API JSON\n",
      "[youtube] Downloading ~4 comments\n",
      "[youtube] Sorting comments by newest first\n",
      "[youtube] Downloading comment API JSON page 1 (0/4)\n",
      "[youtube] Extracted 4 comments\n",
      "[info] 1z_gr46GoMY: Downloading 1 format(s): 248+251\n",
      "[info] Writing video metadata as JSON to: /data/notebooks/DATA-ISBAINE/Youtube/Temp data/1z_gr46GoMY.info.json\n"
     ]
    },
    {
     "name": "stderr",
     "output_type": "stream",
     "text": [
      "  7%|▋         | 24/329 [00:28<06:08,  1.21s/it]DeprecationWarning: Support for Python version 3.6 has been deprecated and will break in future versions of yt-dlp! Please update to Python 3.7 or above\n"
     ]
    },
    {
     "name": "stdout",
     "output_type": "stream",
     "text": [
      "[youtube] 2rdJOFiuAo0: Downloading webpage\n",
      "[youtube] 2rdJOFiuAo0: Downloading android player API JSON\n",
      "[youtube] 2rdJOFiuAo0: Downloading MPD manifest\n",
      "[youtube] 2rdJOFiuAo0: Downloading MPD manifest\n",
      "[youtube] Downloading comment section API JSON\n",
      "[youtube] Sorting comments by newest first\n",
      "[youtube] Downloading comment API JSON page 1 (0/0)\n",
      "[youtube] Extracted 0 comments\n",
      "[info] 2rdJOFiuAo0: Downloading 1 format(s): 248+251\n",
      "[info] Writing video metadata as JSON to: /data/notebooks/DATA-ISBAINE/Youtube/Temp data/2rdJOFiuAo0.info.json\n"
     ]
    },
    {
     "name": "stderr",
     "output_type": "stream",
     "text": [
      "  8%|▊         | 25/329 [00:29<06:13,  1.23s/it]DeprecationWarning: Support for Python version 3.6 has been deprecated and will break in future versions of yt-dlp! Please update to Python 3.7 or above\n"
     ]
    },
    {
     "name": "stdout",
     "output_type": "stream",
     "text": [
      "[youtube] 2yciHkKTxT0: Downloading webpage\n",
      "[youtube] 2yciHkKTxT0: Downloading android player API JSON\n",
      "[youtube] Downloading comment section API JSON\n",
      "[youtube] Sorting comments by newest first\n",
      "[youtube] Downloading comment API JSON page 1 (0/0)\n",
      "[youtube] Extracted 0 comments\n",
      "[info] 2yciHkKTxT0: Downloading 1 format(s): 302+251\n",
      "[info] Writing video metadata as JSON to: /data/notebooks/DATA-ISBAINE/Youtube/Temp data/2yciHkKTxT0.info.json\n"
     ]
    },
    {
     "name": "stderr",
     "output_type": "stream",
     "text": [
      "  8%|▊         | 26/329 [00:30<05:50,  1.16s/it]DeprecationWarning: Support for Python version 3.6 has been deprecated and will break in future versions of yt-dlp! Please update to Python 3.7 or above\n"
     ]
    },
    {
     "name": "stdout",
     "output_type": "stream",
     "text": [
      "[youtube] 3ENXBuNnFig: Downloading webpage\n",
      "[youtube] 3ENXBuNnFig: Downloading android player API JSON\n",
      "[youtube] Downloading comment section API JSON\n",
      "[youtube] Downloading ~2 comments\n",
      "[youtube] Sorting comments by newest first\n",
      "[youtube] Downloading comment API JSON page 1 (0/2)\n",
      "[youtube] Extracted 2 comments\n",
      "[info] 3ENXBuNnFig: Downloading 1 format(s): 244+251\n",
      "[info] Writing video metadata as JSON to: /data/notebooks/DATA-ISBAINE/Youtube/Temp data/3ENXBuNnFig.info.json\n"
     ]
    },
    {
     "name": "stderr",
     "output_type": "stream",
     "text": [
      "  8%|▊         | 27/329 [00:31<05:53,  1.17s/it]DeprecationWarning: Support for Python version 3.6 has been deprecated and will break in future versions of yt-dlp! Please update to Python 3.7 or above\n"
     ]
    },
    {
     "name": "stdout",
     "output_type": "stream",
     "text": [
      "[youtube] 3RIFMSW5twY: Downloading webpage\n",
      "[youtube] 3RIFMSW5twY: Downloading android player API JSON\n",
      "[youtube] 3RIFMSW5twY: Downloading MPD manifest\n",
      "[youtube] 3RIFMSW5twY: Downloading MPD manifest\n",
      "[youtube] Downloading comment section API JSON\n",
      "[youtube] Sorting comments by newest first\n",
      "[youtube] Downloading comment API JSON page 1 (0/0)\n",
      "[youtube] Extracted 0 comments\n",
      "[info] 3RIFMSW5twY: Downloading 1 format(s): 248+251\n",
      "[info] Writing video metadata as JSON to: /data/notebooks/DATA-ISBAINE/Youtube/Temp data/3RIFMSW5twY.info.json\n"
     ]
    },
    {
     "name": "stderr",
     "output_type": "stream",
     "text": [
      "  9%|▊         | 28/329 [00:33<05:56,  1.18s/it]DeprecationWarning: Support for Python version 3.6 has been deprecated and will break in future versions of yt-dlp! Please update to Python 3.7 or above\n"
     ]
    },
    {
     "name": "stdout",
     "output_type": "stream",
     "text": [
      "[youtube] 3Sr7PYYoaB8: Downloading webpage\n",
      "[youtube] 3Sr7PYYoaB8: Downloading android player API JSON\n",
      "[youtube] 3Sr7PYYoaB8: Downloading MPD manifest\n",
      "[youtube] 3Sr7PYYoaB8: Downloading MPD manifest\n",
      "[youtube] Downloading comment section API JSON\n",
      "[youtube] Sorting comments by newest first\n",
      "[youtube] Downloading comment API JSON page 1 (0/0)\n",
      "[youtube] Extracted 0 comments\n",
      "[info] 3Sr7PYYoaB8: Downloading 1 format(s): 248+251\n",
      "[info] Writing video metadata as JSON to: /data/notebooks/DATA-ISBAINE/Youtube/Temp data/3Sr7PYYoaB8.info.json\n"
     ]
    },
    {
     "name": "stderr",
     "output_type": "stream",
     "text": [
      "  9%|▉         | 29/329 [00:34<06:00,  1.20s/it]DeprecationWarning: Support for Python version 3.6 has been deprecated and will break in future versions of yt-dlp! Please update to Python 3.7 or above\n"
     ]
    },
    {
     "name": "stdout",
     "output_type": "stream",
     "text": [
      "[youtube] 3UK4NHtAJlM: Downloading webpage\n",
      "[youtube] 3UK4NHtAJlM: Downloading android player API JSON\n",
      "[youtube] 3UK4NHtAJlM: Downloading MPD manifest\n",
      "[youtube] 3UK4NHtAJlM: Downloading MPD manifest\n",
      "[youtube] Downloading comment section API JSON\n",
      "[youtube] Downloading ~2 comments\n",
      "[youtube] Sorting comments by newest first\n",
      "[youtube] Downloading comment API JSON page 1 (0/2)\n",
      "[youtube] Extracted 2 comments\n",
      "[info] 3UK4NHtAJlM: Downloading 1 format(s): 248+251\n",
      "[info] Writing video metadata as JSON to: /data/notebooks/DATA-ISBAINE/Youtube/Temp data/3UK4NHtAJlM.info.json\n"
     ]
    },
    {
     "name": "stderr",
     "output_type": "stream",
     "text": [
      "  9%|▉         | 30/329 [00:35<06:08,  1.23s/it]DeprecationWarning: Support for Python version 3.6 has been deprecated and will break in future versions of yt-dlp! Please update to Python 3.7 or above\n"
     ]
    },
    {
     "name": "stdout",
     "output_type": "stream",
     "text": [
      "[youtube] 3alm0RZPyqw: Downloading webpage\n",
      "[youtube] 3alm0RZPyqw: Downloading android player API JSON\n",
      "[youtube] Downloading comment section API JSON\n",
      "[youtube] Downloading ~7 comments\n",
      "[youtube] Sorting comments by newest first\n",
      "[youtube] Downloading comment API JSON page 1 (0/7)\n",
      "[youtube] Extracted 7 comments\n",
      "[info] 3alm0RZPyqw: Downloading 1 format(s): 247+251\n",
      "[info] Writing video metadata as JSON to: /data/notebooks/DATA-ISBAINE/Youtube/Temp data/3alm0RZPyqw.info.json\n"
     ]
    },
    {
     "name": "stderr",
     "output_type": "stream",
     "text": [
      "  9%|▉         | 31/329 [00:36<05:53,  1.19s/it]DeprecationWarning: Support for Python version 3.6 has been deprecated and will break in future versions of yt-dlp! Please update to Python 3.7 or above\n"
     ]
    },
    {
     "name": "stdout",
     "output_type": "stream",
     "text": [
      "[youtube] 4VkpRZtgOKc: Downloading webpage\n",
      "[youtube] 4VkpRZtgOKc: Downloading android player API JSON\n",
      "[youtube] Downloading comment section API JSON\n",
      "[youtube] Downloading ~1 comments\n",
      "[youtube] Sorting comments by newest first\n",
      "[youtube] Downloading comment API JSON page 1 (0/1)\n",
      "[youtube] Extracted 1 comments\n",
      "[info] 4VkpRZtgOKc: Downloading 1 format(s): 248+251\n",
      "[info] Writing video metadata as JSON to: /data/notebooks/DATA-ISBAINE/Youtube/Temp data/4VkpRZtgOKc.info.json\n"
     ]
    },
    {
     "name": "stderr",
     "output_type": "stream",
     "text": [
      " 10%|▉         | 32/329 [00:37<05:39,  1.14s/it]DeprecationWarning: Support for Python version 3.6 has been deprecated and will break in future versions of yt-dlp! Please update to Python 3.7 or above\n"
     ]
    },
    {
     "name": "stdout",
     "output_type": "stream",
     "text": [
      "[youtube] 59TfEu0Mtpw: Downloading webpage\n",
      "[youtube] 59TfEu0Mtpw: Downloading android player API JSON\n",
      "[youtube] 59TfEu0Mtpw: Downloading MPD manifest\n",
      "[youtube] 59TfEu0Mtpw: Downloading MPD manifest\n",
      "[youtube] Downloading comment section API JSON\n",
      "[youtube] Sorting comments by newest first\n",
      "[youtube] Downloading comment API JSON page 1 (0/0)\n",
      "[youtube] Extracted 0 comments\n",
      "[info] 59TfEu0Mtpw: Downloading 1 format(s): 247+251\n",
      "[info] Writing video metadata as JSON to: /data/notebooks/DATA-ISBAINE/Youtube/Temp data/59TfEu0Mtpw.info.json\n"
     ]
    },
    {
     "name": "stderr",
     "output_type": "stream",
     "text": [
      " 10%|█         | 33/329 [00:38<05:49,  1.18s/it]DeprecationWarning: Support for Python version 3.6 has been deprecated and will break in future versions of yt-dlp! Please update to Python 3.7 or above\n"
     ]
    },
    {
     "name": "stdout",
     "output_type": "stream",
     "text": [
      "[youtube] 5hLmHFTXzN4: Downloading webpage\n",
      "[youtube] 5hLmHFTXzN4: Downloading android player API JSON\n",
      "[youtube] 5hLmHFTXzN4: Downloading MPD manifest\n",
      "[youtube] 5hLmHFTXzN4: Downloading MPD manifest\n",
      "[youtube] Downloading comment section API JSON\n",
      "[youtube] Sorting comments by newest first\n",
      "[youtube] Downloading comment API JSON page 1 (0/0)\n",
      "[youtube] Extracted 0 comments\n",
      "[info] 5hLmHFTXzN4: Downloading 1 format(s): 248+251\n",
      "[info] Writing video metadata as JSON to: /data/notebooks/DATA-ISBAINE/Youtube/Temp data/5hLmHFTXzN4.info.json\n"
     ]
    },
    {
     "name": "stderr",
     "output_type": "stream",
     "text": [
      " 10%|█         | 34/329 [00:40<05:51,  1.19s/it]DeprecationWarning: Support for Python version 3.6 has been deprecated and will break in future versions of yt-dlp! Please update to Python 3.7 or above\n"
     ]
    },
    {
     "name": "stdout",
     "output_type": "stream",
     "text": [
      "[youtube] 5nWKTL9v9JQ: Downloading webpage\n",
      "[youtube] 5nWKTL9v9JQ: Downloading android player API JSON\n",
      "[youtube] 5nWKTL9v9JQ: Downloading MPD manifest\n",
      "[youtube] 5nWKTL9v9JQ: Downloading MPD manifest\n",
      "[youtube] Downloading comment section API JSON\n",
      "[youtube] Sorting comments by newest first\n",
      "[youtube] Downloading comment API JSON page 1 (0/0)\n",
      "[youtube] Extracted 0 comments\n",
      "[info] 5nWKTL9v9JQ: Downloading 1 format(s): 248+251\n",
      "[info] Writing video metadata as JSON to: /data/notebooks/DATA-ISBAINE/Youtube/Temp data/5nWKTL9v9JQ.info.json\n"
     ]
    },
    {
     "name": "stderr",
     "output_type": "stream",
     "text": [
      " 11%|█         | 35/329 [00:41<05:59,  1.22s/it]DeprecationWarning: Support for Python version 3.6 has been deprecated and will break in future versions of yt-dlp! Please update to Python 3.7 or above\n"
     ]
    },
    {
     "name": "stdout",
     "output_type": "stream",
     "text": [
      "[youtube] 5pxZgIPsGjQ: Downloading webpage\n",
      "[youtube] 5pxZgIPsGjQ: Downloading android player API JSON\n",
      "[youtube] 5pxZgIPsGjQ: Downloading MPD manifest\n",
      "[youtube] 5pxZgIPsGjQ: Downloading MPD manifest\n",
      "[youtube] Downloading comment section API JSON\n",
      "[youtube] Downloading ~3 comments\n",
      "[youtube] Sorting comments by newest first\n",
      "[youtube] Downloading comment API JSON page 1 (0/3)\n",
      "[youtube] Extracted 3 comments\n",
      "[info] 5pxZgIPsGjQ: Downloading 1 format(s): 247+251\n",
      "[info] Writing video metadata as JSON to: /data/notebooks/DATA-ISBAINE/Youtube/Temp data/5pxZgIPsGjQ.info.json\n"
     ]
    },
    {
     "name": "stderr",
     "output_type": "stream",
     "text": [
      " 11%|█         | 36/329 [00:42<06:24,  1.31s/it]DeprecationWarning: Support for Python version 3.6 has been deprecated and will break in future versions of yt-dlp! Please update to Python 3.7 or above\n"
     ]
    },
    {
     "name": "stdout",
     "output_type": "stream",
     "text": [
      "[youtube] 6_8-5PISmIM: Downloading webpage\n",
      "[youtube] 6_8-5PISmIM: Downloading android player API JSON\n",
      "[youtube] Downloading comment section API JSON\n",
      "[youtube] Sorting comments by newest first\n",
      "[youtube] Downloading comment API JSON page 1 (0/0)\n",
      "[youtube] Extracted 0 comments\n",
      "[info] 6_8-5PISmIM: Downloading 1 format(s): 248+251\n",
      "[info] Writing video metadata as JSON to: /data/notebooks/DATA-ISBAINE/Youtube/Temp data/6_8-5PISmIM.info.json\n"
     ]
    },
    {
     "name": "stderr",
     "output_type": "stream",
     "text": [
      " 11%|█         | 37/329 [00:43<05:49,  1.20s/it]DeprecationWarning: Support for Python version 3.6 has been deprecated and will break in future versions of yt-dlp! Please update to Python 3.7 or above\n"
     ]
    },
    {
     "name": "stdout",
     "output_type": "stream",
     "text": [
      "[youtube] 6iZsp8ZeIoI: Downloading webpage\n",
      "[youtube] 6iZsp8ZeIoI: Downloading android player API JSON\n",
      "[youtube] 6iZsp8ZeIoI: Downloading MPD manifest\n",
      "[youtube] 6iZsp8ZeIoI: Downloading MPD manifest\n",
      "[youtube] Downloading comment section API JSON\n",
      "[youtube] Sorting comments by newest first\n",
      "[youtube] Downloading comment API JSON page 1 (0/0)\n",
      "[youtube] Extracted 0 comments\n",
      "[info] 6iZsp8ZeIoI: Downloading 1 format(s): 248+251\n",
      "[info] Writing video metadata as JSON to: /data/notebooks/DATA-ISBAINE/Youtube/Temp data/6iZsp8ZeIoI.info.json\n"
     ]
    },
    {
     "name": "stderr",
     "output_type": "stream",
     "text": [
      " 12%|█▏        | 38/329 [00:45<05:53,  1.22s/it]DeprecationWarning: Support for Python version 3.6 has been deprecated and will break in future versions of yt-dlp! Please update to Python 3.7 or above\n"
     ]
    },
    {
     "name": "stdout",
     "output_type": "stream",
     "text": [
      "[youtube] 6mUSPPxvI2s: Downloading webpage\n",
      "[youtube] 6mUSPPxvI2s: Downloading android player API JSON\n",
      "[youtube] 6mUSPPxvI2s: Downloading MPD manifest\n",
      "[youtube] 6mUSPPxvI2s: Downloading MPD manifest\n",
      "[youtube] Downloading comment section API JSON\n",
      "[youtube] Sorting comments by newest first\n",
      "[youtube] Downloading comment API JSON page 1 (0/0)\n",
      "[youtube] Extracted 0 comments\n",
      "[info] 6mUSPPxvI2s: Downloading 1 format(s): 248+251\n",
      "[info] Writing video metadata as JSON to: /data/notebooks/DATA-ISBAINE/Youtube/Temp data/6mUSPPxvI2s.info.json\n"
     ]
    },
    {
     "name": "stderr",
     "output_type": "stream",
     "text": [
      " 12%|█▏        | 39/329 [00:46<05:49,  1.21s/it]DeprecationWarning: Support for Python version 3.6 has been deprecated and will break in future versions of yt-dlp! Please update to Python 3.7 or above\n"
     ]
    },
    {
     "name": "stdout",
     "output_type": "stream",
     "text": [
      "[youtube] 6uUBEmUoLhM: Downloading webpage\n",
      "[youtube] 6uUBEmUoLhM: Downloading android player API JSON\n",
      "[youtube] 6uUBEmUoLhM: Downloading MPD manifest\n",
      "[youtube] 6uUBEmUoLhM: Downloading MPD manifest\n",
      "[youtube] Downloading comment section API JSON\n",
      "[youtube] Downloading ~1 comments\n",
      "[youtube] Sorting comments by newest first\n",
      "[youtube] Downloading comment API JSON page 1 (0/1)\n",
      "[youtube] Extracted 1 comments\n",
      "[info] 6uUBEmUoLhM: Downloading 1 format(s): 248+251\n",
      "[info] Writing video metadata as JSON to: /data/notebooks/DATA-ISBAINE/Youtube/Temp data/6uUBEmUoLhM.info.json\n"
     ]
    },
    {
     "name": "stderr",
     "output_type": "stream",
     "text": [
      " 12%|█▏        | 40/329 [00:47<06:07,  1.27s/it]DeprecationWarning: Support for Python version 3.6 has been deprecated and will break in future versions of yt-dlp! Please update to Python 3.7 or above\n"
     ]
    },
    {
     "name": "stdout",
     "output_type": "stream",
     "text": [
      "[youtube] 6un-zQuPqG0: Downloading webpage\n",
      "[youtube] 6un-zQuPqG0: Downloading android player API JSON\n",
      "[youtube] Downloading comment section API JSON\n",
      "[youtube] Downloading ~2 comments\n",
      "[youtube] Sorting comments by newest first\n",
      "[youtube] Downloading comment API JSON page 1 (0/2)\n",
      "[youtube] Extracted 2 comments\n",
      "[info] 6un-zQuPqG0: Downloading 1 format(s): 248+251\n",
      "[info] Writing video metadata as JSON to: /data/notebooks/DATA-ISBAINE/Youtube/Temp data/6un-zQuPqG0.info.json\n"
     ]
    },
    {
     "name": "stderr",
     "output_type": "stream",
     "text": [
      " 12%|█▏        | 41/329 [00:48<05:59,  1.25s/it]DeprecationWarning: Support for Python version 3.6 has been deprecated and will break in future versions of yt-dlp! Please update to Python 3.7 or above\n"
     ]
    },
    {
     "name": "stdout",
     "output_type": "stream",
     "text": [
      "[youtube] 75Q5IFJIIZU: Downloading webpage\n",
      "[youtube] 75Q5IFJIIZU: Downloading android player API JSON\n",
      "[youtube] 75Q5IFJIIZU: Downloading MPD manifest\n",
      "[youtube] 75Q5IFJIIZU: Downloading MPD manifest\n",
      "[youtube] Downloading comment section API JSON\n",
      "[youtube] Downloading ~1 comments\n",
      "[youtube] Sorting comments by newest first\n",
      "[youtube] Downloading comment API JSON page 1 (0/1)\n",
      "[youtube] Extracted 1 comments\n",
      "[info] 75Q5IFJIIZU: Downloading 1 format(s): 248+251\n",
      "[info] Writing video metadata as JSON to: /data/notebooks/DATA-ISBAINE/Youtube/Temp data/75Q5IFJIIZU.info.json\n"
     ]
    },
    {
     "name": "stderr",
     "output_type": "stream",
     "text": [
      " 13%|█▎        | 42/329 [00:50<05:59,  1.25s/it]DeprecationWarning: Support for Python version 3.6 has been deprecated and will break in future versions of yt-dlp! Please update to Python 3.7 or above\n"
     ]
    },
    {
     "name": "stdout",
     "output_type": "stream",
     "text": [
      "[youtube] 7FJdGm6Uun4: Downloading webpage\n",
      "[youtube] 7FJdGm6Uun4: Downloading android player API JSON\n",
      "[youtube] 7FJdGm6Uun4: Downloading MPD manifest\n",
      "[youtube] 7FJdGm6Uun4: Downloading MPD manifest\n",
      "[youtube] Downloading comment section API JSON\n",
      "[youtube] Sorting comments by newest first\n",
      "[youtube] Downloading comment API JSON page 1 (0/0)\n",
      "[youtube] Extracted 0 comments\n",
      "[info] 7FJdGm6Uun4: Downloading 1 format(s): 303+140\n",
      "[info] Writing video metadata as JSON to: /data/notebooks/DATA-ISBAINE/Youtube/Temp data/7FJdGm6Uun4.info.json\n"
     ]
    },
    {
     "name": "stderr",
     "output_type": "stream",
     "text": [
      " 13%|█▎        | 43/329 [00:51<05:58,  1.25s/it]DeprecationWarning: Support for Python version 3.6 has been deprecated and will break in future versions of yt-dlp! Please update to Python 3.7 or above\n"
     ]
    },
    {
     "name": "stdout",
     "output_type": "stream",
     "text": [
      "[youtube] 7WgIgFaT4AM: Downloading webpage\n",
      "[youtube] 7WgIgFaT4AM: Downloading android player API JSON\n",
      "[youtube] Downloading comment section API JSON\n",
      "[youtube] Sorting comments by newest first\n",
      "[youtube] Downloading comment API JSON page 1 (0/0)\n",
      "[youtube] Extracted 0 comments\n",
      "[info] 7WgIgFaT4AM: Downloading 1 format(s): 247+251\n",
      "[info] Writing video metadata as JSON to: /data/notebooks/DATA-ISBAINE/Youtube/Temp data/7WgIgFaT4AM.info.json\n"
     ]
    },
    {
     "name": "stderr",
     "output_type": "stream",
     "text": [
      " 13%|█▎        | 44/329 [00:52<05:20,  1.13s/it]DeprecationWarning: Support for Python version 3.6 has been deprecated and will break in future versions of yt-dlp! Please update to Python 3.7 or above\n"
     ]
    },
    {
     "name": "stdout",
     "output_type": "stream",
     "text": [
      "[youtube] 7_guE4Xi_0s: Downloading webpage\n",
      "[youtube] 7_guE4Xi_0s: Downloading android player API JSON\n",
      "[youtube] 7_guE4Xi_0s: Downloading MPD manifest\n",
      "[youtube] 7_guE4Xi_0s: Downloading MPD manifest\n",
      "[youtube] Downloading comment section API JSON\n",
      "[youtube] Sorting comments by newest first\n",
      "[youtube] Downloading comment API JSON page 1 (0/0)\n",
      "[youtube] Extracted 0 comments\n",
      "[info] 7_guE4Xi_0s: Downloading 1 format(s): 248+251\n",
      "[info] Writing video metadata as JSON to: /data/notebooks/DATA-ISBAINE/Youtube/Temp data/7_guE4Xi_0s.info.json\n"
     ]
    },
    {
     "name": "stderr",
     "output_type": "stream",
     "text": [
      " 14%|█▎        | 45/329 [00:53<05:31,  1.17s/it]DeprecationWarning: Support for Python version 3.6 has been deprecated and will break in future versions of yt-dlp! Please update to Python 3.7 or above\n"
     ]
    },
    {
     "name": "stdout",
     "output_type": "stream",
     "text": [
      "[youtube] 8GwQeuwsDp4: Downloading webpage\n",
      "[youtube] 8GwQeuwsDp4: Downloading android player API JSON\n",
      "[youtube] Downloading comment section API JSON\n",
      "[youtube] Downloading ~1 comments\n",
      "[youtube] Sorting comments by newest first\n",
      "[youtube] Downloading comment API JSON page 1 (0/1)\n",
      "[youtube] Extracted 1 comments\n",
      "[info] 8GwQeuwsDp4: Downloading 1 format(s): 247+251\n",
      "[info] Writing video metadata as JSON to: /data/notebooks/DATA-ISBAINE/Youtube/Temp data/8GwQeuwsDp4.info.json\n"
     ]
    },
    {
     "name": "stderr",
     "output_type": "stream",
     "text": [
      " 14%|█▍        | 46/329 [00:54<05:30,  1.17s/it]DeprecationWarning: Support for Python version 3.6 has been deprecated and will break in future versions of yt-dlp! Please update to Python 3.7 or above\n"
     ]
    },
    {
     "name": "stdout",
     "output_type": "stream",
     "text": [
      "[youtube] 8TN29WZqB9w: Downloading webpage\n",
      "[youtube] 8TN29WZqB9w: Downloading android player API JSON\n",
      "[youtube] Downloading comment section API JSON\n",
      "[youtube] Downloading ~2 comments\n",
      "[youtube] Sorting comments by newest first\n",
      "[youtube] Downloading comment API JSON page 1 (0/2)\n",
      "[youtube] Extracted 2 comments\n",
      "[info] 8TN29WZqB9w: Downloading 1 format(s): 248+251\n",
      "[info] Writing video metadata as JSON to: /data/notebooks/DATA-ISBAINE/Youtube/Temp data/8TN29WZqB9w.info.json\n"
     ]
    },
    {
     "name": "stderr",
     "output_type": "stream",
     "text": [
      " 14%|█▍        | 47/329 [00:55<05:09,  1.10s/it]DeprecationWarning: Support for Python version 3.6 has been deprecated and will break in future versions of yt-dlp! Please update to Python 3.7 or above\n"
     ]
    },
    {
     "name": "stdout",
     "output_type": "stream",
     "text": [
      "[youtube] 8rY1Ek3Kr4E: Downloading webpage\n",
      "[youtube] 8rY1Ek3Kr4E: Downloading android player API JSON\n",
      "[youtube] Downloading comment section API JSON\n",
      "[youtube] Sorting comments by newest first\n",
      "[youtube] Downloading comment API JSON page 1 (0/0)\n",
      "[youtube] Extracted 0 comments\n",
      "[info] 8rY1Ek3Kr4E: Downloading 1 format(s): 248+251\n",
      "[info] Writing video metadata as JSON to: /data/notebooks/DATA-ISBAINE/Youtube/Temp data/8rY1Ek3Kr4E.info.json\n"
     ]
    },
    {
     "name": "stderr",
     "output_type": "stream",
     "text": [
      " 15%|█▍        | 48/329 [00:56<04:42,  1.01s/it]DeprecationWarning: Support for Python version 3.6 has been deprecated and will break in future versions of yt-dlp! Please update to Python 3.7 or above\n"
     ]
    },
    {
     "name": "stdout",
     "output_type": "stream",
     "text": [
      "[youtube] 92kxU-lIXdk: Downloading webpage\n",
      "[youtube] 92kxU-lIXdk: Downloading android player API JSON\n",
      "[youtube] Downloading comment section API JSON\n",
      "[youtube] Downloading ~1 comments\n",
      "[youtube] Sorting comments by newest first\n",
      "[youtube] Downloading comment API JSON page 1 (0/1)\n",
      "[youtube] Extracted 1 comments\n",
      "[info] 92kxU-lIXdk: Downloading 1 format(s): 303+251\n",
      "[info] Writing video metadata as JSON to: /data/notebooks/DATA-ISBAINE/Youtube/Temp data/92kxU-lIXdk.info.json\n"
     ]
    },
    {
     "name": "stderr",
     "output_type": "stream",
     "text": [
      " 15%|█▍        | 49/329 [00:57<04:55,  1.06s/it]DeprecationWarning: Support for Python version 3.6 has been deprecated and will break in future versions of yt-dlp! Please update to Python 3.7 or above\n"
     ]
    },
    {
     "name": "stdout",
     "output_type": "stream",
     "text": [
      "[youtube] 9BX8Oq2YCNI: Downloading webpage\n",
      "[youtube] 9BX8Oq2YCNI: Downloading android player API JSON\n",
      "[youtube] 9BX8Oq2YCNI: Downloading MPD manifest\n",
      "[youtube] 9BX8Oq2YCNI: Downloading MPD manifest\n",
      "[youtube] Downloading comment section API JSON\n",
      "[youtube] Downloading ~1 comments\n",
      "[youtube] Sorting comments by newest first\n",
      "[youtube] Downloading comment API JSON page 1 (0/1)\n",
      "[youtube] Extracted 1 comments\n",
      "[info] 9BX8Oq2YCNI: Downloading 1 format(s): 248+251\n",
      "[info] Writing video metadata as JSON to: /data/notebooks/DATA-ISBAINE/Youtube/Temp data/9BX8Oq2YCNI.info.json\n"
     ]
    },
    {
     "name": "stderr",
     "output_type": "stream",
     "text": [
      " 15%|█▌        | 50/329 [00:59<05:31,  1.19s/it]DeprecationWarning: Support for Python version 3.6 has been deprecated and will break in future versions of yt-dlp! Please update to Python 3.7 or above\n"
     ]
    },
    {
     "name": "stdout",
     "output_type": "stream",
     "text": [
      "[youtube] 9C4CdeEaSig: Downloading webpage\n",
      "[youtube] 9C4CdeEaSig: Downloading android player API JSON\n",
      "[youtube] Downloading comment section API JSON\n",
      "[youtube] Sorting comments by newest first\n",
      "[youtube] Downloading comment API JSON page 1 (0/0)\n",
      "[youtube] Extracted 0 comments\n",
      "[info] 9C4CdeEaSig: Downloading 1 format(s): 248+251\n",
      "[info] Writing video metadata as JSON to: /data/notebooks/DATA-ISBAINE/Youtube/Temp data/9C4CdeEaSig.info.json\n"
     ]
    },
    {
     "name": "stderr",
     "output_type": "stream",
     "text": [
      " 16%|█▌        | 51/329 [00:59<04:58,  1.07s/it]DeprecationWarning: Support for Python version 3.6 has been deprecated and will break in future versions of yt-dlp! Please update to Python 3.7 or above\n"
     ]
    },
    {
     "name": "stdout",
     "output_type": "stream",
     "text": [
      "[youtube] 9Eyfz9ugh1o: Downloading webpage\n",
      "[youtube] 9Eyfz9ugh1o: Downloading android player API JSON\n",
      "[youtube] Downloading comment section API JSON\n",
      "[youtube] Downloading ~2 comments\n",
      "[youtube] Sorting comments by newest first\n",
      "[youtube] Downloading comment API JSON page 1 (0/2)\n",
      "[youtube] Extracted 2 comments\n",
      "[info] 9Eyfz9ugh1o: Downloading 1 format(s): 248+251\n",
      "[info] Writing video metadata as JSON to: /data/notebooks/DATA-ISBAINE/Youtube/Temp data/9Eyfz9ugh1o.info.json\n"
     ]
    },
    {
     "name": "stderr",
     "output_type": "stream",
     "text": [
      " 16%|█▌        | 52/329 [01:00<04:54,  1.06s/it]DeprecationWarning: Support for Python version 3.6 has been deprecated and will break in future versions of yt-dlp! Please update to Python 3.7 or above\n"
     ]
    },
    {
     "name": "stdout",
     "output_type": "stream",
     "text": [
      "[youtube] 9RaYs_i4b5U: Downloading webpage\n",
      "[youtube] 9RaYs_i4b5U: Downloading android player API JSON\n",
      "[youtube] Downloading comment section API JSON\n",
      "[youtube] Downloading ~1 comments\n",
      "[youtube] Sorting comments by newest first\n",
      "[youtube] Downloading comment API JSON page 1 (0/1)\n",
      "[youtube] Extracted 1 comments\n",
      "[info] 9RaYs_i4b5U: Downloading 1 format(s): 248+251\n",
      "[info] Writing video metadata as JSON to: /data/notebooks/DATA-ISBAINE/Youtube/Temp data/9RaYs_i4b5U.info.json\n"
     ]
    },
    {
     "name": "stderr",
     "output_type": "stream",
     "text": [
      " 16%|█▌        | 53/329 [01:02<04:50,  1.05s/it]DeprecationWarning: Support for Python version 3.6 has been deprecated and will break in future versions of yt-dlp! Please update to Python 3.7 or above\n"
     ]
    },
    {
     "name": "stdout",
     "output_type": "stream",
     "text": [
      "[youtube] 9WgW9Q_3WcE: Downloading webpage\n",
      "[youtube] 9WgW9Q_3WcE: Downloading android player API JSON\n",
      "[youtube] 9WgW9Q_3WcE: Downloading MPD manifest\n",
      "[youtube] 9WgW9Q_3WcE: Downloading MPD manifest\n",
      "[youtube] Downloading comment section API JSON\n",
      "[youtube] Sorting comments by newest first\n",
      "[youtube] Downloading comment API JSON page 1 (0/0)\n",
      "[youtube] Extracted 0 comments\n",
      "[info] 9WgW9Q_3WcE: Downloading 1 format(s): 248+251\n",
      "[info] Writing video metadata as JSON to: /data/notebooks/DATA-ISBAINE/Youtube/Temp data/9WgW9Q_3WcE.info.json\n"
     ]
    },
    {
     "name": "stderr",
     "output_type": "stream",
     "text": [
      " 16%|█▋        | 54/329 [01:03<04:55,  1.07s/it]DeprecationWarning: Support for Python version 3.6 has been deprecated and will break in future versions of yt-dlp! Please update to Python 3.7 or above\n"
     ]
    },
    {
     "name": "stdout",
     "output_type": "stream",
     "text": [
      "[youtube] 9xsGfYcrOOU: Downloading webpage\n",
      "[youtube] 9xsGfYcrOOU: Downloading android player API JSON\n",
      "[youtube] Downloading comment section API JSON\n",
      "[youtube] Downloading ~1 comments\n",
      "[youtube] Sorting comments by newest first\n",
      "[youtube] Downloading comment API JSON page 1 (0/1)\n",
      "[youtube] Extracted 1 comments\n",
      "[info] 9xsGfYcrOOU: Downloading 1 format(s): 248+251\n",
      "[info] Writing video metadata as JSON to: /data/notebooks/DATA-ISBAINE/Youtube/Temp data/9xsGfYcrOOU.info.json\n"
     ]
    },
    {
     "name": "stderr",
     "output_type": "stream",
     "text": [
      " 17%|█▋        | 55/329 [01:04<04:54,  1.08s/it]DeprecationWarning: Support for Python version 3.6 has been deprecated and will break in future versions of yt-dlp! Please update to Python 3.7 or above\n"
     ]
    },
    {
     "name": "stdout",
     "output_type": "stream",
     "text": [
      "[youtube] 9yZjh_H6R4A: Downloading webpage\n",
      "[youtube] 9yZjh_H6R4A: Downloading android player API JSON\n",
      "[youtube] 9yZjh_H6R4A: Downloading MPD manifest\n",
      "[youtube] 9yZjh_H6R4A: Downloading MPD manifest\n",
      "[youtube] Downloading comment section API JSON\n",
      "[youtube] Sorting comments by newest first\n",
      "[youtube] Downloading comment API JSON page 1 (0/0)\n",
      "[youtube] Extracted 0 comments\n",
      "[info] 9yZjh_H6R4A: Downloading 1 format(s): 303+251\n",
      "[info] Writing video metadata as JSON to: /data/notebooks/DATA-ISBAINE/Youtube/Temp data/9yZjh_H6R4A.info.json\n"
     ]
    },
    {
     "name": "stderr",
     "output_type": "stream",
     "text": [
      " 17%|█▋        | 56/329 [01:05<05:06,  1.12s/it]DeprecationWarning: Support for Python version 3.6 has been deprecated and will break in future versions of yt-dlp! Please update to Python 3.7 or above\n"
     ]
    },
    {
     "name": "stdout",
     "output_type": "stream",
     "text": [
      "[youtube] AaJSh1bIZqQ: Downloading webpage\n",
      "[youtube] AaJSh1bIZqQ: Downloading android player API JSON\n",
      "[youtube] AaJSh1bIZqQ: Downloading MPD manifest\n",
      "[youtube] AaJSh1bIZqQ: Downloading MPD manifest\n",
      "[youtube] Downloading comment section API JSON\n",
      "[youtube] Downloading ~3 comments\n",
      "[youtube] Sorting comments by newest first\n",
      "[youtube] Downloading comment API JSON page 1 (0/3)\n",
      "[youtube] Extracted 3 comments\n",
      "[info] AaJSh1bIZqQ: Downloading 1 format(s): 248+251\n",
      "[info] Writing video metadata as JSON to: /data/notebooks/DATA-ISBAINE/Youtube/Temp data/AaJSh1bIZqQ.info.json\n"
     ]
    },
    {
     "name": "stderr",
     "output_type": "stream",
     "text": [
      " 17%|█▋        | 57/329 [01:06<05:19,  1.18s/it]DeprecationWarning: Support for Python version 3.6 has been deprecated and will break in future versions of yt-dlp! Please update to Python 3.7 or above\n"
     ]
    },
    {
     "name": "stdout",
     "output_type": "stream",
     "text": [
      "[youtube] Ag16a2A5SWQ: Downloading webpage\n",
      "[youtube] Ag16a2A5SWQ: Downloading android player API JSON\n",
      "[youtube] Downloading comment section API JSON\n",
      "[youtube] Sorting comments by newest first\n",
      "[youtube] Downloading comment API JSON page 1 (0/0)\n",
      "[youtube] Extracted 0 comments\n",
      "[info] Ag16a2A5SWQ: Downloading 1 format(s): 248+251\n",
      "[info] Writing video metadata as JSON to: /data/notebooks/DATA-ISBAINE/Youtube/Temp data/Ag16a2A5SWQ.info.json\n"
     ]
    },
    {
     "name": "stderr",
     "output_type": "stream",
     "text": [
      " 18%|█▊        | 58/329 [01:07<04:50,  1.07s/it]DeprecationWarning: Support for Python version 3.6 has been deprecated and will break in future versions of yt-dlp! Please update to Python 3.7 or above\n"
     ]
    },
    {
     "name": "stdout",
     "output_type": "stream",
     "text": [
      "[youtube] AilgUuaLj-Y: Downloading webpage\n",
      "[youtube] AilgUuaLj-Y: Downloading android player API JSON\n",
      "[youtube] AilgUuaLj-Y: Downloading MPD manifest\n",
      "[youtube] AilgUuaLj-Y: Downloading MPD manifest\n",
      "[youtube] Downloading comment section API JSON\n",
      "[youtube] Sorting comments by newest first\n",
      "[youtube] Downloading comment API JSON page 1 (0/0)\n",
      "[youtube] Extracted 0 comments\n",
      "[info] AilgUuaLj-Y: Downloading 1 format(s): 248+251\n",
      "[info] Writing video metadata as JSON to: /data/notebooks/DATA-ISBAINE/Youtube/Temp data/AilgUuaLj-Y.info.json\n"
     ]
    },
    {
     "name": "stderr",
     "output_type": "stream",
     "text": [
      " 18%|█▊        | 59/329 [01:08<05:02,  1.12s/it]DeprecationWarning: Support for Python version 3.6 has been deprecated and will break in future versions of yt-dlp! Please update to Python 3.7 or above\n"
     ]
    },
    {
     "name": "stdout",
     "output_type": "stream",
     "text": [
      "[youtube] B3gnpGSYxMU: Downloading webpage\n",
      "[youtube] B3gnpGSYxMU: Downloading android player API JSON\n",
      "[youtube] Downloading comment section API JSON\n",
      "[youtube] Sorting comments by newest first\n",
      "[youtube] Downloading comment API JSON page 1 (0/0)\n",
      "[youtube] Extracted 0 comments\n",
      "[info] B3gnpGSYxMU: Downloading 1 format(s): 302+251\n",
      "[info] Writing video metadata as JSON to: /data/notebooks/DATA-ISBAINE/Youtube/Temp data/B3gnpGSYxMU.info.json\n"
     ]
    },
    {
     "name": "stderr",
     "output_type": "stream",
     "text": [
      " 18%|█▊        | 60/329 [01:09<04:41,  1.05s/it]DeprecationWarning: Support for Python version 3.6 has been deprecated and will break in future versions of yt-dlp! Please update to Python 3.7 or above\n"
     ]
    },
    {
     "name": "stdout",
     "output_type": "stream",
     "text": [
      "[youtube] B7_zVRC9zg8: Downloading webpage\n",
      "[youtube] B7_zVRC9zg8: Downloading android player API JSON\n",
      "[youtube] Downloading comment section API JSON\n",
      "[youtube] Downloading ~1 comments\n",
      "[youtube] Sorting comments by newest first\n",
      "[youtube] Downloading comment API JSON page 1 (0/1)\n",
      "[youtube] Extracted 1 comments\n",
      "[info] B7_zVRC9zg8: Downloading 1 format(s): 247+251\n",
      "[info] Writing video metadata as JSON to: /data/notebooks/DATA-ISBAINE/Youtube/Temp data/B7_zVRC9zg8.info.json\n"
     ]
    },
    {
     "name": "stderr",
     "output_type": "stream",
     "text": [
      " 19%|█▊        | 61/329 [01:10<04:25,  1.01it/s]DeprecationWarning: Support for Python version 3.6 has been deprecated and will break in future versions of yt-dlp! Please update to Python 3.7 or above\n"
     ]
    },
    {
     "name": "stdout",
     "output_type": "stream",
     "text": [
      "[youtube] BOPi71f9yCY: Downloading webpage\n",
      "[youtube] BOPi71f9yCY: Downloading android player API JSON\n",
      "[youtube] Downloading comment section API JSON\n",
      "[youtube] Sorting comments by newest first\n",
      "[youtube] Downloading comment API JSON page 1 (0/0)\n",
      "[youtube] Extracted 0 comments\n",
      "[info] BOPi71f9yCY: Downloading 1 format(s): 248+251\n",
      "[info] Writing video metadata as JSON to: /data/notebooks/DATA-ISBAINE/Youtube/Temp data/BOPi71f9yCY.info.json\n"
     ]
    },
    {
     "name": "stderr",
     "output_type": "stream",
     "text": [
      " 19%|█▉        | 62/329 [01:11<04:11,  1.06it/s]DeprecationWarning: Support for Python version 3.6 has been deprecated and will break in future versions of yt-dlp! Please update to Python 3.7 or above\n"
     ]
    },
    {
     "name": "stdout",
     "output_type": "stream",
     "text": [
      "[youtube] BmZloSeY6t8: Downloading webpage\n",
      "[youtube] BmZloSeY6t8: Downloading android player API JSON\n",
      "[youtube] BmZloSeY6t8: Downloading MPD manifest\n",
      "[youtube] BmZloSeY6t8: Downloading MPD manifest\n",
      "[youtube] Downloading comment section API JSON\n",
      "[youtube] Sorting comments by newest first\n",
      "[youtube] Downloading comment API JSON page 1 (0/0)\n",
      "[youtube] Extracted 0 comments\n",
      "[info] BmZloSeY6t8: Downloading 1 format(s): 248+251\n",
      "[info] Writing video metadata as JSON to: /data/notebooks/DATA-ISBAINE/Youtube/Temp data/BmZloSeY6t8.info.json\n"
     ]
    },
    {
     "name": "stderr",
     "output_type": "stream",
     "text": [
      " 19%|█▉        | 63/329 [01:12<04:35,  1.04s/it]DeprecationWarning: Support for Python version 3.6 has been deprecated and will break in future versions of yt-dlp! Please update to Python 3.7 or above\n"
     ]
    },
    {
     "name": "stdout",
     "output_type": "stream",
     "text": [
      "[youtube] BssxH5R4fXc: Downloading webpage\n",
      "[youtube] BssxH5R4fXc: Downloading android player API JSON\n",
      "[youtube] Downloading comment section API JSON\n",
      "[youtube] Sorting comments by newest first\n",
      "[youtube] Downloading comment API JSON page 1 (0/0)\n",
      "[youtube] Extracted 0 comments\n",
      "[info] BssxH5R4fXc: Downloading 1 format(s): 248+251\n",
      "[info] Writing video metadata as JSON to: /data/notebooks/DATA-ISBAINE/Youtube/Temp data/BssxH5R4fXc.info.json\n"
     ]
    },
    {
     "name": "stderr",
     "output_type": "stream",
     "text": [
      " 19%|█▉        | 64/329 [01:13<04:17,  1.03it/s]DeprecationWarning: Support for Python version 3.6 has been deprecated and will break in future versions of yt-dlp! Please update to Python 3.7 or above\n"
     ]
    },
    {
     "name": "stdout",
     "output_type": "stream",
     "text": [
      "[youtube] C5MYeLs02qk: Downloading webpage\n",
      "[youtube] C5MYeLs02qk: Downloading android player API JSON\n",
      "[youtube] C5MYeLs02qk: Downloading MPD manifest\n",
      "[youtube] C5MYeLs02qk: Downloading MPD manifest\n",
      "[youtube] Downloading comment section API JSON\n",
      "[youtube] Sorting comments by newest first\n",
      "[youtube] Downloading comment API JSON page 1 (0/0)\n",
      "[youtube] Extracted 0 comments\n",
      "[info] C5MYeLs02qk: Downloading 1 format(s): 247+251\n",
      "[info] Writing video metadata as JSON to: /data/notebooks/DATA-ISBAINE/Youtube/Temp data/C5MYeLs02qk.info.json\n"
     ]
    },
    {
     "name": "stderr",
     "output_type": "stream",
     "text": [
      " 20%|█▉        | 65/329 [01:14<04:36,  1.05s/it]DeprecationWarning: Support for Python version 3.6 has been deprecated and will break in future versions of yt-dlp! Please update to Python 3.7 or above\n"
     ]
    },
    {
     "name": "stdout",
     "output_type": "stream",
     "text": [
      "[youtube] CPAiCZEJ6QE: Downloading webpage\n",
      "[youtube] CPAiCZEJ6QE: Downloading android player API JSON\n",
      "[youtube] CPAiCZEJ6QE: Downloading MPD manifest\n",
      "[youtube] CPAiCZEJ6QE: Downloading MPD manifest\n",
      "[youtube] Downloading comment section API JSON\n",
      "[youtube] Sorting comments by newest first\n",
      "[youtube] Downloading comment API JSON page 1 (0/0)\n",
      "[youtube] Extracted 0 comments\n",
      "[info] CPAiCZEJ6QE: Downloading 1 format(s): 243+251\n",
      "[info] Writing video metadata as JSON to: /data/notebooks/DATA-ISBAINE/Youtube/Temp data/CPAiCZEJ6QE.info.json\n"
     ]
    },
    {
     "name": "stderr",
     "output_type": "stream",
     "text": [
      " 20%|██        | 66/329 [01:15<04:47,  1.09s/it]DeprecationWarning: Support for Python version 3.6 has been deprecated and will break in future versions of yt-dlp! Please update to Python 3.7 or above\n"
     ]
    },
    {
     "name": "stdout",
     "output_type": "stream",
     "text": [
      "[youtube] CZFKGidBznQ: Downloading webpage\n",
      "[youtube] CZFKGidBznQ: Downloading android player API JSON\n",
      "[youtube] CZFKGidBznQ: Downloading MPD manifest\n",
      "[youtube] CZFKGidBznQ: Downloading MPD manifest\n",
      "[youtube] Downloading comment section API JSON\n",
      "[youtube] Sorting comments by newest first\n",
      "[youtube] Downloading comment API JSON page 1 (0/0)\n",
      "[youtube] Extracted 0 comments\n",
      "[info] CZFKGidBznQ: Downloading 1 format(s): 248+251\n",
      "[info] Writing video metadata as JSON to: /data/notebooks/DATA-ISBAINE/Youtube/Temp data/CZFKGidBznQ.info.json\n"
     ]
    },
    {
     "name": "stderr",
     "output_type": "stream",
     "text": [
      " 20%|██        | 67/329 [01:17<05:01,  1.15s/it]DeprecationWarning: Support for Python version 3.6 has been deprecated and will break in future versions of yt-dlp! Please update to Python 3.7 or above\n"
     ]
    },
    {
     "name": "stdout",
     "output_type": "stream",
     "text": [
      "[youtube] Crn3vCZa15I: Downloading webpage\n",
      "[youtube] Crn3vCZa15I: Downloading android player API JSON\n",
      "[youtube] Crn3vCZa15I: Downloading MPD manifest\n",
      "[youtube] Crn3vCZa15I: Downloading MPD manifest\n",
      "[youtube] Downloading comment section API JSON\n",
      "[youtube] Sorting comments by newest first\n",
      "[youtube] Downloading comment API JSON page 1 (0/0)\n",
      "[youtube] Extracted 0 comments\n",
      "[info] Crn3vCZa15I: Downloading 1 format(s): 248+251\n",
      "[info] Writing video metadata as JSON to: /data/notebooks/DATA-ISBAINE/Youtube/Temp data/Crn3vCZa15I.info.json\n"
     ]
    },
    {
     "name": "stderr",
     "output_type": "stream",
     "text": [
      " 21%|██        | 68/329 [01:18<05:18,  1.22s/it]DeprecationWarning: Support for Python version 3.6 has been deprecated and will break in future versions of yt-dlp! Please update to Python 3.7 or above\n"
     ]
    },
    {
     "name": "stdout",
     "output_type": "stream",
     "text": [
      "[youtube] D1QXzOdfh04: Downloading webpage\n",
      "[youtube] D1QXzOdfh04: Downloading android player API JSON\n",
      "[youtube] D1QXzOdfh04: Downloading MPD manifest\n",
      "[youtube] D1QXzOdfh04: Downloading MPD manifest\n",
      "[youtube] Downloading comment section API JSON\n",
      "[youtube] Sorting comments by newest first\n",
      "[youtube] Downloading comment API JSON page 1 (0/0)\n",
      "[youtube] Extracted 0 comments\n",
      "[info] D1QXzOdfh04: Downloading 1 format(s): 247+251\n",
      "[info] Writing video metadata as JSON to: /data/notebooks/DATA-ISBAINE/Youtube/Temp data/D1QXzOdfh04.info.json\n"
     ]
    },
    {
     "name": "stderr",
     "output_type": "stream",
     "text": [
      " 21%|██        | 69/329 [01:19<05:15,  1.21s/it]DeprecationWarning: Support for Python version 3.6 has been deprecated and will break in future versions of yt-dlp! Please update to Python 3.7 or above\n"
     ]
    },
    {
     "name": "stdout",
     "output_type": "stream",
     "text": [
      "[youtube] D5VjQqjX2Vs: Downloading webpage\n",
      "[youtube] D5VjQqjX2Vs: Downloading android player API JSON\n",
      "[youtube] Downloading comment section API JSON\n",
      "[youtube] Sorting comments by newest first\n",
      "[youtube] Downloading comment API JSON page 1 (0/0)\n",
      "[youtube] Extracted 0 comments\n",
      "[info] D5VjQqjX2Vs: Downloading 1 format(s): 302+251\n",
      "[info] Writing video metadata as JSON to: /data/notebooks/DATA-ISBAINE/Youtube/Temp data/D5VjQqjX2Vs.info.json\n"
     ]
    },
    {
     "name": "stderr",
     "output_type": "stream",
     "text": [
      " 21%|██▏       | 70/329 [01:20<05:02,  1.17s/it]DeprecationWarning: Support for Python version 3.6 has been deprecated and will break in future versions of yt-dlp! Please update to Python 3.7 or above\n"
     ]
    },
    {
     "name": "stdout",
     "output_type": "stream",
     "text": [
      "[youtube] D7qtEYDSoSg: Downloading webpage\n",
      "[youtube] D7qtEYDSoSg: Downloading android player API JSON\n",
      "[youtube] D7qtEYDSoSg: Downloading MPD manifest\n",
      "[youtube] D7qtEYDSoSg: Downloading MPD manifest\n",
      "[youtube] Downloading comment section API JSON\n",
      "[youtube] Sorting comments by newest first\n",
      "[youtube] Downloading comment API JSON page 1 (0/0)\n",
      "[youtube] Extracted 0 comments\n",
      "[info] D7qtEYDSoSg: Downloading 1 format(s): 248+251\n",
      "[info] Writing video metadata as JSON to: /data/notebooks/DATA-ISBAINE/Youtube/Temp data/D7qtEYDSoSg.info.json\n"
     ]
    },
    {
     "name": "stderr",
     "output_type": "stream",
     "text": [
      " 22%|██▏       | 71/329 [01:22<05:04,  1.18s/it]DeprecationWarning: Support for Python version 3.6 has been deprecated and will break in future versions of yt-dlp! Please update to Python 3.7 or above\n"
     ]
    },
    {
     "name": "stdout",
     "output_type": "stream",
     "text": [
      "[youtube] DNfZi2WfctM: Downloading webpage\n",
      "[youtube] DNfZi2WfctM: Downloading android player API JSON\n",
      "[youtube] Downloading comment section API JSON\n",
      "[youtube] Sorting comments by newest first\n",
      "[youtube] Downloading comment API JSON page 1 (0/0)\n",
      "[youtube] Extracted 0 comments\n",
      "[info] DNfZi2WfctM: Downloading 1 format(s): 248+251\n",
      "[info] Writing video metadata as JSON to: /data/notebooks/DATA-ISBAINE/Youtube/Temp data/DNfZi2WfctM.info.json\n"
     ]
    },
    {
     "name": "stderr",
     "output_type": "stream",
     "text": [
      " 22%|██▏       | 72/329 [01:22<04:30,  1.05s/it]DeprecationWarning: Support for Python version 3.6 has been deprecated and will break in future versions of yt-dlp! Please update to Python 3.7 or above\n"
     ]
    },
    {
     "name": "stdout",
     "output_type": "stream",
     "text": [
      "[youtube] DODSBUVImAg: Downloading webpage\n",
      "[youtube] DODSBUVImAg: Downloading android player API JSON\n",
      "[youtube] DODSBUVImAg: Downloading MPD manifest\n",
      "[youtube] DODSBUVImAg: Downloading MPD manifest\n",
      "[youtube] Downloading comment section API JSON\n",
      "[youtube] Sorting comments by newest first\n",
      "[youtube] Downloading comment API JSON page 1 (0/0)\n",
      "[youtube] Extracted 0 comments\n",
      "[info] DODSBUVImAg: Downloading 1 format(s): 248+251\n",
      "[info] Writing video metadata as JSON to: /data/notebooks/DATA-ISBAINE/Youtube/Temp data/DODSBUVImAg.info.json\n"
     ]
    },
    {
     "name": "stderr",
     "output_type": "stream",
     "text": [
      " 22%|██▏       | 73/329 [01:23<04:40,  1.09s/it]DeprecationWarning: Support for Python version 3.6 has been deprecated and will break in future versions of yt-dlp! Please update to Python 3.7 or above\n"
     ]
    },
    {
     "name": "stdout",
     "output_type": "stream",
     "text": [
      "[youtube] DPE2F_4EqLI: Downloading webpage\n",
      "[youtube] DPE2F_4EqLI: Downloading android player API JSON\n",
      "[youtube] Downloading comment section API JSON\n",
      "[youtube] Sorting comments by newest first\n",
      "[youtube] Downloading comment API JSON page 1 (0/0)\n",
      "[youtube] Extracted 0 comments\n",
      "[info] DPE2F_4EqLI: Downloading 1 format(s): 247+251\n",
      "[info] Writing video metadata as JSON to: /data/notebooks/DATA-ISBAINE/Youtube/Temp data/DPE2F_4EqLI.info.json\n"
     ]
    },
    {
     "name": "stderr",
     "output_type": "stream",
     "text": [
      " 22%|██▏       | 74/329 [01:24<04:21,  1.03s/it]DeprecationWarning: Support for Python version 3.6 has been deprecated and will break in future versions of yt-dlp! Please update to Python 3.7 or above\n"
     ]
    },
    {
     "name": "stdout",
     "output_type": "stream",
     "text": [
      "[youtube] DU2kFp1Qxtw: Downloading webpage\n",
      "[youtube] DU2kFp1Qxtw: Downloading android player API JSON\n",
      "[youtube] Downloading comment section API JSON\n",
      "[youtube] Downloading ~6 comments\n",
      "[youtube] Sorting comments by newest first\n",
      "[youtube] Downloading comment API JSON page 1 (0/6)\n",
      "[youtube] Extracted 6 comments\n",
      "[info] DU2kFp1Qxtw: Downloading 1 format(s): 248+251\n",
      "[info] Writing video metadata as JSON to: /data/notebooks/DATA-ISBAINE/Youtube/Temp data/DU2kFp1Qxtw.info.json\n"
     ]
    },
    {
     "name": "stderr",
     "output_type": "stream",
     "text": [
      " 23%|██▎       | 75/329 [01:25<04:31,  1.07s/it]DeprecationWarning: Support for Python version 3.6 has been deprecated and will break in future versions of yt-dlp! Please update to Python 3.7 or above\n"
     ]
    },
    {
     "name": "stdout",
     "output_type": "stream",
     "text": [
      "[youtube] Dl0alkEIebo: Downloading webpage\n",
      "[youtube] Dl0alkEIebo: Downloading android player API JSON\n",
      "[youtube] Dl0alkEIebo: Downloading MPD manifest\n",
      "[youtube] Dl0alkEIebo: Downloading MPD manifest\n",
      "[youtube] Downloading comment section API JSON\n",
      "[youtube] Sorting comments by newest first\n",
      "[youtube] Downloading comment API JSON page 1 (0/0)\n",
      "[youtube] Extracted 0 comments\n",
      "[info] Dl0alkEIebo: Downloading 1 format(s): 248+251\n",
      "[info] Writing video metadata as JSON to: /data/notebooks/DATA-ISBAINE/Youtube/Temp data/Dl0alkEIebo.info.json\n"
     ]
    },
    {
     "name": "stderr",
     "output_type": "stream",
     "text": [
      " 23%|██▎       | 76/329 [01:27<04:45,  1.13s/it]DeprecationWarning: Support for Python version 3.6 has been deprecated and will break in future versions of yt-dlp! Please update to Python 3.7 or above\n"
     ]
    },
    {
     "name": "stdout",
     "output_type": "stream",
     "text": [
      "[youtube] DyPF8sVSGmg: Downloading webpage\n",
      "[youtube] DyPF8sVSGmg: Downloading android player API JSON\n",
      "[youtube] DyPF8sVSGmg: Downloading MPD manifest\n",
      "[youtube] DyPF8sVSGmg: Downloading MPD manifest\n",
      "[youtube] Downloading comment section API JSON\n",
      "[youtube] Sorting comments by newest first\n",
      "[youtube] Downloading comment API JSON page 1 (0/0)\n",
      "[youtube] Extracted 0 comments\n",
      "[info] DyPF8sVSGmg: Downloading 1 format(s): 244+251\n",
      "[info] Writing video metadata as JSON to: /data/notebooks/DATA-ISBAINE/Youtube/Temp data/DyPF8sVSGmg.info.json\n"
     ]
    },
    {
     "name": "stderr",
     "output_type": "stream",
     "text": [
      " 23%|██▎       | 77/329 [01:28<05:06,  1.21s/it]DeprecationWarning: Support for Python version 3.6 has been deprecated and will break in future versions of yt-dlp! Please update to Python 3.7 or above\n"
     ]
    },
    {
     "name": "stdout",
     "output_type": "stream",
     "text": [
      "[youtube] E0YAXR14L8w: Downloading webpage\n",
      "[youtube] E0YAXR14L8w: Downloading android player API JSON\n",
      "[youtube] Downloading comment section API JSON\n",
      "[youtube] Downloading ~11 comments\n",
      "[youtube] Sorting comments by newest first\n",
      "[youtube] Downloading comment API JSON page 1 (0/11)\n",
      "[youtube] Extracted 11 comments\n",
      "[info] E0YAXR14L8w: Downloading 1 format(s): 302+251\n",
      "[info] Writing video metadata as JSON to: /data/notebooks/DATA-ISBAINE/Youtube/Temp data/E0YAXR14L8w.info.json\n"
     ]
    },
    {
     "name": "stderr",
     "output_type": "stream",
     "text": [
      " 24%|██▎       | 78/329 [01:29<05:00,  1.20s/it]DeprecationWarning: Support for Python version 3.6 has been deprecated and will break in future versions of yt-dlp! Please update to Python 3.7 or above\n"
     ]
    },
    {
     "name": "stdout",
     "output_type": "stream",
     "text": [
      "[youtube] EABhVq155io: Downloading webpage\n",
      "[youtube] EABhVq155io: Downloading android player API JSON\n",
      "[youtube] Downloading comment section API JSON\n",
      "[youtube] Sorting comments by newest first\n",
      "[youtube] Downloading comment API JSON page 1 (0/0)\n",
      "[youtube] Extracted 0 comments\n",
      "[info] EABhVq155io: Downloading 1 format(s): 247+251\n",
      "[info] Writing video metadata as JSON to: /data/notebooks/DATA-ISBAINE/Youtube/Temp data/EABhVq155io.info.json\n"
     ]
    },
    {
     "name": "stderr",
     "output_type": "stream",
     "text": [
      " 24%|██▍       | 79/329 [01:30<04:28,  1.07s/it]DeprecationWarning: Support for Python version 3.6 has been deprecated and will break in future versions of yt-dlp! Please update to Python 3.7 or above\n"
     ]
    },
    {
     "name": "stdout",
     "output_type": "stream",
     "text": [
      "[youtube] ECZTa5d1wEg: Downloading webpage\n",
      "[youtube] ECZTa5d1wEg: Downloading android player API JSON\n",
      "[youtube] ECZTa5d1wEg: Downloading MPD manifest\n",
      "[youtube] ECZTa5d1wEg: Downloading MPD manifest\n",
      "[youtube] Downloading comment section API JSON\n",
      "[youtube] Sorting comments by newest first\n",
      "[youtube] Downloading comment API JSON page 1 (0/0)\n",
      "[youtube] Extracted 0 comments\n",
      "[info] ECZTa5d1wEg: Downloading 1 format(s): 248+251\n",
      "[info] Writing video metadata as JSON to: /data/notebooks/DATA-ISBAINE/Youtube/Temp data/ECZTa5d1wEg.info.json\n"
     ]
    },
    {
     "name": "stderr",
     "output_type": "stream",
     "text": [
      " 24%|██▍       | 80/329 [01:31<04:36,  1.11s/it]DeprecationWarning: Support for Python version 3.6 has been deprecated and will break in future versions of yt-dlp! Please update to Python 3.7 or above\n"
     ]
    },
    {
     "name": "stdout",
     "output_type": "stream",
     "text": [
      "[youtube] EZ6vXGBF1gg: Downloading webpage\n",
      "[youtube] EZ6vXGBF1gg: Downloading android player API JSON\n",
      "[youtube] Downloading comment section API JSON\n"
     ]
    },
    {
     "name": "stderr",
     "output_type": "stream",
     "text": [
      "WARNING: [youtube] EZ6vXGBF1gg: Youtube said: Comments are turned off. \n"
     ]
    },
    {
     "name": "stdout",
     "output_type": "stream",
     "text": [
      "[youtube] Extracted 0 comments\n",
      "[info] EZ6vXGBF1gg: Downloading 1 format(s): 248+251\n",
      "[info] Writing video metadata as JSON to: /data/notebooks/DATA-ISBAINE/Youtube/Temp data/EZ6vXGBF1gg.info.json\n"
     ]
    },
    {
     "name": "stderr",
     "output_type": "stream",
     "text": [
      " 25%|██▍       | 81/329 [01:32<04:01,  1.03it/s]DeprecationWarning: Support for Python version 3.6 has been deprecated and will break in future versions of yt-dlp! Please update to Python 3.7 or above\n"
     ]
    },
    {
     "name": "stdout",
     "output_type": "stream",
     "text": [
      "[youtube] EtXxlFVuixw: Downloading webpage\n",
      "[youtube] EtXxlFVuixw: Downloading android player API JSON\n",
      "[youtube] EtXxlFVuixw: Downloading MPD manifest\n",
      "[youtube] EtXxlFVuixw: Downloading MPD manifest\n",
      "[youtube] Downloading comment section API JSON\n",
      "[youtube] Sorting comments by newest first\n",
      "[youtube] Downloading comment API JSON page 1 (0/0)\n",
      "[youtube] Extracted 0 comments\n",
      "[info] EtXxlFVuixw: Downloading 1 format(s): 248+251\n",
      "[info] Writing video metadata as JSON to: /data/notebooks/DATA-ISBAINE/Youtube/Temp data/EtXxlFVuixw.info.json\n"
     ]
    },
    {
     "name": "stderr",
     "output_type": "stream",
     "text": [
      " 25%|██▍       | 82/329 [01:33<04:15,  1.04s/it]DeprecationWarning: Support for Python version 3.6 has been deprecated and will break in future versions of yt-dlp! Please update to Python 3.7 or above\n"
     ]
    },
    {
     "name": "stdout",
     "output_type": "stream",
     "text": [
      "[youtube] F0ICK35FM0w: Downloading webpage\n",
      "[youtube] F0ICK35FM0w: Downloading android player API JSON\n",
      "[youtube] F0ICK35FM0w: Downloading MPD manifest\n",
      "[youtube] F0ICK35FM0w: Downloading MPD manifest\n",
      "[youtube] Downloading comment section API JSON\n"
     ]
    },
    {
     "name": "stderr",
     "output_type": "stream",
     "text": [
      "WARNING: [youtube] F0ICK35FM0w: Youtube said: Comments are turned off. \n"
     ]
    },
    {
     "name": "stdout",
     "output_type": "stream",
     "text": [
      "[youtube] Extracted 0 comments\n",
      "[info] F0ICK35FM0w: Downloading 1 format(s): 247+251\n",
      "[info] Writing video metadata as JSON to: /data/notebooks/DATA-ISBAINE/Youtube/Temp data/F0ICK35FM0w.info.json\n"
     ]
    },
    {
     "name": "stderr",
     "output_type": "stream",
     "text": [
      " 25%|██▌       | 83/329 [01:34<04:23,  1.07s/it]DeprecationWarning: Support for Python version 3.6 has been deprecated and will break in future versions of yt-dlp! Please update to Python 3.7 or above\n"
     ]
    },
    {
     "name": "stdout",
     "output_type": "stream",
     "text": [
      "[youtube] FLC5kt2PJd4: Downloading webpage\n",
      "[youtube] FLC5kt2PJd4: Downloading android player API JSON\n",
      "[youtube] FLC5kt2PJd4: Downloading MPD manifest\n",
      "[youtube] FLC5kt2PJd4: Downloading MPD manifest\n",
      "[youtube] Downloading comment section API JSON\n",
      "[youtube] Downloading ~3 comments\n",
      "[youtube] Sorting comments by newest first\n",
      "[youtube] Downloading comment API JSON page 1 (0/3)\n",
      "[youtube] Extracted 3 comments\n",
      "[info] FLC5kt2PJd4: Downloading 1 format(s): 248+251\n",
      "[info] Writing video metadata as JSON to: /data/notebooks/DATA-ISBAINE/Youtube/Temp data/FLC5kt2PJd4.info.json\n"
     ]
    },
    {
     "name": "stderr",
     "output_type": "stream",
     "text": [
      " 26%|██▌       | 84/329 [01:36<04:51,  1.19s/it]DeprecationWarning: Support for Python version 3.6 has been deprecated and will break in future versions of yt-dlp! Please update to Python 3.7 or above\n"
     ]
    },
    {
     "name": "stdout",
     "output_type": "stream",
     "text": [
      "[youtube] FLJ61Yy1DH4: Downloading webpage\n",
      "[youtube] FLJ61Yy1DH4: Downloading android player API JSON\n",
      "[youtube] FLJ61Yy1DH4: Downloading MPD manifest\n",
      "[youtube] FLJ61Yy1DH4: Downloading MPD manifest\n",
      "[youtube] Downloading comment section API JSON\n",
      "[youtube] Sorting comments by newest first\n",
      "[youtube] Downloading comment API JSON page 1 (0/0)\n",
      "[youtube] Extracted 0 comments\n",
      "[info] FLJ61Yy1DH4: Downloading 1 format(s): 248+251\n",
      "[info] Writing video metadata as JSON to: /data/notebooks/DATA-ISBAINE/Youtube/Temp data/FLJ61Yy1DH4.info.json\n"
     ]
    },
    {
     "name": "stderr",
     "output_type": "stream",
     "text": [
      " 26%|██▌       | 85/329 [01:37<04:51,  1.20s/it]DeprecationWarning: Support for Python version 3.6 has been deprecated and will break in future versions of yt-dlp! Please update to Python 3.7 or above\n"
     ]
    },
    {
     "name": "stdout",
     "output_type": "stream",
     "text": [
      "[youtube] FdFd3qykjUU: Downloading webpage\n",
      "[youtube] FdFd3qykjUU: Downloading android player API JSON\n",
      "[youtube] Downloading comment section API JSON\n",
      "[youtube] Downloading ~3 comments\n",
      "[youtube] Sorting comments by newest first\n",
      "[youtube] Downloading comment API JSON page 1 (0/3)\n",
      "[youtube] Extracted 3 comments\n",
      "[info] FdFd3qykjUU: Downloading 1 format(s): 303+251\n",
      "[info] Writing video metadata as JSON to: /data/notebooks/DATA-ISBAINE/Youtube/Temp data/FdFd3qykjUU.info.json\n"
     ]
    },
    {
     "name": "stderr",
     "output_type": "stream",
     "text": [
      " 26%|██▌       | 86/329 [01:38<04:45,  1.18s/it]DeprecationWarning: Support for Python version 3.6 has been deprecated and will break in future versions of yt-dlp! Please update to Python 3.7 or above\n"
     ]
    },
    {
     "name": "stdout",
     "output_type": "stream",
     "text": [
      "[youtube] FfUIMKu0E9A: Downloading webpage\n",
      "[youtube] FfUIMKu0E9A: Downloading android player API JSON\n",
      "[youtube] FfUIMKu0E9A: Downloading MPD manifest\n",
      "[youtube] FfUIMKu0E9A: Downloading MPD manifest\n",
      "[youtube] Downloading comment section API JSON\n",
      "[youtube] Downloading ~2 comments\n",
      "[youtube] Sorting comments by newest first\n",
      "[youtube] Downloading comment API JSON page 1 (0/2)\n",
      "[youtube] Extracted 2 comments\n",
      "[info] FfUIMKu0E9A: Downloading 1 format(s): 247+251\n",
      "[info] Writing video metadata as JSON to: /data/notebooks/DATA-ISBAINE/Youtube/Temp data/FfUIMKu0E9A.info.json\n"
     ]
    },
    {
     "name": "stderr",
     "output_type": "stream",
     "text": [
      " 26%|██▋       | 87/329 [01:39<04:57,  1.23s/it]DeprecationWarning: Support for Python version 3.6 has been deprecated and will break in future versions of yt-dlp! Please update to Python 3.7 or above\n"
     ]
    },
    {
     "name": "stdout",
     "output_type": "stream",
     "text": [
      "[youtube] FxKCp2URbmw: Downloading webpage\n",
      "[youtube] FxKCp2URbmw: Downloading android player API JSON\n",
      "[youtube] Downloading comment section API JSON\n",
      "[youtube] Downloading ~1 comments\n",
      "[youtube] Sorting comments by newest first\n",
      "[youtube] Downloading comment API JSON page 1 (0/1)\n",
      "[youtube] Extracted 1 comments\n",
      "[info] FxKCp2URbmw: Downloading 1 format(s): 302+251\n",
      "[info] Writing video metadata as JSON to: /data/notebooks/DATA-ISBAINE/Youtube/Temp data/FxKCp2URbmw.info.json\n"
     ]
    },
    {
     "name": "stderr",
     "output_type": "stream",
     "text": [
      " 27%|██▋       | 88/329 [01:41<04:48,  1.20s/it]DeprecationWarning: Support for Python version 3.6 has been deprecated and will break in future versions of yt-dlp! Please update to Python 3.7 or above\n"
     ]
    },
    {
     "name": "stdout",
     "output_type": "stream",
     "text": [
      "[youtube] G4456CkE6F0: Downloading webpage\n",
      "[youtube] G4456CkE6F0: Downloading android player API JSON\n",
      "[youtube] Downloading comment section API JSON\n",
      "[youtube] Sorting comments by newest first\n",
      "[youtube] Downloading comment API JSON page 1 (0/0)\n",
      "[youtube] Extracted 0 comments\n",
      "[info] G4456CkE6F0: Downloading 1 format(s): 302+251\n",
      "[info] Writing video metadata as JSON to: /data/notebooks/DATA-ISBAINE/Youtube/Temp data/G4456CkE6F0.info.json\n"
     ]
    },
    {
     "name": "stderr",
     "output_type": "stream",
     "text": [
      " 27%|██▋       | 89/329 [01:42<04:33,  1.14s/it]DeprecationWarning: Support for Python version 3.6 has been deprecated and will break in future versions of yt-dlp! Please update to Python 3.7 or above\n"
     ]
    },
    {
     "name": "stdout",
     "output_type": "stream",
     "text": [
      "[youtube] G5a9KEsFV-I: Downloading webpage\n",
      "[youtube] G5a9KEsFV-I: Downloading android player API JSON\n",
      "[youtube] Downloading comment section API JSON\n",
      "[youtube] Downloading ~5 comments\n",
      "[youtube] Sorting comments by newest first\n",
      "[youtube] Downloading comment API JSON page 1 (0/5)\n",
      "[youtube] Extracted 5 comments\n",
      "[info] G5a9KEsFV-I: Downloading 1 format(s): 247+251\n",
      "[info] Writing video metadata as JSON to: /data/notebooks/DATA-ISBAINE/Youtube/Temp data/G5a9KEsFV-I.info.json\n"
     ]
    },
    {
     "name": "stderr",
     "output_type": "stream",
     "text": [
      " 27%|██▋       | 90/329 [01:43<04:22,  1.10s/it]DeprecationWarning: Support for Python version 3.6 has been deprecated and will break in future versions of yt-dlp! Please update to Python 3.7 or above\n"
     ]
    },
    {
     "name": "stdout",
     "output_type": "stream",
     "text": [
      "[youtube] GBSCNGMgAmk: Downloading webpage\n",
      "[youtube] GBSCNGMgAmk: Downloading android player API JSON\n",
      "[youtube] Downloading comment section API JSON\n",
      "[youtube] Downloading ~2 comments\n",
      "[youtube] Sorting comments by newest first\n",
      "[youtube] Downloading comment API JSON page 1 (0/2)\n",
      "[youtube] Extracted 2 comments\n",
      "[info] GBSCNGMgAmk: Downloading 1 format(s): 303+251\n",
      "[info] Writing video metadata as JSON to: /data/notebooks/DATA-ISBAINE/Youtube/Temp data/GBSCNGMgAmk.info.json\n"
     ]
    },
    {
     "name": "stderr",
     "output_type": "stream",
     "text": [
      " 28%|██▊       | 91/329 [01:44<04:35,  1.16s/it]DeprecationWarning: Support for Python version 3.6 has been deprecated and will break in future versions of yt-dlp! Please update to Python 3.7 or above\n"
     ]
    },
    {
     "name": "stdout",
     "output_type": "stream",
     "text": [
      "[youtube] GTMvzkHGWBU: Downloading webpage\n",
      "[youtube] GTMvzkHGWBU: Downloading android player API JSON\n",
      "[youtube] Downloading comment section API JSON\n",
      "[youtube] Sorting comments by newest first\n",
      "[youtube] Downloading comment API JSON page 1 (0/0)\n",
      "[youtube] Extracted 0 comments\n",
      "[info] GTMvzkHGWBU: Downloading 1 format(s): 248+251\n",
      "[info] Writing video metadata as JSON to: /data/notebooks/DATA-ISBAINE/Youtube/Temp data/GTMvzkHGWBU.info.json\n"
     ]
    },
    {
     "name": "stderr",
     "output_type": "stream",
     "text": [
      " 28%|██▊       | 92/329 [01:45<04:14,  1.07s/it]DeprecationWarning: Support for Python version 3.6 has been deprecated and will break in future versions of yt-dlp! Please update to Python 3.7 or above\n"
     ]
    },
    {
     "name": "stdout",
     "output_type": "stream",
     "text": [
      "[youtube] GppdaubqouY: Downloading webpage\n",
      "[youtube] GppdaubqouY: Downloading android player API JSON\n",
      "[youtube] Downloading comment section API JSON\n",
      "[youtube] Sorting comments by newest first\n",
      "[youtube] Downloading comment API JSON page 1 (0/0)\n",
      "[youtube] Extracted 0 comments\n",
      "[info] GppdaubqouY: Downloading 1 format(s): 248+251\n",
      "[info] Writing video metadata as JSON to: /data/notebooks/DATA-ISBAINE/Youtube/Temp data/GppdaubqouY.info.json\n"
     ]
    },
    {
     "name": "stderr",
     "output_type": "stream",
     "text": [
      " 28%|██▊       | 93/329 [01:46<03:57,  1.01s/it]DeprecationWarning: Support for Python version 3.6 has been deprecated and will break in future versions of yt-dlp! Please update to Python 3.7 or above\n"
     ]
    },
    {
     "name": "stdout",
     "output_type": "stream",
     "text": [
      "[youtube] GxXUHJnFXGA: Downloading webpage\n",
      "[youtube] GxXUHJnFXGA: Downloading android player API JSON\n",
      "[youtube] Downloading comment section API JSON\n",
      "[youtube] Downloading ~1 comments\n",
      "[youtube] Sorting comments by newest first\n",
      "[youtube] Downloading comment API JSON page 1 (0/1)\n",
      "[youtube] Extracted 1 comments\n",
      "[info] GxXUHJnFXGA: Downloading 1 format(s): 302+251\n",
      "[info] Writing video metadata as JSON to: /data/notebooks/DATA-ISBAINE/Youtube/Temp data/GxXUHJnFXGA.info.json\n"
     ]
    },
    {
     "name": "stderr",
     "output_type": "stream",
     "text": [
      " 29%|██▊       | 94/329 [01:47<04:01,  1.03s/it]DeprecationWarning: Support for Python version 3.6 has been deprecated and will break in future versions of yt-dlp! Please update to Python 3.7 or above\n"
     ]
    },
    {
     "name": "stdout",
     "output_type": "stream",
     "text": [
      "[youtube] Gy4VE6rDlEk: Downloading webpage\n",
      "[youtube] Gy4VE6rDlEk: Downloading android player API JSON\n",
      "[youtube] Downloading comment section API JSON\n",
      "[youtube] Sorting comments by newest first\n",
      "[youtube] Downloading comment API JSON page 1 (0/0)\n",
      "[youtube] Extracted 0 comments\n",
      "[info] Gy4VE6rDlEk: Downloading 1 format(s): 248+251\n",
      "[info] Writing video metadata as JSON to: /data/notebooks/DATA-ISBAINE/Youtube/Temp data/Gy4VE6rDlEk.info.json\n"
     ]
    },
    {
     "name": "stderr",
     "output_type": "stream",
     "text": [
      " 29%|██▉       | 95/329 [01:48<03:48,  1.02it/s]DeprecationWarning: Support for Python version 3.6 has been deprecated and will break in future versions of yt-dlp! Please update to Python 3.7 or above\n"
     ]
    },
    {
     "name": "stdout",
     "output_type": "stream",
     "text": [
      "[youtube] Gy9Sa54YVCs: Downloading webpage\n",
      "[youtube] Gy9Sa54YVCs: Downloading android player API JSON\n",
      "[youtube] Downloading comment section API JSON\n",
      "[youtube] Downloading ~6 comments\n",
      "[youtube] Sorting comments by newest first\n",
      "[youtube] Downloading comment API JSON page 1 (0/6)\n",
      "[youtube] Extracted 6 comments\n",
      "[info] Gy9Sa54YVCs: Downloading 1 format(s): 248+251\n",
      "[info] Writing video metadata as JSON to: /data/notebooks/DATA-ISBAINE/Youtube/Temp data/Gy9Sa54YVCs.info.json\n"
     ]
    },
    {
     "name": "stderr",
     "output_type": "stream",
     "text": [
      " 29%|██▉       | 96/329 [01:49<03:50,  1.01it/s]DeprecationWarning: Support for Python version 3.6 has been deprecated and will break in future versions of yt-dlp! Please update to Python 3.7 or above\n"
     ]
    },
    {
     "name": "stdout",
     "output_type": "stream",
     "text": [
      "[youtube] HVnARVsVz14: Downloading webpage\n",
      "[youtube] HVnARVsVz14: Downloading android player API JSON\n",
      "[youtube] Downloading comment section API JSON\n",
      "[youtube] Downloading ~2 comments\n",
      "[youtube] Sorting comments by newest first\n",
      "[youtube] Downloading comment API JSON page 1 (0/2)\n",
      "[youtube] Extracted 2 comments\n",
      "[info] HVnARVsVz14: Downloading 1 format(s): 248+251\n",
      "[info] Writing video metadata as JSON to: /data/notebooks/DATA-ISBAINE/Youtube/Temp data/HVnARVsVz14.info.json\n"
     ]
    },
    {
     "name": "stderr",
     "output_type": "stream",
     "text": [
      " 29%|██▉       | 97/329 [01:50<03:49,  1.01it/s]DeprecationWarning: Support for Python version 3.6 has been deprecated and will break in future versions of yt-dlp! Please update to Python 3.7 or above\n"
     ]
    },
    {
     "name": "stdout",
     "output_type": "stream",
     "text": [
      "[youtube] HdeF9Hfy3AA: Downloading webpage\n",
      "[youtube] HdeF9Hfy3AA: Downloading android player API JSON\n",
      "[youtube] Downloading comment section API JSON\n",
      "[youtube] Downloading ~5 comments\n",
      "[youtube] Sorting comments by newest first\n",
      "[youtube] Downloading comment API JSON page 1 (0/5)\n",
      "[youtube] Extracted 5 comments\n",
      "[info] HdeF9Hfy3AA: Downloading 1 format(s): 248+251\n",
      "[info] Writing video metadata as JSON to: /data/notebooks/DATA-ISBAINE/Youtube/Temp data/HdeF9Hfy3AA.info.json\n"
     ]
    },
    {
     "name": "stderr",
     "output_type": "stream",
     "text": [
      " 30%|██▉       | 98/329 [01:51<04:01,  1.05s/it]DeprecationWarning: Support for Python version 3.6 has been deprecated and will break in future versions of yt-dlp! Please update to Python 3.7 or above\n"
     ]
    },
    {
     "name": "stdout",
     "output_type": "stream",
     "text": [
      "[youtube] HrQbkTCZuX4: Downloading webpage\n",
      "[youtube] HrQbkTCZuX4: Downloading android player API JSON\n",
      "[youtube] Downloading comment section API JSON\n",
      "[youtube] Sorting comments by newest first\n",
      "[youtube] Downloading comment API JSON page 1 (0/0)\n",
      "[youtube] Extracted 0 comments\n",
      "[info] HrQbkTCZuX4: Downloading 1 format(s): 248+251\n",
      "[info] Writing video metadata as JSON to: /data/notebooks/DATA-ISBAINE/Youtube/Temp data/HrQbkTCZuX4.info.json\n"
     ]
    },
    {
     "name": "stderr",
     "output_type": "stream",
     "text": [
      " 30%|███       | 99/329 [01:52<03:57,  1.03s/it]DeprecationWarning: Support for Python version 3.6 has been deprecated and will break in future versions of yt-dlp! Please update to Python 3.7 or above\n"
     ]
    },
    {
     "name": "stdout",
     "output_type": "stream",
     "text": [
      "[youtube] IBcWYv_6OrI: Downloading webpage\n",
      "[youtube] IBcWYv_6OrI: Downloading android player API JSON\n",
      "[youtube] IBcWYv_6OrI: Downloading MPD manifest\n",
      "[youtube] IBcWYv_6OrI: Downloading MPD manifest\n",
      "[youtube] Downloading comment section API JSON\n",
      "[youtube] Downloading ~1 comments\n",
      "[youtube] Sorting comments by newest first\n",
      "[youtube] Downloading comment API JSON page 1 (0/1)\n",
      "[youtube] Extracted 1 comments\n",
      "[info] IBcWYv_6OrI: Downloading 1 format(s): 247+251\n",
      "[info] Writing video metadata as JSON to: /data/notebooks/DATA-ISBAINE/Youtube/Temp data/IBcWYv_6OrI.info.json\n"
     ]
    },
    {
     "name": "stderr",
     "output_type": "stream",
     "text": [
      " 30%|███       | 100/329 [01:53<04:31,  1.19s/it]DeprecationWarning: Support for Python version 3.6 has been deprecated and will break in future versions of yt-dlp! Please update to Python 3.7 or above\n"
     ]
    },
    {
     "name": "stdout",
     "output_type": "stream",
     "text": [
      "[youtube] IDKEOlag_f4: Downloading webpage\n",
      "[youtube] IDKEOlag_f4: Downloading android player API JSON\n",
      "[youtube] IDKEOlag_f4: Downloading MPD manifest\n",
      "[youtube] IDKEOlag_f4: Downloading MPD manifest\n",
      "[youtube] Downloading comment section API JSON\n",
      "[youtube] Sorting comments by newest first\n",
      "[youtube] Downloading comment API JSON page 1 (0/0)\n",
      "[youtube] Extracted 0 comments\n",
      "[info] IDKEOlag_f4: Downloading 1 format(s): 248+251\n",
      "[info] Writing video metadata as JSON to: /data/notebooks/DATA-ISBAINE/Youtube/Temp data/IDKEOlag_f4.info.json\n"
     ]
    },
    {
     "name": "stderr",
     "output_type": "stream",
     "text": [
      " 31%|███       | 101/329 [01:55<04:35,  1.21s/it]DeprecationWarning: Support for Python version 3.6 has been deprecated and will break in future versions of yt-dlp! Please update to Python 3.7 or above\n"
     ]
    },
    {
     "name": "stdout",
     "output_type": "stream",
     "text": [
      "[youtube] IFHJTU2sk4A: Downloading webpage\n",
      "[youtube] IFHJTU2sk4A: Downloading android player API JSON\n",
      "[youtube] Downloading comment section API JSON\n",
      "[youtube] Downloading ~6 comments\n",
      "[youtube] Sorting comments by newest first\n",
      "[youtube] Downloading comment API JSON page 1 (0/6)\n",
      "[youtube] Extracted 6 comments\n",
      "[info] IFHJTU2sk4A: Downloading 1 format(s): 248+251\n",
      "[info] Writing video metadata as JSON to: /data/notebooks/DATA-ISBAINE/Youtube/Temp data/IFHJTU2sk4A.info.json\n"
     ]
    },
    {
     "name": "stderr",
     "output_type": "stream",
     "text": [
      " 31%|███       | 102/329 [01:56<04:21,  1.15s/it]DeprecationWarning: Support for Python version 3.6 has been deprecated and will break in future versions of yt-dlp! Please update to Python 3.7 or above\n"
     ]
    },
    {
     "name": "stdout",
     "output_type": "stream",
     "text": [
      "[youtube] IFY0JXA-1Qw: Downloading webpage\n",
      "[youtube] IFY0JXA-1Qw: Downloading android player API JSON\n",
      "[youtube] Downloading comment section API JSON\n",
      "[youtube] Sorting comments by newest first\n",
      "[youtube] Downloading comment API JSON page 1 (0/0)\n",
      "[youtube] Extracted 0 comments\n",
      "[info] IFY0JXA-1Qw: Downloading 1 format(s): 248+251\n",
      "[info] Writing video metadata as JSON to: /data/notebooks/DATA-ISBAINE/Youtube/Temp data/IFY0JXA-1Qw.info.json\n"
     ]
    },
    {
     "name": "stderr",
     "output_type": "stream",
     "text": [
      " 31%|███▏      | 103/329 [01:57<04:08,  1.10s/it]DeprecationWarning: Support for Python version 3.6 has been deprecated and will break in future versions of yt-dlp! Please update to Python 3.7 or above\n"
     ]
    },
    {
     "name": "stdout",
     "output_type": "stream",
     "text": [
      "[youtube] IN0aOknwvUo: Downloading webpage\n",
      "[youtube] IN0aOknwvUo: Downloading android player API JSON\n",
      "[youtube] IN0aOknwvUo: Downloading MPD manifest\n",
      "[youtube] IN0aOknwvUo: Downloading MPD manifest\n",
      "[youtube] Downloading comment section API JSON\n",
      "[youtube] Downloading ~2 comments\n",
      "[youtube] Sorting comments by newest first\n",
      "[youtube] Downloading comment API JSON page 1 (0/2)\n",
      "[youtube] Extracted 2 comments\n",
      "[info] IN0aOknwvUo: Downloading 1 format(s): 247+251\n",
      "[info] Writing video metadata as JSON to: /data/notebooks/DATA-ISBAINE/Youtube/Temp data/IN0aOknwvUo.info.json\n"
     ]
    },
    {
     "name": "stderr",
     "output_type": "stream",
     "text": [
      " 32%|███▏      | 104/329 [01:58<04:25,  1.18s/it]DeprecationWarning: Support for Python version 3.6 has been deprecated and will break in future versions of yt-dlp! Please update to Python 3.7 or above\n"
     ]
    },
    {
     "name": "stdout",
     "output_type": "stream",
     "text": [
      "[youtube] IP4oZ1_SayI: Downloading webpage\n",
      "[youtube] IP4oZ1_SayI: Downloading android player API JSON\n",
      "[youtube] IP4oZ1_SayI: Downloading MPD manifest\n",
      "[youtube] IP4oZ1_SayI: Downloading MPD manifest\n",
      "[youtube] Downloading comment section API JSON\n",
      "[youtube] Sorting comments by newest first\n",
      "[youtube] Downloading comment API JSON page 1 (0/0)\n",
      "[youtube] Extracted 0 comments\n",
      "[info] IP4oZ1_SayI: Downloading 1 format(s): 248+251\n",
      "[info] Writing video metadata as JSON to: /data/notebooks/DATA-ISBAINE/Youtube/Temp data/IP4oZ1_SayI.info.json\n"
     ]
    },
    {
     "name": "stderr",
     "output_type": "stream",
     "text": [
      " 32%|███▏      | 105/329 [01:59<04:26,  1.19s/it]DeprecationWarning: Support for Python version 3.6 has been deprecated and will break in future versions of yt-dlp! Please update to Python 3.7 or above\n"
     ]
    },
    {
     "name": "stdout",
     "output_type": "stream",
     "text": [
      "[youtube] IV5cHwp8SyY: Downloading webpage\n",
      "[youtube] IV5cHwp8SyY: Downloading android player API JSON\n",
      "[youtube] IV5cHwp8SyY: Downloading MPD manifest\n",
      "[youtube] IV5cHwp8SyY: Downloading MPD manifest\n",
      "[youtube] Downloading comment section API JSON\n",
      "[youtube] Sorting comments by newest first\n",
      "[youtube] Downloading comment API JSON page 1 (0/0)\n",
      "[youtube] Extracted 0 comments\n",
      "[info] IV5cHwp8SyY: Downloading 1 format(s): 248+251\n",
      "[info] Writing video metadata as JSON to: /data/notebooks/DATA-ISBAINE/Youtube/Temp data/IV5cHwp8SyY.info.json\n"
     ]
    },
    {
     "name": "stderr",
     "output_type": "stream",
     "text": [
      " 32%|███▏      | 106/329 [02:00<04:19,  1.16s/it]DeprecationWarning: Support for Python version 3.6 has been deprecated and will break in future versions of yt-dlp! Please update to Python 3.7 or above\n"
     ]
    },
    {
     "name": "stdout",
     "output_type": "stream",
     "text": [
      "[youtube] IZ-ltg619YE: Downloading webpage\n",
      "[youtube] IZ-ltg619YE: Downloading android player API JSON\n",
      "[youtube] Downloading comment section API JSON\n",
      "[youtube] Sorting comments by newest first\n",
      "[youtube] Downloading comment API JSON page 1 (0/0)\n",
      "[youtube] Extracted 0 comments\n",
      "[info] IZ-ltg619YE: Downloading 1 format(s): 248+251\n",
      "[info] Writing video metadata as JSON to: /data/notebooks/DATA-ISBAINE/Youtube/Temp data/IZ-ltg619YE.info.json\n"
     ]
    },
    {
     "name": "stderr",
     "output_type": "stream",
     "text": [
      " 33%|███▎      | 107/329 [02:01<04:00,  1.08s/it]DeprecationWarning: Support for Python version 3.6 has been deprecated and will break in future versions of yt-dlp! Please update to Python 3.7 or above\n"
     ]
    },
    {
     "name": "stdout",
     "output_type": "stream",
     "text": [
      "[youtube] IdDB2F4PzlI: Downloading webpage\n",
      "[youtube] IdDB2F4PzlI: Downloading android player API JSON\n",
      "[youtube] IdDB2F4PzlI: Downloading MPD manifest\n",
      "[youtube] IdDB2F4PzlI: Downloading MPD manifest\n",
      "[youtube] Downloading comment section API JSON\n",
      "[youtube] Downloading ~8 comments\n",
      "[youtube] Sorting comments by newest first\n",
      "[youtube] Downloading comment API JSON page 1 (0/8)\n",
      "[youtube] Extracted 8 comments\n",
      "[info] IdDB2F4PzlI: Downloading 1 format(s): 247+251\n",
      "[info] Writing video metadata as JSON to: /data/notebooks/DATA-ISBAINE/Youtube/Temp data/IdDB2F4PzlI.info.json\n"
     ]
    },
    {
     "name": "stderr",
     "output_type": "stream",
     "text": [
      " 33%|███▎      | 108/329 [02:03<04:28,  1.22s/it]DeprecationWarning: Support for Python version 3.6 has been deprecated and will break in future versions of yt-dlp! Please update to Python 3.7 or above\n"
     ]
    },
    {
     "name": "stdout",
     "output_type": "stream",
     "text": [
      "[youtube] IiECY3KppMY: Downloading webpage\n",
      "[youtube] IiECY3KppMY: Downloading android player API JSON\n",
      "[youtube] IiECY3KppMY: Downloading MPD manifest\n",
      "[youtube] IiECY3KppMY: Downloading MPD manifest\n",
      "[youtube] Downloading comment section API JSON\n",
      "[youtube] Sorting comments by newest first\n",
      "[youtube] Downloading comment API JSON page 1 (0/0)\n",
      "[youtube] Extracted 0 comments\n",
      "[info] IiECY3KppMY: Downloading 1 format(s): 247+251\n",
      "[info] Writing video metadata as JSON to: /data/notebooks/DATA-ISBAINE/Youtube/Temp data/IiECY3KppMY.info.json\n"
     ]
    },
    {
     "name": "stderr",
     "output_type": "stream",
     "text": [
      " 33%|███▎      | 109/329 [02:04<04:29,  1.22s/it]DeprecationWarning: Support for Python version 3.6 has been deprecated and will break in future versions of yt-dlp! Please update to Python 3.7 or above\n"
     ]
    },
    {
     "name": "stdout",
     "output_type": "stream",
     "text": [
      "[youtube] IyD0EUQG43E: Downloading webpage\n",
      "[youtube] IyD0EUQG43E: Downloading android player API JSON\n",
      "[youtube] IyD0EUQG43E: Downloading MPD manifest\n",
      "[youtube] IyD0EUQG43E: Downloading MPD manifest\n",
      "[youtube] Downloading comment section API JSON\n",
      "[youtube] Sorting comments by newest first\n",
      "[youtube] Downloading comment API JSON page 1 (0/0)\n",
      "[youtube] Extracted 0 comments\n",
      "[info] IyD0EUQG43E: Downloading 1 format(s): 248+251\n",
      "[info] Writing video metadata as JSON to: /data/notebooks/DATA-ISBAINE/Youtube/Temp data/IyD0EUQG43E.info.json\n"
     ]
    },
    {
     "name": "stderr",
     "output_type": "stream",
     "text": [
      " 33%|███▎      | 110/329 [02:05<04:27,  1.22s/it]DeprecationWarning: Support for Python version 3.6 has been deprecated and will break in future versions of yt-dlp! Please update to Python 3.7 or above\n"
     ]
    },
    {
     "name": "stdout",
     "output_type": "stream",
     "text": [
      "[youtube] Iz2uzNNfxK0: Downloading webpage\n",
      "[youtube] Iz2uzNNfxK0: Downloading android player API JSON\n",
      "[youtube] Downloading comment section API JSON\n",
      "[youtube] Downloading ~8 comments\n",
      "[youtube] Sorting comments by newest first\n",
      "[youtube] Downloading comment API JSON page 1 (0/8)\n",
      "[youtube]     Downloading comment API JSON reply thread 1 (7/8)\n",
      "[youtube] Extracted 8 comments\n",
      "[info] Iz2uzNNfxK0: Downloading 1 format(s): 248+251\n",
      "[info] Writing video metadata as JSON to: /data/notebooks/DATA-ISBAINE/Youtube/Temp data/Iz2uzNNfxK0.info.json\n"
     ]
    },
    {
     "name": "stderr",
     "output_type": "stream",
     "text": [
      " 34%|███▎      | 111/329 [02:06<04:22,  1.20s/it]DeprecationWarning: Support for Python version 3.6 has been deprecated and will break in future versions of yt-dlp! Please update to Python 3.7 or above\n"
     ]
    },
    {
     "name": "stdout",
     "output_type": "stream",
     "text": [
      "[youtube] JL6CFr3ORF4: Downloading webpage\n",
      "[youtube] JL6CFr3ORF4: Downloading android player API JSON\n",
      "[youtube] Downloading comment section API JSON\n",
      "[youtube] Downloading ~1 comments\n",
      "[youtube] Sorting comments by newest first\n",
      "[youtube] Downloading comment API JSON page 1 (0/1)\n",
      "[youtube] Extracted 1 comments\n",
      "[info] JL6CFr3ORF4: Downloading 1 format(s): 248+251\n",
      "[info] Writing video metadata as JSON to: /data/notebooks/DATA-ISBAINE/Youtube/Temp data/JL6CFr3ORF4.info.json\n"
     ]
    },
    {
     "name": "stderr",
     "output_type": "stream",
     "text": [
      " 34%|███▍      | 112/329 [02:07<04:08,  1.15s/it]DeprecationWarning: Support for Python version 3.6 has been deprecated and will break in future versions of yt-dlp! Please update to Python 3.7 or above\n"
     ]
    },
    {
     "name": "stdout",
     "output_type": "stream",
     "text": [
      "[youtube] JvN6aOfsaMk: Downloading webpage\n",
      "[youtube] JvN6aOfsaMk: Downloading android player API JSON\n",
      "[youtube] Downloading comment section API JSON\n",
      "[youtube] Sorting comments by newest first\n",
      "[youtube] Downloading comment API JSON page 1 (0/0)\n",
      "[youtube] Extracted 0 comments\n",
      "[info] JvN6aOfsaMk: Downloading 1 format(s): 247+251\n",
      "[info] Writing video metadata as JSON to: /data/notebooks/DATA-ISBAINE/Youtube/Temp data/JvN6aOfsaMk.info.json\n"
     ]
    },
    {
     "name": "stderr",
     "output_type": "stream",
     "text": [
      " 34%|███▍      | 113/329 [02:08<03:45,  1.04s/it]DeprecationWarning: Support for Python version 3.6 has been deprecated and will break in future versions of yt-dlp! Please update to Python 3.7 or above\n"
     ]
    },
    {
     "name": "stdout",
     "output_type": "stream",
     "text": [
      "[youtube] K-YpAbOluH4: Downloading webpage\n",
      "[youtube] K-YpAbOluH4: Downloading android player API JSON\n",
      "[youtube] K-YpAbOluH4: Downloading MPD manifest\n",
      "[youtube] K-YpAbOluH4: Downloading MPD manifest\n",
      "[youtube] Downloading comment section API JSON\n",
      "[youtube] Downloading ~8 comments\n",
      "[youtube] Sorting comments by newest first\n",
      "[youtube] Downloading comment API JSON page 1 (0/8)\n",
      "[youtube] Extracted 8 comments\n",
      "[info] K-YpAbOluH4: Downloading 1 format(s): 247+251\n",
      "[info] Writing video metadata as JSON to: /data/notebooks/DATA-ISBAINE/Youtube/Temp data/K-YpAbOluH4.info.json\n"
     ]
    },
    {
     "name": "stderr",
     "output_type": "stream",
     "text": [
      " 35%|███▍      | 114/329 [02:09<04:07,  1.15s/it]DeprecationWarning: Support for Python version 3.6 has been deprecated and will break in future versions of yt-dlp! Please update to Python 3.7 or above\n"
     ]
    },
    {
     "name": "stdout",
     "output_type": "stream",
     "text": [
      "[youtube] KMHQSdA1xcA: Downloading webpage\n",
      "[youtube] KMHQSdA1xcA: Downloading android player API JSON\n",
      "[youtube] KMHQSdA1xcA: Downloading MPD manifest\n",
      "[youtube] KMHQSdA1xcA: Downloading MPD manifest\n",
      "[youtube] Downloading comment section API JSON\n",
      "[youtube] Downloading ~1 comments\n",
      "[youtube] Sorting comments by newest first\n",
      "[youtube] Downloading comment API JSON page 1 (0/1)\n",
      "[youtube] Extracted 1 comments\n",
      "[info] KMHQSdA1xcA: Downloading 1 format(s): 248+251\n",
      "[info] Writing video metadata as JSON to: /data/notebooks/DATA-ISBAINE/Youtube/Temp data/KMHQSdA1xcA.info.json\n"
     ]
    },
    {
     "name": "stderr",
     "output_type": "stream",
     "text": [
      " 35%|███▍      | 115/329 [02:11<04:19,  1.21s/it]DeprecationWarning: Support for Python version 3.6 has been deprecated and will break in future versions of yt-dlp! Please update to Python 3.7 or above\n"
     ]
    },
    {
     "name": "stdout",
     "output_type": "stream",
     "text": [
      "[youtube] KOioMJ-95Zo: Downloading webpage\n",
      "[youtube] KOioMJ-95Zo: Downloading android player API JSON\n",
      "[youtube] KOioMJ-95Zo: Downloading MPD manifest\n",
      "[youtube] KOioMJ-95Zo: Downloading MPD manifest\n",
      "[youtube] Downloading comment section API JSON\n",
      "[youtube] Sorting comments by newest first\n",
      "[youtube] Downloading comment API JSON page 1 (0/0)\n",
      "[youtube] Extracted 0 comments\n",
      "[info] KOioMJ-95Zo: Downloading 1 format(s): 247+251\n",
      "[info] Writing video metadata as JSON to: /data/notebooks/DATA-ISBAINE/Youtube/Temp data/KOioMJ-95Zo.info.json\n"
     ]
    },
    {
     "name": "stderr",
     "output_type": "stream",
     "text": [
      " 35%|███▌      | 116/329 [02:12<04:15,  1.20s/it]DeprecationWarning: Support for Python version 3.6 has been deprecated and will break in future versions of yt-dlp! Please update to Python 3.7 or above\n"
     ]
    },
    {
     "name": "stdout",
     "output_type": "stream",
     "text": [
      "[youtube] KXw7IGYf27o: Downloading webpage\n",
      "[youtube] KXw7IGYf27o: Downloading android player API JSON\n",
      "[youtube] Downloading comment section API JSON\n",
      "[youtube] Sorting comments by newest first\n",
      "[youtube] Downloading comment API JSON page 1 (0/0)\n",
      "[youtube] Extracted 0 comments\n",
      "[info] KXw7IGYf27o: Downloading 1 format(s): 248+251\n",
      "[info] Writing video metadata as JSON to: /data/notebooks/DATA-ISBAINE/Youtube/Temp data/KXw7IGYf27o.info.json\n"
     ]
    },
    {
     "name": "stderr",
     "output_type": "stream",
     "text": [
      " 36%|███▌      | 117/329 [02:13<03:54,  1.11s/it]DeprecationWarning: Support for Python version 3.6 has been deprecated and will break in future versions of yt-dlp! Please update to Python 3.7 or above\n"
     ]
    },
    {
     "name": "stdout",
     "output_type": "stream",
     "text": [
      "[youtube] K_fSpN3_mGI: Downloading webpage\n",
      "[youtube] K_fSpN3_mGI: Downloading android player API JSON\n",
      "[youtube] K_fSpN3_mGI: Downloading MPD manifest\n",
      "[youtube] K_fSpN3_mGI: Downloading MPD manifest\n",
      "[youtube] Downloading comment section API JSON\n",
      "[youtube] Sorting comments by newest first\n",
      "[youtube] Downloading comment API JSON page 1 (0/0)\n",
      "[youtube] Extracted 0 comments\n",
      "[info] K_fSpN3_mGI: Downloading 1 format(s): 302+251\n",
      "[info] Writing video metadata as JSON to: /data/notebooks/DATA-ISBAINE/Youtube/Temp data/K_fSpN3_mGI.info.json\n"
     ]
    },
    {
     "name": "stderr",
     "output_type": "stream",
     "text": [
      " 36%|███▌      | 118/329 [02:14<04:00,  1.14s/it]DeprecationWarning: Support for Python version 3.6 has been deprecated and will break in future versions of yt-dlp! Please update to Python 3.7 or above\n"
     ]
    },
    {
     "name": "stdout",
     "output_type": "stream",
     "text": [
      "[youtube] Kh5vJc4UI9g: Downloading webpage\n",
      "[youtube] Kh5vJc4UI9g: Downloading android player API JSON\n",
      "[youtube] Kh5vJc4UI9g: Downloading MPD manifest\n",
      "[youtube] Kh5vJc4UI9g: Downloading MPD manifest\n",
      "[youtube] Downloading comment section API JSON\n",
      "[youtube] Downloading ~2 comments\n",
      "[youtube] Sorting comments by newest first\n",
      "[youtube] Downloading comment API JSON page 1 (0/2)\n",
      "[youtube] Extracted 2 comments\n",
      "[info] Kh5vJc4UI9g: Downloading 1 format(s): 248+251\n",
      "[info] Writing video metadata as JSON to: /data/notebooks/DATA-ISBAINE/Youtube/Temp data/Kh5vJc4UI9g.info.json\n"
     ]
    },
    {
     "name": "stderr",
     "output_type": "stream",
     "text": [
      " 36%|███▌      | 119/329 [02:16<04:20,  1.24s/it]DeprecationWarning: Support for Python version 3.6 has been deprecated and will break in future versions of yt-dlp! Please update to Python 3.7 or above\n"
     ]
    },
    {
     "name": "stdout",
     "output_type": "stream",
     "text": [
      "[youtube] KlZKR0BXFg4: Downloading webpage\n",
      "[youtube] KlZKR0BXFg4: Downloading android player API JSON\n",
      "[youtube] KlZKR0BXFg4: Downloading MPD manifest\n",
      "[youtube] KlZKR0BXFg4: Downloading MPD manifest\n",
      "[youtube] Downloading comment section API JSON\n",
      "[youtube] Downloading ~3 comments\n",
      "[youtube] Sorting comments by newest first\n",
      "[youtube] Downloading comment API JSON page 1 (0/3)\n",
      "[youtube] Extracted 3 comments\n",
      "[info] KlZKR0BXFg4: Downloading 1 format(s): 302+251\n",
      "[info] Writing video metadata as JSON to: /data/notebooks/DATA-ISBAINE/Youtube/Temp data/KlZKR0BXFg4.info.json\n"
     ]
    },
    {
     "name": "stderr",
     "output_type": "stream",
     "text": [
      " 36%|███▋      | 120/329 [02:17<04:32,  1.30s/it]DeprecationWarning: Support for Python version 3.6 has been deprecated and will break in future versions of yt-dlp! Please update to Python 3.7 or above\n"
     ]
    },
    {
     "name": "stdout",
     "output_type": "stream",
     "text": [
      "[youtube] KpNCSlKHWxk: Downloading webpage\n",
      "[youtube] KpNCSlKHWxk: Downloading android player API JSON\n",
      "[youtube] KpNCSlKHWxk: Downloading MPD manifest\n",
      "[youtube] KpNCSlKHWxk: Downloading MPD manifest\n",
      "[youtube] Downloading comment section API JSON\n",
      "[youtube] Sorting comments by newest first\n",
      "[youtube] Downloading comment API JSON page 1 (0/0)\n",
      "[youtube] Extracted 0 comments\n",
      "[info] KpNCSlKHWxk: Downloading 1 format(s): 303+251\n",
      "[info] Writing video metadata as JSON to: /data/notebooks/DATA-ISBAINE/Youtube/Temp data/KpNCSlKHWxk.info.json\n"
     ]
    },
    {
     "name": "stderr",
     "output_type": "stream",
     "text": [
      " 37%|███▋      | 121/329 [02:18<04:28,  1.29s/it]DeprecationWarning: Support for Python version 3.6 has been deprecated and will break in future versions of yt-dlp! Please update to Python 3.7 or above\n"
     ]
    },
    {
     "name": "stdout",
     "output_type": "stream",
     "text": [
      "[youtube] KpZOMmLBI8E: Downloading webpage\n",
      "[youtube] KpZOMmLBI8E: Downloading android player API JSON\n",
      "[youtube] Downloading comment section API JSON\n",
      "[youtube] Downloading ~1 comments\n",
      "[youtube] Sorting comments by newest first\n",
      "[youtube] Downloading comment API JSON page 1 (0/1)\n",
      "[youtube] Extracted 1 comments\n",
      "[info] KpZOMmLBI8E: Downloading 1 format(s): 248+251\n",
      "[info] Writing video metadata as JSON to: /data/notebooks/DATA-ISBAINE/Youtube/Temp data/KpZOMmLBI8E.info.json\n"
     ]
    },
    {
     "name": "stderr",
     "output_type": "stream",
     "text": [
      " 37%|███▋      | 122/329 [02:19<04:06,  1.19s/it]DeprecationWarning: Support for Python version 3.6 has been deprecated and will break in future versions of yt-dlp! Please update to Python 3.7 or above\n"
     ]
    },
    {
     "name": "stdout",
     "output_type": "stream",
     "text": [
      "[youtube] L2F-Ek8KQYM: Downloading webpage\n",
      "[youtube] L2F-Ek8KQYM: Downloading android player API JSON\n",
      "[youtube] Downloading comment section API JSON\n",
      "[youtube] Downloading ~1 comments\n",
      "[youtube] Sorting comments by newest first\n",
      "[youtube] Downloading comment API JSON page 1 (0/1)\n",
      "[youtube] Extracted 1 comments\n",
      "[info] L2F-Ek8KQYM: Downloading 1 format(s): 247+251\n",
      "[info] Writing video metadata as JSON to: /data/notebooks/DATA-ISBAINE/Youtube/Temp data/L2F-Ek8KQYM.info.json\n"
     ]
    },
    {
     "name": "stderr",
     "output_type": "stream",
     "text": [
      " 37%|███▋      | 123/329 [02:20<03:48,  1.11s/it]DeprecationWarning: Support for Python version 3.6 has been deprecated and will break in future versions of yt-dlp! Please update to Python 3.7 or above\n"
     ]
    },
    {
     "name": "stdout",
     "output_type": "stream",
     "text": [
      "[youtube] L4aZMAV3HPA: Downloading webpage\n",
      "[youtube] L4aZMAV3HPA: Downloading android player API JSON\n",
      "[youtube] L4aZMAV3HPA: Downloading MPD manifest\n",
      "[youtube] L4aZMAV3HPA: Downloading MPD manifest\n",
      "[youtube] Downloading comment section API JSON\n",
      "[youtube] Sorting comments by newest first\n",
      "[youtube] Downloading comment API JSON page 1 (0/0)\n",
      "[youtube] Extracted 0 comments\n",
      "[info] L4aZMAV3HPA: Downloading 1 format(s): 248+251\n",
      "[info] Writing video metadata as JSON to: /data/notebooks/DATA-ISBAINE/Youtube/Temp data/L4aZMAV3HPA.info.json\n"
     ]
    },
    {
     "name": "stderr",
     "output_type": "stream",
     "text": [
      " 38%|███▊      | 124/329 [02:21<03:55,  1.15s/it]DeprecationWarning: Support for Python version 3.6 has been deprecated and will break in future versions of yt-dlp! Please update to Python 3.7 or above\n"
     ]
    },
    {
     "name": "stdout",
     "output_type": "stream",
     "text": [
      "[youtube] LNSp6iyjjsk: Downloading webpage\n",
      "[youtube] LNSp6iyjjsk: Downloading android player API JSON\n",
      "[youtube] Downloading comment section API JSON\n",
      "[youtube] Downloading ~3 comments\n",
      "[youtube] Sorting comments by newest first\n",
      "[youtube] Downloading comment API JSON page 1 (0/3)\n",
      "[youtube]     Downloading comment API JSON reply thread 1 (2/3)\n",
      "[youtube] Extracted 3 comments\n",
      "[info] LNSp6iyjjsk: Downloading 1 format(s): 247+251\n",
      "[info] Writing video metadata as JSON to: /data/notebooks/DATA-ISBAINE/Youtube/Temp data/LNSp6iyjjsk.info.json\n"
     ]
    },
    {
     "name": "stderr",
     "output_type": "stream",
     "text": [
      " 38%|███▊      | 125/329 [02:23<03:50,  1.13s/it]DeprecationWarning: Support for Python version 3.6 has been deprecated and will break in future versions of yt-dlp! Please update to Python 3.7 or above\n"
     ]
    },
    {
     "name": "stdout",
     "output_type": "stream",
     "text": [
      "[youtube] LssXlY5HQR0: Downloading webpage\n",
      "[youtube] LssXlY5HQR0: Downloading android player API JSON\n",
      "[youtube] Downloading comment section API JSON\n",
      "[youtube] Downloading ~3 comments\n",
      "[youtube] Sorting comments by newest first\n",
      "[youtube] Downloading comment API JSON page 1 (0/3)\n",
      "[youtube] Extracted 3 comments\n",
      "[info] LssXlY5HQR0: Downloading 1 format(s): 248+251\n",
      "[info] Writing video metadata as JSON to: /data/notebooks/DATA-ISBAINE/Youtube/Temp data/LssXlY5HQR0.info.json\n"
     ]
    },
    {
     "name": "stderr",
     "output_type": "stream",
     "text": [
      " 38%|███▊      | 126/329 [02:23<03:36,  1.07s/it]DeprecationWarning: Support for Python version 3.6 has been deprecated and will break in future versions of yt-dlp! Please update to Python 3.7 or above\n"
     ]
    },
    {
     "name": "stdout",
     "output_type": "stream",
     "text": [
      "[youtube] M6tPsoF0HWI: Downloading webpage\n",
      "[youtube] M6tPsoF0HWI: Downloading android player API JSON\n",
      "[youtube] M6tPsoF0HWI: Downloading MPD manifest\n",
      "[youtube] M6tPsoF0HWI: Downloading MPD manifest\n",
      "[youtube] Downloading comment section API JSON\n",
      "[youtube] Sorting comments by newest first\n",
      "[youtube] Downloading comment API JSON page 1 (0/0)\n",
      "[youtube] Extracted 0 comments\n",
      "[info] M6tPsoF0HWI: Downloading 1 format(s): 247+251\n",
      "[info] Writing video metadata as JSON to: /data/notebooks/DATA-ISBAINE/Youtube/Temp data/M6tPsoF0HWI.info.json\n"
     ]
    },
    {
     "name": "stderr",
     "output_type": "stream",
     "text": [
      " 39%|███▊      | 127/329 [02:25<03:42,  1.10s/it]DeprecationWarning: Support for Python version 3.6 has been deprecated and will break in future versions of yt-dlp! Please update to Python 3.7 or above\n"
     ]
    },
    {
     "name": "stdout",
     "output_type": "stream",
     "text": [
      "[youtube] M_ZNTmRE_pE: Downloading webpage\n",
      "[youtube] M_ZNTmRE_pE: Downloading android player API JSON\n",
      "[youtube] Downloading comment section API JSON\n",
      "[youtube] Sorting comments by newest first\n",
      "[youtube] Downloading comment API JSON page 1 (0/0)\n",
      "[youtube] Extracted 0 comments\n",
      "[info] M_ZNTmRE_pE: Downloading 1 format(s): 248+251\n",
      "[info] Writing video metadata as JSON to: /data/notebooks/DATA-ISBAINE/Youtube/Temp data/M_ZNTmRE_pE.info.json\n"
     ]
    },
    {
     "name": "stderr",
     "output_type": "stream",
     "text": [
      " 39%|███▉      | 128/329 [02:25<03:25,  1.02s/it]DeprecationWarning: Support for Python version 3.6 has been deprecated and will break in future versions of yt-dlp! Please update to Python 3.7 or above\n"
     ]
    },
    {
     "name": "stdout",
     "output_type": "stream",
     "text": [
      "[youtube] MeNDmMj-9fs: Downloading webpage\n",
      "[youtube] MeNDmMj-9fs: Downloading android player API JSON\n",
      "[youtube] MeNDmMj-9fs: Downloading MPD manifest\n",
      "[youtube] MeNDmMj-9fs: Downloading MPD manifest\n",
      "[youtube] Downloading comment section API JSON\n",
      "[youtube] Sorting comments by newest first\n",
      "[youtube] Downloading comment API JSON page 1 (0/0)\n",
      "[youtube] Extracted 0 comments\n",
      "[info] MeNDmMj-9fs: Downloading 1 format(s): 248+251\n",
      "[info] Writing video metadata as JSON to: /data/notebooks/DATA-ISBAINE/Youtube/Temp data/MeNDmMj-9fs.info.json\n"
     ]
    },
    {
     "name": "stderr",
     "output_type": "stream",
     "text": [
      " 39%|███▉      | 129/329 [02:27<03:32,  1.06s/it]DeprecationWarning: Support for Python version 3.6 has been deprecated and will break in future versions of yt-dlp! Please update to Python 3.7 or above\n"
     ]
    },
    {
     "name": "stdout",
     "output_type": "stream",
     "text": [
      "[youtube] MlmmxuMX-oo: Downloading webpage\n",
      "[youtube] MlmmxuMX-oo: Downloading android player API JSON\n",
      "[youtube] Downloading comment section API JSON\n",
      "[youtube] Downloading ~1 comments\n",
      "[youtube] Sorting comments by newest first\n",
      "[youtube] Downloading comment API JSON page 1 (0/1)\n",
      "[youtube] Extracted 1 comments\n",
      "[info] MlmmxuMX-oo: Downloading 1 format(s): 247+251\n",
      "[info] Writing video metadata as JSON to: /data/notebooks/DATA-ISBAINE/Youtube/Temp data/MlmmxuMX-oo.info.json\n"
     ]
    },
    {
     "name": "stderr",
     "output_type": "stream",
     "text": [
      " 40%|███▉      | 130/329 [02:28<03:27,  1.04s/it]DeprecationWarning: Support for Python version 3.6 has been deprecated and will break in future versions of yt-dlp! Please update to Python 3.7 or above\n"
     ]
    },
    {
     "name": "stdout",
     "output_type": "stream",
     "text": [
      "[youtube] NCUbQZT5cmY: Downloading webpage\n",
      "[youtube] NCUbQZT5cmY: Downloading android player API JSON\n",
      "[youtube] Downloading comment section API JSON\n",
      "[youtube] Sorting comments by newest first\n",
      "[youtube] Downloading comment API JSON page 1 (0/0)\n",
      "[youtube] Extracted 0 comments\n",
      "[info] NCUbQZT5cmY: Downloading 1 format(s): 248+251\n",
      "[info] Writing video metadata as JSON to: /data/notebooks/DATA-ISBAINE/Youtube/Temp data/NCUbQZT5cmY.info.json\n"
     ]
    },
    {
     "name": "stderr",
     "output_type": "stream",
     "text": [
      " 40%|███▉      | 131/329 [02:28<03:11,  1.03it/s]DeprecationWarning: Support for Python version 3.6 has been deprecated and will break in future versions of yt-dlp! Please update to Python 3.7 or above\n"
     ]
    },
    {
     "name": "stdout",
     "output_type": "stream",
     "text": [
      "[youtube] NDxkEJ1aBJQ: Downloading webpage\n",
      "[youtube] NDxkEJ1aBJQ: Downloading android player API JSON\n",
      "[youtube] Downloading comment section API JSON\n",
      "[youtube] Sorting comments by newest first\n",
      "[youtube] Downloading comment API JSON page 1 (0/0)\n",
      "[youtube] Extracted 0 comments\n",
      "[info] NDxkEJ1aBJQ: Downloading 1 format(s): 248+251\n",
      "[info] Writing video metadata as JSON to: /data/notebooks/DATA-ISBAINE/Youtube/Temp data/NDxkEJ1aBJQ.info.json\n"
     ]
    },
    {
     "name": "stderr",
     "output_type": "stream",
     "text": [
      " 40%|████      | 132/329 [02:29<03:02,  1.08it/s]DeprecationWarning: Support for Python version 3.6 has been deprecated and will break in future versions of yt-dlp! Please update to Python 3.7 or above\n"
     ]
    },
    {
     "name": "stdout",
     "output_type": "stream",
     "text": [
      "[youtube] NdtTiyEgCxg: Downloading webpage\n",
      "[youtube] NdtTiyEgCxg: Downloading android player API JSON\n",
      "[youtube] NdtTiyEgCxg: Downloading MPD manifest\n",
      "[youtube] NdtTiyEgCxg: Downloading MPD manifest\n",
      "[youtube] Downloading comment section API JSON\n",
      "[youtube] Downloading ~2 comments\n",
      "[youtube] Sorting comments by newest first\n",
      "[youtube] Downloading comment API JSON page 1 (0/2)\n",
      "[youtube] Extracted 2 comments\n",
      "[info] NdtTiyEgCxg: Downloading 1 format(s): 247+251\n",
      "[info] Writing video metadata as JSON to: /data/notebooks/DATA-ISBAINE/Youtube/Temp data/NdtTiyEgCxg.info.json\n"
     ]
    },
    {
     "name": "stderr",
     "output_type": "stream",
     "text": [
      " 40%|████      | 133/329 [02:32<04:28,  1.37s/it]DeprecationWarning: Support for Python version 3.6 has been deprecated and will break in future versions of yt-dlp! Please update to Python 3.7 or above\n"
     ]
    },
    {
     "name": "stdout",
     "output_type": "stream",
     "text": [
      "[youtube] NxLbVEIPtnQ: Downloading webpage\n",
      "[youtube] NxLbVEIPtnQ: Downloading android player API JSON\n",
      "[youtube] Downloading comment section API JSON\n",
      "[youtube] Sorting comments by newest first\n",
      "[youtube] Downloading comment API JSON page 1 (0/0)\n",
      "[youtube] Extracted 0 comments\n",
      "[info] NxLbVEIPtnQ: Downloading 1 format(s): 248+251\n",
      "[info] Writing video metadata as JSON to: /data/notebooks/DATA-ISBAINE/Youtube/Temp data/NxLbVEIPtnQ.info.json\n"
     ]
    },
    {
     "name": "stderr",
     "output_type": "stream",
     "text": [
      " 41%|████      | 134/329 [02:32<03:54,  1.20s/it]DeprecationWarning: Support for Python version 3.6 has been deprecated and will break in future versions of yt-dlp! Please update to Python 3.7 or above\n"
     ]
    },
    {
     "name": "stdout",
     "output_type": "stream",
     "text": [
      "[youtube] OfLjhmjWhdM: Downloading webpage\n",
      "[youtube] OfLjhmjWhdM: Downloading android player API JSON\n",
      "[youtube] Downloading comment section API JSON\n",
      "[youtube] Sorting comments by newest first\n",
      "[youtube] Downloading comment API JSON page 1 (0/0)\n",
      "[youtube] Extracted 0 comments\n",
      "[info] OfLjhmjWhdM: Downloading 1 format(s): 248+251\n",
      "[info] Writing video metadata as JSON to: /data/notebooks/DATA-ISBAINE/Youtube/Temp data/OfLjhmjWhdM.info.json\n"
     ]
    },
    {
     "name": "stderr",
     "output_type": "stream",
     "text": [
      " 41%|████      | 135/329 [02:33<03:38,  1.13s/it]DeprecationWarning: Support for Python version 3.6 has been deprecated and will break in future versions of yt-dlp! Please update to Python 3.7 or above\n"
     ]
    },
    {
     "name": "stdout",
     "output_type": "stream",
     "text": [
      "[youtube] Oh4t-Z0M2Ew: Downloading webpage\n",
      "[youtube] Oh4t-Z0M2Ew: Downloading android player API JSON\n",
      "[youtube] Oh4t-Z0M2Ew: Downloading MPD manifest\n",
      "[youtube] Oh4t-Z0M2Ew: Downloading MPD manifest\n",
      "[youtube] Downloading comment section API JSON\n",
      "[youtube] Sorting comments by newest first\n",
      "[youtube] Downloading comment API JSON page 1 (0/0)\n",
      "[youtube] Extracted 0 comments\n",
      "[info] Oh4t-Z0M2Ew: Downloading 1 format(s): 248+251\n",
      "[info] Writing video metadata as JSON to: /data/notebooks/DATA-ISBAINE/Youtube/Temp data/Oh4t-Z0M2Ew.info.json\n"
     ]
    },
    {
     "name": "stderr",
     "output_type": "stream",
     "text": [
      " 41%|████▏     | 136/329 [02:35<03:39,  1.13s/it]DeprecationWarning: Support for Python version 3.6 has been deprecated and will break in future versions of yt-dlp! Please update to Python 3.7 or above\n"
     ]
    },
    {
     "name": "stdout",
     "output_type": "stream",
     "text": [
      "[youtube] OhEPAG1JFWA: Downloading webpage\n",
      "[youtube] OhEPAG1JFWA: Downloading android player API JSON\n",
      "[youtube] Downloading comment section API JSON\n",
      "[youtube] Sorting comments by newest first\n",
      "[youtube] Downloading comment API JSON page 1 (0/0)\n",
      "[youtube] Extracted 0 comments\n",
      "[info] OhEPAG1JFWA: Downloading 1 format(s): 302+251\n",
      "[info] Writing video metadata as JSON to: /data/notebooks/DATA-ISBAINE/Youtube/Temp data/OhEPAG1JFWA.info.json\n"
     ]
    },
    {
     "name": "stderr",
     "output_type": "stream",
     "text": [
      " 42%|████▏     | 137/329 [02:35<03:24,  1.06s/it]DeprecationWarning: Support for Python version 3.6 has been deprecated and will break in future versions of yt-dlp! Please update to Python 3.7 or above\n"
     ]
    },
    {
     "name": "stdout",
     "output_type": "stream",
     "text": [
      "[youtube] OiUfiP0pzpY: Downloading webpage\n",
      "[youtube] OiUfiP0pzpY: Downloading android player API JSON\n",
      "[youtube] Downloading comment section API JSON\n"
     ]
    },
    {
     "name": "stderr",
     "output_type": "stream",
     "text": [
      "WARNING: [youtube] OiUfiP0pzpY: Youtube said: Comments are turned off. \n"
     ]
    },
    {
     "name": "stdout",
     "output_type": "stream",
     "text": [
      "[youtube] Extracted 0 comments\n",
      "[info] OiUfiP0pzpY: Downloading 1 format(s): 248+251\n",
      "[info] Writing video metadata as JSON to: /data/notebooks/DATA-ISBAINE/Youtube/Temp data/OiUfiP0pzpY.info.json\n"
     ]
    },
    {
     "name": "stderr",
     "output_type": "stream",
     "text": [
      " 42%|████▏     | 138/329 [02:36<03:04,  1.04it/s]DeprecationWarning: Support for Python version 3.6 has been deprecated and will break in future versions of yt-dlp! Please update to Python 3.7 or above\n"
     ]
    },
    {
     "name": "stdout",
     "output_type": "stream",
     "text": [
      "[youtube] PTR_SfrPyzE: Downloading webpage\n",
      "[youtube] PTR_SfrPyzE: Downloading android player API JSON\n",
      "[youtube] PTR_SfrPyzE: Downloading MPD manifest\n",
      "[youtube] PTR_SfrPyzE: Downloading MPD manifest\n",
      "[youtube] Downloading comment section API JSON\n",
      "[youtube] Downloading ~1 comments\n",
      "[youtube] Sorting comments by newest first\n",
      "[youtube] Downloading comment API JSON page 1 (0/1)\n",
      "[youtube] Extracted 1 comments\n",
      "[info] PTR_SfrPyzE: Downloading 1 format(s): 248+251\n",
      "[info] Writing video metadata as JSON to: /data/notebooks/DATA-ISBAINE/Youtube/Temp data/PTR_SfrPyzE.info.json\n"
     ]
    },
    {
     "name": "stderr",
     "output_type": "stream",
     "text": [
      " 42%|████▏     | 139/329 [02:38<03:29,  1.10s/it]DeprecationWarning: Support for Python version 3.6 has been deprecated and will break in future versions of yt-dlp! Please update to Python 3.7 or above\n"
     ]
    },
    {
     "name": "stdout",
     "output_type": "stream",
     "text": [
      "[youtube] Pd2YkR6XFXQ: Downloading webpage\n",
      "[youtube] Pd2YkR6XFXQ: Downloading android player API JSON\n",
      "[youtube] Downloading comment section API JSON\n",
      "[youtube] Sorting comments by newest first\n",
      "[youtube] Downloading comment API JSON page 1 (0/0)\n",
      "[youtube] Extracted 0 comments\n",
      "[info] Pd2YkR6XFXQ: Downloading 1 format(s): 247+251\n",
      "[info] Writing video metadata as JSON to: /data/notebooks/DATA-ISBAINE/Youtube/Temp data/Pd2YkR6XFXQ.info.json\n"
     ]
    },
    {
     "name": "stderr",
     "output_type": "stream",
     "text": [
      " 43%|████▎     | 140/329 [02:39<03:24,  1.08s/it]DeprecationWarning: Support for Python version 3.6 has been deprecated and will break in future versions of yt-dlp! Please update to Python 3.7 or above\n"
     ]
    },
    {
     "name": "stdout",
     "output_type": "stream",
     "text": [
      "[youtube] Pkk1cbaYblQ: Downloading webpage\n",
      "[youtube] Pkk1cbaYblQ: Downloading android player API JSON\n",
      "[youtube] Pkk1cbaYblQ: Downloading MPD manifest\n",
      "[youtube] Pkk1cbaYblQ: Downloading MPD manifest\n",
      "[youtube] Downloading comment section API JSON\n",
      "[youtube] Sorting comments by newest first\n",
      "[youtube] Downloading comment API JSON page 1 (0/0)\n",
      "[youtube] Extracted 0 comments\n",
      "[info] Pkk1cbaYblQ: Downloading 1 format(s): 247+251\n",
      "[info] Writing video metadata as JSON to: /data/notebooks/DATA-ISBAINE/Youtube/Temp data/Pkk1cbaYblQ.info.json\n"
     ]
    },
    {
     "name": "stderr",
     "output_type": "stream",
     "text": [
      " 43%|████▎     | 141/329 [02:40<03:31,  1.12s/it]DeprecationWarning: Support for Python version 3.6 has been deprecated and will break in future versions of yt-dlp! Please update to Python 3.7 or above\n"
     ]
    },
    {
     "name": "stdout",
     "output_type": "stream",
     "text": [
      "[youtube] ProoDoGgpJo: Downloading webpage\n",
      "[youtube] ProoDoGgpJo: Downloading android player API JSON\n",
      "[youtube] ProoDoGgpJo: Downloading MPD manifest\n",
      "[youtube] ProoDoGgpJo: Downloading MPD manifest\n",
      "[youtube] Downloading comment section API JSON\n",
      "[youtube] Sorting comments by newest first\n",
      "[youtube] Downloading comment API JSON page 1 (0/0)\n",
      "[youtube] Extracted 0 comments\n",
      "[info] ProoDoGgpJo: Downloading 1 format(s): 248+251\n",
      "[info] Writing video metadata as JSON to: /data/notebooks/DATA-ISBAINE/Youtube/Temp data/ProoDoGgpJo.info.json\n"
     ]
    },
    {
     "name": "stderr",
     "output_type": "stream",
     "text": [
      " 43%|████▎     | 142/329 [02:41<03:36,  1.16s/it]DeprecationWarning: Support for Python version 3.6 has been deprecated and will break in future versions of yt-dlp! Please update to Python 3.7 or above\n"
     ]
    },
    {
     "name": "stdout",
     "output_type": "stream",
     "text": [
      "[youtube] Q-1H5l8I5kQ: Downloading webpage\n",
      "[youtube] Q-1H5l8I5kQ: Downloading android player API JSON\n",
      "[youtube] Downloading comment section API JSON\n",
      "[youtube] Sorting comments by newest first\n",
      "[youtube] Downloading comment API JSON page 1 (0/0)\n",
      "[youtube] Extracted 0 comments\n",
      "[info] Q-1H5l8I5kQ: Downloading 1 format(s): 302+251\n",
      "[info] Writing video metadata as JSON to: /data/notebooks/DATA-ISBAINE/Youtube/Temp data/Q-1H5l8I5kQ.info.json\n"
     ]
    },
    {
     "name": "stderr",
     "output_type": "stream",
     "text": [
      " 43%|████▎     | 143/329 [02:42<03:18,  1.07s/it]DeprecationWarning: Support for Python version 3.6 has been deprecated and will break in future versions of yt-dlp! Please update to Python 3.7 or above\n"
     ]
    },
    {
     "name": "stdout",
     "output_type": "stream",
     "text": [
      "[youtube] Q0EqXkI5hNU: Downloading webpage\n",
      "[youtube] Q0EqXkI5hNU: Downloading android player API JSON\n",
      "[youtube] Q0EqXkI5hNU: Downloading MPD manifest\n",
      "[youtube] Q0EqXkI5hNU: Downloading MPD manifest\n",
      "[youtube] Downloading comment section API JSON\n",
      "[youtube] Downloading ~2 comments\n",
      "[youtube] Sorting comments by newest first\n",
      "[youtube] Downloading comment API JSON page 1 (0/2)\n",
      "[youtube] Extracted 2 comments\n",
      "[info] Q0EqXkI5hNU: Downloading 1 format(s): 248+251\n",
      "[info] Writing video metadata as JSON to: /data/notebooks/DATA-ISBAINE/Youtube/Temp data/Q0EqXkI5hNU.info.json\n"
     ]
    },
    {
     "name": "stderr",
     "output_type": "stream",
     "text": [
      " 44%|████▍     | 144/329 [02:43<03:41,  1.20s/it]DeprecationWarning: Support for Python version 3.6 has been deprecated and will break in future versions of yt-dlp! Please update to Python 3.7 or above\n"
     ]
    },
    {
     "name": "stdout",
     "output_type": "stream",
     "text": [
      "[youtube] Q4VTyNFQAbk: Downloading webpage\n",
      "[youtube] Q4VTyNFQAbk: Downloading android player API JSON\n",
      "[youtube] Q4VTyNFQAbk: Downloading MPD manifest\n",
      "[youtube] Q4VTyNFQAbk: Downloading MPD manifest\n",
      "[youtube] Downloading comment section API JSON\n",
      "[youtube] Downloading ~2 comments\n",
      "[youtube] Sorting comments by newest first\n",
      "[youtube] Downloading comment API JSON page 1 (0/2)\n",
      "[youtube] Extracted 2 comments\n",
      "[info] Q4VTyNFQAbk: Downloading 1 format(s): 248+251\n",
      "[info] Writing video metadata as JSON to: /data/notebooks/DATA-ISBAINE/Youtube/Temp data/Q4VTyNFQAbk.info.json\n"
     ]
    },
    {
     "name": "stderr",
     "output_type": "stream",
     "text": [
      " 44%|████▍     | 145/329 [02:45<03:43,  1.21s/it]DeprecationWarning: Support for Python version 3.6 has been deprecated and will break in future versions of yt-dlp! Please update to Python 3.7 or above\n"
     ]
    },
    {
     "name": "stdout",
     "output_type": "stream",
     "text": [
      "[youtube] QHmESSlSDGE: Downloading webpage\n",
      "[youtube] QHmESSlSDGE: Downloading android player API JSON\n",
      "[youtube] Downloading comment section API JSON\n",
      "[youtube] Downloading ~8 comments\n",
      "[youtube] Sorting comments by newest first\n",
      "[youtube] Downloading comment API JSON page 1 (0/8)\n",
      "[youtube] Extracted 8 comments\n",
      "[info] QHmESSlSDGE: Downloading 1 format(s): 247+251\n",
      "[info] Writing video metadata as JSON to: /data/notebooks/DATA-ISBAINE/Youtube/Temp data/QHmESSlSDGE.info.json\n"
     ]
    },
    {
     "name": "stderr",
     "output_type": "stream",
     "text": [
      " 44%|████▍     | 146/329 [02:46<03:43,  1.22s/it]DeprecationWarning: Support for Python version 3.6 has been deprecated and will break in future versions of yt-dlp! Please update to Python 3.7 or above\n"
     ]
    },
    {
     "name": "stdout",
     "output_type": "stream",
     "text": [
      "[youtube] QSXJaiXtuno: Downloading webpage\n",
      "[youtube] QSXJaiXtuno: Downloading android player API JSON\n",
      "[youtube] Downloading comment section API JSON\n",
      "[youtube] Sorting comments by newest first\n",
      "[youtube] Downloading comment API JSON page 1 (0/0)\n",
      "[youtube] Extracted 0 comments\n",
      "[info] QSXJaiXtuno: Downloading 1 format(s): 248+251\n",
      "[info] Writing video metadata as JSON to: /data/notebooks/DATA-ISBAINE/Youtube/Temp data/QSXJaiXtuno.info.json\n"
     ]
    },
    {
     "name": "stderr",
     "output_type": "stream",
     "text": [
      " 45%|████▍     | 147/329 [02:47<03:20,  1.10s/it]DeprecationWarning: Support for Python version 3.6 has been deprecated and will break in future versions of yt-dlp! Please update to Python 3.7 or above\n"
     ]
    },
    {
     "name": "stdout",
     "output_type": "stream",
     "text": [
      "[youtube] QclW7LvjKPE: Downloading webpage\n",
      "[youtube] QclW7LvjKPE: Downloading android player API JSON\n",
      "[youtube] QclW7LvjKPE: Downloading MPD manifest\n",
      "[youtube] QclW7LvjKPE: Downloading MPD manifest\n",
      "[youtube] Downloading comment section API JSON\n",
      "[youtube] Downloading ~1 comments\n",
      "[youtube] Sorting comments by newest first\n",
      "[youtube] Downloading comment API JSON page 1 (0/1)\n",
      "[youtube] Extracted 1 comments\n",
      "[info] QclW7LvjKPE: Downloading 1 format(s): 247+251\n",
      "[info] Writing video metadata as JSON to: /data/notebooks/DATA-ISBAINE/Youtube/Temp data/QclW7LvjKPE.info.json\n"
     ]
    },
    {
     "name": "stderr",
     "output_type": "stream",
     "text": [
      " 45%|████▍     | 148/329 [02:48<03:34,  1.18s/it]DeprecationWarning: Support for Python version 3.6 has been deprecated and will break in future versions of yt-dlp! Please update to Python 3.7 or above\n"
     ]
    },
    {
     "name": "stdout",
     "output_type": "stream",
     "text": [
      "[youtube] Qf2foFNqCkE: Downloading webpage\n",
      "[youtube] Qf2foFNqCkE: Downloading android player API JSON\n",
      "[youtube] Downloading comment section API JSON\n",
      "[youtube] Sorting comments by newest first\n",
      "[youtube] Downloading comment API JSON page 1 (0/0)\n",
      "[youtube] Extracted 0 comments\n",
      "[info] Qf2foFNqCkE: Downloading 1 format(s): 248+251\n",
      "[info] Writing video metadata as JSON to: /data/notebooks/DATA-ISBAINE/Youtube/Temp data/Qf2foFNqCkE.info.json\n"
     ]
    },
    {
     "name": "stderr",
     "output_type": "stream",
     "text": [
      " 45%|████▌     | 149/329 [02:49<03:20,  1.11s/it]DeprecationWarning: Support for Python version 3.6 has been deprecated and will break in future versions of yt-dlp! Please update to Python 3.7 or above\n"
     ]
    },
    {
     "name": "stdout",
     "output_type": "stream",
     "text": [
      "[youtube] R9pjiYNYLOk: Downloading webpage\n",
      "[youtube] R9pjiYNYLOk: Downloading android player API JSON\n",
      "[youtube] Downloading comment section API JSON\n",
      "[youtube] Downloading ~13 comments\n",
      "[youtube] Sorting comments by newest first\n",
      "[youtube] Downloading comment API JSON page 1 (0/13)\n",
      "[youtube] Extracted 13 comments\n",
      "[info] R9pjiYNYLOk: Downloading 1 format(s): 247+251\n",
      "[info] Writing video metadata as JSON to: /data/notebooks/DATA-ISBAINE/Youtube/Temp data/R9pjiYNYLOk.info.json\n"
     ]
    },
    {
     "name": "stderr",
     "output_type": "stream",
     "text": [
      " 46%|████▌     | 150/329 [02:50<03:19,  1.11s/it]DeprecationWarning: Support for Python version 3.6 has been deprecated and will break in future versions of yt-dlp! Please update to Python 3.7 or above\n"
     ]
    },
    {
     "name": "stdout",
     "output_type": "stream",
     "text": [
      "[youtube] RAoDJ8FZltw: Downloading webpage\n",
      "[youtube] RAoDJ8FZltw: Downloading android player API JSON\n",
      "[youtube] Downloading comment section API JSON\n",
      "[youtube] Downloading ~1 comments\n",
      "[youtube] Sorting comments by newest first\n",
      "[youtube] Downloading comment API JSON page 1 (0/1)\n",
      "[youtube] Extracted 1 comments\n",
      "[info] RAoDJ8FZltw: Downloading 1 format(s): 248+251\n",
      "[info] Writing video metadata as JSON to: /data/notebooks/DATA-ISBAINE/Youtube/Temp data/RAoDJ8FZltw.info.json\n"
     ]
    },
    {
     "name": "stderr",
     "output_type": "stream",
     "text": [
      " 46%|████▌     | 151/329 [02:51<03:19,  1.12s/it]DeprecationWarning: Support for Python version 3.6 has been deprecated and will break in future versions of yt-dlp! Please update to Python 3.7 or above\n"
     ]
    },
    {
     "name": "stdout",
     "output_type": "stream",
     "text": [
      "[youtube] RZ5zgNTzvpo: Downloading webpage\n",
      "[youtube] RZ5zgNTzvpo: Downloading android player API JSON\n",
      "[youtube] RZ5zgNTzvpo: Downloading MPD manifest\n",
      "[youtube] RZ5zgNTzvpo: Downloading MPD manifest\n",
      "[youtube] Downloading comment section API JSON\n",
      "[youtube] Sorting comments by newest first\n",
      "[youtube] Downloading comment API JSON page 1 (0/0)\n",
      "[youtube] Extracted 0 comments\n",
      "[info] RZ5zgNTzvpo: Downloading 1 format(s): 248+251\n",
      "[info] Writing video metadata as JSON to: /data/notebooks/DATA-ISBAINE/Youtube/Temp data/RZ5zgNTzvpo.info.json\n"
     ]
    },
    {
     "name": "stderr",
     "output_type": "stream",
     "text": [
      " 46%|████▌     | 152/329 [02:52<03:19,  1.13s/it]DeprecationWarning: Support for Python version 3.6 has been deprecated and will break in future versions of yt-dlp! Please update to Python 3.7 or above\n"
     ]
    },
    {
     "name": "stdout",
     "output_type": "stream",
     "text": [
      "[youtube] RsYmtprD3WY: Downloading webpage\n",
      "[youtube] RsYmtprD3WY: Downloading android player API JSON\n",
      "[youtube] RsYmtprD3WY: Downloading MPD manifest\n",
      "[youtube] RsYmtprD3WY: Downloading MPD manifest\n",
      "[youtube] Downloading comment section API JSON\n",
      "[youtube] Downloading ~1 comments\n",
      "[youtube] Sorting comments by newest first\n",
      "[youtube] Downloading comment API JSON page 1 (0/1)\n",
      "[youtube] Extracted 1 comments\n",
      "[info] RsYmtprD3WY: Downloading 1 format(s): 302+251\n",
      "[info] Writing video metadata as JSON to: /data/notebooks/DATA-ISBAINE/Youtube/Temp data/RsYmtprD3WY.info.json\n"
     ]
    },
    {
     "name": "stderr",
     "output_type": "stream",
     "text": [
      " 47%|████▋     | 153/329 [02:54<03:28,  1.18s/it]DeprecationWarning: Support for Python version 3.6 has been deprecated and will break in future versions of yt-dlp! Please update to Python 3.7 or above\n"
     ]
    },
    {
     "name": "stdout",
     "output_type": "stream",
     "text": [
      "[youtube] RwuVlPmzwxI: Downloading webpage\n",
      "[youtube] RwuVlPmzwxI: Downloading android player API JSON\n",
      "[youtube] RwuVlPmzwxI: Downloading MPD manifest\n",
      "[youtube] RwuVlPmzwxI: Downloading MPD manifest\n",
      "[youtube] Downloading comment section API JSON\n"
     ]
    },
    {
     "name": "stderr",
     "output_type": "stream",
     "text": [
      "WARNING: [youtube] RwuVlPmzwxI: Youtube said: Comments are turned off. \n"
     ]
    },
    {
     "name": "stdout",
     "output_type": "stream",
     "text": [
      "[youtube] Extracted 0 comments\n",
      "[info] RwuVlPmzwxI: Downloading 1 format(s): 248+251\n",
      "[info] Writing video metadata as JSON to: /data/notebooks/DATA-ISBAINE/Youtube/Temp data/RwuVlPmzwxI.info.json\n"
     ]
    },
    {
     "name": "stderr",
     "output_type": "stream",
     "text": [
      " 47%|████▋     | 154/329 [02:55<03:21,  1.15s/it]DeprecationWarning: Support for Python version 3.6 has been deprecated and will break in future versions of yt-dlp! Please update to Python 3.7 or above\n"
     ]
    },
    {
     "name": "stdout",
     "output_type": "stream",
     "text": [
      "[youtube] S1agJwFJ2kI: Downloading webpage\n",
      "[youtube] S1agJwFJ2kI: Downloading android player API JSON\n",
      "[youtube] S1agJwFJ2kI: Downloading MPD manifest\n",
      "[youtube] S1agJwFJ2kI: Downloading MPD manifest\n",
      "[youtube] Downloading comment section API JSON\n",
      "[youtube] Downloading ~2 comments\n",
      "[youtube] Sorting comments by newest first\n",
      "[youtube] Downloading comment API JSON page 1 (0/2)\n",
      "[youtube] Extracted 2 comments\n",
      "[info] S1agJwFJ2kI: Downloading 1 format(s): 247+251\n",
      "[info] Writing video metadata as JSON to: /data/notebooks/DATA-ISBAINE/Youtube/Temp data/S1agJwFJ2kI.info.json\n"
     ]
    },
    {
     "name": "stderr",
     "output_type": "stream",
     "text": [
      " 47%|████▋     | 155/329 [02:56<03:24,  1.18s/it]DeprecationWarning: Support for Python version 3.6 has been deprecated and will break in future versions of yt-dlp! Please update to Python 3.7 or above\n"
     ]
    },
    {
     "name": "stdout",
     "output_type": "stream",
     "text": [
      "[youtube] SCm_sN2o-qA: Downloading webpage\n",
      "[youtube] SCm_sN2o-qA: Downloading android player API JSON\n",
      "[youtube] SCm_sN2o-qA: Downloading MPD manifest\n",
      "[youtube] SCm_sN2o-qA: Downloading MPD manifest\n",
      "[youtube] Downloading comment section API JSON\n",
      "[youtube] Downloading ~6 comments\n",
      "[youtube] Sorting comments by newest first\n",
      "[youtube] Downloading comment API JSON page 1 (0/6)\n",
      "[youtube] Extracted 6 comments\n",
      "[info] SCm_sN2o-qA: Downloading 1 format(s): 303+251\n",
      "[info] Writing video metadata as JSON to: /data/notebooks/DATA-ISBAINE/Youtube/Temp data/SCm_sN2o-qA.info.json\n"
     ]
    },
    {
     "name": "stderr",
     "output_type": "stream",
     "text": [
      " 47%|████▋     | 156/329 [02:58<03:36,  1.25s/it]DeprecationWarning: Support for Python version 3.6 has been deprecated and will break in future versions of yt-dlp! Please update to Python 3.7 or above\n"
     ]
    },
    {
     "name": "stdout",
     "output_type": "stream",
     "text": [
      "[youtube] SRVnY6zViUU: Downloading webpage\n",
      "[youtube] SRVnY6zViUU: Downloading android player API JSON\n",
      "[youtube] Downloading comment section API JSON\n",
      "[youtube] Sorting comments by newest first\n",
      "[youtube] Downloading comment API JSON page 1 (0/0)\n",
      "[youtube] Extracted 0 comments\n",
      "[info] SRVnY6zViUU: Downloading 1 format(s): 247+251\n",
      "[info] Writing video metadata as JSON to: /data/notebooks/DATA-ISBAINE/Youtube/Temp data/SRVnY6zViUU.info.json\n"
     ]
    },
    {
     "name": "stderr",
     "output_type": "stream",
     "text": [
      " 48%|████▊     | 157/329 [02:59<03:20,  1.16s/it]DeprecationWarning: Support for Python version 3.6 has been deprecated and will break in future versions of yt-dlp! Please update to Python 3.7 or above\n"
     ]
    },
    {
     "name": "stdout",
     "output_type": "stream",
     "text": [
      "[youtube] ScDIrXPQ68E: Downloading webpage\n",
      "[youtube] ScDIrXPQ68E: Downloading android player API JSON\n",
      "[youtube] ScDIrXPQ68E: Downloading MPD manifest\n",
      "[youtube] ScDIrXPQ68E: Downloading MPD manifest\n",
      "[youtube] Downloading comment section API JSON\n",
      "[youtube] Downloading ~2 comments\n",
      "[youtube] Sorting comments by newest first\n",
      "[youtube] Downloading comment API JSON page 1 (0/2)\n",
      "[youtube] Extracted 2 comments\n",
      "[info] ScDIrXPQ68E: Downloading 1 format(s): 247+251\n",
      "[info] Writing video metadata as JSON to: /data/notebooks/DATA-ISBAINE/Youtube/Temp data/ScDIrXPQ68E.info.json\n"
     ]
    },
    {
     "name": "stderr",
     "output_type": "stream",
     "text": [
      " 48%|████▊     | 158/329 [03:00<03:26,  1.21s/it]DeprecationWarning: Support for Python version 3.6 has been deprecated and will break in future versions of yt-dlp! Please update to Python 3.7 or above\n"
     ]
    },
    {
     "name": "stdout",
     "output_type": "stream",
     "text": [
      "[youtube] Sdbab9vPGSI: Downloading webpage\n",
      "[youtube] Sdbab9vPGSI: Downloading android player API JSON\n",
      "[youtube] Sdbab9vPGSI: Downloading MPD manifest\n",
      "[youtube] Sdbab9vPGSI: Downloading MPD manifest\n",
      "[youtube] Downloading comment section API JSON\n",
      "[youtube] Sorting comments by newest first\n",
      "[youtube] Downloading comment API JSON page 1 (0/0)\n",
      "[youtube] Extracted 0 comments\n",
      "[info] Sdbab9vPGSI: Downloading 1 format(s): 247+251\n",
      "[info] Writing video metadata as JSON to: /data/notebooks/DATA-ISBAINE/Youtube/Temp data/Sdbab9vPGSI.info.json\n"
     ]
    },
    {
     "name": "stderr",
     "output_type": "stream",
     "text": [
      " 48%|████▊     | 159/329 [03:01<03:21,  1.18s/it]DeprecationWarning: Support for Python version 3.6 has been deprecated and will break in future versions of yt-dlp! Please update to Python 3.7 or above\n"
     ]
    },
    {
     "name": "stdout",
     "output_type": "stream",
     "text": [
      "[youtube] ShTlLxLujwg: Downloading webpage\n",
      "[youtube] ShTlLxLujwg: Downloading android player API JSON\n",
      "[youtube] Downloading comment section API JSON\n",
      "[youtube] Downloading ~5 comments\n",
      "[youtube] Sorting comments by newest first\n",
      "[youtube] Downloading comment API JSON page 1 (0/5)\n",
      "[youtube]     Downloading comment API JSON reply thread 1 (4/5)\n",
      "[youtube] Extracted 5 comments\n",
      "[info] ShTlLxLujwg: Downloading 1 format(s): 248+251\n",
      "[info] Writing video metadata as JSON to: /data/notebooks/DATA-ISBAINE/Youtube/Temp data/ShTlLxLujwg.info.json\n"
     ]
    },
    {
     "name": "stderr",
     "output_type": "stream",
     "text": [
      " 49%|████▊     | 160/329 [03:02<03:12,  1.14s/it]DeprecationWarning: Support for Python version 3.6 has been deprecated and will break in future versions of yt-dlp! Please update to Python 3.7 or above\n"
     ]
    },
    {
     "name": "stdout",
     "output_type": "stream",
     "text": [
      "[youtube] SjvYNDkZUOs: Downloading webpage\n",
      "[youtube] SjvYNDkZUOs: Downloading android player API JSON\n",
      "[youtube] Downloading comment section API JSON\n",
      "[youtube] Sorting comments by newest first\n",
      "[youtube] Downloading comment API JSON page 1 (0/0)\n",
      "[youtube] Extracted 0 comments\n",
      "[info] SjvYNDkZUOs: Downloading 1 format(s): 248+251\n",
      "[info] Writing video metadata as JSON to: /data/notebooks/DATA-ISBAINE/Youtube/Temp data/SjvYNDkZUOs.info.json\n"
     ]
    },
    {
     "name": "stderr",
     "output_type": "stream",
     "text": [
      " 49%|████▉     | 161/329 [03:03<02:54,  1.04s/it]DeprecationWarning: Support for Python version 3.6 has been deprecated and will break in future versions of yt-dlp! Please update to Python 3.7 or above\n"
     ]
    },
    {
     "name": "stdout",
     "output_type": "stream",
     "text": [
      "[youtube] SyXWFlF45ck: Downloading webpage\n",
      "[youtube] SyXWFlF45ck: Downloading android player API JSON\n",
      "[youtube] Downloading comment section API JSON\n",
      "[youtube] Downloading ~3 comments\n",
      "[youtube] Sorting comments by newest first\n",
      "[youtube] Downloading comment API JSON page 1 (0/3)\n",
      "[youtube] Extracted 3 comments\n",
      "[info] SyXWFlF45ck: Downloading 1 format(s): 302+251\n",
      "[info] Writing video metadata as JSON to: /data/notebooks/DATA-ISBAINE/Youtube/Temp data/SyXWFlF45ck.info.json\n"
     ]
    },
    {
     "name": "stderr",
     "output_type": "stream",
     "text": [
      " 49%|████▉     | 162/329 [03:04<03:03,  1.10s/it]DeprecationWarning: Support for Python version 3.6 has been deprecated and will break in future versions of yt-dlp! Please update to Python 3.7 or above\n"
     ]
    },
    {
     "name": "stdout",
     "output_type": "stream",
     "text": [
      "[youtube] TkFzLuryUJA: Downloading webpage\n",
      "[youtube] TkFzLuryUJA: Downloading android player API JSON\n",
      "[youtube] Downloading comment section API JSON\n",
      "[youtube] Sorting comments by newest first\n",
      "[youtube] Downloading comment API JSON page 1 (0/0)\n",
      "[youtube] Extracted 0 comments\n",
      "[info] TkFzLuryUJA: Downloading 1 format(s): 248+251\n",
      "[info] Writing video metadata as JSON to: /data/notebooks/DATA-ISBAINE/Youtube/Temp data/TkFzLuryUJA.info.json\n"
     ]
    },
    {
     "name": "stderr",
     "output_type": "stream",
     "text": [
      " 50%|████▉     | 163/329 [03:05<02:50,  1.02s/it]DeprecationWarning: Support for Python version 3.6 has been deprecated and will break in future versions of yt-dlp! Please update to Python 3.7 or above\n"
     ]
    },
    {
     "name": "stdout",
     "output_type": "stream",
     "text": [
      "[youtube] USJQLjfznHA: Downloading webpage\n",
      "[youtube] USJQLjfznHA: Downloading android player API JSON\n",
      "[youtube] Downloading comment section API JSON\n",
      "[youtube] Sorting comments by newest first\n",
      "[youtube] Downloading comment API JSON page 1 (0/0)\n",
      "[youtube] Extracted 0 comments\n",
      "[info] USJQLjfznHA: Downloading 1 format(s): 248+251\n",
      "[info] Writing video metadata as JSON to: /data/notebooks/DATA-ISBAINE/Youtube/Temp data/USJQLjfznHA.info.json\n"
     ]
    },
    {
     "name": "stderr",
     "output_type": "stream",
     "text": [
      " 50%|████▉     | 164/329 [03:06<02:39,  1.03it/s]DeprecationWarning: Support for Python version 3.6 has been deprecated and will break in future versions of yt-dlp! Please update to Python 3.7 or above\n"
     ]
    },
    {
     "name": "stdout",
     "output_type": "stream",
     "text": [
      "[youtube] UfqXImz2oSM: Downloading webpage\n",
      "[youtube] UfqXImz2oSM: Downloading android player API JSON\n",
      "[youtube] Downloading comment section API JSON\n",
      "[youtube] Sorting comments by newest first\n",
      "[youtube] Downloading comment API JSON page 1 (0/0)\n",
      "[youtube] Extracted 0 comments\n",
      "[info] UfqXImz2oSM: Downloading 1 format(s): 248+251\n",
      "[info] Writing video metadata as JSON to: /data/notebooks/DATA-ISBAINE/Youtube/Temp data/UfqXImz2oSM.info.json\n"
     ]
    },
    {
     "name": "stderr",
     "output_type": "stream",
     "text": [
      " 50%|█████     | 165/329 [03:07<02:32,  1.08it/s]DeprecationWarning: Support for Python version 3.6 has been deprecated and will break in future versions of yt-dlp! Please update to Python 3.7 or above\n"
     ]
    },
    {
     "name": "stdout",
     "output_type": "stream",
     "text": [
      "[youtube] UjMeY5UBgAk: Downloading webpage\n",
      "[youtube] UjMeY5UBgAk: Downloading android player API JSON\n",
      "[youtube] Downloading comment section API JSON\n",
      "[youtube] Downloading ~1 comments\n",
      "[youtube] Sorting comments by newest first\n",
      "[youtube] Downloading comment API JSON page 1 (0/1)\n",
      "[youtube] Extracted 1 comments\n",
      "[info] UjMeY5UBgAk: Downloading 1 format(s): 247+251\n",
      "[info] Writing video metadata as JSON to: /data/notebooks/DATA-ISBAINE/Youtube/Temp data/UjMeY5UBgAk.info.json\n"
     ]
    },
    {
     "name": "stderr",
     "output_type": "stream",
     "text": [
      " 50%|█████     | 166/329 [03:08<02:38,  1.03it/s]DeprecationWarning: Support for Python version 3.6 has been deprecated and will break in future versions of yt-dlp! Please update to Python 3.7 or above\n"
     ]
    },
    {
     "name": "stdout",
     "output_type": "stream",
     "text": [
      "[youtube] UvB7V1rWpEE: Downloading webpage\n",
      "[youtube] UvB7V1rWpEE: Downloading android player API JSON\n",
      "[youtube] Downloading comment section API JSON\n",
      "[youtube] Sorting comments by newest first\n",
      "[youtube] Downloading comment API JSON page 1 (0/0)\n",
      "[youtube] Extracted 0 comments\n",
      "[info] UvB7V1rWpEE: Downloading 1 format(s): 248+251\n",
      "[info] Writing video metadata as JSON to: /data/notebooks/DATA-ISBAINE/Youtube/Temp data/UvB7V1rWpEE.info.json\n"
     ]
    },
    {
     "name": "stderr",
     "output_type": "stream",
     "text": [
      " 51%|█████     | 167/329 [03:08<02:30,  1.08it/s]DeprecationWarning: Support for Python version 3.6 has been deprecated and will break in future versions of yt-dlp! Please update to Python 3.7 or above\n"
     ]
    },
    {
     "name": "stdout",
     "output_type": "stream",
     "text": [
      "[youtube] UvPgAXuQw_Y: Downloading webpage\n",
      "[youtube] UvPgAXuQw_Y: Downloading android player API JSON\n",
      "[youtube] Downloading comment section API JSON\n",
      "[youtube] Sorting comments by newest first\n",
      "[youtube] Downloading comment API JSON page 1 (0/0)\n",
      "[youtube] Extracted 0 comments\n",
      "[info] UvPgAXuQw_Y: Downloading 1 format(s): 303+251\n",
      "[info] Writing video metadata as JSON to: /data/notebooks/DATA-ISBAINE/Youtube/Temp data/UvPgAXuQw_Y.info.json\n"
     ]
    },
    {
     "name": "stderr",
     "output_type": "stream",
     "text": [
      " 51%|█████     | 168/329 [03:09<02:31,  1.06it/s]DeprecationWarning: Support for Python version 3.6 has been deprecated and will break in future versions of yt-dlp! Please update to Python 3.7 or above\n"
     ]
    },
    {
     "name": "stdout",
     "output_type": "stream",
     "text": [
      "[youtube] VVh4nxkbdaE: Downloading webpage\n",
      "[youtube] VVh4nxkbdaE: Downloading android player API JSON\n",
      "[youtube] Downloading comment section API JSON\n",
      "[youtube] Downloading ~3 comments\n",
      "[youtube] Sorting comments by newest first\n",
      "[youtube] Downloading comment API JSON page 1 (0/3)\n",
      "[youtube] Extracted 3 comments\n",
      "[info] VVh4nxkbdaE: Downloading 1 format(s): 248+251\n",
      "[info] Writing video metadata as JSON to: /data/notebooks/DATA-ISBAINE/Youtube/Temp data/VVh4nxkbdaE.info.json\n"
     ]
    },
    {
     "name": "stderr",
     "output_type": "stream",
     "text": [
      " 51%|█████▏    | 169/329 [03:11<02:38,  1.01it/s]DeprecationWarning: Support for Python version 3.6 has been deprecated and will break in future versions of yt-dlp! Please update to Python 3.7 or above\n"
     ]
    },
    {
     "name": "stdout",
     "output_type": "stream",
     "text": [
      "[youtube] WCDGdkSUL6o: Downloading webpage\n",
      "[youtube] WCDGdkSUL6o: Downloading android player API JSON\n",
      "[youtube] Downloading comment section API JSON\n",
      "[youtube] Sorting comments by newest first\n",
      "[youtube] Downloading comment API JSON page 1 (0/0)\n",
      "[youtube] Extracted 0 comments\n",
      "[info] WCDGdkSUL6o: Downloading 1 format(s): 302+251\n",
      "[info] Writing video metadata as JSON to: /data/notebooks/DATA-ISBAINE/Youtube/Temp data/WCDGdkSUL6o.info.json\n"
     ]
    },
    {
     "name": "stderr",
     "output_type": "stream",
     "text": [
      " 52%|█████▏    | 170/329 [03:12<02:40,  1.01s/it]DeprecationWarning: Support for Python version 3.6 has been deprecated and will break in future versions of yt-dlp! Please update to Python 3.7 or above\n"
     ]
    },
    {
     "name": "stdout",
     "output_type": "stream",
     "text": [
      "[youtube] WQFF3eX9fyE: Downloading webpage\n",
      "[youtube] WQFF3eX9fyE: Downloading android player API JSON\n",
      "[youtube] Downloading comment section API JSON\n",
      "[youtube] Downloading ~167 comments\n",
      "[youtube] Sorting comments by newest first\n",
      "[youtube] Downloading comment API JSON page 1 (0/167)\n",
      "[youtube]     Downloading comment API JSON reply thread 1 (14/167)\n",
      "[youtube]     Downloading comment API JSON reply thread 2 (21/167)\n",
      "[youtube] Downloading comment API JSON page 2 (28/167)\n",
      "[youtube]     Downloading comment API JSON reply thread 1 (29/167)\n",
      "[youtube]     Downloading comment API JSON reply thread 2 (39/167)\n",
      "[youtube]     Downloading comment API JSON reply thread 3 (53/167)\n",
      "[youtube] Downloading comment API JSON page 3 (58/167)\n",
      "[youtube]     Downloading comment API JSON reply thread 1 (60/167)\n",
      "[youtube]     Downloading comment API JSON reply thread 2 (62/167)\n",
      "[youtube]     Downloading comment API JSON reply thread 3 (66/167)\n",
      "[youtube]        Downloading comment replies API JSON page 1 (75/167)\n",
      "[youtube]     Downloading comment API JSON reply thread 4 (77/167)\n",
      "[youtube]     Downloading comment API JSON reply thread 5 (79/167)\n",
      "[youtube]     Downloading comment API JSON reply thread 6 (86/167)\n",
      "[youtube]     Downloading comment API JSON reply thread 7 (96/167)\n",
      "[youtube]     Downloading comment API JSON reply thread 8 (100/167)\n",
      "[youtube] Downloading comment API JSON page 4 (107/167)\n",
      "[youtube]     Downloading comment API JSON reply thread 1 (108/167)\n",
      "[youtube]        Downloading comment replies API JSON page 1 (118/167)\n",
      "[youtube]     Downloading comment API JSON reply thread 2 (131/167)\n",
      "[youtube]     Downloading comment API JSON reply thread 3 (133/167)\n",
      "[youtube]     Downloading comment API JSON reply thread 4 (137/167)\n",
      "[youtube]     Downloading comment API JSON reply thread 5 (150/167)\n",
      "[youtube] Extracted 156 comments\n",
      "[info] WQFF3eX9fyE: Downloading 1 format(s): 248+251\n",
      "[info] Writing video metadata as JSON to: /data/notebooks/DATA-ISBAINE/Youtube/Temp data/WQFF3eX9fyE.info.json\n"
     ]
    },
    {
     "name": "stderr",
     "output_type": "stream",
     "text": [
      " 52%|█████▏    | 171/329 [03:16<05:13,  1.98s/it]DeprecationWarning: Support for Python version 3.6 has been deprecated and will break in future versions of yt-dlp! Please update to Python 3.7 or above\n"
     ]
    },
    {
     "name": "stdout",
     "output_type": "stream",
     "text": [
      "[youtube] WynsNH-WxyA: Downloading webpage\n",
      "[youtube] WynsNH-WxyA: Downloading android player API JSON\n",
      "[youtube] Downloading comment section API JSON\n",
      "[youtube] Sorting comments by newest first\n",
      "[youtube] Downloading comment API JSON page 1 (0/0)\n",
      "[youtube] Extracted 0 comments\n",
      "[info] WynsNH-WxyA: Downloading 1 format(s): 248+251\n",
      "[info] Writing video metadata as JSON to: /data/notebooks/DATA-ISBAINE/Youtube/Temp data/WynsNH-WxyA.info.json\n"
     ]
    },
    {
     "name": "stderr",
     "output_type": "stream",
     "text": [
      " 52%|█████▏    | 172/329 [03:17<04:12,  1.61s/it]DeprecationWarning: Support for Python version 3.6 has been deprecated and will break in future versions of yt-dlp! Please update to Python 3.7 or above\n"
     ]
    },
    {
     "name": "stdout",
     "output_type": "stream",
     "text": [
      "[youtube] X6stGWFOmc4: Downloading webpage\n",
      "[youtube] X6stGWFOmc4: Downloading android player API JSON\n",
      "[youtube] Downloading comment section API JSON\n",
      "[youtube] Downloading ~33 comments\n",
      "[youtube] Sorting comments by newest first\n",
      "[youtube] Downloading comment API JSON page 1 (0/33)\n",
      "[youtube] Downloading comment API JSON page 2 (20/33)\n",
      "[youtube]     Downloading comment API JSON reply thread 1 (32/33)\n",
      "[youtube] Extracted 33 comments\n",
      "[info] X6stGWFOmc4: Downloading 1 format(s): 248+251\n",
      "[info] Writing video metadata as JSON to: /data/notebooks/DATA-ISBAINE/Youtube/Temp data/X6stGWFOmc4.info.json\n"
     ]
    },
    {
     "name": "stderr",
     "output_type": "stream",
     "text": [
      " 53%|█████▎    | 173/329 [03:18<04:08,  1.59s/it]DeprecationWarning: Support for Python version 3.6 has been deprecated and will break in future versions of yt-dlp! Please update to Python 3.7 or above\n"
     ]
    },
    {
     "name": "stdout",
     "output_type": "stream",
     "text": [
      "[youtube] XE4oRyB9W9o: Downloading webpage\n",
      "[youtube] XE4oRyB9W9o: Downloading android player API JSON\n",
      "[youtube] XE4oRyB9W9o: Downloading MPD manifest\n",
      "[youtube] XE4oRyB9W9o: Downloading MPD manifest\n",
      "[youtube] Downloading comment section API JSON\n",
      "[youtube] Sorting comments by newest first\n",
      "[youtube] Downloading comment API JSON page 1 (0/0)\n",
      "[youtube] Extracted 0 comments\n",
      "[info] XE4oRyB9W9o: Downloading 1 format(s): 248+251\n",
      "[info] Writing video metadata as JSON to: /data/notebooks/DATA-ISBAINE/Youtube/Temp data/XE4oRyB9W9o.info.json\n"
     ]
    },
    {
     "name": "stderr",
     "output_type": "stream",
     "text": [
      " 53%|█████▎    | 174/329 [03:19<03:51,  1.50s/it]DeprecationWarning: Support for Python version 3.6 has been deprecated and will break in future versions of yt-dlp! Please update to Python 3.7 or above\n"
     ]
    },
    {
     "name": "stdout",
     "output_type": "stream",
     "text": [
      "[youtube] XWsSnwvjt9o: Downloading webpage\n",
      "[youtube] XWsSnwvjt9o: Downloading android player API JSON\n",
      "[youtube] XWsSnwvjt9o: Downloading MPD manifest\n",
      "[youtube] XWsSnwvjt9o: Downloading MPD manifest\n",
      "[youtube] Downloading comment section API JSON\n",
      "[youtube] Downloading ~2 comments\n",
      "[youtube] Sorting comments by newest first\n",
      "[youtube] Downloading comment API JSON page 1 (0/2)\n",
      "[youtube] Extracted 2 comments\n",
      "[info] XWsSnwvjt9o: Downloading 1 format(s): 247+251\n",
      "[info] Writing video metadata as JSON to: /data/notebooks/DATA-ISBAINE/Youtube/Temp data/XWsSnwvjt9o.info.json\n"
     ]
    },
    {
     "name": "stderr",
     "output_type": "stream",
     "text": [
      " 53%|█████▎    | 175/329 [03:21<03:47,  1.47s/it]DeprecationWarning: Support for Python version 3.6 has been deprecated and will break in future versions of yt-dlp! Please update to Python 3.7 or above\n"
     ]
    },
    {
     "name": "stdout",
     "output_type": "stream",
     "text": [
      "[youtube] XcRkoJYa9hw: Downloading webpage\n",
      "[youtube] XcRkoJYa9hw: Downloading android player API JSON\n",
      "[youtube] Downloading comment section API JSON\n",
      "[youtube] Sorting comments by newest first\n",
      "[youtube] Downloading comment API JSON page 1 (0/0)\n",
      "[youtube] Extracted 0 comments\n",
      "[info] XcRkoJYa9hw: Downloading 1 format(s): 248+251\n",
      "[info] Writing video metadata as JSON to: /data/notebooks/DATA-ISBAINE/Youtube/Temp data/XcRkoJYa9hw.info.json\n"
     ]
    },
    {
     "name": "stderr",
     "output_type": "stream",
     "text": [
      " 53%|█████▎    | 176/329 [03:22<03:27,  1.36s/it]DeprecationWarning: Support for Python version 3.6 has been deprecated and will break in future versions of yt-dlp! Please update to Python 3.7 or above\n"
     ]
    },
    {
     "name": "stdout",
     "output_type": "stream",
     "text": [
      "[youtube] YZ_9Z38PTHk: Downloading webpage\n",
      "[youtube] YZ_9Z38PTHk: Downloading android player API JSON\n",
      "[youtube] YZ_9Z38PTHk: Downloading MPD manifest\n",
      "[youtube] YZ_9Z38PTHk: Downloading MPD manifest\n",
      "[youtube] Downloading comment section API JSON\n",
      "[youtube] Downloading ~1 comments\n",
      "[youtube] Sorting comments by newest first\n",
      "[youtube] Downloading comment API JSON page 1 (0/1)\n",
      "[youtube] Extracted 1 comments\n",
      "[info] YZ_9Z38PTHk: Downloading 1 format(s): 247+251\n",
      "[info] Writing video metadata as JSON to: /data/notebooks/DATA-ISBAINE/Youtube/Temp data/YZ_9Z38PTHk.info.json\n"
     ]
    },
    {
     "name": "stderr",
     "output_type": "stream",
     "text": [
      " 54%|█████▍    | 177/329 [03:23<03:25,  1.35s/it]DeprecationWarning: Support for Python version 3.6 has been deprecated and will break in future versions of yt-dlp! Please update to Python 3.7 or above\n"
     ]
    },
    {
     "name": "stdout",
     "output_type": "stream",
     "text": [
      "[youtube] Y_p3lXXaN9s: Downloading webpage\n",
      "[youtube] Y_p3lXXaN9s: Downloading android player API JSON\n",
      "[youtube] Downloading comment section API JSON\n",
      "[youtube] Downloading ~1 comments\n",
      "[youtube] Sorting comments by newest first\n",
      "[youtube] Downloading comment API JSON page 1 (0/1)\n",
      "[youtube] Extracted 1 comments\n",
      "[info] Y_p3lXXaN9s: Downloading 1 format(s): 248+251\n",
      "[info] Writing video metadata as JSON to: /data/notebooks/DATA-ISBAINE/Youtube/Temp data/Y_p3lXXaN9s.info.json\n"
     ]
    },
    {
     "name": "stderr",
     "output_type": "stream",
     "text": [
      " 54%|█████▍    | 178/329 [03:24<03:04,  1.22s/it]DeprecationWarning: Support for Python version 3.6 has been deprecated and will break in future versions of yt-dlp! Please update to Python 3.7 or above\n"
     ]
    },
    {
     "name": "stdout",
     "output_type": "stream",
     "text": [
      "[youtube] Yom12R31R34: Downloading webpage\n",
      "[youtube] Yom12R31R34: Downloading android player API JSON\n",
      "[youtube] Downloading comment section API JSON\n",
      "[youtube] Sorting comments by newest first\n",
      "[youtube] Downloading comment API JSON page 1 (0/0)\n",
      "[youtube] Extracted 0 comments\n",
      "[info] Yom12R31R34: Downloading 1 format(s): 248+251\n",
      "[info] Writing video metadata as JSON to: /data/notebooks/DATA-ISBAINE/Youtube/Temp data/Yom12R31R34.info.json\n"
     ]
    },
    {
     "name": "stderr",
     "output_type": "stream",
     "text": [
      " 54%|█████▍    | 179/329 [03:25<02:42,  1.08s/it]DeprecationWarning: Support for Python version 3.6 has been deprecated and will break in future versions of yt-dlp! Please update to Python 3.7 or above\n"
     ]
    },
    {
     "name": "stdout",
     "output_type": "stream",
     "text": [
      "[youtube] YpKurFFkmyk: Downloading webpage\n",
      "[youtube] YpKurFFkmyk: Downloading android player API JSON\n",
      "[youtube] YpKurFFkmyk: Downloading MPD manifest\n",
      "[youtube] YpKurFFkmyk: Downloading MPD manifest\n",
      "[youtube] Downloading comment section API JSON\n",
      "[youtube] Sorting comments by newest first\n",
      "[youtube] Downloading comment API JSON page 1 (0/0)\n",
      "[youtube] Extracted 0 comments\n",
      "[info] YpKurFFkmyk: Downloading 1 format(s): 302+251\n",
      "[info] Writing video metadata as JSON to: /data/notebooks/DATA-ISBAINE/Youtube/Temp data/YpKurFFkmyk.info.json\n"
     ]
    },
    {
     "name": "stderr",
     "output_type": "stream",
     "text": [
      " 55%|█████▍    | 180/329 [03:26<02:48,  1.13s/it]DeprecationWarning: Support for Python version 3.6 has been deprecated and will break in future versions of yt-dlp! Please update to Python 3.7 or above\n"
     ]
    },
    {
     "name": "stdout",
     "output_type": "stream",
     "text": [
      "[youtube] Yr5-cO5mUGs: Downloading webpage\n",
      "[youtube] Yr5-cO5mUGs: Downloading android player API JSON\n",
      "[youtube] Downloading comment section API JSON\n",
      "[youtube] Downloading ~2 comments\n",
      "[youtube] Sorting comments by newest first\n",
      "[youtube] Downloading comment API JSON page 1 (0/2)\n",
      "[youtube] Extracted 2 comments\n",
      "[info] Yr5-cO5mUGs: Downloading 1 format(s): 248+251\n",
      "[info] Writing video metadata as JSON to: /data/notebooks/DATA-ISBAINE/Youtube/Temp data/Yr5-cO5mUGs.info.json\n"
     ]
    },
    {
     "name": "stderr",
     "output_type": "stream",
     "text": [
      " 55%|█████▌    | 181/329 [03:27<02:41,  1.09s/it]DeprecationWarning: Support for Python version 3.6 has been deprecated and will break in future versions of yt-dlp! Please update to Python 3.7 or above\n"
     ]
    },
    {
     "name": "stdout",
     "output_type": "stream",
     "text": [
      "[youtube] Yt_cfOStf5U: Downloading webpage\n",
      "[youtube] Yt_cfOStf5U: Downloading android player API JSON\n",
      "[youtube] Downloading comment section API JSON\n",
      "[youtube] Downloading ~8 comments\n",
      "[youtube] Sorting comments by newest first\n",
      "[youtube] Downloading comment API JSON page 1 (0/8)\n",
      "[youtube]     Downloading comment API JSON reply thread 1 (4/8)\n",
      "[youtube] Extracted 8 comments\n",
      "[info] Yt_cfOStf5U: Downloading 1 format(s): 248+251\n",
      "[info] Writing video metadata as JSON to: /data/notebooks/DATA-ISBAINE/Youtube/Temp data/Yt_cfOStf5U.info.json\n"
     ]
    },
    {
     "name": "stderr",
     "output_type": "stream",
     "text": [
      " 55%|█████▌    | 182/329 [03:28<02:41,  1.10s/it]DeprecationWarning: Support for Python version 3.6 has been deprecated and will break in future versions of yt-dlp! Please update to Python 3.7 or above\n"
     ]
    },
    {
     "name": "stdout",
     "output_type": "stream",
     "text": [
      "[youtube] Z38x8Rg6Bdw: Downloading webpage\n",
      "[youtube] Z38x8Rg6Bdw: Downloading android player API JSON\n",
      "[youtube] Z38x8Rg6Bdw: Downloading MPD manifest\n",
      "[youtube] Z38x8Rg6Bdw: Downloading MPD manifest\n",
      "[youtube] Downloading comment section API JSON\n",
      "[youtube] Sorting comments by newest first\n",
      "[youtube] Downloading comment API JSON page 1 (0/0)\n",
      "[youtube] Extracted 0 comments\n",
      "[info] Z38x8Rg6Bdw: Downloading 1 format(s): 248+251\n",
      "[info] Writing video metadata as JSON to: /data/notebooks/DATA-ISBAINE/Youtube/Temp data/Z38x8Rg6Bdw.info.json\n"
     ]
    },
    {
     "name": "stderr",
     "output_type": "stream",
     "text": [
      " 56%|█████▌    | 183/329 [03:30<02:47,  1.15s/it]DeprecationWarning: Support for Python version 3.6 has been deprecated and will break in future versions of yt-dlp! Please update to Python 3.7 or above\n"
     ]
    },
    {
     "name": "stdout",
     "output_type": "stream",
     "text": [
      "[youtube] Z7XtVDfyYYE: Downloading webpage\n",
      "[youtube] Z7XtVDfyYYE: Downloading android player API JSON\n",
      "[youtube] Z7XtVDfyYYE: Downloading MPD manifest\n",
      "[youtube] Z7XtVDfyYYE: Downloading MPD manifest\n",
      "[youtube] Downloading comment section API JSON\n",
      "[youtube] Downloading ~1 comments\n",
      "[youtube] Sorting comments by newest first\n",
      "[youtube] Downloading comment API JSON page 1 (0/1)\n",
      "[youtube] Extracted 1 comments\n",
      "[info] Z7XtVDfyYYE: Downloading 1 format(s): 248+251\n",
      "[info] Writing video metadata as JSON to: /data/notebooks/DATA-ISBAINE/Youtube/Temp data/Z7XtVDfyYYE.info.json\n"
     ]
    },
    {
     "name": "stderr",
     "output_type": "stream",
     "text": [
      " 56%|█████▌    | 184/329 [03:31<02:58,  1.23s/it]DeprecationWarning: Support for Python version 3.6 has been deprecated and will break in future versions of yt-dlp! Please update to Python 3.7 or above\n"
     ]
    },
    {
     "name": "stdout",
     "output_type": "stream",
     "text": [
      "[youtube] ZF0AJcEVYSQ: Downloading webpage\n",
      "[youtube] ZF0AJcEVYSQ: Downloading android player API JSON\n",
      "[youtube] Downloading comment section API JSON\n",
      "[youtube] Sorting comments by newest first\n",
      "[youtube] Downloading comment API JSON page 1 (0/0)\n",
      "[youtube] Extracted 0 comments\n",
      "[info] ZF0AJcEVYSQ: Downloading 1 format(s): 247+251\n",
      "[info] Writing video metadata as JSON to: /data/notebooks/DATA-ISBAINE/Youtube/Temp data/ZF0AJcEVYSQ.info.json\n"
     ]
    },
    {
     "name": "stderr",
     "output_type": "stream",
     "text": [
      " 56%|█████▌    | 185/329 [03:32<02:39,  1.11s/it]DeprecationWarning: Support for Python version 3.6 has been deprecated and will break in future versions of yt-dlp! Please update to Python 3.7 or above\n"
     ]
    },
    {
     "name": "stdout",
     "output_type": "stream",
     "text": [
      "[youtube] ZQoOtgteDIA: Downloading webpage\n",
      "[youtube] ZQoOtgteDIA: Downloading android player API JSON\n",
      "[youtube] ZQoOtgteDIA: Downloading MPD manifest\n",
      "[youtube] ZQoOtgteDIA: Downloading MPD manifest\n",
      "[youtube] Downloading comment section API JSON\n",
      "[youtube] Downloading ~1 comments\n",
      "[youtube] Sorting comments by newest first\n",
      "[youtube] Downloading comment API JSON page 1 (0/1)\n",
      "[youtube] Extracted 1 comments\n",
      "[info] ZQoOtgteDIA: Downloading 1 format(s): 247+251\n",
      "[info] Writing video metadata as JSON to: /data/notebooks/DATA-ISBAINE/Youtube/Temp data/ZQoOtgteDIA.info.json\n"
     ]
    },
    {
     "name": "stderr",
     "output_type": "stream",
     "text": [
      " 57%|█████▋    | 186/329 [03:33<02:53,  1.21s/it]DeprecationWarning: Support for Python version 3.6 has been deprecated and will break in future versions of yt-dlp! Please update to Python 3.7 or above\n"
     ]
    },
    {
     "name": "stdout",
     "output_type": "stream",
     "text": [
      "[youtube] Zf2deOSC5x8: Downloading webpage\n",
      "[youtube] Zf2deOSC5x8: Downloading android player API JSON\n",
      "[youtube] Downloading comment section API JSON\n",
      "[youtube] Sorting comments by newest first\n",
      "[youtube] Downloading comment API JSON page 1 (0/0)\n",
      "[youtube] Extracted 0 comments\n",
      "[info] Zf2deOSC5x8: Downloading 1 format(s): 247+251\n",
      "[info] Writing video metadata as JSON to: /data/notebooks/DATA-ISBAINE/Youtube/Temp data/Zf2deOSC5x8.info.json\n"
     ]
    },
    {
     "name": "stderr",
     "output_type": "stream",
     "text": [
      " 57%|█████▋    | 187/329 [03:34<02:30,  1.06s/it]DeprecationWarning: Support for Python version 3.6 has been deprecated and will break in future versions of yt-dlp! Please update to Python 3.7 or above\n"
     ]
    },
    {
     "name": "stdout",
     "output_type": "stream",
     "text": [
      "[youtube] ZqzrtCJFtxQ: Downloading webpage\n",
      "[youtube] ZqzrtCJFtxQ: Downloading android player API JSON\n",
      "[youtube] ZqzrtCJFtxQ: Downloading MPD manifest\n",
      "[youtube] ZqzrtCJFtxQ: Downloading MPD manifest\n",
      "[youtube] Downloading comment section API JSON\n",
      "[youtube] Sorting comments by newest first\n",
      "[youtube] Downloading comment API JSON page 1 (0/0)\n",
      "[youtube] Extracted 0 comments\n",
      "[info] ZqzrtCJFtxQ: Downloading 1 format(s): 303+140\n",
      "[info] Writing video metadata as JSON to: /data/notebooks/DATA-ISBAINE/Youtube/Temp data/ZqzrtCJFtxQ.info.json\n"
     ]
    },
    {
     "name": "stderr",
     "output_type": "stream",
     "text": [
      " 57%|█████▋    | 188/329 [03:35<02:39,  1.13s/it]DeprecationWarning: Support for Python version 3.6 has been deprecated and will break in future versions of yt-dlp! Please update to Python 3.7 or above\n"
     ]
    },
    {
     "name": "stdout",
     "output_type": "stream",
     "text": [
      "[youtube] ZxWjMDMNP_E: Downloading webpage\n",
      "[youtube] ZxWjMDMNP_E: Downloading android player API JSON\n",
      "[youtube] ZxWjMDMNP_E: Downloading MPD manifest\n",
      "[youtube] ZxWjMDMNP_E: Downloading MPD manifest\n",
      "[youtube] Downloading comment section API JSON\n",
      "[youtube] Sorting comments by newest first\n",
      "[youtube] Downloading comment API JSON page 1 (0/0)\n",
      "[youtube] Extracted 0 comments\n",
      "[info] ZxWjMDMNP_E: Downloading 1 format(s): 248+251\n",
      "[info] Writing video metadata as JSON to: /data/notebooks/DATA-ISBAINE/Youtube/Temp data/ZxWjMDMNP_E.info.json\n"
     ]
    },
    {
     "name": "stderr",
     "output_type": "stream",
     "text": [
      " 57%|█████▋    | 189/329 [03:36<02:42,  1.16s/it]DeprecationWarning: Support for Python version 3.6 has been deprecated and will break in future versions of yt-dlp! Please update to Python 3.7 or above\n"
     ]
    },
    {
     "name": "stdout",
     "output_type": "stream",
     "text": [
      "[youtube] ZysnPElIKc4: Downloading webpage\n",
      "[youtube] ZysnPElIKc4: Downloading android player API JSON\n",
      "[youtube] Downloading comment section API JSON\n",
      "[youtube] Sorting comments by newest first\n",
      "[youtube] Downloading comment API JSON page 1 (0/0)\n",
      "[youtube] Extracted 0 comments\n",
      "[info] ZysnPElIKc4: Downloading 1 format(s): 302+251\n",
      "[info] Writing video metadata as JSON to: /data/notebooks/DATA-ISBAINE/Youtube/Temp data/ZysnPElIKc4.info.json\n"
     ]
    },
    {
     "name": "stderr",
     "output_type": "stream",
     "text": [
      " 58%|█████▊    | 190/329 [03:37<02:29,  1.08s/it]DeprecationWarning: Support for Python version 3.6 has been deprecated and will break in future versions of yt-dlp! Please update to Python 3.7 or above\n"
     ]
    },
    {
     "name": "stdout",
     "output_type": "stream",
     "text": [
      "[youtube] _5dK3uZ2TWM: Downloading webpage\n",
      "[youtube] _5dK3uZ2TWM: Downloading android player API JSON\n",
      "[youtube] _5dK3uZ2TWM: Downloading MPD manifest\n",
      "[youtube] _5dK3uZ2TWM: Downloading MPD manifest\n",
      "[youtube] Downloading comment section API JSON\n",
      "[youtube] Sorting comments by newest first\n",
      "[youtube] Downloading comment API JSON page 1 (0/0)\n",
      "[youtube] Extracted 0 comments\n",
      "[info] _5dK3uZ2TWM: Downloading 1 format(s): 248+251\n",
      "[info] Writing video metadata as JSON to: /data/notebooks/DATA-ISBAINE/Youtube/Temp data/_5dK3uZ2TWM.info.json\n"
     ]
    },
    {
     "name": "stderr",
     "output_type": "stream",
     "text": [
      " 58%|█████▊    | 191/329 [03:39<02:31,  1.10s/it]DeprecationWarning: Support for Python version 3.6 has been deprecated and will break in future versions of yt-dlp! Please update to Python 3.7 or above\n"
     ]
    },
    {
     "name": "stdout",
     "output_type": "stream",
     "text": [
      "[youtube] _oKjwdq09No: Downloading webpage\n",
      "[youtube] _oKjwdq09No: Downloading android player API JSON\n",
      "[youtube] _oKjwdq09No: Downloading MPD manifest\n",
      "[youtube] _oKjwdq09No: Downloading MPD manifest\n",
      "[youtube] Downloading comment section API JSON\n"
     ]
    },
    {
     "name": "stderr",
     "output_type": "stream",
     "text": [
      "WARNING: [youtube] _oKjwdq09No: Youtube said: Comments are turned off. \n"
     ]
    },
    {
     "name": "stdout",
     "output_type": "stream",
     "text": [
      "[youtube] Extracted 0 comments\n",
      "[info] _oKjwdq09No: Downloading 1 format(s): 248+251\n",
      "[info] Writing video metadata as JSON to: /data/notebooks/DATA-ISBAINE/Youtube/Temp data/_oKjwdq09No.info.json\n"
     ]
    },
    {
     "name": "stderr",
     "output_type": "stream",
     "text": [
      " 58%|█████▊    | 192/329 [03:40<02:35,  1.13s/it]DeprecationWarning: Support for Python version 3.6 has been deprecated and will break in future versions of yt-dlp! Please update to Python 3.7 or above\n"
     ]
    },
    {
     "name": "stdout",
     "output_type": "stream",
     "text": [
      "[youtube] aF-7796iUfU: Downloading webpage\n",
      "[youtube] aF-7796iUfU: Downloading android player API JSON\n",
      "[youtube] aF-7796iUfU: Downloading MPD manifest\n",
      "[youtube] aF-7796iUfU: Downloading MPD manifest\n",
      "[youtube] Downloading comment section API JSON\n",
      "[youtube] Sorting comments by newest first\n",
      "[youtube] Downloading comment API JSON page 1 (0/0)\n",
      "[youtube] Extracted 0 comments\n",
      "[info] aF-7796iUfU: Downloading 1 format(s): 302+251\n",
      "[info] Writing video metadata as JSON to: /data/notebooks/DATA-ISBAINE/Youtube/Temp data/aF-7796iUfU.info.json\n"
     ]
    },
    {
     "name": "stderr",
     "output_type": "stream",
     "text": [
      " 59%|█████▊    | 193/329 [03:41<02:34,  1.14s/it]DeprecationWarning: Support for Python version 3.6 has been deprecated and will break in future versions of yt-dlp! Please update to Python 3.7 or above\n"
     ]
    },
    {
     "name": "stdout",
     "output_type": "stream",
     "text": [
      "[youtube] aFaWAHvJnhI: Downloading webpage\n",
      "[youtube] aFaWAHvJnhI: Downloading android player API JSON\n",
      "[youtube] Downloading comment section API JSON\n",
      "[youtube] Sorting comments by newest first\n",
      "[youtube] Downloading comment API JSON page 1 (0/0)\n",
      "[youtube] Extracted 0 comments\n",
      "[info] aFaWAHvJnhI: Downloading 1 format(s): 248+251\n",
      "[info] Writing video metadata as JSON to: /data/notebooks/DATA-ISBAINE/Youtube/Temp data/aFaWAHvJnhI.info.json\n"
     ]
    },
    {
     "name": "stderr",
     "output_type": "stream",
     "text": [
      " 59%|█████▉    | 194/329 [03:42<02:19,  1.03s/it]DeprecationWarning: Support for Python version 3.6 has been deprecated and will break in future versions of yt-dlp! Please update to Python 3.7 or above\n"
     ]
    },
    {
     "name": "stdout",
     "output_type": "stream",
     "text": [
      "[youtube] ae4415P-jAo: Downloading webpage\n",
      "[youtube] ae4415P-jAo: Downloading android player API JSON\n",
      "[youtube] Downloading comment section API JSON\n",
      "[youtube] Sorting comments by newest first\n",
      "[youtube] Downloading comment API JSON page 1 (0/0)\n",
      "[youtube] Extracted 0 comments\n",
      "[info] ae4415P-jAo: Downloading 1 format(s): 247+251\n",
      "[info] Writing video metadata as JSON to: /data/notebooks/DATA-ISBAINE/Youtube/Temp data/ae4415P-jAo.info.json\n"
     ]
    },
    {
     "name": "stderr",
     "output_type": "stream",
     "text": [
      " 59%|█████▉    | 195/329 [03:42<02:05,  1.06it/s]DeprecationWarning: Support for Python version 3.6 has been deprecated and will break in future versions of yt-dlp! Please update to Python 3.7 or above\n"
     ]
    },
    {
     "name": "stdout",
     "output_type": "stream",
     "text": [
      "[youtube] afEaGpwZmQU: Downloading webpage\n",
      "[youtube] afEaGpwZmQU: Downloading android player API JSON\n",
      "[youtube] Downloading comment section API JSON\n",
      "[youtube] Downloading ~15 comments\n",
      "[youtube] Sorting comments by newest first\n",
      "[youtube] Downloading comment API JSON page 1 (0/15)\n",
      "[youtube]     Downloading comment API JSON reply thread 1 (3/15)\n",
      "[youtube] Extracted 15 comments\n",
      "[info] afEaGpwZmQU: Downloading 1 format(s): 248+251\n",
      "[info] Writing video metadata as JSON to: /data/notebooks/DATA-ISBAINE/Youtube/Temp data/afEaGpwZmQU.info.json\n"
     ]
    },
    {
     "name": "stderr",
     "output_type": "stream",
     "text": [
      " 60%|█████▉    | 196/329 [03:44<02:15,  1.02s/it]DeprecationWarning: Support for Python version 3.6 has been deprecated and will break in future versions of yt-dlp! Please update to Python 3.7 or above\n"
     ]
    },
    {
     "name": "stdout",
     "output_type": "stream",
     "text": [
      "[youtube] auSf2dMMLdA: Downloading webpage\n",
      "[youtube] auSf2dMMLdA: Downloading android player API JSON\n",
      "[youtube] auSf2dMMLdA: Downloading MPD manifest\n",
      "[youtube] auSf2dMMLdA: Downloading MPD manifest\n",
      "[youtube] Downloading comment section API JSON\n",
      "[youtube] Downloading ~2 comments\n",
      "[youtube] Sorting comments by newest first\n",
      "[youtube] Downloading comment API JSON page 1 (0/2)\n",
      "[youtube]     Downloading comment API JSON reply thread 1 (1/2)\n",
      "[youtube] Extracted 2 comments\n",
      "[info] auSf2dMMLdA: Downloading 1 format(s): 247+251\n",
      "[info] Writing video metadata as JSON to: /data/notebooks/DATA-ISBAINE/Youtube/Temp data/auSf2dMMLdA.info.json\n"
     ]
    },
    {
     "name": "stderr",
     "output_type": "stream",
     "text": [
      " 60%|█████▉    | 197/329 [03:45<02:28,  1.12s/it]DeprecationWarning: Support for Python version 3.6 has been deprecated and will break in future versions of yt-dlp! Please update to Python 3.7 or above\n"
     ]
    },
    {
     "name": "stdout",
     "output_type": "stream",
     "text": [
      "[youtube] b4Ee_u7JEI0: Downloading webpage\n",
      "[youtube] b4Ee_u7JEI0: Downloading android player API JSON\n",
      "[youtube] b4Ee_u7JEI0: Downloading MPD manifest\n",
      "[youtube] b4Ee_u7JEI0: Downloading MPD manifest\n",
      "[youtube] Downloading comment section API JSON\n",
      "[youtube] Downloading ~1 comments\n",
      "[youtube] Sorting comments by newest first\n",
      "[youtube] Downloading comment API JSON page 1 (0/1)\n",
      "[youtube] Extracted 1 comments\n",
      "[info] b4Ee_u7JEI0: Downloading 1 format(s): 248+251\n",
      "[info] Writing video metadata as JSON to: /data/notebooks/DATA-ISBAINE/Youtube/Temp data/b4Ee_u7JEI0.info.json\n"
     ]
    },
    {
     "name": "stderr",
     "output_type": "stream",
     "text": [
      " 60%|██████    | 198/329 [03:46<02:34,  1.18s/it]DeprecationWarning: Support for Python version 3.6 has been deprecated and will break in future versions of yt-dlp! Please update to Python 3.7 or above\n"
     ]
    },
    {
     "name": "stdout",
     "output_type": "stream",
     "text": [
      "[youtube] b4gZGM3AUZ8: Downloading webpage\n",
      "[youtube] b4gZGM3AUZ8: Downloading android player API JSON\n",
      "[youtube] b4gZGM3AUZ8: Downloading MPD manifest\n",
      "[youtube] b4gZGM3AUZ8: Downloading MPD manifest\n",
      "[youtube] Downloading comment section API JSON\n",
      "[youtube] Downloading ~1 comments\n",
      "[youtube] Sorting comments by newest first\n",
      "[youtube] Downloading comment API JSON page 1 (0/1)\n",
      "[youtube] Extracted 1 comments\n",
      "[info] b4gZGM3AUZ8: Downloading 1 format(s): 248+251\n",
      "[info] Writing video metadata as JSON to: /data/notebooks/DATA-ISBAINE/Youtube/Temp data/b4gZGM3AUZ8.info.json\n"
     ]
    },
    {
     "name": "stderr",
     "output_type": "stream",
     "text": [
      " 60%|██████    | 199/329 [03:48<02:41,  1.24s/it]DeprecationWarning: Support for Python version 3.6 has been deprecated and will break in future versions of yt-dlp! Please update to Python 3.7 or above\n"
     ]
    },
    {
     "name": "stdout",
     "output_type": "stream",
     "text": [
      "[youtube] bGnXelBc9qQ: Downloading webpage\n",
      "[youtube] bGnXelBc9qQ: Downloading android player API JSON\n",
      "[youtube] Downloading comment section API JSON\n",
      "[youtube] Sorting comments by newest first\n",
      "[youtube] Downloading comment API JSON page 1 (0/0)\n",
      "[youtube] Extracted 0 comments\n",
      "[info] bGnXelBc9qQ: Downloading 1 format(s): 302+251\n",
      "[info] Writing video metadata as JSON to: /data/notebooks/DATA-ISBAINE/Youtube/Temp data/bGnXelBc9qQ.info.json\n"
     ]
    },
    {
     "name": "stderr",
     "output_type": "stream",
     "text": [
      " 61%|██████    | 200/329 [03:49<02:30,  1.16s/it]DeprecationWarning: Support for Python version 3.6 has been deprecated and will break in future versions of yt-dlp! Please update to Python 3.7 or above\n"
     ]
    },
    {
     "name": "stdout",
     "output_type": "stream",
     "text": [
      "[youtube] bRXAbV9xH5o: Downloading webpage\n",
      "[youtube] bRXAbV9xH5o: Downloading android player API JSON\n",
      "[youtube] Downloading comment section API JSON\n",
      "[youtube] Sorting comments by newest first\n",
      "[youtube] Downloading comment API JSON page 1 (0/0)\n",
      "[youtube] Extracted 0 comments\n",
      "[info] bRXAbV9xH5o: Downloading 1 format(s): 247+251\n",
      "[info] Writing video metadata as JSON to: /data/notebooks/DATA-ISBAINE/Youtube/Temp data/bRXAbV9xH5o.info.json\n"
     ]
    },
    {
     "name": "stderr",
     "output_type": "stream",
     "text": [
      " 61%|██████    | 201/329 [03:49<02:17,  1.08s/it]DeprecationWarning: Support for Python version 3.6 has been deprecated and will break in future versions of yt-dlp! Please update to Python 3.7 or above\n"
     ]
    },
    {
     "name": "stdout",
     "output_type": "stream",
     "text": [
      "[youtube] bZPALfqFhac: Downloading webpage\n",
      "[youtube] bZPALfqFhac: Downloading android player API JSON\n",
      "[youtube] bZPALfqFhac: Downloading MPD manifest\n",
      "[youtube] bZPALfqFhac: Downloading MPD manifest\n",
      "[youtube] Downloading comment section API JSON\n",
      "[youtube] Sorting comments by newest first\n",
      "[youtube] Downloading comment API JSON page 1 (0/0)\n",
      "[youtube] Extracted 0 comments\n",
      "[info] bZPALfqFhac: Downloading 1 format(s): 248+251\n",
      "[info] Writing video metadata as JSON to: /data/notebooks/DATA-ISBAINE/Youtube/Temp data/bZPALfqFhac.info.json\n"
     ]
    },
    {
     "name": "stderr",
     "output_type": "stream",
     "text": [
      " 61%|██████▏   | 202/329 [03:51<02:23,  1.13s/it]DeprecationWarning: Support for Python version 3.6 has been deprecated and will break in future versions of yt-dlp! Please update to Python 3.7 or above\n"
     ]
    },
    {
     "name": "stdout",
     "output_type": "stream",
     "text": [
      "[youtube] bpW6J7-xdrk: Downloading webpage\n",
      "[youtube] bpW6J7-xdrk: Downloading android player API JSON\n",
      "[youtube] bpW6J7-xdrk: Downloading MPD manifest\n",
      "[youtube] bpW6J7-xdrk: Downloading MPD manifest\n",
      "[youtube] Downloading comment section API JSON\n"
     ]
    },
    {
     "name": "stderr",
     "output_type": "stream",
     "text": [
      "WARNING: [youtube] bpW6J7-xdrk: Youtube said: Comments are turned off. \n"
     ]
    },
    {
     "name": "stdout",
     "output_type": "stream",
     "text": [
      "[youtube] Extracted 0 comments\n",
      "[info] bpW6J7-xdrk: Downloading 1 format(s): 248+251\n",
      "[info] Writing video metadata as JSON to: /data/notebooks/DATA-ISBAINE/Youtube/Temp data/bpW6J7-xdrk.info.json\n"
     ]
    },
    {
     "name": "stderr",
     "output_type": "stream",
     "text": [
      " 62%|██████▏   | 203/329 [03:52<02:23,  1.14s/it]DeprecationWarning: Support for Python version 3.6 has been deprecated and will break in future versions of yt-dlp! Please update to Python 3.7 or above\n"
     ]
    },
    {
     "name": "stdout",
     "output_type": "stream",
     "text": [
      "[youtube] bv09ivuxzuw: Downloading webpage\n",
      "[youtube] bv09ivuxzuw: Downloading android player API JSON\n",
      "[youtube] bv09ivuxzuw: Downloading MPD manifest\n",
      "[youtube] bv09ivuxzuw: Downloading MPD manifest\n",
      "[youtube] Downloading comment section API JSON\n",
      "[youtube] Sorting comments by newest first\n",
      "[youtube] Downloading comment API JSON page 1 (0/0)\n",
      "[youtube] Extracted 0 comments\n",
      "[info] bv09ivuxzuw: Downloading 1 format(s): 302+251\n",
      "[info] Writing video metadata as JSON to: /data/notebooks/DATA-ISBAINE/Youtube/Temp data/bv09ivuxzuw.info.json\n"
     ]
    },
    {
     "name": "stderr",
     "output_type": "stream",
     "text": [
      " 62%|██████▏   | 204/329 [03:53<02:27,  1.18s/it]DeprecationWarning: Support for Python version 3.6 has been deprecated and will break in future versions of yt-dlp! Please update to Python 3.7 or above\n"
     ]
    },
    {
     "name": "stdout",
     "output_type": "stream",
     "text": [
      "[youtube] c4oVOs2d8MY: Downloading webpage\n",
      "[youtube] c4oVOs2d8MY: Downloading android player API JSON\n",
      "[youtube] Downloading comment section API JSON\n",
      "[youtube] Downloading ~1 comments\n",
      "[youtube] Sorting comments by newest first\n",
      "[youtube] Downloading comment API JSON page 1 (0/1)\n",
      "[youtube] Extracted 1 comments\n",
      "[info] c4oVOs2d8MY: Downloading 1 format(s): 302+251\n",
      "[info] Writing video metadata as JSON to: /data/notebooks/DATA-ISBAINE/Youtube/Temp data/c4oVOs2d8MY.info.json\n"
     ]
    },
    {
     "name": "stderr",
     "output_type": "stream",
     "text": [
      " 62%|██████▏   | 205/329 [03:54<02:18,  1.12s/it]DeprecationWarning: Support for Python version 3.6 has been deprecated and will break in future versions of yt-dlp! Please update to Python 3.7 or above\n"
     ]
    },
    {
     "name": "stdout",
     "output_type": "stream",
     "text": [
      "[youtube] ccL70yIt1bg: Downloading webpage\n",
      "[youtube] ccL70yIt1bg: Downloading android player API JSON\n",
      "[youtube] Downloading comment section API JSON\n",
      "[youtube] Downloading ~6 comments\n",
      "[youtube] Sorting comments by newest first\n",
      "[youtube] Downloading comment API JSON page 1 (0/6)\n",
      "[youtube] Extracted 6 comments\n",
      "[info] ccL70yIt1bg: Downloading 1 format(s): 248+251\n",
      "[info] Writing video metadata as JSON to: /data/notebooks/DATA-ISBAINE/Youtube/Temp data/ccL70yIt1bg.info.json\n"
     ]
    },
    {
     "name": "stderr",
     "output_type": "stream",
     "text": [
      " 63%|██████▎   | 206/329 [03:55<02:17,  1.12s/it]DeprecationWarning: Support for Python version 3.6 has been deprecated and will break in future versions of yt-dlp! Please update to Python 3.7 or above\n"
     ]
    },
    {
     "name": "stdout",
     "output_type": "stream",
     "text": [
      "[youtube] cn3sbYkZ-VU: Downloading webpage\n",
      "[youtube] cn3sbYkZ-VU: Downloading android player API JSON\n",
      "[youtube] cn3sbYkZ-VU: Downloading MPD manifest\n",
      "[youtube] cn3sbYkZ-VU: Downloading MPD manifest\n",
      "[youtube] Downloading comment section API JSON\n",
      "[youtube] Sorting comments by newest first\n",
      "[youtube] Downloading comment API JSON page 1 (0/0)\n",
      "[youtube] Extracted 0 comments\n",
      "[info] cn3sbYkZ-VU: Downloading 1 format(s): 248+251\n",
      "[info] Writing video metadata as JSON to: /data/notebooks/DATA-ISBAINE/Youtube/Temp data/cn3sbYkZ-VU.info.json\n"
     ]
    },
    {
     "name": "stderr",
     "output_type": "stream",
     "text": [
      " 63%|██████▎   | 207/329 [03:56<02:18,  1.14s/it]DeprecationWarning: Support for Python version 3.6 has been deprecated and will break in future versions of yt-dlp! Please update to Python 3.7 or above\n"
     ]
    },
    {
     "name": "stdout",
     "output_type": "stream",
     "text": [
      "[youtube] coVhBNGn4C8: Downloading webpage\n",
      "[youtube] coVhBNGn4C8: Downloading android player API JSON\n",
      "[youtube] coVhBNGn4C8: Downloading MPD manifest\n",
      "[youtube] coVhBNGn4C8: Downloading MPD manifest\n",
      "[youtube] Downloading comment section API JSON\n",
      "[youtube] Sorting comments by newest first\n",
      "[youtube] Downloading comment API JSON page 1 (0/0)\n",
      "[youtube] Extracted 0 comments\n",
      "[info] coVhBNGn4C8: Downloading 1 format(s): 248+251\n",
      "[info] Writing video metadata as JSON to: /data/notebooks/DATA-ISBAINE/Youtube/Temp data/coVhBNGn4C8.info.json\n"
     ]
    },
    {
     "name": "stderr",
     "output_type": "stream",
     "text": [
      " 63%|██████▎   | 208/329 [03:58<02:22,  1.17s/it]DeprecationWarning: Support for Python version 3.6 has been deprecated and will break in future versions of yt-dlp! Please update to Python 3.7 or above\n"
     ]
    },
    {
     "name": "stdout",
     "output_type": "stream",
     "text": [
      "[youtube] cqm8tr2Bi2s: Downloading webpage\n",
      "[youtube] cqm8tr2Bi2s: Downloading android player API JSON\n",
      "[youtube] cqm8tr2Bi2s: Downloading MPD manifest\n",
      "[youtube] cqm8tr2Bi2s: Downloading MPD manifest\n",
      "[youtube] Downloading comment section API JSON\n",
      "[youtube] Sorting comments by newest first\n",
      "[youtube] Downloading comment API JSON page 1 (0/0)\n",
      "[youtube] Extracted 0 comments\n",
      "[info] cqm8tr2Bi2s: Downloading 1 format(s): 248+251\n",
      "[info] Writing video metadata as JSON to: /data/notebooks/DATA-ISBAINE/Youtube/Temp data/cqm8tr2Bi2s.info.json\n"
     ]
    },
    {
     "name": "stderr",
     "output_type": "stream",
     "text": [
      " 64%|██████▎   | 209/329 [03:59<02:30,  1.25s/it]DeprecationWarning: Support for Python version 3.6 has been deprecated and will break in future versions of yt-dlp! Please update to Python 3.7 or above\n"
     ]
    },
    {
     "name": "stdout",
     "output_type": "stream",
     "text": [
      "[youtube] cvpBnUdvp0U: Downloading webpage\n",
      "[youtube] cvpBnUdvp0U: Downloading android player API JSON\n",
      "[youtube] Downloading comment section API JSON\n",
      "[youtube] Sorting comments by newest first\n",
      "[youtube] Downloading comment API JSON page 1 (0/0)\n",
      "[youtube] Extracted 0 comments\n",
      "[info] cvpBnUdvp0U: Downloading 1 format(s): 248+251\n",
      "[info] Writing video metadata as JSON to: /data/notebooks/DATA-ISBAINE/Youtube/Temp data/cvpBnUdvp0U.info.json\n"
     ]
    },
    {
     "name": "stderr",
     "output_type": "stream",
     "text": [
      " 64%|██████▍   | 210/329 [04:00<02:12,  1.11s/it]DeprecationWarning: Support for Python version 3.6 has been deprecated and will break in future versions of yt-dlp! Please update to Python 3.7 or above\n"
     ]
    },
    {
     "name": "stdout",
     "output_type": "stream",
     "text": [
      "[youtube] cxgAniujQbI: Downloading webpage\n",
      "[youtube] cxgAniujQbI: Downloading android player API JSON\n",
      "[youtube] cxgAniujQbI: Downloading MPD manifest\n",
      "[youtube] cxgAniujQbI: Downloading MPD manifest\n",
      "[youtube] Downloading comment section API JSON\n",
      "[youtube] Sorting comments by newest first\n",
      "[youtube] Downloading comment API JSON page 1 (0/0)\n",
      "[youtube] Extracted 0 comments\n",
      "[info] cxgAniujQbI: Downloading 1 format(s): 248+251\n",
      "[info] Writing video metadata as JSON to: /data/notebooks/DATA-ISBAINE/Youtube/Temp data/cxgAniujQbI.info.json\n"
     ]
    },
    {
     "name": "stderr",
     "output_type": "stream",
     "text": [
      " 64%|██████▍   | 211/329 [04:01<02:16,  1.15s/it]DeprecationWarning: Support for Python version 3.6 has been deprecated and will break in future versions of yt-dlp! Please update to Python 3.7 or above\n"
     ]
    },
    {
     "name": "stdout",
     "output_type": "stream",
     "text": [
      "[youtube] d-qSf28o6AM: Downloading webpage\n",
      "[youtube] d-qSf28o6AM: Downloading android player API JSON\n",
      "[youtube] Downloading comment section API JSON\n",
      "[youtube] Sorting comments by newest first\n",
      "[youtube] Downloading comment API JSON page 1 (0/0)\n",
      "[youtube] Extracted 0 comments\n",
      "[info] d-qSf28o6AM: Downloading 1 format(s): 248+251\n",
      "[info] Writing video metadata as JSON to: /data/notebooks/DATA-ISBAINE/Youtube/Temp data/d-qSf28o6AM.info.json\n"
     ]
    },
    {
     "name": "stderr",
     "output_type": "stream",
     "text": [
      " 64%|██████▍   | 212/329 [04:02<02:04,  1.06s/it]DeprecationWarning: Support for Python version 3.6 has been deprecated and will break in future versions of yt-dlp! Please update to Python 3.7 or above\n"
     ]
    },
    {
     "name": "stdout",
     "output_type": "stream",
     "text": [
      "[youtube] dTUEHVuQ25w: Downloading webpage\n",
      "[youtube] dTUEHVuQ25w: Downloading android player API JSON\n",
      "[youtube] dTUEHVuQ25w: Downloading MPD manifest\n",
      "[youtube] dTUEHVuQ25w: Downloading MPD manifest\n",
      "[youtube] Downloading comment section API JSON\n",
      "[youtube] Downloading ~2 comments\n",
      "[youtube] Sorting comments by newest first\n",
      "[youtube] Downloading comment API JSON page 1 (0/2)\n",
      "[youtube] Extracted 2 comments\n",
      "[info] dTUEHVuQ25w: Downloading 1 format(s): 248+251\n",
      "[info] Writing video metadata as JSON to: /data/notebooks/DATA-ISBAINE/Youtube/Temp data/dTUEHVuQ25w.info.json\n"
     ]
    },
    {
     "name": "stderr",
     "output_type": "stream",
     "text": [
      " 65%|██████▍   | 213/329 [04:03<02:15,  1.17s/it]DeprecationWarning: Support for Python version 3.6 has been deprecated and will break in future versions of yt-dlp! Please update to Python 3.7 or above\n"
     ]
    },
    {
     "name": "stdout",
     "output_type": "stream",
     "text": [
      "[youtube] e0kSFW5yXj0: Downloading webpage\n",
      "[youtube] e0kSFW5yXj0: Downloading android player API JSON\n",
      "[youtube] Downloading comment section API JSON\n",
      "[youtube] Sorting comments by newest first\n",
      "[youtube] Downloading comment API JSON page 1 (0/0)\n",
      "[youtube] Extracted 0 comments\n",
      "[info] e0kSFW5yXj0: Downloading 1 format(s): 303+251\n",
      "[info] Writing video metadata as JSON to: /data/notebooks/DATA-ISBAINE/Youtube/Temp data/e0kSFW5yXj0.info.json\n"
     ]
    },
    {
     "name": "stderr",
     "output_type": "stream",
     "text": [
      " 65%|██████▌   | 214/329 [04:04<02:06,  1.10s/it]DeprecationWarning: Support for Python version 3.6 has been deprecated and will break in future versions of yt-dlp! Please update to Python 3.7 or above\n"
     ]
    },
    {
     "name": "stdout",
     "output_type": "stream",
     "text": [
      "[youtube] e4WeY6GLFTw: Downloading webpage\n",
      "[youtube] e4WeY6GLFTw: Downloading android player API JSON\n",
      "[youtube] Downloading comment section API JSON\n",
      "[youtube] Sorting comments by newest first\n",
      "[youtube] Downloading comment API JSON page 1 (0/0)\n",
      "[youtube] Extracted 0 comments\n",
      "[info] e4WeY6GLFTw: Downloading 1 format(s): 248+251\n",
      "[info] Writing video metadata as JSON to: /data/notebooks/DATA-ISBAINE/Youtube/Temp data/e4WeY6GLFTw.info.json\n"
     ]
    },
    {
     "name": "stderr",
     "output_type": "stream",
     "text": [
      " 65%|██████▌   | 215/329 [04:05<02:00,  1.06s/it]DeprecationWarning: Support for Python version 3.6 has been deprecated and will break in future versions of yt-dlp! Please update to Python 3.7 or above\n"
     ]
    },
    {
     "name": "stdout",
     "output_type": "stream",
     "text": [
      "[youtube] eG17bf-v5CM: Downloading webpage\n",
      "[youtube] eG17bf-v5CM: Downloading android player API JSON\n",
      "[youtube] eG17bf-v5CM: Downloading MPD manifest\n",
      "[youtube] eG17bf-v5CM: Downloading MPD manifest\n",
      "[youtube] Downloading comment section API JSON\n",
      "[youtube] Downloading ~1 comments\n",
      "[youtube] Sorting comments by newest first\n",
      "[youtube] Downloading comment API JSON page 1 (0/1)\n",
      "[youtube] Extracted 1 comments\n",
      "[info] eG17bf-v5CM: Downloading 1 format(s): 247+251\n",
      "[info] Writing video metadata as JSON to: /data/notebooks/DATA-ISBAINE/Youtube/Temp data/eG17bf-v5CM.info.json\n"
     ]
    },
    {
     "name": "stderr",
     "output_type": "stream",
     "text": [
      " 66%|██████▌   | 216/329 [04:07<02:15,  1.20s/it]DeprecationWarning: Support for Python version 3.6 has been deprecated and will break in future versions of yt-dlp! Please update to Python 3.7 or above\n"
     ]
    },
    {
     "name": "stdout",
     "output_type": "stream",
     "text": [
      "[youtube] eWsRd1sv5_M: Downloading webpage\n",
      "[youtube] eWsRd1sv5_M: Downloading android player API JSON\n",
      "[youtube] Downloading comment section API JSON\n",
      "[youtube] Sorting comments by newest first\n",
      "[youtube] Downloading comment API JSON page 1 (0/0)\n",
      "[youtube] Extracted 0 comments\n",
      "[info] eWsRd1sv5_M: Downloading 1 format(s): 247+251\n",
      "[info] Writing video metadata as JSON to: /data/notebooks/DATA-ISBAINE/Youtube/Temp data/eWsRd1sv5_M.info.json\n"
     ]
    },
    {
     "name": "stderr",
     "output_type": "stream",
     "text": [
      " 66%|██████▌   | 217/329 [04:08<02:02,  1.09s/it]DeprecationWarning: Support for Python version 3.6 has been deprecated and will break in future versions of yt-dlp! Please update to Python 3.7 or above\n"
     ]
    },
    {
     "name": "stdout",
     "output_type": "stream",
     "text": [
      "[youtube] eluzFos5UpE: Downloading webpage\n",
      "[youtube] eluzFos5UpE: Downloading android player API JSON\n",
      "[youtube] eluzFos5UpE: Downloading MPD manifest\n",
      "[youtube] eluzFos5UpE: Downloading MPD manifest\n",
      "[youtube] Downloading comment section API JSON\n",
      "[youtube] Downloading ~1 comments\n",
      "[youtube] Sorting comments by newest first\n",
      "[youtube] Downloading comment API JSON page 1 (0/1)\n",
      "[youtube] Extracted 1 comments\n",
      "[info] eluzFos5UpE: Downloading 1 format(s): 248+251\n",
      "[info] Writing video metadata as JSON to: /data/notebooks/DATA-ISBAINE/Youtube/Temp data/eluzFos5UpE.info.json\n"
     ]
    },
    {
     "name": "stderr",
     "output_type": "stream",
     "text": [
      " 66%|██████▋   | 218/329 [04:09<02:10,  1.17s/it]DeprecationWarning: Support for Python version 3.6 has been deprecated and will break in future versions of yt-dlp! Please update to Python 3.7 or above\n"
     ]
    },
    {
     "name": "stdout",
     "output_type": "stream",
     "text": [
      "[youtube] f5pLcD_VAvk: Downloading webpage\n",
      "[youtube] f5pLcD_VAvk: Downloading android player API JSON\n",
      "[youtube] f5pLcD_VAvk: Downloading MPD manifest\n",
      "[youtube] f5pLcD_VAvk: Downloading MPD manifest\n",
      "[youtube] Downloading comment section API JSON\n",
      "[youtube] Downloading ~2 comments\n",
      "[youtube] Sorting comments by newest first\n",
      "[youtube] Downloading comment API JSON page 1 (0/2)\n",
      "[youtube] Extracted 2 comments\n",
      "[info] f5pLcD_VAvk: Downloading 1 format(s): 302+251\n",
      "[info] Writing video metadata as JSON to: /data/notebooks/DATA-ISBAINE/Youtube/Temp data/f5pLcD_VAvk.info.json\n"
     ]
    },
    {
     "name": "stderr",
     "output_type": "stream",
     "text": [
      " 67%|██████▋   | 219/329 [04:10<02:12,  1.20s/it]DeprecationWarning: Support for Python version 3.6 has been deprecated and will break in future versions of yt-dlp! Please update to Python 3.7 or above\n"
     ]
    },
    {
     "name": "stdout",
     "output_type": "stream",
     "text": [
      "[youtube] fBOrGJCp82A: Downloading webpage\n",
      "[youtube] fBOrGJCp82A: Downloading android player API JSON\n",
      "[youtube] Downloading comment section API JSON\n",
      "[youtube] Sorting comments by newest first\n",
      "[youtube] Downloading comment API JSON page 1 (0/0)\n",
      "[youtube] Extracted 0 comments\n",
      "[info] fBOrGJCp82A: Downloading 1 format(s): 248+251\n",
      "[info] Writing video metadata as JSON to: /data/notebooks/DATA-ISBAINE/Youtube/Temp data/fBOrGJCp82A.info.json\n"
     ]
    },
    {
     "name": "stderr",
     "output_type": "stream",
     "text": [
      " 67%|██████▋   | 220/329 [04:11<01:58,  1.09s/it]DeprecationWarning: Support for Python version 3.6 has been deprecated and will break in future versions of yt-dlp! Please update to Python 3.7 or above\n"
     ]
    },
    {
     "name": "stdout",
     "output_type": "stream",
     "text": [
      "[youtube] fCVBFnRqJ2Q: Downloading webpage\n",
      "[youtube] fCVBFnRqJ2Q: Downloading android player API JSON\n",
      "[youtube] fCVBFnRqJ2Q: Downloading MPD manifest\n",
      "[youtube] fCVBFnRqJ2Q: Downloading MPD manifest\n",
      "[youtube] Downloading comment section API JSON\n",
      "[youtube] Sorting comments by newest first\n",
      "[youtube] Downloading comment API JSON page 1 (0/0)\n",
      "[youtube] Extracted 0 comments\n",
      "[info] fCVBFnRqJ2Q: Downloading 1 format(s): 248+251\n",
      "[info] Writing video metadata as JSON to: /data/notebooks/DATA-ISBAINE/Youtube/Temp data/fCVBFnRqJ2Q.info.json\n"
     ]
    },
    {
     "name": "stderr",
     "output_type": "stream",
     "text": [
      " 67%|██████▋   | 221/329 [04:12<02:02,  1.14s/it]DeprecationWarning: Support for Python version 3.6 has been deprecated and will break in future versions of yt-dlp! Please update to Python 3.7 or above\n"
     ]
    },
    {
     "name": "stdout",
     "output_type": "stream",
     "text": [
      "[youtube] fayD6r22fX4: Downloading webpage\n",
      "[youtube] fayD6r22fX4: Downloading android player API JSON\n",
      "[youtube] fayD6r22fX4: Downloading MPD manifest\n",
      "[youtube] fayD6r22fX4: Downloading MPD manifest\n",
      "[youtube] Downloading comment section API JSON\n",
      "[youtube] Sorting comments by newest first\n",
      "[youtube] Downloading comment API JSON page 1 (0/0)\n",
      "[youtube] Extracted 0 comments\n",
      "[info] fayD6r22fX4: Downloading 1 format(s): 248+251\n",
      "[info] Writing video metadata as JSON to: /data/notebooks/DATA-ISBAINE/Youtube/Temp data/fayD6r22fX4.info.json\n"
     ]
    },
    {
     "name": "stderr",
     "output_type": "stream",
     "text": [
      " 67%|██████▋   | 222/329 [04:14<02:01,  1.14s/it]DeprecationWarning: Support for Python version 3.6 has been deprecated and will break in future versions of yt-dlp! Please update to Python 3.7 or above\n"
     ]
    },
    {
     "name": "stdout",
     "output_type": "stream",
     "text": [
      "[youtube] fpLXTpbaf7s: Downloading webpage\n",
      "[youtube] fpLXTpbaf7s: Downloading android player API JSON\n",
      "[youtube] Downloading comment section API JSON\n",
      "[youtube] Sorting comments by newest first\n",
      "[youtube] Downloading comment API JSON page 1 (0/0)\n",
      "[youtube] Extracted 0 comments\n",
      "[info] fpLXTpbaf7s: Downloading 1 format(s): 244+251\n",
      "[info] Writing video metadata as JSON to: /data/notebooks/DATA-ISBAINE/Youtube/Temp data/fpLXTpbaf7s.info.json\n"
     ]
    },
    {
     "name": "stderr",
     "output_type": "stream",
     "text": [
      " 68%|██████▊   | 223/329 [04:14<01:51,  1.05s/it]DeprecationWarning: Support for Python version 3.6 has been deprecated and will break in future versions of yt-dlp! Please update to Python 3.7 or above\n"
     ]
    },
    {
     "name": "stdout",
     "output_type": "stream",
     "text": [
      "[youtube] fuFMWp-k7mU: Downloading webpage\n",
      "[youtube] fuFMWp-k7mU: Downloading android player API JSON\n",
      "[youtube] fuFMWp-k7mU: Downloading MPD manifest\n",
      "[youtube] fuFMWp-k7mU: Downloading MPD manifest\n",
      "[youtube] Downloading comment section API JSON\n",
      "[youtube] Sorting comments by newest first\n",
      "[youtube] Downloading comment API JSON page 1 (0/0)\n",
      "[youtube] Extracted 0 comments\n",
      "[info] fuFMWp-k7mU: Downloading 1 format(s): 247+251\n",
      "[info] Writing video metadata as JSON to: /data/notebooks/DATA-ISBAINE/Youtube/Temp data/fuFMWp-k7mU.info.json\n"
     ]
    },
    {
     "name": "stderr",
     "output_type": "stream",
     "text": [
      " 68%|██████▊   | 224/329 [04:16<01:57,  1.12s/it]DeprecationWarning: Support for Python version 3.6 has been deprecated and will break in future versions of yt-dlp! Please update to Python 3.7 or above\n"
     ]
    },
    {
     "name": "stdout",
     "output_type": "stream",
     "text": [
      "[youtube] g0gva5Lt1RE: Downloading webpage\n",
      "[youtube] g0gva5Lt1RE: Downloading android player API JSON\n",
      "[youtube] Downloading comment section API JSON\n",
      "[youtube] Downloading ~6 comments\n",
      "[youtube] Sorting comments by newest first\n",
      "[youtube] Downloading comment API JSON page 1 (0/6)\n",
      "[youtube] Extracted 6 comments\n",
      "[info] g0gva5Lt1RE: Downloading 1 format(s): 248+251\n",
      "[info] Writing video metadata as JSON to: /data/notebooks/DATA-ISBAINE/Youtube/Temp data/g0gva5Lt1RE.info.json\n"
     ]
    },
    {
     "name": "stderr",
     "output_type": "stream",
     "text": [
      " 68%|██████▊   | 225/329 [04:17<01:58,  1.14s/it]DeprecationWarning: Support for Python version 3.6 has been deprecated and will break in future versions of yt-dlp! Please update to Python 3.7 or above\n"
     ]
    },
    {
     "name": "stdout",
     "output_type": "stream",
     "text": [
      "[youtube] gTF_g1FtA8U: Downloading webpage\n",
      "[youtube] gTF_g1FtA8U: Downloading android player API JSON\n",
      "[youtube] gTF_g1FtA8U: Downloading MPD manifest\n",
      "[youtube] gTF_g1FtA8U: Downloading MPD manifest\n",
      "[youtube] Downloading comment section API JSON\n",
      "[youtube] Sorting comments by newest first\n",
      "[youtube] Downloading comment API JSON page 1 (0/0)\n",
      "[youtube] Extracted 0 comments\n",
      "[info] gTF_g1FtA8U: Downloading 1 format(s): 302+251\n",
      "[info] Writing video metadata as JSON to: /data/notebooks/DATA-ISBAINE/Youtube/Temp data/gTF_g1FtA8U.info.json\n"
     ]
    },
    {
     "name": "stderr",
     "output_type": "stream",
     "text": [
      " 69%|██████▊   | 226/329 [04:18<02:04,  1.21s/it]DeprecationWarning: Support for Python version 3.6 has been deprecated and will break in future versions of yt-dlp! Please update to Python 3.7 or above\n"
     ]
    },
    {
     "name": "stdout",
     "output_type": "stream",
     "text": [
      "[youtube] gYxmx57Z-t4: Downloading webpage\n",
      "[youtube] gYxmx57Z-t4: Downloading android player API JSON\n",
      "[youtube] Downloading comment section API JSON\n",
      "[youtube] Sorting comments by newest first\n",
      "[youtube] Downloading comment API JSON page 1 (0/0)\n",
      "[youtube] Extracted 0 comments\n",
      "[info] gYxmx57Z-t4: Downloading 1 format(s): 248+251\n",
      "[info] Writing video metadata as JSON to: /data/notebooks/DATA-ISBAINE/Youtube/Temp data/gYxmx57Z-t4.info.json\n"
     ]
    },
    {
     "name": "stderr",
     "output_type": "stream",
     "text": [
      " 69%|██████▉   | 227/329 [04:19<01:52,  1.10s/it]DeprecationWarning: Support for Python version 3.6 has been deprecated and will break in future versions of yt-dlp! Please update to Python 3.7 or above\n"
     ]
    },
    {
     "name": "stdout",
     "output_type": "stream",
     "text": [
      "[youtube] gc8eLBiIw3E: Downloading webpage\n",
      "[youtube] gc8eLBiIw3E: Downloading android player API JSON\n",
      "[youtube] Downloading comment section API JSON\n",
      "[youtube] Sorting comments by newest first\n",
      "[youtube] Downloading comment API JSON page 1 (0/0)\n",
      "[youtube] Extracted 0 comments\n",
      "[info] gc8eLBiIw3E: Downloading 1 format(s): 247+251\n",
      "[info] Writing video metadata as JSON to: /data/notebooks/DATA-ISBAINE/Youtube/Temp data/gc8eLBiIw3E.info.json\n"
     ]
    },
    {
     "name": "stderr",
     "output_type": "stream",
     "text": [
      " 69%|██████▉   | 228/329 [04:20<01:40,  1.01it/s]DeprecationWarning: Support for Python version 3.6 has been deprecated and will break in future versions of yt-dlp! Please update to Python 3.7 or above\n"
     ]
    },
    {
     "name": "stdout",
     "output_type": "stream",
     "text": [
      "[youtube] hHa8pAtRIjs: Downloading webpage\n",
      "[youtube] hHa8pAtRIjs: Downloading android player API JSON\n",
      "[youtube] Downloading comment section API JSON\n",
      "[youtube] Sorting comments by newest first\n",
      "[youtube] Downloading comment API JSON page 1 (0/0)\n",
      "[youtube] Extracted 0 comments\n",
      "[info] hHa8pAtRIjs: Downloading 1 format(s): 248+251\n",
      "[info] Writing video metadata as JSON to: /data/notebooks/DATA-ISBAINE/Youtube/Temp data/hHa8pAtRIjs.info.json\n"
     ]
    },
    {
     "name": "stderr",
     "output_type": "stream",
     "text": [
      " 70%|██████▉   | 229/329 [04:21<01:30,  1.10it/s]DeprecationWarning: Support for Python version 3.6 has been deprecated and will break in future versions of yt-dlp! Please update to Python 3.7 or above\n"
     ]
    },
    {
     "name": "stdout",
     "output_type": "stream",
     "text": [
      "[youtube] hRBpSxggzws: Downloading webpage\n",
      "[youtube] hRBpSxggzws: Downloading android player API JSON\n",
      "[youtube] hRBpSxggzws: Downloading MPD manifest\n",
      "[youtube] hRBpSxggzws: Downloading MPD manifest\n",
      "[youtube] Downloading comment section API JSON\n",
      "[youtube] Sorting comments by newest first\n",
      "[youtube] Downloading comment API JSON page 1 (0/0)\n",
      "[youtube] Extracted 0 comments\n",
      "[info] hRBpSxggzws: Downloading 1 format(s): 248+251\n",
      "[info] Writing video metadata as JSON to: /data/notebooks/DATA-ISBAINE/Youtube/Temp data/hRBpSxggzws.info.json\n"
     ]
    },
    {
     "name": "stderr",
     "output_type": "stream",
     "text": [
      " 70%|██████▉   | 230/329 [04:22<01:43,  1.04s/it]DeprecationWarning: Support for Python version 3.6 has been deprecated and will break in future versions of yt-dlp! Please update to Python 3.7 or above\n"
     ]
    },
    {
     "name": "stdout",
     "output_type": "stream",
     "text": [
      "[youtube] hSgtgZoJTOQ: Downloading webpage\n",
      "[youtube] hSgtgZoJTOQ: Downloading android player API JSON\n",
      "[youtube] hSgtgZoJTOQ: Downloading MPD manifest\n",
      "[youtube] hSgtgZoJTOQ: Downloading MPD manifest\n",
      "[youtube] Downloading comment section API JSON\n",
      "[youtube] Sorting comments by newest first\n",
      "[youtube] Downloading comment API JSON page 1 (0/0)\n",
      "[youtube] Extracted 0 comments\n",
      "[info] hSgtgZoJTOQ: Downloading 1 format(s): 302+251\n",
      "[info] Writing video metadata as JSON to: /data/notebooks/DATA-ISBAINE/Youtube/Temp data/hSgtgZoJTOQ.info.json\n"
     ]
    },
    {
     "name": "stderr",
     "output_type": "stream",
     "text": [
      " 70%|███████   | 231/329 [04:23<01:47,  1.10s/it]DeprecationWarning: Support for Python version 3.6 has been deprecated and will break in future versions of yt-dlp! Please update to Python 3.7 or above\n"
     ]
    },
    {
     "name": "stdout",
     "output_type": "stream",
     "text": [
      "[youtube] hUUOKMfRazc: Downloading webpage\n",
      "[youtube] hUUOKMfRazc: Downloading android player API JSON\n",
      "[youtube] hUUOKMfRazc: Downloading MPD manifest\n",
      "[youtube] hUUOKMfRazc: Downloading MPD manifest\n",
      "[youtube] Downloading comment section API JSON\n",
      "[youtube] Sorting comments by newest first\n",
      "[youtube] Downloading comment API JSON page 1 (0/0)\n",
      "[youtube] Extracted 0 comments\n",
      "[info] hUUOKMfRazc: Downloading 1 format(s): 303+251\n",
      "[info] Writing video metadata as JSON to: /data/notebooks/DATA-ISBAINE/Youtube/Temp data/hUUOKMfRazc.info.json\n"
     ]
    },
    {
     "name": "stderr",
     "output_type": "stream",
     "text": [
      " 71%|███████   | 232/329 [04:24<01:52,  1.16s/it]DeprecationWarning: Support for Python version 3.6 has been deprecated and will break in future versions of yt-dlp! Please update to Python 3.7 or above\n"
     ]
    },
    {
     "name": "stdout",
     "output_type": "stream",
     "text": [
      "[youtube] hZNV62p7_E8: Downloading webpage\n",
      "[youtube] hZNV62p7_E8: Downloading android player API JSON\n",
      "[youtube] Downloading comment section API JSON\n",
      "[youtube] Downloading ~2 comments\n",
      "[youtube] Sorting comments by newest first\n",
      "[youtube] Downloading comment API JSON page 1 (0/2)\n",
      "[youtube] Extracted 2 comments\n",
      "[info] hZNV62p7_E8: Downloading 1 format(s): 248+251\n",
      "[info] Writing video metadata as JSON to: /data/notebooks/DATA-ISBAINE/Youtube/Temp data/hZNV62p7_E8.info.json\n"
     ]
    },
    {
     "name": "stderr",
     "output_type": "stream",
     "text": [
      " 71%|███████   | 233/329 [04:26<01:49,  1.14s/it]DeprecationWarning: Support for Python version 3.6 has been deprecated and will break in future versions of yt-dlp! Please update to Python 3.7 or above\n"
     ]
    },
    {
     "name": "stdout",
     "output_type": "stream",
     "text": [
      "[youtube] i5Z1Jl1QCOQ: Downloading webpage\n",
      "[youtube] i5Z1Jl1QCOQ: Downloading android player API JSON\n",
      "[youtube] Downloading comment section API JSON\n",
      "[youtube] Downloading ~1 comments\n",
      "[youtube] Sorting comments by newest first\n",
      "[youtube] Downloading comment API JSON page 1 (0/1)\n",
      "[youtube] Extracted 1 comments\n",
      "[info] i5Z1Jl1QCOQ: Downloading 1 format(s): 248+251\n",
      "[info] Writing video metadata as JSON to: /data/notebooks/DATA-ISBAINE/Youtube/Temp data/i5Z1Jl1QCOQ.info.json\n"
     ]
    },
    {
     "name": "stderr",
     "output_type": "stream",
     "text": [
      " 71%|███████   | 234/329 [04:27<01:46,  1.12s/it]DeprecationWarning: Support for Python version 3.6 has been deprecated and will break in future versions of yt-dlp! Please update to Python 3.7 or above\n"
     ]
    },
    {
     "name": "stdout",
     "output_type": "stream",
     "text": [
      "[youtube] iIINJModtZo: Downloading webpage\n",
      "[youtube] iIINJModtZo: Downloading android player API JSON\n",
      "[youtube] iIINJModtZo: Downloading MPD manifest\n",
      "[youtube] iIINJModtZo: Downloading MPD manifest\n",
      "[youtube] Downloading comment section API JSON\n",
      "[youtube] Downloading ~1 comments\n",
      "[youtube] Sorting comments by newest first\n",
      "[youtube] Downloading comment API JSON page 1 (0/1)\n",
      "[youtube] Extracted 1 comments\n",
      "[info] iIINJModtZo: Downloading 1 format(s): 248+251\n",
      "[info] Writing video metadata as JSON to: /data/notebooks/DATA-ISBAINE/Youtube/Temp data/iIINJModtZo.info.json\n"
     ]
    },
    {
     "name": "stderr",
     "output_type": "stream",
     "text": [
      " 71%|███████▏  | 235/329 [04:28<01:51,  1.19s/it]DeprecationWarning: Support for Python version 3.6 has been deprecated and will break in future versions of yt-dlp! Please update to Python 3.7 or above\n"
     ]
    },
    {
     "name": "stdout",
     "output_type": "stream",
     "text": [
      "[youtube] iTdHheJjSiM: Downloading webpage\n",
      "[youtube] iTdHheJjSiM: Downloading android player API JSON\n",
      "[youtube] Downloading comment section API JSON\n",
      "[youtube] Sorting comments by newest first\n",
      "[youtube] Downloading comment API JSON page 1 (0/0)\n",
      "[youtube] Extracted 0 comments\n",
      "[info] iTdHheJjSiM: Downloading 1 format(s): 248+251\n",
      "[info] Writing video metadata as JSON to: /data/notebooks/DATA-ISBAINE/Youtube/Temp data/iTdHheJjSiM.info.json\n"
     ]
    },
    {
     "name": "stderr",
     "output_type": "stream",
     "text": [
      " 72%|███████▏  | 236/329 [04:29<01:37,  1.05s/it]DeprecationWarning: Support for Python version 3.6 has been deprecated and will break in future versions of yt-dlp! Please update to Python 3.7 or above\n"
     ]
    },
    {
     "name": "stdout",
     "output_type": "stream",
     "text": [
      "[youtube] iWzKoZzfz3c: Downloading webpage\n",
      "[youtube] iWzKoZzfz3c: Downloading android player API JSON\n",
      "[youtube] Downloading comment section API JSON\n",
      "[youtube] Sorting comments by newest first\n",
      "[youtube] Downloading comment API JSON page 1 (0/0)\n",
      "[youtube] Extracted 0 comments\n",
      "[info] iWzKoZzfz3c: Downloading 1 format(s): 303+251\n",
      "[info] Writing video metadata as JSON to: /data/notebooks/DATA-ISBAINE/Youtube/Temp data/iWzKoZzfz3c.info.json\n"
     ]
    },
    {
     "name": "stderr",
     "output_type": "stream",
     "text": [
      " 72%|███████▏  | 237/329 [04:30<01:32,  1.01s/it]DeprecationWarning: Support for Python version 3.6 has been deprecated and will break in future versions of yt-dlp! Please update to Python 3.7 or above\n"
     ]
    },
    {
     "name": "stdout",
     "output_type": "stream",
     "text": [
      "[youtube] ial8BjNawNQ: Downloading webpage\n",
      "[youtube] ial8BjNawNQ: Downloading android player API JSON\n",
      "[youtube] ial8BjNawNQ: Downloading MPD manifest\n",
      "[youtube] ial8BjNawNQ: Downloading MPD manifest\n",
      "[youtube] Downloading comment section API JSON\n",
      "[youtube] Sorting comments by newest first\n",
      "[youtube] Downloading comment API JSON page 1 (0/0)\n",
      "[youtube] Extracted 0 comments\n",
      "[info] ial8BjNawNQ: Downloading 1 format(s): 247+251\n",
      "[info] Writing video metadata as JSON to: /data/notebooks/DATA-ISBAINE/Youtube/Temp data/ial8BjNawNQ.info.json\n"
     ]
    },
    {
     "name": "stderr",
     "output_type": "stream",
     "text": [
      " 72%|███████▏  | 238/329 [04:31<01:38,  1.09s/it]DeprecationWarning: Support for Python version 3.6 has been deprecated and will break in future versions of yt-dlp! Please update to Python 3.7 or above\n"
     ]
    },
    {
     "name": "stdout",
     "output_type": "stream",
     "text": [
      "[youtube] iatXM05gncs: Downloading webpage\n",
      "[youtube] iatXM05gncs: Downloading android player API JSON\n",
      "[youtube] Downloading comment section API JSON\n",
      "[youtube] Sorting comments by newest first\n",
      "[youtube] Downloading comment API JSON page 1 (0/0)\n",
      "[youtube] Extracted 0 comments\n",
      "[info] iatXM05gncs: Downloading 1 format(s): 248+251\n",
      "[info] Writing video metadata as JSON to: /data/notebooks/DATA-ISBAINE/Youtube/Temp data/iatXM05gncs.info.json\n"
     ]
    },
    {
     "name": "stderr",
     "output_type": "stream",
     "text": [
      " 73%|███████▎  | 239/329 [04:32<01:31,  1.02s/it]DeprecationWarning: Support for Python version 3.6 has been deprecated and will break in future versions of yt-dlp! Please update to Python 3.7 or above\n"
     ]
    },
    {
     "name": "stdout",
     "output_type": "stream",
     "text": [
      "[youtube] ib-4_NxcCKo: Downloading webpage\n",
      "[youtube] ib-4_NxcCKo: Downloading android player API JSON\n",
      "[youtube] Downloading comment section API JSON\n",
      "[youtube] Downloading ~1 comments\n",
      "[youtube] Sorting comments by newest first\n",
      "[youtube] Downloading comment API JSON page 1 (0/1)\n",
      "[youtube] Extracted 1 comments\n",
      "[info] ib-4_NxcCKo: Downloading 1 format(s): 247+251\n",
      "[info] Writing video metadata as JSON to: /data/notebooks/DATA-ISBAINE/Youtube/Temp data/ib-4_NxcCKo.info.json\n"
     ]
    },
    {
     "name": "stderr",
     "output_type": "stream",
     "text": [
      " 73%|███████▎  | 240/329 [04:33<01:30,  1.01s/it]DeprecationWarning: Support for Python version 3.6 has been deprecated and will break in future versions of yt-dlp! Please update to Python 3.7 or above\n"
     ]
    },
    {
     "name": "stdout",
     "output_type": "stream",
     "text": [
      "[youtube] iccOPbZ5sBA: Downloading webpage\n",
      "[youtube] iccOPbZ5sBA: Downloading android player API JSON\n",
      "[youtube] iccOPbZ5sBA: Downloading MPD manifest\n",
      "[youtube] iccOPbZ5sBA: Downloading MPD manifest\n",
      "[youtube] Downloading comment section API JSON\n",
      "[youtube] Sorting comments by newest first\n",
      "[youtube] Downloading comment API JSON page 1 (0/0)\n",
      "[youtube] Extracted 0 comments\n",
      "[info] iccOPbZ5sBA: Downloading 1 format(s): 248+251\n",
      "[info] Writing video metadata as JSON to: /data/notebooks/DATA-ISBAINE/Youtube/Temp data/iccOPbZ5sBA.info.json\n"
     ]
    },
    {
     "name": "stderr",
     "output_type": "stream",
     "text": [
      " 73%|███████▎  | 241/329 [04:34<01:36,  1.10s/it]DeprecationWarning: Support for Python version 3.6 has been deprecated and will break in future versions of yt-dlp! Please update to Python 3.7 or above\n"
     ]
    },
    {
     "name": "stdout",
     "output_type": "stream",
     "text": [
      "[youtube] idvx8Dd0ilc: Downloading webpage\n",
      "[youtube] idvx8Dd0ilc: Downloading android player API JSON\n",
      "[youtube] idvx8Dd0ilc: Downloading MPD manifest\n",
      "[youtube] idvx8Dd0ilc: Downloading MPD manifest\n",
      "[youtube] Downloading comment section API JSON\n",
      "[youtube] Sorting comments by newest first\n",
      "[youtube] Downloading comment API JSON page 1 (0/0)\n",
      "[youtube] Extracted 0 comments\n",
      "[info] idvx8Dd0ilc: Downloading 1 format(s): 247+251\n",
      "[info] Writing video metadata as JSON to: /data/notebooks/DATA-ISBAINE/Youtube/Temp data/idvx8Dd0ilc.info.json\n"
     ]
    },
    {
     "name": "stderr",
     "output_type": "stream",
     "text": [
      " 74%|███████▎  | 242/329 [04:35<01:37,  1.12s/it]DeprecationWarning: Support for Python version 3.6 has been deprecated and will break in future versions of yt-dlp! Please update to Python 3.7 or above\n"
     ]
    },
    {
     "name": "stdout",
     "output_type": "stream",
     "text": [
      "[youtube] iutuGVLgFoM: Downloading webpage\n",
      "[youtube] iutuGVLgFoM: Downloading android player API JSON\n",
      "[youtube] iutuGVLgFoM: Downloading MPD manifest\n",
      "[youtube] iutuGVLgFoM: Downloading MPD manifest\n",
      "[youtube] Downloading comment section API JSON\n"
     ]
    },
    {
     "name": "stderr",
     "output_type": "stream",
     "text": [
      "WARNING: [youtube] iutuGVLgFoM: Youtube said: Comments are turned off. \n"
     ]
    },
    {
     "name": "stdout",
     "output_type": "stream",
     "text": [
      "[youtube] Extracted 0 comments\n",
      "[info] iutuGVLgFoM: Downloading 1 format(s): 248+251\n",
      "[info] Writing video metadata as JSON to: /data/notebooks/DATA-ISBAINE/Youtube/Temp data/iutuGVLgFoM.info.json\n"
     ]
    },
    {
     "name": "stderr",
     "output_type": "stream",
     "text": [
      " 74%|███████▍  | 243/329 [04:36<01:40,  1.16s/it]DeprecationWarning: Support for Python version 3.6 has been deprecated and will break in future versions of yt-dlp! Please update to Python 3.7 or above\n"
     ]
    },
    {
     "name": "stdout",
     "output_type": "stream",
     "text": [
      "[youtube] j8rUA-108sQ: Downloading webpage\n",
      "[youtube] j8rUA-108sQ: Downloading android player API JSON\n",
      "[youtube] Downloading comment section API JSON\n",
      "[youtube] Downloading ~1 comments\n",
      "[youtube] Sorting comments by newest first\n",
      "[youtube] Downloading comment API JSON page 1 (0/1)\n",
      "[youtube] Extracted 1 comments\n",
      "[info] j8rUA-108sQ: Downloading 1 format(s): 247+251\n",
      "[info] Writing video metadata as JSON to: /data/notebooks/DATA-ISBAINE/Youtube/Temp data/j8rUA-108sQ.info.json\n"
     ]
    },
    {
     "name": "stderr",
     "output_type": "stream",
     "text": [
      " 74%|███████▍  | 244/329 [04:37<01:34,  1.11s/it]DeprecationWarning: Support for Python version 3.6 has been deprecated and will break in future versions of yt-dlp! Please update to Python 3.7 or above\n"
     ]
    },
    {
     "name": "stdout",
     "output_type": "stream",
     "text": [
      "[youtube] jLL4enq5InM: Downloading webpage\n",
      "[youtube] jLL4enq5InM: Downloading android player API JSON\n",
      "[youtube] Downloading comment section API JSON\n",
      "[youtube] Sorting comments by newest first\n",
      "[youtube] Downloading comment API JSON page 1 (0/0)\n",
      "[youtube] Extracted 0 comments\n",
      "[info] jLL4enq5InM: Downloading 1 format(s): 247+251\n",
      "[info] Writing video metadata as JSON to: /data/notebooks/DATA-ISBAINE/Youtube/Temp data/jLL4enq5InM.info.json\n"
     ]
    },
    {
     "name": "stderr",
     "output_type": "stream",
     "text": [
      " 74%|███████▍  | 245/329 [04:38<01:26,  1.03s/it]DeprecationWarning: Support for Python version 3.6 has been deprecated and will break in future versions of yt-dlp! Please update to Python 3.7 or above\n"
     ]
    },
    {
     "name": "stdout",
     "output_type": "stream",
     "text": [
      "[youtube] jgb3E--ojZQ: Downloading webpage\n",
      "[youtube] jgb3E--ojZQ: Downloading android player API JSON\n",
      "[youtube] Downloading comment section API JSON\n",
      "[youtube] Sorting comments by newest first\n",
      "[youtube] Downloading comment API JSON page 1 (0/0)\n",
      "[youtube] Extracted 0 comments\n",
      "[info] jgb3E--ojZQ: Downloading 1 format(s): 244+251\n",
      "[info] Writing video metadata as JSON to: /data/notebooks/DATA-ISBAINE/Youtube/Temp data/jgb3E--ojZQ.info.json\n"
     ]
    },
    {
     "name": "stderr",
     "output_type": "stream",
     "text": [
      " 75%|███████▍  | 246/329 [04:39<01:20,  1.03it/s]DeprecationWarning: Support for Python version 3.6 has been deprecated and will break in future versions of yt-dlp! Please update to Python 3.7 or above\n"
     ]
    },
    {
     "name": "stdout",
     "output_type": "stream",
     "text": [
      "[youtube] jgradV3Slho: Downloading webpage\n",
      "[youtube] jgradV3Slho: Downloading android player API JSON\n",
      "[youtube] jgradV3Slho: Downloading MPD manifest\n",
      "[youtube] jgradV3Slho: Downloading MPD manifest\n",
      "[youtube] Downloading comment section API JSON\n",
      "[youtube] Downloading ~2 comments\n",
      "[youtube] Sorting comments by newest first\n",
      "[youtube] Downloading comment API JSON page 1 (0/2)\n",
      "[youtube] Extracted 2 comments\n",
      "[info] jgradV3Slho: Downloading 1 format(s): 247+251\n",
      "[info] Writing video metadata as JSON to: /data/notebooks/DATA-ISBAINE/Youtube/Temp data/jgradV3Slho.info.json\n"
     ]
    },
    {
     "name": "stderr",
     "output_type": "stream",
     "text": [
      " 75%|███████▌  | 247/329 [04:41<01:33,  1.14s/it]DeprecationWarning: Support for Python version 3.6 has been deprecated and will break in future versions of yt-dlp! Please update to Python 3.7 or above\n"
     ]
    },
    {
     "name": "stdout",
     "output_type": "stream",
     "text": [
      "[youtube] ji_wYgIuGiM: Downloading webpage\n",
      "[youtube] ji_wYgIuGiM: Downloading android player API JSON\n",
      "[youtube] Downloading comment section API JSON\n",
      "[youtube] Sorting comments by newest first\n",
      "[youtube] Downloading comment API JSON page 1 (0/0)\n",
      "[youtube] Extracted 0 comments\n",
      "[info] ji_wYgIuGiM: Downloading 1 format(s): 248+251\n",
      "[info] Writing video metadata as JSON to: /data/notebooks/DATA-ISBAINE/Youtube/Temp data/ji_wYgIuGiM.info.json\n"
     ]
    },
    {
     "name": "stderr",
     "output_type": "stream",
     "text": [
      " 75%|███████▌  | 248/329 [04:41<01:23,  1.03s/it]DeprecationWarning: Support for Python version 3.6 has been deprecated and will break in future versions of yt-dlp! Please update to Python 3.7 or above\n"
     ]
    },
    {
     "name": "stdout",
     "output_type": "stream",
     "text": [
      "[youtube] jwUN0wkFPqQ: Downloading webpage\n",
      "[youtube] jwUN0wkFPqQ: Downloading android player API JSON\n",
      "[youtube] Downloading comment section API JSON\n",
      "[youtube] Downloading ~1 comments\n",
      "[youtube] Sorting comments by newest first\n",
      "[youtube] Downloading comment API JSON page 1 (0/1)\n",
      "[youtube] Extracted 1 comments\n",
      "[info] jwUN0wkFPqQ: Downloading 1 format(s): 248+251\n",
      "[info] Writing video metadata as JSON to: /data/notebooks/DATA-ISBAINE/Youtube/Temp data/jwUN0wkFPqQ.info.json\n"
     ]
    },
    {
     "name": "stderr",
     "output_type": "stream",
     "text": [
      " 76%|███████▌  | 249/329 [04:42<01:20,  1.01s/it]DeprecationWarning: Support for Python version 3.6 has been deprecated and will break in future versions of yt-dlp! Please update to Python 3.7 or above\n"
     ]
    },
    {
     "name": "stdout",
     "output_type": "stream",
     "text": [
      "[youtube] k-etE06Vg_g: Downloading webpage\n",
      "[youtube] k-etE06Vg_g: Downloading android player API JSON\n",
      "[youtube] Downloading comment section API JSON\n",
      "[youtube] Downloading ~3 comments\n",
      "[youtube] Sorting comments by newest first\n",
      "[youtube] Downloading comment API JSON page 1 (0/3)\n",
      "[youtube] Extracted 3 comments\n",
      "[info] k-etE06Vg_g: Downloading 1 format(s): 247+251\n",
      "[info] Writing video metadata as JSON to: /data/notebooks/DATA-ISBAINE/Youtube/Temp data/k-etE06Vg_g.info.json\n"
     ]
    },
    {
     "name": "stderr",
     "output_type": "stream",
     "text": [
      " 76%|███████▌  | 250/329 [04:43<01:20,  1.02s/it]DeprecationWarning: Support for Python version 3.6 has been deprecated and will break in future versions of yt-dlp! Please update to Python 3.7 or above\n"
     ]
    },
    {
     "name": "stdout",
     "output_type": "stream",
     "text": [
      "[youtube] k04E5CurKsY: Downloading webpage\n",
      "[youtube] k04E5CurKsY: Downloading android player API JSON\n",
      "[youtube] k04E5CurKsY: Downloading MPD manifest\n",
      "[youtube] k04E5CurKsY: Downloading MPD manifest\n",
      "[youtube] Downloading comment section API JSON\n",
      "[youtube] Downloading ~1 comments\n",
      "[youtube] Sorting comments by newest first\n",
      "[youtube] Downloading comment API JSON page 1 (0/1)\n",
      "[youtube] Extracted 1 comments\n",
      "[info] k04E5CurKsY: Downloading 1 format(s): 248+251\n",
      "[info] Writing video metadata as JSON to: /data/notebooks/DATA-ISBAINE/Youtube/Temp data/k04E5CurKsY.info.json\n"
     ]
    },
    {
     "name": "stderr",
     "output_type": "stream",
     "text": [
      " 76%|███████▋  | 251/329 [04:45<01:26,  1.11s/it]DeprecationWarning: Support for Python version 3.6 has been deprecated and will break in future versions of yt-dlp! Please update to Python 3.7 or above\n"
     ]
    },
    {
     "name": "stdout",
     "output_type": "stream",
     "text": [
      "[youtube] kA6VWqxdGQ4: Downloading webpage\n",
      "[youtube] kA6VWqxdGQ4: Downloading android player API JSON\n",
      "[youtube] Downloading comment section API JSON\n",
      "[youtube] Downloading ~1 comments\n",
      "[youtube] Sorting comments by newest first\n",
      "[youtube] Downloading comment API JSON page 1 (0/1)\n",
      "[youtube] Extracted 1 comments\n",
      "[info] kA6VWqxdGQ4: Downloading 1 format(s): 247+251\n",
      "[info] Writing video metadata as JSON to: /data/notebooks/DATA-ISBAINE/Youtube/Temp data/kA6VWqxdGQ4.info.json\n"
     ]
    },
    {
     "name": "stderr",
     "output_type": "stream",
     "text": [
      " 77%|███████▋  | 252/329 [04:46<01:23,  1.08s/it]DeprecationWarning: Support for Python version 3.6 has been deprecated and will break in future versions of yt-dlp! Please update to Python 3.7 or above\n"
     ]
    },
    {
     "name": "stdout",
     "output_type": "stream",
     "text": [
      "[youtube] kBRKUVn1VBQ: Downloading webpage\n",
      "[youtube] kBRKUVn1VBQ: Downloading android player API JSON\n",
      "[youtube] kBRKUVn1VBQ: Downloading MPD manifest\n",
      "[youtube] kBRKUVn1VBQ: Downloading MPD manifest\n",
      "[youtube] Downloading comment section API JSON\n",
      "[youtube] Sorting comments by newest first\n",
      "[youtube] Downloading comment API JSON page 1 (0/0)\n",
      "[youtube] Extracted 0 comments\n",
      "[info] kBRKUVn1VBQ: Downloading 1 format(s): 302+251\n",
      "[info] Writing video metadata as JSON to: /data/notebooks/DATA-ISBAINE/Youtube/Temp data/kBRKUVn1VBQ.info.json\n"
     ]
    },
    {
     "name": "stderr",
     "output_type": "stream",
     "text": [
      " 77%|███████▋  | 253/329 [04:47<01:26,  1.13s/it]DeprecationWarning: Support for Python version 3.6 has been deprecated and will break in future versions of yt-dlp! Please update to Python 3.7 or above\n"
     ]
    },
    {
     "name": "stdout",
     "output_type": "stream",
     "text": [
      "[youtube] kXEV0YQ8X9c: Downloading webpage\n",
      "[youtube] kXEV0YQ8X9c: Downloading android player API JSON\n",
      "[youtube] Downloading comment section API JSON\n",
      "[youtube] Downloading ~3 comments\n",
      "[youtube] Sorting comments by newest first\n",
      "[youtube] Downloading comment API JSON page 1 (0/3)\n",
      "[youtube] Extracted 3 comments\n",
      "[info] kXEV0YQ8X9c: Downloading 1 format(s): 248+251\n",
      "[info] Writing video metadata as JSON to: /data/notebooks/DATA-ISBAINE/Youtube/Temp data/kXEV0YQ8X9c.info.json\n"
     ]
    },
    {
     "name": "stderr",
     "output_type": "stream",
     "text": [
      " 77%|███████▋  | 254/329 [04:48<01:25,  1.14s/it]DeprecationWarning: Support for Python version 3.6 has been deprecated and will break in future versions of yt-dlp! Please update to Python 3.7 or above\n"
     ]
    },
    {
     "name": "stdout",
     "output_type": "stream",
     "text": [
      "[youtube] ke_PsqA06Xk: Downloading webpage\n",
      "[youtube] ke_PsqA06Xk: Downloading android player API JSON\n",
      "[youtube] Downloading comment section API JSON\n",
      "[youtube] Downloading ~2 comments\n",
      "[youtube] Sorting comments by newest first\n",
      "[youtube] Downloading comment API JSON page 1 (0/2)\n",
      "[youtube] Extracted 2 comments\n",
      "[info] ke_PsqA06Xk: Downloading 1 format(s): 248+251\n",
      "[info] Writing video metadata as JSON to: /data/notebooks/DATA-ISBAINE/Youtube/Temp data/ke_PsqA06Xk.info.json\n"
     ]
    },
    {
     "name": "stderr",
     "output_type": "stream",
     "text": [
      " 78%|███████▊  | 255/329 [04:49<01:21,  1.10s/it]DeprecationWarning: Support for Python version 3.6 has been deprecated and will break in future versions of yt-dlp! Please update to Python 3.7 or above\n"
     ]
    },
    {
     "name": "stdout",
     "output_type": "stream",
     "text": [
      "[youtube] kvNmQzFIWQg: Downloading webpage\n",
      "[youtube] kvNmQzFIWQg: Downloading android player API JSON\n",
      "[youtube] Downloading comment section API JSON\n",
      "[youtube] Downloading ~13 comments\n",
      "[youtube] Sorting comments by newest first\n",
      "[youtube] Downloading comment API JSON page 1 (0/13)\n",
      "[youtube]     Downloading comment API JSON reply thread 1 (9/13)\n",
      "[youtube]     Downloading comment API JSON reply thread 2 (12/13)\n",
      "[youtube] Extracted 13 comments\n",
      "[info] kvNmQzFIWQg: Downloading 1 format(s): 247+251\n",
      "[info] Writing video metadata as JSON to: /data/notebooks/DATA-ISBAINE/Youtube/Temp data/kvNmQzFIWQg.info.json\n"
     ]
    },
    {
     "name": "stderr",
     "output_type": "stream",
     "text": [
      " 78%|███████▊  | 256/329 [04:50<01:22,  1.13s/it]DeprecationWarning: Support for Python version 3.6 has been deprecated and will break in future versions of yt-dlp! Please update to Python 3.7 or above\n"
     ]
    },
    {
     "name": "stdout",
     "output_type": "stream",
     "text": [
      "[youtube] kyHwRyOqGDM: Downloading webpage\n",
      "[youtube] kyHwRyOqGDM: Downloading android player API JSON\n",
      "[youtube] Downloading comment section API JSON\n",
      "[youtube] Downloading ~1 comments\n",
      "[youtube] Sorting comments by newest first\n",
      "[youtube] Downloading comment API JSON page 1 (0/1)\n",
      "[youtube] Extracted 1 comments\n",
      "[info] kyHwRyOqGDM: Downloading 1 format(s): 247+251\n",
      "[info] Writing video metadata as JSON to: /data/notebooks/DATA-ISBAINE/Youtube/Temp data/kyHwRyOqGDM.info.json\n"
     ]
    },
    {
     "name": "stderr",
     "output_type": "stream",
     "text": [
      " 78%|███████▊  | 257/329 [04:51<01:19,  1.10s/it]DeprecationWarning: Support for Python version 3.6 has been deprecated and will break in future versions of yt-dlp! Please update to Python 3.7 or above\n"
     ]
    },
    {
     "name": "stdout",
     "output_type": "stream",
     "text": [
      "[youtube] l4tRzzKLhYE: Downloading webpage\n",
      "[youtube] l4tRzzKLhYE: Downloading android player API JSON\n",
      "[youtube] l4tRzzKLhYE: Downloading MPD manifest\n",
      "[youtube] l4tRzzKLhYE: Downloading MPD manifest\n",
      "[youtube] Downloading comment section API JSON\n",
      "[youtube] Sorting comments by newest first\n",
      "[youtube] Downloading comment API JSON page 1 (0/0)\n",
      "[youtube] Extracted 0 comments\n",
      "[info] l4tRzzKLhYE: Downloading 1 format(s): 247+251\n",
      "[info] Writing video metadata as JSON to: /data/notebooks/DATA-ISBAINE/Youtube/Temp data/l4tRzzKLhYE.info.json\n"
     ]
    },
    {
     "name": "stderr",
     "output_type": "stream",
     "text": [
      " 78%|███████▊  | 258/329 [04:53<01:20,  1.14s/it]DeprecationWarning: Support for Python version 3.6 has been deprecated and will break in future versions of yt-dlp! Please update to Python 3.7 or above\n"
     ]
    },
    {
     "name": "stdout",
     "output_type": "stream",
     "text": [
      "[youtube] lPNc_EhZaAI: Downloading webpage\n",
      "[youtube] lPNc_EhZaAI: Downloading android player API JSON\n",
      "[youtube] lPNc_EhZaAI: Downloading MPD manifest\n",
      "[youtube] lPNc_EhZaAI: Downloading MPD manifest\n",
      "[youtube] Downloading comment section API JSON\n",
      "[youtube] Downloading ~1 comments\n",
      "[youtube] Sorting comments by newest first\n",
      "[youtube] Downloading comment API JSON page 1 (0/1)\n",
      "[youtube] Extracted 1 comments\n",
      "[info] lPNc_EhZaAI: Downloading 1 format(s): 248+251\n",
      "[info] Writing video metadata as JSON to: /data/notebooks/DATA-ISBAINE/Youtube/Temp data/lPNc_EhZaAI.info.json\n"
     ]
    },
    {
     "name": "stderr",
     "output_type": "stream",
     "text": [
      " 79%|███████▊  | 259/329 [04:54<01:24,  1.20s/it]DeprecationWarning: Support for Python version 3.6 has been deprecated and will break in future versions of yt-dlp! Please update to Python 3.7 or above\n"
     ]
    },
    {
     "name": "stdout",
     "output_type": "stream",
     "text": [
      "[youtube] lYj6Zrx7Y0g: Downloading webpage\n",
      "[youtube] lYj6Zrx7Y0g: Downloading android player API JSON\n",
      "[youtube] Downloading comment section API JSON\n",
      "[youtube] Sorting comments by newest first\n",
      "[youtube] Downloading comment API JSON page 1 (0/0)\n",
      "[youtube] Extracted 0 comments\n",
      "[info] lYj6Zrx7Y0g: Downloading 1 format(s): 247+251\n",
      "[info] Writing video metadata as JSON to: /data/notebooks/DATA-ISBAINE/Youtube/Temp data/lYj6Zrx7Y0g.info.json\n"
     ]
    },
    {
     "name": "stderr",
     "output_type": "stream",
     "text": [
      " 79%|███████▉  | 260/329 [04:55<01:14,  1.09s/it]DeprecationWarning: Support for Python version 3.6 has been deprecated and will break in future versions of yt-dlp! Please update to Python 3.7 or above\n"
     ]
    },
    {
     "name": "stdout",
     "output_type": "stream",
     "text": [
      "[youtube] ly8cHrDSyrM: Downloading webpage\n",
      "[youtube] ly8cHrDSyrM: Downloading android player API JSON\n",
      "[youtube] Downloading comment section API JSON\n",
      "[youtube] Downloading ~1 comments\n",
      "[youtube] Sorting comments by newest first\n",
      "[youtube] Downloading comment API JSON page 1 (0/1)\n",
      "[youtube] Extracted 1 comments\n",
      "[info] ly8cHrDSyrM: Downloading 1 format(s): 248+251\n",
      "[info] Writing video metadata as JSON to: /data/notebooks/DATA-ISBAINE/Youtube/Temp data/ly8cHrDSyrM.info.json\n"
     ]
    },
    {
     "name": "stderr",
     "output_type": "stream",
     "text": [
      " 79%|███████▉  | 261/329 [04:56<01:11,  1.05s/it]DeprecationWarning: Support for Python version 3.6 has been deprecated and will break in future versions of yt-dlp! Please update to Python 3.7 or above\n"
     ]
    },
    {
     "name": "stdout",
     "output_type": "stream",
     "text": [
      "[youtube] mLy4_orWzkA: Downloading webpage\n",
      "[youtube] mLy4_orWzkA: Downloading android player API JSON\n",
      "[youtube] Downloading comment section API JSON\n",
      "[youtube] Downloading ~1 comments\n",
      "[youtube] Sorting comments by newest first\n",
      "[youtube] Downloading comment API JSON page 1 (0/1)\n",
      "[youtube] Extracted 1 comments\n",
      "[info] mLy4_orWzkA: Downloading 1 format(s): 302+251\n",
      "[info] Writing video metadata as JSON to: /data/notebooks/DATA-ISBAINE/Youtube/Temp data/mLy4_orWzkA.info.json\n"
     ]
    },
    {
     "name": "stderr",
     "output_type": "stream",
     "text": [
      " 80%|███████▉  | 262/329 [04:57<01:12,  1.08s/it]DeprecationWarning: Support for Python version 3.6 has been deprecated and will break in future versions of yt-dlp! Please update to Python 3.7 or above\n"
     ]
    },
    {
     "name": "stdout",
     "output_type": "stream",
     "text": [
      "[youtube] maPHTqBqPvY: Downloading webpage\n",
      "[youtube] maPHTqBqPvY: Downloading android player API JSON\n",
      "[youtube] maPHTqBqPvY: Downloading MPD manifest\n",
      "[youtube] maPHTqBqPvY: Downloading MPD manifest\n",
      "[youtube] Downloading comment section API JSON\n",
      "[youtube] Sorting comments by newest first\n",
      "[youtube] Downloading comment API JSON page 1 (0/0)\n",
      "[youtube] Extracted 0 comments\n",
      "[info] maPHTqBqPvY: Downloading 1 format(s): 248+251\n",
      "[info] Writing video metadata as JSON to: /data/notebooks/DATA-ISBAINE/Youtube/Temp data/maPHTqBqPvY.info.json\n"
     ]
    },
    {
     "name": "stderr",
     "output_type": "stream",
     "text": [
      " 80%|███████▉  | 263/329 [04:58<01:13,  1.12s/it]DeprecationWarning: Support for Python version 3.6 has been deprecated and will break in future versions of yt-dlp! Please update to Python 3.7 or above\n"
     ]
    },
    {
     "name": "stdout",
     "output_type": "stream",
     "text": [
      "[youtube] mhDf0XSTuK8: Downloading webpage\n",
      "[youtube] mhDf0XSTuK8: Downloading android player API JSON\n",
      "[youtube] mhDf0XSTuK8: Downloading MPD manifest\n",
      "[youtube] mhDf0XSTuK8: Downloading MPD manifest\n",
      "[youtube] Downloading comment section API JSON\n",
      "[youtube] Downloading ~1 comments\n",
      "[youtube] Sorting comments by newest first\n",
      "[youtube] Downloading comment API JSON page 1 (0/1)\n",
      "[youtube] Extracted 1 comments\n",
      "[info] mhDf0XSTuK8: Downloading 1 format(s): 248+251\n",
      "[info] Writing video metadata as JSON to: /data/notebooks/DATA-ISBAINE/Youtube/Temp data/mhDf0XSTuK8.info.json\n"
     ]
    },
    {
     "name": "stderr",
     "output_type": "stream",
     "text": [
      " 80%|████████  | 264/329 [04:59<01:16,  1.18s/it]DeprecationWarning: Support for Python version 3.6 has been deprecated and will break in future versions of yt-dlp! Please update to Python 3.7 or above\n"
     ]
    },
    {
     "name": "stdout",
     "output_type": "stream",
     "text": [
      "[youtube] nISwqrPTWYg: Downloading webpage\n",
      "[youtube] nISwqrPTWYg: Downloading android player API JSON\n",
      "[youtube] nISwqrPTWYg: Downloading MPD manifest\n",
      "[youtube] nISwqrPTWYg: Downloading MPD manifest\n",
      "[youtube] Downloading comment section API JSON\n",
      "[youtube] Downloading ~1 comments\n",
      "[youtube] Sorting comments by newest first\n",
      "[youtube] Downloading comment API JSON page 1 (0/1)\n",
      "[youtube] Extracted 1 comments\n",
      "[info] nISwqrPTWYg: Downloading 1 format(s): 248+251\n",
      "[info] Writing video metadata as JSON to: /data/notebooks/DATA-ISBAINE/Youtube/Temp data/nISwqrPTWYg.info.json\n"
     ]
    },
    {
     "name": "stderr",
     "output_type": "stream",
     "text": [
      " 81%|████████  | 265/329 [05:01<01:21,  1.27s/it]DeprecationWarning: Support for Python version 3.6 has been deprecated and will break in future versions of yt-dlp! Please update to Python 3.7 or above\n"
     ]
    },
    {
     "name": "stdout",
     "output_type": "stream",
     "text": [
      "[youtube] nP_RaHKEPJY: Downloading webpage\n",
      "[youtube] nP_RaHKEPJY: Downloading android player API JSON\n",
      "[youtube] Downloading comment section API JSON\n"
     ]
    },
    {
     "name": "stderr",
     "output_type": "stream",
     "text": [
      "WARNING: [youtube] nP_RaHKEPJY: Youtube said: Comments are turned off. \n"
     ]
    },
    {
     "name": "stdout",
     "output_type": "stream",
     "text": [
      "[youtube] Extracted 0 comments\n",
      "[info] nP_RaHKEPJY: Downloading 1 format(s): 248+251\n",
      "[info] Writing video metadata as JSON to: /data/notebooks/DATA-ISBAINE/Youtube/Temp data/nP_RaHKEPJY.info.json\n"
     ]
    },
    {
     "name": "stderr",
     "output_type": "stream",
     "text": [
      " 81%|████████  | 266/329 [05:02<01:10,  1.11s/it]DeprecationWarning: Support for Python version 3.6 has been deprecated and will break in future versions of yt-dlp! Please update to Python 3.7 or above\n"
     ]
    },
    {
     "name": "stdout",
     "output_type": "stream",
     "text": [
      "[youtube] nW5L5nxV75s: Downloading webpage\n",
      "[youtube] nW5L5nxV75s: Downloading android player API JSON\n",
      "[youtube] Downloading comment section API JSON\n",
      "[youtube] Sorting comments by newest first\n",
      "[youtube] Downloading comment API JSON page 1 (0/0)\n",
      "[youtube] Extracted 0 comments\n",
      "[info] nW5L5nxV75s: Downloading 1 format(s): 303+251\n",
      "[info] Writing video metadata as JSON to: /data/notebooks/DATA-ISBAINE/Youtube/Temp data/nW5L5nxV75s.info.json\n"
     ]
    },
    {
     "name": "stderr",
     "output_type": "stream",
     "text": [
      " 81%|████████  | 267/329 [05:03<01:05,  1.06s/it]DeprecationWarning: Support for Python version 3.6 has been deprecated and will break in future versions of yt-dlp! Please update to Python 3.7 or above\n"
     ]
    },
    {
     "name": "stdout",
     "output_type": "stream",
     "text": [
      "[youtube] npBhPqj4nNE: Downloading webpage\n",
      "[youtube] npBhPqj4nNE: Downloading android player API JSON\n",
      "[youtube] Downloading comment section API JSON\n",
      "[youtube] Sorting comments by newest first\n",
      "[youtube] Downloading comment API JSON page 1 (0/0)\n",
      "[youtube] Extracted 0 comments\n",
      "[info] npBhPqj4nNE: Downloading 1 format(s): 248+251\n",
      "[info] Writing video metadata as JSON to: /data/notebooks/DATA-ISBAINE/Youtube/Temp data/npBhPqj4nNE.info.json\n"
     ]
    },
    {
     "name": "stderr",
     "output_type": "stream",
     "text": [
      " 81%|████████▏ | 268/329 [05:04<01:02,  1.02s/it]DeprecationWarning: Support for Python version 3.6 has been deprecated and will break in future versions of yt-dlp! Please update to Python 3.7 or above\n"
     ]
    },
    {
     "name": "stdout",
     "output_type": "stream",
     "text": [
      "[youtube] nurMiZQ0rfY: Downloading webpage\n",
      "[youtube] nurMiZQ0rfY: Downloading android player API JSON\n",
      "[youtube] Downloading comment section API JSON\n",
      "[youtube] Sorting comments by newest first\n",
      "[youtube] Downloading comment API JSON page 1 (0/0)\n",
      "[youtube] Extracted 0 comments\n",
      "[info] nurMiZQ0rfY: Downloading 1 format(s): 248+251\n",
      "[info] Writing video metadata as JSON to: /data/notebooks/DATA-ISBAINE/Youtube/Temp data/nurMiZQ0rfY.info.json\n"
     ]
    },
    {
     "name": "stderr",
     "output_type": "stream",
     "text": [
      " 82%|████████▏ | 269/329 [05:04<00:59,  1.02it/s]DeprecationWarning: Support for Python version 3.6 has been deprecated and will break in future versions of yt-dlp! Please update to Python 3.7 or above\n"
     ]
    },
    {
     "name": "stdout",
     "output_type": "stream",
     "text": [
      "[youtube] oIffqciQzOg: Downloading webpage\n",
      "[youtube] oIffqciQzOg: Downloading android player API JSON\n",
      "[youtube] oIffqciQzOg: Downloading MPD manifest\n",
      "[youtube] oIffqciQzOg: Downloading MPD manifest\n",
      "[youtube] Downloading comment section API JSON\n",
      "[youtube] Sorting comments by newest first\n",
      "[youtube] Downloading comment API JSON page 1 (0/0)\n",
      "[youtube] Extracted 0 comments\n",
      "[info] oIffqciQzOg: Downloading 1 format(s): 248+251\n",
      "[info] Writing video metadata as JSON to: /data/notebooks/DATA-ISBAINE/Youtube/Temp data/oIffqciQzOg.info.json\n"
     ]
    },
    {
     "name": "stderr",
     "output_type": "stream",
     "text": [
      " 82%|████████▏ | 270/329 [05:06<01:02,  1.05s/it]DeprecationWarning: Support for Python version 3.6 has been deprecated and will break in future versions of yt-dlp! Please update to Python 3.7 or above\n"
     ]
    },
    {
     "name": "stdout",
     "output_type": "stream",
     "text": [
      "[youtube] p9qA-2NB5oE: Downloading webpage\n",
      "[youtube] p9qA-2NB5oE: Downloading android player API JSON\n",
      "[youtube] p9qA-2NB5oE: Downloading MPD manifest\n",
      "[youtube] p9qA-2NB5oE: Downloading MPD manifest\n",
      "[youtube] Downloading comment section API JSON\n",
      "[youtube] Downloading ~1 comments\n",
      "[youtube] Sorting comments by newest first\n",
      "[youtube] Downloading comment API JSON page 1 (0/1)\n",
      "[youtube] Extracted 1 comments\n",
      "[info] p9qA-2NB5oE: Downloading 1 format(s): 247+251\n",
      "[info] Writing video metadata as JSON to: /data/notebooks/DATA-ISBAINE/Youtube/Temp data/p9qA-2NB5oE.info.json\n"
     ]
    },
    {
     "name": "stderr",
     "output_type": "stream",
     "text": [
      " 82%|████████▏ | 271/329 [05:07<01:05,  1.14s/it]DeprecationWarning: Support for Python version 3.6 has been deprecated and will break in future versions of yt-dlp! Please update to Python 3.7 or above\n"
     ]
    },
    {
     "name": "stdout",
     "output_type": "stream",
     "text": [
      "[youtube] pAPvaNME9Mw: Downloading webpage\n",
      "[youtube] pAPvaNME9Mw: Downloading android player API JSON\n",
      "[youtube] Downloading comment section API JSON\n",
      "[youtube] Sorting comments by newest first\n",
      "[youtube] Downloading comment API JSON page 1 (0/0)\n",
      "[youtube] Extracted 0 comments\n",
      "[info] pAPvaNME9Mw: Downloading 1 format(s): 248+251\n",
      "[info] Writing video metadata as JSON to: /data/notebooks/DATA-ISBAINE/Youtube/Temp data/pAPvaNME9Mw.info.json\n"
     ]
    },
    {
     "name": "stderr",
     "output_type": "stream",
     "text": [
      " 83%|████████▎ | 272/329 [05:08<01:01,  1.07s/it]DeprecationWarning: Support for Python version 3.6 has been deprecated and will break in future versions of yt-dlp! Please update to Python 3.7 or above\n"
     ]
    },
    {
     "name": "stdout",
     "output_type": "stream",
     "text": [
      "[youtube] pEOHBwo6dyc: Downloading webpage\n",
      "[youtube] pEOHBwo6dyc: Downloading android player API JSON\n",
      "[youtube] Downloading comment section API JSON\n",
      "[youtube] Downloading ~1 comments\n",
      "[youtube] Sorting comments by newest first\n",
      "[youtube] Downloading comment API JSON page 1 (0/1)\n",
      "[youtube] Extracted 1 comments\n",
      "[info] pEOHBwo6dyc: Downloading 1 format(s): 248+251\n",
      "[info] Writing video metadata as JSON to: /data/notebooks/DATA-ISBAINE/Youtube/Temp data/pEOHBwo6dyc.info.json\n"
     ]
    },
    {
     "name": "stderr",
     "output_type": "stream",
     "text": [
      " 83%|████████▎ | 273/329 [05:09<00:57,  1.02s/it]DeprecationWarning: Support for Python version 3.6 has been deprecated and will break in future versions of yt-dlp! Please update to Python 3.7 or above\n"
     ]
    },
    {
     "name": "stdout",
     "output_type": "stream",
     "text": [
      "[youtube] pSn_dXs0Igo: Downloading webpage\n",
      "[youtube] pSn_dXs0Igo: Downloading android player API JSON\n",
      "[youtube] Downloading comment section API JSON\n",
      "[youtube] Sorting comments by newest first\n",
      "[youtube] Downloading comment API JSON page 1 (0/0)\n",
      "[youtube] Extracted 0 comments\n",
      "[info] pSn_dXs0Igo: Downloading 1 format(s): 248+251\n",
      "[info] Writing video metadata as JSON to: /data/notebooks/DATA-ISBAINE/Youtube/Temp data/pSn_dXs0Igo.info.json\n"
     ]
    },
    {
     "name": "stderr",
     "output_type": "stream",
     "text": [
      " 83%|████████▎ | 274/329 [05:10<00:51,  1.07it/s]DeprecationWarning: Support for Python version 3.6 has been deprecated and will break in future versions of yt-dlp! Please update to Python 3.7 or above\n"
     ]
    },
    {
     "name": "stdout",
     "output_type": "stream",
     "text": [
      "[youtube] pZrz9mUsW5E: Downloading webpage\n",
      "[youtube] pZrz9mUsW5E: Downloading android player API JSON\n",
      "[youtube] Downloading comment section API JSON\n",
      "[youtube] Sorting comments by newest first\n",
      "[youtube] Downloading comment API JSON page 1 (0/0)\n",
      "[youtube] Extracted 0 comments\n",
      "[info] pZrz9mUsW5E: Downloading 1 format(s): 248+251\n",
      "[info] Writing video metadata as JSON to: /data/notebooks/DATA-ISBAINE/Youtube/Temp data/pZrz9mUsW5E.info.json\n"
     ]
    },
    {
     "name": "stderr",
     "output_type": "stream",
     "text": [
      " 84%|████████▎ | 275/329 [05:10<00:47,  1.15it/s]DeprecationWarning: Support for Python version 3.6 has been deprecated and will break in future versions of yt-dlp! Please update to Python 3.7 or above\n"
     ]
    },
    {
     "name": "stdout",
     "output_type": "stream",
     "text": [
      "[youtube] pg_Ttr_jmEA: Downloading webpage\n",
      "[youtube] pg_Ttr_jmEA: Downloading android player API JSON\n",
      "[youtube] Downloading comment section API JSON\n",
      "[youtube] Downloading ~16 comments\n",
      "[youtube] Sorting comments by newest first\n",
      "[youtube] Downloading comment API JSON page 1 (0/16)\n",
      "[youtube]     Downloading comment API JSON reply thread 1 (4/16)\n",
      "[youtube]     Downloading comment API JSON reply thread 2 (6/16)\n",
      "[youtube] Extracted 15 comments\n",
      "[info] pg_Ttr_jmEA: Downloading 1 format(s): 248+251\n",
      "[info] Writing video metadata as JSON to: /data/notebooks/DATA-ISBAINE/Youtube/Temp data/pg_Ttr_jmEA.info.json\n"
     ]
    },
    {
     "name": "stderr",
     "output_type": "stream",
     "text": [
      " 84%|████████▍ | 276/329 [05:11<00:50,  1.04it/s]DeprecationWarning: Support for Python version 3.6 has been deprecated and will break in future versions of yt-dlp! Please update to Python 3.7 or above\n"
     ]
    },
    {
     "name": "stdout",
     "output_type": "stream",
     "text": [
      "[youtube] pqQMBojOKKI: Downloading webpage\n",
      "[youtube] pqQMBojOKKI: Downloading android player API JSON\n",
      "[youtube] Downloading comment section API JSON\n",
      "[youtube] Sorting comments by newest first\n",
      "[youtube] Downloading comment API JSON page 1 (0/0)\n",
      "[youtube] Extracted 0 comments\n",
      "[info] pqQMBojOKKI: Downloading 1 format(s): 247+251\n",
      "[info] Writing video metadata as JSON to: /data/notebooks/DATA-ISBAINE/Youtube/Temp data/pqQMBojOKKI.info.json\n"
     ]
    },
    {
     "name": "stderr",
     "output_type": "stream",
     "text": [
      " 84%|████████▍ | 277/329 [05:12<00:47,  1.09it/s]DeprecationWarning: Support for Python version 3.6 has been deprecated and will break in future versions of yt-dlp! Please update to Python 3.7 or above\n"
     ]
    },
    {
     "name": "stdout",
     "output_type": "stream",
     "text": [
      "[youtube] pwIQdS8YKQU: Downloading webpage\n",
      "[youtube] pwIQdS8YKQU: Downloading android player API JSON\n",
      "[youtube] Downloading comment section API JSON\n",
      "[youtube] Downloading ~1 comments\n",
      "[youtube] Sorting comments by newest first\n",
      "[youtube] Downloading comment API JSON page 1 (0/1)\n",
      "[youtube] Extracted 1 comments\n",
      "[info] pwIQdS8YKQU: Downloading 1 format(s): 248+251\n",
      "[info] Writing video metadata as JSON to: /data/notebooks/DATA-ISBAINE/Youtube/Temp data/pwIQdS8YKQU.info.json\n"
     ]
    },
    {
     "name": "stderr",
     "output_type": "stream",
     "text": [
      " 84%|████████▍ | 278/329 [05:13<00:48,  1.06it/s]DeprecationWarning: Support for Python version 3.6 has been deprecated and will break in future versions of yt-dlp! Please update to Python 3.7 or above\n"
     ]
    },
    {
     "name": "stdout",
     "output_type": "stream",
     "text": [
      "[youtube] q45Wn7b5PeA: Downloading webpage\n",
      "[youtube] q45Wn7b5PeA: Downloading android player API JSON\n",
      "[youtube] q45Wn7b5PeA: Downloading MPD manifest\n",
      "[youtube] q45Wn7b5PeA: Downloading MPD manifest\n",
      "[youtube] Downloading comment section API JSON\n",
      "[youtube] Sorting comments by newest first\n",
      "[youtube] Downloading comment API JSON page 1 (0/0)\n",
      "[youtube] Extracted 0 comments\n",
      "[info] q45Wn7b5PeA: Downloading 1 format(s): 248+251\n",
      "[info] Writing video metadata as JSON to: /data/notebooks/DATA-ISBAINE/Youtube/Temp data/q45Wn7b5PeA.info.json\n"
     ]
    },
    {
     "name": "stderr",
     "output_type": "stream",
     "text": [
      " 85%|████████▍ | 279/329 [05:14<00:50,  1.01s/it]DeprecationWarning: Support for Python version 3.6 has been deprecated and will break in future versions of yt-dlp! Please update to Python 3.7 or above\n"
     ]
    },
    {
     "name": "stdout",
     "output_type": "stream",
     "text": [
      "[youtube] q65Ohc2Y9rI: Downloading webpage\n",
      "[youtube] q65Ohc2Y9rI: Downloading android player API JSON\n",
      "[youtube] Downloading comment section API JSON\n",
      "[youtube] Sorting comments by newest first\n",
      "[youtube] Downloading comment API JSON page 1 (0/0)\n",
      "[youtube] Extracted 0 comments\n",
      "[info] q65Ohc2Y9rI: Downloading 1 format(s): 247+251\n",
      "[info] Writing video metadata as JSON to: /data/notebooks/DATA-ISBAINE/Youtube/Temp data/q65Ohc2Y9rI.info.json\n"
     ]
    },
    {
     "name": "stderr",
     "output_type": "stream",
     "text": [
      " 85%|████████▌ | 280/329 [05:15<00:46,  1.04it/s]DeprecationWarning: Support for Python version 3.6 has been deprecated and will break in future versions of yt-dlp! Please update to Python 3.7 or above\n"
     ]
    },
    {
     "name": "stdout",
     "output_type": "stream",
     "text": [
      "[youtube] qkVOVw2dMIY: Downloading webpage\n",
      "[youtube] qkVOVw2dMIY: Downloading android player API JSON\n",
      "[youtube] Downloading comment section API JSON\n",
      "[youtube] Sorting comments by newest first\n",
      "[youtube] Downloading comment API JSON page 1 (0/0)\n",
      "[youtube] Extracted 0 comments\n",
      "[info] qkVOVw2dMIY: Downloading 1 format(s): 248+251\n",
      "[info] Writing video metadata as JSON to: /data/notebooks/DATA-ISBAINE/Youtube/Temp data/qkVOVw2dMIY.info.json\n"
     ]
    },
    {
     "name": "stderr",
     "output_type": "stream",
     "text": [
      " 85%|████████▌ | 281/329 [05:16<00:45,  1.06it/s]DeprecationWarning: Support for Python version 3.6 has been deprecated and will break in future versions of yt-dlp! Please update to Python 3.7 or above\n"
     ]
    },
    {
     "name": "stdout",
     "output_type": "stream",
     "text": [
      "[youtube] ribk_6jXzjg: Downloading webpage\n",
      "[youtube] ribk_6jXzjg: Downloading android player API JSON\n",
      "[youtube] ribk_6jXzjg: Downloading MPD manifest\n",
      "[youtube] ribk_6jXzjg: Downloading MPD manifest\n",
      "[youtube] Downloading comment section API JSON\n",
      "[youtube] Sorting comments by newest first\n",
      "[youtube] Downloading comment API JSON page 1 (0/0)\n",
      "[youtube] Extracted 0 comments\n",
      "[info] ribk_6jXzjg: Downloading 1 format(s): 247+251\n",
      "[info] Writing video metadata as JSON to: /data/notebooks/DATA-ISBAINE/Youtube/Temp data/ribk_6jXzjg.info.json\n"
     ]
    },
    {
     "name": "stderr",
     "output_type": "stream",
     "text": [
      " 86%|████████▌ | 282/329 [05:17<00:45,  1.03it/s]DeprecationWarning: Support for Python version 3.6 has been deprecated and will break in future versions of yt-dlp! Please update to Python 3.7 or above\n"
     ]
    },
    {
     "name": "stdout",
     "output_type": "stream",
     "text": [
      "[youtube] rjRGlIbvfyc: Downloading webpage\n",
      "[youtube] rjRGlIbvfyc: Downloading android player API JSON\n",
      "[youtube] rjRGlIbvfyc: Downloading MPD manifest\n",
      "[youtube] rjRGlIbvfyc: Downloading MPD manifest\n",
      "[youtube] Downloading comment section API JSON\n",
      "[youtube] Sorting comments by newest first\n",
      "[youtube] Downloading comment API JSON page 1 (0/0)\n",
      "[youtube] Extracted 0 comments\n",
      "[info] rjRGlIbvfyc: Downloading 1 format(s): 248+251\n",
      "[info] Writing video metadata as JSON to: /data/notebooks/DATA-ISBAINE/Youtube/Temp data/rjRGlIbvfyc.info.json\n"
     ]
    },
    {
     "name": "stderr",
     "output_type": "stream",
     "text": [
      " 86%|████████▌ | 283/329 [05:18<00:48,  1.05s/it]DeprecationWarning: Support for Python version 3.6 has been deprecated and will break in future versions of yt-dlp! Please update to Python 3.7 or above\n"
     ]
    },
    {
     "name": "stdout",
     "output_type": "stream",
     "text": [
      "[youtube] rq1zXIQh_V0: Downloading webpage\n",
      "[youtube] rq1zXIQh_V0: Downloading android player API JSON\n",
      "[youtube] rq1zXIQh_V0: Downloading MPD manifest\n",
      "[youtube] rq1zXIQh_V0: Downloading MPD manifest\n",
      "[youtube] Downloading comment section API JSON\n",
      "[youtube] Sorting comments by newest first\n",
      "[youtube] Downloading comment API JSON page 1 (0/0)\n",
      "[youtube] Extracted 0 comments\n",
      "[info] rq1zXIQh_V0: Downloading 1 format(s): 302+140\n",
      "[info] Writing video metadata as JSON to: /data/notebooks/DATA-ISBAINE/Youtube/Temp data/rq1zXIQh_V0.info.json\n"
     ]
    },
    {
     "name": "stderr",
     "output_type": "stream",
     "text": [
      " 86%|████████▋ | 284/329 [05:20<00:49,  1.10s/it]DeprecationWarning: Support for Python version 3.6 has been deprecated and will break in future versions of yt-dlp! Please update to Python 3.7 or above\n"
     ]
    },
    {
     "name": "stdout",
     "output_type": "stream",
     "text": [
      "[youtube] ryfcVVhOsdg: Downloading webpage\n",
      "[youtube] ryfcVVhOsdg: Downloading android player API JSON\n",
      "[youtube] Downloading comment section API JSON\n",
      "[youtube] Downloading ~1 comments\n",
      "[youtube] Sorting comments by newest first\n",
      "[youtube] Downloading comment API JSON page 1 (0/1)\n",
      "[youtube] Extracted 1 comments\n",
      "[info] ryfcVVhOsdg: Downloading 1 format(s): 248+251\n",
      "[info] Writing video metadata as JSON to: /data/notebooks/DATA-ISBAINE/Youtube/Temp data/ryfcVVhOsdg.info.json\n"
     ]
    },
    {
     "name": "stderr",
     "output_type": "stream",
     "text": [
      " 87%|████████▋ | 285/329 [05:21<00:48,  1.11s/it]DeprecationWarning: Support for Python version 3.6 has been deprecated and will break in future versions of yt-dlp! Please update to Python 3.7 or above\n"
     ]
    },
    {
     "name": "stdout",
     "output_type": "stream",
     "text": [
      "[youtube] s-hW1YGi2ZE: Downloading webpage\n",
      "[youtube] s-hW1YGi2ZE: Downloading android player API JSON\n",
      "[youtube] Downloading comment section API JSON\n",
      "[youtube] Sorting comments by newest first\n",
      "[youtube] Downloading comment API JSON page 1 (0/0)\n",
      "[youtube] Extracted 0 comments\n",
      "[info] s-hW1YGi2ZE: Downloading 1 format(s): 248+251\n",
      "[info] Writing video metadata as JSON to: /data/notebooks/DATA-ISBAINE/Youtube/Temp data/s-hW1YGi2ZE.info.json\n"
     ]
    },
    {
     "name": "stderr",
     "output_type": "stream",
     "text": [
      " 87%|████████▋ | 286/329 [05:22<00:43,  1.02s/it]DeprecationWarning: Support for Python version 3.6 has been deprecated and will break in future versions of yt-dlp! Please update to Python 3.7 or above\n"
     ]
    },
    {
     "name": "stdout",
     "output_type": "stream",
     "text": [
      "[youtube] s866vSq1gxc: Downloading webpage\n",
      "[youtube] s866vSq1gxc: Downloading android player API JSON\n",
      "[youtube] s866vSq1gxc: Downloading MPD manifest\n",
      "[youtube] s866vSq1gxc: Downloading MPD manifest\n",
      "[youtube] Downloading comment section API JSON\n",
      "[youtube] Sorting comments by newest first\n",
      "[youtube] Downloading comment API JSON page 1 (0/0)\n",
      "[youtube] Extracted 0 comments\n",
      "[info] s866vSq1gxc: Downloading 1 format(s): 248+251\n",
      "[info] Writing video metadata as JSON to: /data/notebooks/DATA-ISBAINE/Youtube/Temp data/s866vSq1gxc.info.json\n"
     ]
    },
    {
     "name": "stderr",
     "output_type": "stream",
     "text": [
      " 87%|████████▋ | 287/329 [05:23<00:45,  1.07s/it]DeprecationWarning: Support for Python version 3.6 has been deprecated and will break in future versions of yt-dlp! Please update to Python 3.7 or above\n"
     ]
    },
    {
     "name": "stdout",
     "output_type": "stream",
     "text": [
      "[youtube] sH97JkNULZs: Downloading webpage\n",
      "[youtube] sH97JkNULZs: Downloading android player API JSON\n",
      "[youtube] sH97JkNULZs: Downloading MPD manifest\n",
      "[youtube] sH97JkNULZs: Downloading MPD manifest\n",
      "[youtube] Downloading comment section API JSON\n",
      "[youtube] Downloading ~2 comments\n",
      "[youtube] Sorting comments by newest first\n",
      "[youtube] Downloading comment API JSON page 1 (0/2)\n",
      "[youtube] Extracted 2 comments\n",
      "[info] sH97JkNULZs: Downloading 1 format(s): 248+251\n",
      "[info] Writing video metadata as JSON to: /data/notebooks/DATA-ISBAINE/Youtube/Temp data/sH97JkNULZs.info.json\n"
     ]
    },
    {
     "name": "stderr",
     "output_type": "stream",
     "text": [
      " 88%|████████▊ | 288/329 [05:24<00:48,  1.18s/it]DeprecationWarning: Support for Python version 3.6 has been deprecated and will break in future versions of yt-dlp! Please update to Python 3.7 or above\n"
     ]
    },
    {
     "name": "stdout",
     "output_type": "stream",
     "text": [
      "[youtube] sMLNwgEncA8: Downloading webpage\n",
      "[youtube] sMLNwgEncA8: Downloading android player API JSON\n",
      "[youtube] Downloading comment section API JSON\n",
      "[youtube] Downloading ~1 comments\n",
      "[youtube] Sorting comments by newest first\n",
      "[youtube] Downloading comment API JSON page 1 (0/1)\n",
      "[youtube] Extracted 1 comments\n",
      "[info] sMLNwgEncA8: Downloading 1 format(s): 248+251\n",
      "[info] Writing video metadata as JSON to: /data/notebooks/DATA-ISBAINE/Youtube/Temp data/sMLNwgEncA8.info.json\n"
     ]
    },
    {
     "name": "stderr",
     "output_type": "stream",
     "text": [
      " 88%|████████▊ | 289/329 [05:25<00:46,  1.17s/it]DeprecationWarning: Support for Python version 3.6 has been deprecated and will break in future versions of yt-dlp! Please update to Python 3.7 or above\n"
     ]
    },
    {
     "name": "stdout",
     "output_type": "stream",
     "text": [
      "[youtube] sQcMnhsvu7Y: Downloading webpage\n",
      "[youtube] sQcMnhsvu7Y: Downloading android player API JSON\n",
      "[youtube] sQcMnhsvu7Y: Downloading MPD manifest\n",
      "[youtube] sQcMnhsvu7Y: Downloading MPD manifest\n",
      "[youtube] Downloading comment section API JSON\n",
      "[youtube] Sorting comments by newest first\n",
      "[youtube] Downloading comment API JSON page 1 (0/0)\n",
      "[youtube] Extracted 0 comments\n",
      "[info] sQcMnhsvu7Y: Downloading 1 format(s): 302+251\n",
      "[info] Writing video metadata as JSON to: /data/notebooks/DATA-ISBAINE/Youtube/Temp data/sQcMnhsvu7Y.info.json\n"
     ]
    },
    {
     "name": "stderr",
     "output_type": "stream",
     "text": [
      " 88%|████████▊ | 290/329 [05:27<00:46,  1.18s/it]DeprecationWarning: Support for Python version 3.6 has been deprecated and will break in future versions of yt-dlp! Please update to Python 3.7 or above\n"
     ]
    },
    {
     "name": "stdout",
     "output_type": "stream",
     "text": [
      "[youtube] sxFRABRSPgY: Downloading webpage\n",
      "[youtube] sxFRABRSPgY: Downloading android player API JSON\n",
      "[youtube] Downloading comment section API JSON\n",
      "[youtube] Sorting comments by newest first\n",
      "[youtube] Downloading comment API JSON page 1 (0/0)\n",
      "[youtube] Extracted 0 comments\n",
      "[info] sxFRABRSPgY: Downloading 1 format(s): 247+251\n",
      "[info] Writing video metadata as JSON to: /data/notebooks/DATA-ISBAINE/Youtube/Temp data/sxFRABRSPgY.info.json\n"
     ]
    },
    {
     "name": "stderr",
     "output_type": "stream",
     "text": [
      " 88%|████████▊ | 291/329 [05:27<00:41,  1.09s/it]DeprecationWarning: Support for Python version 3.6 has been deprecated and will break in future versions of yt-dlp! Please update to Python 3.7 or above\n"
     ]
    },
    {
     "name": "stdout",
     "output_type": "stream",
     "text": [
      "[youtube] t0VeUqB2BYo: Downloading webpage\n",
      "[youtube] t0VeUqB2BYo: Downloading android player API JSON\n",
      "[youtube] t0VeUqB2BYo: Downloading MPD manifest\n",
      "[youtube] t0VeUqB2BYo: Downloading MPD manifest\n",
      "[youtube] Downloading comment section API JSON\n",
      "[youtube] Sorting comments by newest first\n",
      "[youtube] Downloading comment API JSON page 1 (0/0)\n",
      "[youtube] Extracted 0 comments\n",
      "[info] t0VeUqB2BYo: Downloading 1 format(s): 303+251\n",
      "[info] Writing video metadata as JSON to: /data/notebooks/DATA-ISBAINE/Youtube/Temp data/t0VeUqB2BYo.info.json\n"
     ]
    },
    {
     "name": "stderr",
     "output_type": "stream",
     "text": [
      " 89%|████████▉ | 292/329 [05:29<00:40,  1.10s/it]DeprecationWarning: Support for Python version 3.6 has been deprecated and will break in future versions of yt-dlp! Please update to Python 3.7 or above\n"
     ]
    },
    {
     "name": "stdout",
     "output_type": "stream",
     "text": [
      "[youtube] t5hu2I4lDYc: Downloading webpage\n",
      "[youtube] t5hu2I4lDYc: Downloading android player API JSON\n",
      "[youtube] t5hu2I4lDYc: Downloading MPD manifest\n",
      "[youtube] t5hu2I4lDYc: Downloading MPD manifest\n",
      "[youtube] Downloading comment section API JSON\n",
      "[youtube] Sorting comments by newest first\n",
      "[youtube] Downloading comment API JSON page 1 (0/0)\n",
      "[youtube] Extracted 0 comments\n",
      "[info] t5hu2I4lDYc: Downloading 1 format(s): 248+251\n",
      "[info] Writing video metadata as JSON to: /data/notebooks/DATA-ISBAINE/Youtube/Temp data/t5hu2I4lDYc.info.json\n"
     ]
    },
    {
     "name": "stderr",
     "output_type": "stream",
     "text": [
      " 89%|████████▉ | 293/329 [05:30<00:41,  1.14s/it]DeprecationWarning: Support for Python version 3.6 has been deprecated and will break in future versions of yt-dlp! Please update to Python 3.7 or above\n"
     ]
    },
    {
     "name": "stdout",
     "output_type": "stream",
     "text": [
      "[youtube] tDQrpa66FgU: Downloading webpage\n",
      "[youtube] tDQrpa66FgU: Downloading android player API JSON\n",
      "[youtube] Downloading comment section API JSON\n",
      "[youtube] Sorting comments by newest first\n",
      "[youtube] Downloading comment API JSON page 1 (0/0)\n",
      "[youtube] Extracted 0 comments\n",
      "[info] tDQrpa66FgU: Downloading 1 format(s): 248+251\n",
      "[info] Writing video metadata as JSON to: /data/notebooks/DATA-ISBAINE/Youtube/Temp data/tDQrpa66FgU.info.json\n"
     ]
    },
    {
     "name": "stderr",
     "output_type": "stream",
     "text": [
      " 89%|████████▉ | 294/329 [05:31<00:36,  1.04s/it]DeprecationWarning: Support for Python version 3.6 has been deprecated and will break in future versions of yt-dlp! Please update to Python 3.7 or above\n"
     ]
    },
    {
     "name": "stdout",
     "output_type": "stream",
     "text": [
      "[youtube] tISETsFG8Lg: Downloading webpage\n",
      "[youtube] tISETsFG8Lg: Downloading android player API JSON\n",
      "[youtube] Downloading comment section API JSON\n",
      "[youtube] Sorting comments by newest first\n",
      "[youtube] Downloading comment API JSON page 1 (0/0)\n",
      "[youtube] Extracted 0 comments\n",
      "[info] tISETsFG8Lg: Downloading 1 format(s): 248+251\n",
      "[info] Writing video metadata as JSON to: /data/notebooks/DATA-ISBAINE/Youtube/Temp data/tISETsFG8Lg.info.json\n"
     ]
    },
    {
     "name": "stderr",
     "output_type": "stream",
     "text": [
      " 90%|████████▉ | 295/329 [05:32<00:34,  1.02s/it]DeprecationWarning: Support for Python version 3.6 has been deprecated and will break in future versions of yt-dlp! Please update to Python 3.7 or above\n"
     ]
    },
    {
     "name": "stdout",
     "output_type": "stream",
     "text": [
      "[youtube] tofvNyzvFbk: Downloading webpage\n",
      "[youtube] tofvNyzvFbk: Downloading android player API JSON\n",
      "[youtube] tofvNyzvFbk: Downloading MPD manifest\n",
      "[youtube] tofvNyzvFbk: Downloading MPD manifest\n",
      "[youtube] Downloading comment section API JSON\n",
      "[youtube] Sorting comments by newest first\n",
      "[youtube] Downloading comment API JSON page 1 (0/0)\n",
      "[youtube] Extracted 0 comments\n",
      "[info] tofvNyzvFbk: Downloading 1 format(s): 248+251\n",
      "[info] Writing video metadata as JSON to: /data/notebooks/DATA-ISBAINE/Youtube/Temp data/tofvNyzvFbk.info.json\n"
     ]
    },
    {
     "name": "stderr",
     "output_type": "stream",
     "text": [
      " 90%|████████▉ | 296/329 [05:33<00:34,  1.05s/it]DeprecationWarning: Support for Python version 3.6 has been deprecated and will break in future versions of yt-dlp! Please update to Python 3.7 or above\n"
     ]
    },
    {
     "name": "stdout",
     "output_type": "stream",
     "text": [
      "[youtube] tq5ALQl5G8U: Downloading webpage\n",
      "[youtube] tq5ALQl5G8U: Downloading android player API JSON\n",
      "[youtube] tq5ALQl5G8U: Downloading MPD manifest\n",
      "[youtube] tq5ALQl5G8U: Downloading MPD manifest\n",
      "[youtube] Downloading comment section API JSON\n",
      "[youtube] Downloading ~2 comments\n",
      "[youtube] Sorting comments by newest first\n",
      "[youtube] Downloading comment API JSON page 1 (0/2)\n",
      "[youtube] Extracted 2 comments\n",
      "[info] tq5ALQl5G8U: Downloading 1 format(s): 247+251\n",
      "[info] Writing video metadata as JSON to: /data/notebooks/DATA-ISBAINE/Youtube/Temp data/tq5ALQl5G8U.info.json\n"
     ]
    },
    {
     "name": "stderr",
     "output_type": "stream",
     "text": [
      " 90%|█████████ | 297/329 [05:34<00:37,  1.16s/it]DeprecationWarning: Support for Python version 3.6 has been deprecated and will break in future versions of yt-dlp! Please update to Python 3.7 or above\n"
     ]
    },
    {
     "name": "stdout",
     "output_type": "stream",
     "text": [
      "[youtube] u0V2i1BiNrk: Downloading webpage\n",
      "[youtube] u0V2i1BiNrk: Downloading android player API JSON\n",
      "[youtube] u0V2i1BiNrk: Downloading MPD manifest\n",
      "[youtube] u0V2i1BiNrk: Downloading MPD manifest\n",
      "[youtube] Downloading comment section API JSON\n",
      "[youtube] Sorting comments by newest first\n",
      "[youtube] Downloading comment API JSON page 1 (0/0)\n",
      "[youtube] Extracted 0 comments\n",
      "[info] u0V2i1BiNrk: Downloading 1 format(s): 247+251\n",
      "[info] Writing video metadata as JSON to: /data/notebooks/DATA-ISBAINE/Youtube/Temp data/u0V2i1BiNrk.info.json\n"
     ]
    },
    {
     "name": "stderr",
     "output_type": "stream",
     "text": [
      " 91%|█████████ | 298/329 [05:35<00:36,  1.18s/it]DeprecationWarning: Support for Python version 3.6 has been deprecated and will break in future versions of yt-dlp! Please update to Python 3.7 or above\n"
     ]
    },
    {
     "name": "stdout",
     "output_type": "stream",
     "text": [
      "[youtube] uGqIfH-xUuE: Downloading webpage\n",
      "[youtube] uGqIfH-xUuE: Downloading android player API JSON\n",
      "[youtube] uGqIfH-xUuE: Downloading MPD manifest\n",
      "[youtube] uGqIfH-xUuE: Downloading MPD manifest\n",
      "[youtube] Downloading comment section API JSON\n",
      "[youtube] Sorting comments by newest first\n",
      "[youtube] Downloading comment API JSON page 1 (0/0)\n",
      "[youtube] Extracted 0 comments\n",
      "[info] uGqIfH-xUuE: Downloading 1 format(s): 248+251\n",
      "[info] Writing video metadata as JSON to: /data/notebooks/DATA-ISBAINE/Youtube/Temp data/uGqIfH-xUuE.info.json\n"
     ]
    },
    {
     "name": "stderr",
     "output_type": "stream",
     "text": [
      " 91%|█████████ | 299/329 [05:36<00:35,  1.17s/it]DeprecationWarning: Support for Python version 3.6 has been deprecated and will break in future versions of yt-dlp! Please update to Python 3.7 or above\n"
     ]
    },
    {
     "name": "stdout",
     "output_type": "stream",
     "text": [
      "[youtube] uHVZfZVOrcc: Downloading webpage\n",
      "[youtube] uHVZfZVOrcc: Downloading android player API JSON\n",
      "[youtube] Downloading comment section API JSON\n",
      "[youtube] Sorting comments by newest first\n",
      "[youtube] Downloading comment API JSON page 1 (0/0)\n",
      "[youtube] Extracted 0 comments\n",
      "[info] uHVZfZVOrcc: Downloading 1 format(s): 247+251\n",
      "[info] Writing video metadata as JSON to: /data/notebooks/DATA-ISBAINE/Youtube/Temp data/uHVZfZVOrcc.info.json\n"
     ]
    },
    {
     "name": "stderr",
     "output_type": "stream",
     "text": [
      " 91%|█████████ | 300/329 [05:37<00:30,  1.07s/it]DeprecationWarning: Support for Python version 3.6 has been deprecated and will break in future versions of yt-dlp! Please update to Python 3.7 or above\n"
     ]
    },
    {
     "name": "stdout",
     "output_type": "stream",
     "text": [
      "[youtube] uLamZGGdvaU: Downloading webpage\n",
      "[youtube] uLamZGGdvaU: Downloading android player API JSON\n",
      "[youtube] Downloading comment section API JSON\n",
      "[youtube] Sorting comments by newest first\n",
      "[youtube] Downloading comment API JSON page 1 (0/0)\n",
      "[youtube] Extracted 0 comments\n",
      "[info] uLamZGGdvaU: Downloading 1 format(s): 248+251\n",
      "[info] Writing video metadata as JSON to: /data/notebooks/DATA-ISBAINE/Youtube/Temp data/uLamZGGdvaU.info.json\n"
     ]
    },
    {
     "name": "stderr",
     "output_type": "stream",
     "text": [
      " 91%|█████████▏| 301/329 [05:38<00:27,  1.01it/s]DeprecationWarning: Support for Python version 3.6 has been deprecated and will break in future versions of yt-dlp! Please update to Python 3.7 or above\n"
     ]
    },
    {
     "name": "stdout",
     "output_type": "stream",
     "text": [
      "[youtube] vBk2xEsDVCc: Downloading webpage\n",
      "[youtube] vBk2xEsDVCc: Downloading android player API JSON\n",
      "[youtube] Downloading comment section API JSON\n",
      "[youtube] Sorting comments by newest first\n",
      "[youtube] Downloading comment API JSON page 1 (0/0)\n",
      "[youtube] Extracted 0 comments\n",
      "[info] vBk2xEsDVCc: Downloading 1 format(s): 244+251\n",
      "[info] Writing video metadata as JSON to: /data/notebooks/DATA-ISBAINE/Youtube/Temp data/vBk2xEsDVCc.info.json\n"
     ]
    },
    {
     "name": "stderr",
     "output_type": "stream",
     "text": [
      " 92%|█████████▏| 302/329 [05:39<00:26,  1.02it/s]DeprecationWarning: Support for Python version 3.6 has been deprecated and will break in future versions of yt-dlp! Please update to Python 3.7 or above\n"
     ]
    },
    {
     "name": "stdout",
     "output_type": "stream",
     "text": [
      "[youtube] vH8QFJqt00g: Downloading webpage\n",
      "[youtube] vH8QFJqt00g: Downloading android player API JSON\n",
      "[youtube] vH8QFJqt00g: Downloading MPD manifest\n",
      "[youtube] vH8QFJqt00g: Downloading MPD manifest\n",
      "[youtube] Downloading comment section API JSON\n",
      "[youtube] Sorting comments by newest first\n",
      "[youtube] Downloading comment API JSON page 1 (0/0)\n",
      "[youtube] Extracted 0 comments\n",
      "[info] vH8QFJqt00g: Downloading 1 format(s): 247+251\n",
      "[info] Writing video metadata as JSON to: /data/notebooks/DATA-ISBAINE/Youtube/Temp data/vH8QFJqt00g.info.json\n"
     ]
    },
    {
     "name": "stderr",
     "output_type": "stream",
     "text": [
      " 92%|█████████▏| 303/329 [05:40<00:27,  1.04s/it]DeprecationWarning: Support for Python version 3.6 has been deprecated and will break in future versions of yt-dlp! Please update to Python 3.7 or above\n"
     ]
    },
    {
     "name": "stdout",
     "output_type": "stream",
     "text": [
      "[youtube] vHj_SUK8sH0: Downloading webpage\n",
      "[youtube] vHj_SUK8sH0: Downloading android player API JSON\n",
      "[youtube] Downloading comment section API JSON\n",
      "[youtube] Downloading ~1 comments\n",
      "[youtube] Sorting comments by newest first\n",
      "[youtube] Downloading comment API JSON page 1 (0/1)\n",
      "[youtube] Extracted 1 comments\n",
      "[info] vHj_SUK8sH0: Downloading 1 format(s): 244+251\n",
      "[info] Writing video metadata as JSON to: /data/notebooks/DATA-ISBAINE/Youtube/Temp data/vHj_SUK8sH0.info.json\n"
     ]
    },
    {
     "name": "stderr",
     "output_type": "stream",
     "text": [
      " 92%|█████████▏| 304/329 [05:41<00:26,  1.05s/it]DeprecationWarning: Support for Python version 3.6 has been deprecated and will break in future versions of yt-dlp! Please update to Python 3.7 or above\n"
     ]
    },
    {
     "name": "stdout",
     "output_type": "stream",
     "text": [
      "[youtube] vWFjpR6m0zY: Downloading webpage\n",
      "[youtube] vWFjpR6m0zY: Downloading android player API JSON\n",
      "[youtube] Downloading comment section API JSON\n",
      "[youtube] Downloading ~4 comments\n",
      "[youtube] Sorting comments by newest first\n",
      "[youtube] Downloading comment API JSON page 1 (0/4)\n",
      "[youtube] Extracted 4 comments\n",
      "[info] vWFjpR6m0zY: Downloading 1 format(s): 302+251\n",
      "[info] Writing video metadata as JSON to: /data/notebooks/DATA-ISBAINE/Youtube/Temp data/vWFjpR6m0zY.info.json\n"
     ]
    },
    {
     "name": "stderr",
     "output_type": "stream",
     "text": [
      " 93%|█████████▎| 305/329 [05:42<00:25,  1.08s/it]DeprecationWarning: Support for Python version 3.6 has been deprecated and will break in future versions of yt-dlp! Please update to Python 3.7 or above\n"
     ]
    },
    {
     "name": "stdout",
     "output_type": "stream",
     "text": [
      "[youtube] vY61qFULcYs: Downloading webpage\n",
      "[youtube] vY61qFULcYs: Downloading android player API JSON\n",
      "[youtube] Downloading comment section API JSON\n",
      "[youtube] Downloading ~1 comments\n",
      "[youtube] Sorting comments by newest first\n",
      "[youtube] Downloading comment API JSON page 1 (0/1)\n",
      "[youtube] Extracted 1 comments\n",
      "[info] vY61qFULcYs: Downloading 1 format(s): 248+251\n",
      "[info] Writing video metadata as JSON to: /data/notebooks/DATA-ISBAINE/Youtube/Temp data/vY61qFULcYs.info.json\n"
     ]
    },
    {
     "name": "stderr",
     "output_type": "stream",
     "text": [
      " 93%|█████████▎| 306/329 [05:44<00:24,  1.07s/it]DeprecationWarning: Support for Python version 3.6 has been deprecated and will break in future versions of yt-dlp! Please update to Python 3.7 or above\n"
     ]
    },
    {
     "name": "stdout",
     "output_type": "stream",
     "text": [
      "[youtube] vyawmjTLW8U: Downloading webpage\n",
      "[youtube] vyawmjTLW8U: Downloading android player API JSON\n",
      "[youtube] vyawmjTLW8U: Downloading MPD manifest\n",
      "[youtube] vyawmjTLW8U: Downloading MPD manifest\n",
      "[youtube] Downloading comment section API JSON\n",
      "[youtube] Sorting comments by newest first\n",
      "[youtube] Downloading comment API JSON page 1 (0/0)\n",
      "[youtube] Extracted 0 comments\n",
      "[info] vyawmjTLW8U: Downloading 1 format(s): 248+251\n",
      "[info] Writing video metadata as JSON to: /data/notebooks/DATA-ISBAINE/Youtube/Temp data/vyawmjTLW8U.info.json\n"
     ]
    },
    {
     "name": "stderr",
     "output_type": "stream",
     "text": [
      " 93%|█████████▎| 307/329 [05:45<00:24,  1.13s/it]DeprecationWarning: Support for Python version 3.6 has been deprecated and will break in future versions of yt-dlp! Please update to Python 3.7 or above\n"
     ]
    },
    {
     "name": "stdout",
     "output_type": "stream",
     "text": [
      "[youtube] wEwFTERiX3c: Downloading webpage\n",
      "[youtube] wEwFTERiX3c: Downloading android player API JSON\n",
      "[youtube] Downloading comment section API JSON\n",
      "[youtube] Sorting comments by newest first\n",
      "[youtube] Downloading comment API JSON page 1 (0/0)\n",
      "[youtube] Extracted 0 comments\n",
      "[info] wEwFTERiX3c: Downloading 1 format(s): 247+251\n",
      "[info] Writing video metadata as JSON to: /data/notebooks/DATA-ISBAINE/Youtube/Temp data/wEwFTERiX3c.info.json\n"
     ]
    },
    {
     "name": "stderr",
     "output_type": "stream",
     "text": [
      " 94%|█████████▎| 308/329 [05:46<00:21,  1.04s/it]DeprecationWarning: Support for Python version 3.6 has been deprecated and will break in future versions of yt-dlp! Please update to Python 3.7 or above\n"
     ]
    },
    {
     "name": "stdout",
     "output_type": "stream",
     "text": [
      "[youtube] w_WrqpgvAeg: Downloading webpage\n",
      "[youtube] w_WrqpgvAeg: Downloading android player API JSON\n",
      "[youtube] Downloading comment section API JSON\n",
      "[youtube] Sorting comments by newest first\n",
      "[youtube] Downloading comment API JSON page 1 (0/0)\n",
      "[youtube] Extracted 0 comments\n",
      "[info] w_WrqpgvAeg: Downloading 1 format(s): 248+251\n",
      "[info] Writing video metadata as JSON to: /data/notebooks/DATA-ISBAINE/Youtube/Temp data/w_WrqpgvAeg.info.json\n"
     ]
    },
    {
     "name": "stderr",
     "output_type": "stream",
     "text": [
      " 94%|█████████▍| 309/329 [05:46<00:19,  1.04it/s]DeprecationWarning: Support for Python version 3.6 has been deprecated and will break in future versions of yt-dlp! Please update to Python 3.7 or above\n"
     ]
    },
    {
     "name": "stdout",
     "output_type": "stream",
     "text": [
      "[youtube] wz3g41iih-4: Downloading webpage\n",
      "[youtube] wz3g41iih-4: Downloading android player API JSON\n",
      "[youtube] Downloading comment section API JSON\n",
      "[youtube] Sorting comments by newest first\n",
      "[youtube] Downloading comment API JSON page 1 (0/0)\n",
      "[youtube] Extracted 0 comments\n",
      "[info] wz3g41iih-4: Downloading 1 format(s): 248+251\n",
      "[info] Writing video metadata as JSON to: /data/notebooks/DATA-ISBAINE/Youtube/Temp data/wz3g41iih-4.info.json\n"
     ]
    },
    {
     "name": "stderr",
     "output_type": "stream",
     "text": [
      " 94%|█████████▍| 310/329 [05:47<00:17,  1.10it/s]DeprecationWarning: Support for Python version 3.6 has been deprecated and will break in future versions of yt-dlp! Please update to Python 3.7 or above\n"
     ]
    },
    {
     "name": "stdout",
     "output_type": "stream",
     "text": [
      "[youtube] wzpJHF4R1ec: Downloading webpage\n",
      "[youtube] wzpJHF4R1ec: Downloading android player API JSON\n",
      "[youtube] wzpJHF4R1ec: Downloading MPD manifest\n",
      "[youtube] wzpJHF4R1ec: Downloading MPD manifest\n",
      "[youtube] Downloading comment section API JSON\n",
      "[youtube] Sorting comments by newest first\n",
      "[youtube] Downloading comment API JSON page 1 (0/0)\n",
      "[youtube] Extracted 0 comments\n",
      "[info] wzpJHF4R1ec: Downloading 1 format(s): 248+251\n",
      "[info] Writing video metadata as JSON to: /data/notebooks/DATA-ISBAINE/Youtube/Temp data/wzpJHF4R1ec.info.json\n"
     ]
    },
    {
     "name": "stderr",
     "output_type": "stream",
     "text": [
      " 95%|█████████▍| 311/329 [05:48<00:18,  1.03s/it]DeprecationWarning: Support for Python version 3.6 has been deprecated and will break in future versions of yt-dlp! Please update to Python 3.7 or above\n"
     ]
    },
    {
     "name": "stdout",
     "output_type": "stream",
     "text": [
      "[youtube] xOzc5ozTfUg: Downloading webpage\n",
      "[youtube] xOzc5ozTfUg: Downloading android player API JSON\n",
      "[youtube] xOzc5ozTfUg: Downloading MPD manifest\n",
      "[youtube] xOzc5ozTfUg: Downloading MPD manifest\n",
      "[youtube] Downloading comment section API JSON\n",
      "[youtube] Downloading ~1 comments\n",
      "[youtube] Sorting comments by newest first\n",
      "[youtube] Downloading comment API JSON page 1 (0/1)\n",
      "[youtube] Extracted 1 comments\n",
      "[info] xOzc5ozTfUg: Downloading 1 format(s): 247+251\n",
      "[info] Writing video metadata as JSON to: /data/notebooks/DATA-ISBAINE/Youtube/Temp data/xOzc5ozTfUg.info.json\n"
     ]
    },
    {
     "name": "stderr",
     "output_type": "stream",
     "text": [
      " 95%|█████████▍| 312/329 [05:50<00:18,  1.09s/it]DeprecationWarning: Support for Python version 3.6 has been deprecated and will break in future versions of yt-dlp! Please update to Python 3.7 or above\n"
     ]
    },
    {
     "name": "stdout",
     "output_type": "stream",
     "text": [
      "[youtube] xQILTSBxb8Q: Downloading webpage\n",
      "[youtube] xQILTSBxb8Q: Downloading android player API JSON\n",
      "[youtube] Downloading comment section API JSON\n",
      "[youtube] Sorting comments by newest first\n",
      "[youtube] Downloading comment API JSON page 1 (0/0)\n",
      "[youtube] Extracted 0 comments\n",
      "[info] xQILTSBxb8Q: Downloading 1 format(s): 248+251\n",
      "[info] Writing video metadata as JSON to: /data/notebooks/DATA-ISBAINE/Youtube/Temp data/xQILTSBxb8Q.info.json\n"
     ]
    },
    {
     "name": "stderr",
     "output_type": "stream",
     "text": [
      " 95%|█████████▌| 313/329 [05:51<00:16,  1.04s/it]DeprecationWarning: Support for Python version 3.6 has been deprecated and will break in future versions of yt-dlp! Please update to Python 3.7 or above\n"
     ]
    },
    {
     "name": "stdout",
     "output_type": "stream",
     "text": [
      "[youtube] xZT9101HzZo: Downloading webpage\n",
      "[youtube] xZT9101HzZo: Downloading android player API JSON\n",
      "[youtube] xZT9101HzZo: Downloading MPD manifest\n",
      "[youtube] xZT9101HzZo: Downloading MPD manifest\n",
      "[youtube] Downloading comment section API JSON\n",
      "[youtube] Sorting comments by newest first\n",
      "[youtube] Downloading comment API JSON page 1 (0/0)\n",
      "[youtube] Extracted 0 comments\n",
      "[info] xZT9101HzZo: Downloading 1 format(s): 247+251\n",
      "[info] Writing video metadata as JSON to: /data/notebooks/DATA-ISBAINE/Youtube/Temp data/xZT9101HzZo.info.json\n"
     ]
    },
    {
     "name": "stderr",
     "output_type": "stream",
     "text": [
      " 95%|█████████▌| 314/329 [05:52<00:16,  1.13s/it]DeprecationWarning: Support for Python version 3.6 has been deprecated and will break in future versions of yt-dlp! Please update to Python 3.7 or above\n"
     ]
    },
    {
     "name": "stdout",
     "output_type": "stream",
     "text": [
      "[youtube] xdSj7DuD77Q: Downloading webpage\n",
      "[youtube] xdSj7DuD77Q: Downloading android player API JSON\n",
      "[youtube] Downloading comment section API JSON\n",
      "[youtube] Downloading ~2 comments\n",
      "[youtube] Sorting comments by newest first\n",
      "[youtube] Downloading comment API JSON page 1 (0/2)\n",
      "[youtube] Extracted 2 comments\n",
      "[info] xdSj7DuD77Q: Downloading 1 format(s): 247+251\n",
      "[info] Writing video metadata as JSON to: /data/notebooks/DATA-ISBAINE/Youtube/Temp data/xdSj7DuD77Q.info.json\n"
     ]
    },
    {
     "name": "stderr",
     "output_type": "stream",
     "text": [
      " 96%|█████████▌| 315/329 [05:53<00:15,  1.10s/it]DeprecationWarning: Support for Python version 3.6 has been deprecated and will break in future versions of yt-dlp! Please update to Python 3.7 or above\n"
     ]
    },
    {
     "name": "stdout",
     "output_type": "stream",
     "text": [
      "[youtube] xn_mFtHTptI: Downloading webpage\n",
      "[youtube] xn_mFtHTptI: Downloading android player API JSON\n",
      "[youtube] xn_mFtHTptI: Downloading MPD manifest\n",
      "[youtube] xn_mFtHTptI: Downloading MPD manifest\n",
      "[youtube] Downloading comment section API JSON\n",
      "[youtube] Sorting comments by newest first\n",
      "[youtube] Downloading comment API JSON page 1 (0/0)\n",
      "[youtube] Extracted 0 comments\n",
      "[info] xn_mFtHTptI: Downloading 1 format(s): 248+251\n",
      "[info] Writing video metadata as JSON to: /data/notebooks/DATA-ISBAINE/Youtube/Temp data/xn_mFtHTptI.info.json\n"
     ]
    },
    {
     "name": "stderr",
     "output_type": "stream",
     "text": [
      " 96%|█████████▌| 316/329 [05:54<00:14,  1.12s/it]DeprecationWarning: Support for Python version 3.6 has been deprecated and will break in future versions of yt-dlp! Please update to Python 3.7 or above\n"
     ]
    },
    {
     "name": "stdout",
     "output_type": "stream",
     "text": [
      "[youtube] xpjuA20Ias4: Downloading webpage\n",
      "[youtube] xpjuA20Ias4: Downloading android player API JSON\n",
      "[youtube] Downloading comment section API JSON\n",
      "[youtube] Sorting comments by newest first\n",
      "[youtube] Downloading comment API JSON page 1 (0/0)\n",
      "[youtube] Extracted 0 comments\n",
      "[info] xpjuA20Ias4: Downloading 1 format(s): 247+251\n",
      "[info] Writing video metadata as JSON to: /data/notebooks/DATA-ISBAINE/Youtube/Temp data/xpjuA20Ias4.info.json\n"
     ]
    },
    {
     "name": "stderr",
     "output_type": "stream",
     "text": [
      " 96%|█████████▋| 317/329 [05:55<00:12,  1.02s/it]DeprecationWarning: Support for Python version 3.6 has been deprecated and will break in future versions of yt-dlp! Please update to Python 3.7 or above\n"
     ]
    },
    {
     "name": "stdout",
     "output_type": "stream",
     "text": [
      "[youtube] xrk9xLq6HVI: Downloading webpage\n",
      "[youtube] xrk9xLq6HVI: Downloading android player API JSON\n",
      "[youtube] xrk9xLq6HVI: Downloading MPD manifest\n",
      "[youtube] xrk9xLq6HVI: Downloading MPD manifest\n",
      "[youtube] Downloading comment section API JSON\n",
      "[youtube] Downloading ~1 comments\n",
      "[youtube] Sorting comments by newest first\n",
      "[youtube] Downloading comment API JSON page 1 (0/1)\n",
      "[youtube] Extracted 1 comments\n",
      "[info] xrk9xLq6HVI: Downloading 1 format(s): 248+251\n",
      "[info] Writing video metadata as JSON to: /data/notebooks/DATA-ISBAINE/Youtube/Temp data/xrk9xLq6HVI.info.json\n"
     ]
    },
    {
     "name": "stderr",
     "output_type": "stream",
     "text": [
      " 97%|█████████▋| 318/329 [05:56<00:12,  1.12s/it]DeprecationWarning: Support for Python version 3.6 has been deprecated and will break in future versions of yt-dlp! Please update to Python 3.7 or above\n"
     ]
    },
    {
     "name": "stdout",
     "output_type": "stream",
     "text": [
      "[youtube] yM6ef2snm88: Downloading webpage\n",
      "[youtube] yM6ef2snm88: Downloading android player API JSON\n",
      "[youtube] Downloading comment section API JSON\n",
      "[youtube] Downloading ~1 comments\n",
      "[youtube] Sorting comments by newest first\n",
      "[youtube] Downloading comment API JSON page 1 (0/1)\n",
      "[youtube] Extracted 1 comments\n",
      "[info] yM6ef2snm88: Downloading 1 format(s): 248+251\n",
      "[info] Writing video metadata as JSON to: /data/notebooks/DATA-ISBAINE/Youtube/Temp data/yM6ef2snm88.info.json\n"
     ]
    },
    {
     "name": "stderr",
     "output_type": "stream",
     "text": [
      " 97%|█████████▋| 319/329 [05:57<00:10,  1.09s/it]DeprecationWarning: Support for Python version 3.6 has been deprecated and will break in future versions of yt-dlp! Please update to Python 3.7 or above\n"
     ]
    },
    {
     "name": "stdout",
     "output_type": "stream",
     "text": [
      "[youtube] yOJechNAIKg: Downloading webpage\n",
      "[youtube] yOJechNAIKg: Downloading android player API JSON\n",
      "[youtube] yOJechNAIKg: Downloading MPD manifest\n",
      "[youtube] yOJechNAIKg: Downloading MPD manifest\n",
      "[youtube] Downloading comment section API JSON\n",
      "[youtube] Sorting comments by newest first\n",
      "[youtube] Downloading comment API JSON page 1 (0/0)\n",
      "[youtube] Extracted 0 comments\n",
      "[info] yOJechNAIKg: Downloading 1 format(s): 247+251\n",
      "[info] Writing video metadata as JSON to: /data/notebooks/DATA-ISBAINE/Youtube/Temp data/yOJechNAIKg.info.json\n"
     ]
    },
    {
     "name": "stderr",
     "output_type": "stream",
     "text": [
      " 97%|█████████▋| 320/329 [05:59<00:10,  1.14s/it]DeprecationWarning: Support for Python version 3.6 has been deprecated and will break in future versions of yt-dlp! Please update to Python 3.7 or above\n"
     ]
    },
    {
     "name": "stdout",
     "output_type": "stream",
     "text": [
      "[youtube] yoxiAvz-R8k: Downloading webpage\n",
      "[youtube] yoxiAvz-R8k: Downloading android player API JSON\n",
      "[youtube] Downloading comment section API JSON\n",
      "[youtube] Sorting comments by newest first\n",
      "[youtube] Downloading comment API JSON page 1 (0/0)\n",
      "[youtube] Extracted 0 comments\n",
      "[info] yoxiAvz-R8k: Downloading 1 format(s): 248+251\n",
      "[info] Writing video metadata as JSON to: /data/notebooks/DATA-ISBAINE/Youtube/Temp data/yoxiAvz-R8k.info.json\n"
     ]
    },
    {
     "name": "stderr",
     "output_type": "stream",
     "text": [
      " 98%|█████████▊| 321/329 [05:59<00:08,  1.06s/it]DeprecationWarning: Support for Python version 3.6 has been deprecated and will break in future versions of yt-dlp! Please update to Python 3.7 or above\n"
     ]
    },
    {
     "name": "stdout",
     "output_type": "stream",
     "text": [
      "[youtube] yqXR_VFVrog: Downloading webpage\n",
      "[youtube] yqXR_VFVrog: Downloading android player API JSON\n",
      "[youtube] yqXR_VFVrog: Downloading MPD manifest\n",
      "[youtube] yqXR_VFVrog: Downloading MPD manifest\n",
      "[youtube] Downloading comment section API JSON\n",
      "[youtube] Downloading ~1 comments\n",
      "[youtube] Sorting comments by newest first\n",
      "[youtube] Downloading comment API JSON page 1 (0/1)\n",
      "[youtube] Extracted 1 comments\n",
      "[info] yqXR_VFVrog: Downloading 1 format(s): 247+251\n",
      "[info] Writing video metadata as JSON to: /data/notebooks/DATA-ISBAINE/Youtube/Temp data/yqXR_VFVrog.info.json\n"
     ]
    },
    {
     "name": "stderr",
     "output_type": "stream",
     "text": [
      " 98%|█████████▊| 322/329 [06:01<00:08,  1.14s/it]DeprecationWarning: Support for Python version 3.6 has been deprecated and will break in future versions of yt-dlp! Please update to Python 3.7 or above\n"
     ]
    },
    {
     "name": "stdout",
     "output_type": "stream",
     "text": [
      "[youtube] z3Tywr6swUg: Downloading webpage\n",
      "[youtube] z3Tywr6swUg: Downloading android player API JSON\n",
      "[youtube] Downloading comment section API JSON\n",
      "[youtube] Downloading ~2 comments\n",
      "[youtube] Sorting comments by newest first\n",
      "[youtube] Downloading comment API JSON page 1 (0/2)\n",
      "[youtube] Extracted 2 comments\n",
      "[info] z3Tywr6swUg: Downloading 1 format(s): 247+251\n",
      "[info] Writing video metadata as JSON to: /data/notebooks/DATA-ISBAINE/Youtube/Temp data/z3Tywr6swUg.info.json\n"
     ]
    },
    {
     "name": "stderr",
     "output_type": "stream",
     "text": [
      " 98%|█████████▊| 323/329 [06:02<00:06,  1.11s/it]DeprecationWarning: Support for Python version 3.6 has been deprecated and will break in future versions of yt-dlp! Please update to Python 3.7 or above\n"
     ]
    },
    {
     "name": "stdout",
     "output_type": "stream",
     "text": [
      "[youtube] z51iUvauJC4: Downloading webpage\n",
      "[youtube] z51iUvauJC4: Downloading android player API JSON\n",
      "[youtube] z51iUvauJC4: Downloading MPD manifest\n",
      "[youtube] z51iUvauJC4: Downloading MPD manifest\n",
      "[youtube] Downloading comment section API JSON\n",
      "[youtube] Sorting comments by newest first\n",
      "[youtube] Downloading comment API JSON page 1 (0/0)\n",
      "[youtube] Extracted 0 comments\n",
      "[info] z51iUvauJC4: Downloading 1 format(s): 247+251\n",
      "[info] Writing video metadata as JSON to: /data/notebooks/DATA-ISBAINE/Youtube/Temp data/z51iUvauJC4.info.json\n"
     ]
    },
    {
     "name": "stderr",
     "output_type": "stream",
     "text": [
      " 98%|█████████▊| 324/329 [06:03<00:05,  1.14s/it]DeprecationWarning: Support for Python version 3.6 has been deprecated and will break in future versions of yt-dlp! Please update to Python 3.7 or above\n"
     ]
    },
    {
     "name": "stdout",
     "output_type": "stream",
     "text": [
      "[youtube] z5jYYBsLPV4: Downloading webpage\n",
      "[youtube] z5jYYBsLPV4: Downloading android player API JSON\n",
      "[youtube] z5jYYBsLPV4: Downloading MPD manifest\n",
      "[youtube] z5jYYBsLPV4: Downloading MPD manifest\n",
      "[youtube] Downloading comment section API JSON\n",
      "[youtube] Sorting comments by newest first\n",
      "[youtube] Downloading comment API JSON page 1 (0/0)\n",
      "[youtube] Extracted 0 comments\n",
      "[info] z5jYYBsLPV4: Downloading 1 format(s): 248+251\n",
      "[info] Writing video metadata as JSON to: /data/notebooks/DATA-ISBAINE/Youtube/Temp data/z5jYYBsLPV4.info.json\n"
     ]
    },
    {
     "name": "stderr",
     "output_type": "stream",
     "text": [
      " 99%|█████████▉| 325/329 [06:04<00:04,  1.20s/it]DeprecationWarning: Support for Python version 3.6 has been deprecated and will break in future versions of yt-dlp! Please update to Python 3.7 or above\n"
     ]
    },
    {
     "name": "stdout",
     "output_type": "stream",
     "text": [
      "[youtube] zFjnFW3f4vc: Downloading webpage\n",
      "[youtube] zFjnFW3f4vc: Downloading android player API JSON\n",
      "[youtube] zFjnFW3f4vc: Downloading MPD manifest\n",
      "[youtube] zFjnFW3f4vc: Downloading MPD manifest\n",
      "[youtube] Downloading comment section API JSON\n",
      "[youtube] Sorting comments by newest first\n",
      "[youtube] Downloading comment API JSON page 1 (0/0)\n",
      "[youtube] Extracted 0 comments\n",
      "[info] zFjnFW3f4vc: Downloading 1 format(s): 248+251\n",
      "[info] Writing video metadata as JSON to: /data/notebooks/DATA-ISBAINE/Youtube/Temp data/zFjnFW3f4vc.info.json\n"
     ]
    },
    {
     "name": "stderr",
     "output_type": "stream",
     "text": [
      " 99%|█████████▉| 326/329 [06:06<00:03,  1.24s/it]DeprecationWarning: Support for Python version 3.6 has been deprecated and will break in future versions of yt-dlp! Please update to Python 3.7 or above\n"
     ]
    },
    {
     "name": "stdout",
     "output_type": "stream",
     "text": [
      "[youtube] zbe_F8kj2jA: Downloading webpage\n",
      "[youtube] zbe_F8kj2jA: Downloading android player API JSON\n",
      "[youtube] Downloading comment section API JSON\n",
      "[youtube] Downloading ~2 comments\n",
      "[youtube] Sorting comments by newest first\n",
      "[youtube] Downloading comment API JSON page 1 (0/2)\n",
      "[youtube] Extracted 2 comments\n",
      "[info] zbe_F8kj2jA: Downloading 1 format(s): 248+251\n",
      "[info] Writing video metadata as JSON to: /data/notebooks/DATA-ISBAINE/Youtube/Temp data/zbe_F8kj2jA.info.json\n"
     ]
    },
    {
     "name": "stderr",
     "output_type": "stream",
     "text": [
      " 99%|█████████▉| 327/329 [06:07<00:02,  1.16s/it]DeprecationWarning: Support for Python version 3.6 has been deprecated and will break in future versions of yt-dlp! Please update to Python 3.7 or above\n"
     ]
    },
    {
     "name": "stdout",
     "output_type": "stream",
     "text": [
      "[youtube] zhFJwxpejDU: Downloading webpage\n",
      "[youtube] zhFJwxpejDU: Downloading android player API JSON\n",
      "[youtube] zhFJwxpejDU: Downloading MPD manifest\n",
      "[youtube] zhFJwxpejDU: Downloading MPD manifest\n",
      "[youtube] Downloading comment section API JSON\n",
      "[youtube] Downloading ~4 comments\n",
      "[youtube] Sorting comments by newest first\n",
      "[youtube] Downloading comment API JSON page 1 (0/4)\n",
      "[youtube] Extracted 4 comments\n",
      "[info] zhFJwxpejDU: Downloading 1 format(s): 248+251\n",
      "[info] Writing video metadata as JSON to: /data/notebooks/DATA-ISBAINE/Youtube/Temp data/zhFJwxpejDU.info.json\n"
     ]
    },
    {
     "name": "stderr",
     "output_type": "stream",
     "text": [
      "100%|█████████▉| 328/329 [06:08<00:01,  1.22s/it]DeprecationWarning: Support for Python version 3.6 has been deprecated and will break in future versions of yt-dlp! Please update to Python 3.7 or above\n"
     ]
    },
    {
     "name": "stdout",
     "output_type": "stream",
     "text": [
      "[youtube] zy7bETitQ4k: Downloading webpage\n",
      "[youtube] zy7bETitQ4k: Downloading android player API JSON\n",
      "[youtube] Downloading comment section API JSON\n",
      "[youtube] Sorting comments by newest first\n",
      "[youtube] Downloading comment API JSON page 1 (0/0)\n",
      "[youtube] Extracted 0 comments\n",
      "[info] zy7bETitQ4k: Downloading 1 format(s): 248+251\n",
      "[info] Writing video metadata as JSON to: /data/notebooks/DATA-ISBAINE/Youtube/Temp data/zy7bETitQ4k.info.json\n"
     ]
    },
    {
     "name": "stderr",
     "output_type": "stream",
     "text": [
      "100%|██████████| 329/329 [06:09<00:00,  1.12s/it]\n"
     ]
    }
   ],
   "source": [
    "main()"
   ]
  },
  {
   "cell_type": "code",
   "execution_count": null,
   "id": "a42f2d7b",
   "metadata": {},
   "outputs": [],
   "source": [
    "\"\"\"def search_keywords(keywords):\n",
    "    driver.get(\"https://www.youtube.com/?persist_gl=1&gl=SN\")\n",
    "    try:\n",
    "        search_input = driver.find_elements(by=By.XPATH, value=\"//body[1]/ytd-app[1]/div[1]/div[1]/ytd-masthead[1]/div[3]/div[2]/ytd-searchbox[1]/form[1]/div[1]/div[1]/input[1]\")\n",
    "        # Finding the search field by id\n",
    "        # Sending input text to search field\n",
    "        search_input.send_keys(keywords)\n",
    "\n",
    "        # Pressing enter to search input text\n",
    "        search_input.send_keys(Keys.ENTER)\n",
    "        time.sleep(1)\n",
    "        \n",
    "        while True:\n",
    "        scroll_height = 2000\n",
    "        document_height_before = driver.execute_script(\"return document.documentElement.scrollHeight\")\n",
    "        driver.execute_script(f\"window.scrollTo(0, {document_height_before + scroll_height});\")\n",
    "        time.sleep(1.5)\n",
    "        document_height_after = driver.execute_script(\"return document.documentElement.scrollHeight\")\n",
    "        if document_height_after == document_height_before or :\n",
    "            break\n",
    "        #//body[1]/ytd-app[1]/div[1]/ytd-page-manager[1]/ytd-search[1]/div[1]/ytd-two-column-search-results-renderer[1]/div[1]/ytd-section-list-renderer[1]/div[2]/ytd-item-section-renderer[3]/div[3]/ytd-video-renderer[20]/div[1]/div[1]/div[1]/div[1]/h3[1]/a[1]\n",
    "        #title-and-badge style-scope ytd-video-renderer\n",
    "    except:\n",
    "        print(\"Error\")\n",
    "#//body/ytd-app[1]/div[1]/ytd-page-manager[1]/ytd-browse[1]/ytd-two-column-browse-results-renderer[1]/div[1]/ytd-section-list-renderer[1]/div[2]/ytd-item-section-renderer[14]/div[3]/ytd-video-renderer[1]/div[1]/div[1]/div[1]/div[1]/h3[1]/a[1]\n",
    "#//body/ytd-app[1]/div[1]/ytd-page-manager[1]/ytd-browse[1]/ytd-two-column-browse-results-renderer[1]/div[1]/ytd-section-list-renderer[1]/div[2]/ytd-item-section-renderer[15]/div[3]/ytd-video-renderer[1]/div[1]/div[1]/div[1]/div[1]/h3[1]/a[1]\"\"\""
   ]
  }
 ],
 "metadata": {
  "kernelspec": {
   "display_name": "Python 3",
   "language": "python",
   "name": "python3"
  },
  "language_info": {
   "codemirror_mode": {
    "name": "ipython",
    "version": 3
   },
   "file_extension": ".py",
   "mimetype": "text/x-python",
   "name": "python",
   "nbconvert_exporter": "python",
   "pygments_lexer": "ipython3",
   "version": "3.6.9"
  }
 },
 "nbformat": 4,
 "nbformat_minor": 5
}
