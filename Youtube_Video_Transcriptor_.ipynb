{
  "cells": [
    {
      "cell_type": "markdown",
      "id": "b5d9c80d",
      "metadata": {
        "id": "b5d9c80d"
      },
      "source": [
        "## <p style=\"text-align:center\" color=\"red\"><span style=\"color:red\">Youtube Video Transcriptor</span></p>\n",
        "\n",
        "\n",
        "\n",
        "<table align=\"center\">\n",
        "  <td>\n",
        "    <a target=\"_blank\" href=\"https://colab.research.google.com/github/labrijisaad/Youtube-video-transcriptor\"><img src=\"https://www.tensorflow.org/images/colab_logo_32px.png\" />Run in Google Colab</a>\n",
        "  </td>\n",
        "</table>\n",
        "\n",
        "- **`This script is meant to be run in google colaboratory!`**\n",
        "- This script can sometimes not detect text correctly, it's mainly due to noises or the way we speak in the video (speaking too fast or too slow)\n",
        "- The general idea summary model is a community model available at [Huggingface](https://huggingface.co/) , it can sometimes get the general idea wrong, especially if there is a lack of data.\n",
        "\n",
        "\n",
        "> 🙌 Notebook made by [@labriji_saad](https://github.com/labrijisaad)"
      ]
    },
    {
      "cell_type": "markdown",
      "id": "7641e4ac",
      "metadata": {
        "id": "7641e4ac"
      },
      "source": [
        "### Installing the requirements"
      ]
    },
    {
      "cell_type": "code",
      "execution_count": 1,
      "id": "fcf14904",
      "metadata": {
        "id": "fcf14904"
      },
      "outputs": [],
      "source": [
        "%%capture \n",
        "\n",
        "!pip install --upgrade yt_dlp\n",
        "!pip install pydub SpeechRecognition ffmpeg ffprobe googletrans==3.1.0a0 transformers"
      ]
    },
    {
      "cell_type": "code",
      "execution_count": 2,
      "id": "e9dd935c",
      "metadata": {
        "id": "e9dd935c"
      },
      "outputs": [],
      "source": [
        "import yt_dlp\n",
        "import time\n",
        "import re\n",
        "import os\n",
        "from pydub import AudioSegment\n",
        "import speech_recognition as sr\n",
        "import math\n",
        "from tqdm import tqdm\n",
        "from googletrans import Translator"
      ]
    },
    {
      "cell_type": "markdown",
      "id": "6eb09a2b",
      "metadata": {
        "id": "6eb09a2b"
      },
      "source": [
        "### Downloading the audio (`url = video_link`)\n",
        "> - Specify here the link of the video you want to transcribe."
      ]
    },
    {
      "cell_type": "code",
      "execution_count": 3,
      "id": "18ccbef7",
      "metadata": {
        "id": "18ccbef7"
      },
      "outputs": [],
      "source": [
        "url = \"https://www.youtube.com/watch?v=QGpmnA2JJ4U&ab_channel=VOALearningEnglish\""
      ]
    },
    {
      "cell_type": "code",
      "execution_count": 4,
      "id": "d5f80175",
      "metadata": {
        "colab": {
          "base_uri": "https://localhost:8080/"
        },
        "id": "d5f80175",
        "outputId": "5641d362-a07f-4a10-8ae8-40edfb62e3dc"
      },
      "outputs": [
        {
          "output_type": "stream",
          "name": "stdout",
          "text": [
            "[youtube] QGpmnA2JJ4U: Downloading webpage\n",
            "[youtube] QGpmnA2JJ4U: Downloading android player API JSON\n",
            "[youtube] QGpmnA2JJ4U: Downloading webpage\n",
            "[youtube] QGpmnA2JJ4U: Downloading android player API JSON\n",
            "[info] QGpmnA2JJ4U: Downloading 1 format(s): 140\n",
            "[download] Destination: ./Donald Trump Victory Speech.wav\n",
            "[download] 100% of 4.70MiB in 00:00                   \n",
            "[FixupM4a] Correcting container of \"./Donald Trump Victory Speech.wav\"\n",
            "[ExtractAudio] Destination: ./Donald Trump Victory Speech.wav\n",
            "Deleting original file ./Donald Trump Victory Speech.orig.wav (pass -k to keep)\n"
          ]
        }
      ],
      "source": [
        "ydl_opts={}\n",
        "\n",
        "with yt_dlp.YoutubeDL(ydl_opts) as ydl:\n",
        "        info_dict = ydl.extract_info(url, download=False)\n",
        "video_title = info_dict['title']\n",
        "video_name = re.sub('[\\\\\\\\/*?:\"<>|]', '', video_title)\n",
        "name = video_name\n",
        "ydl_opts = {\n",
        "     'format': 'm4a/bestaudio/best',\n",
        "         'noplaylist': True,\n",
        "         'continue_dl': True,\n",
        "         'outtmpl': f'./{name}.wav',\n",
        "         'postprocessors': [{\n",
        "             'key': 'FFmpegExtractAudio',\n",
        "             'preferredcodec': 'wav',\n",
        "             'preferredquality': '192',\n",
        "         }],\n",
        "         'geobypass':True,\n",
        "         'ffmpeg_location':'/usr/bin/ffmpeg'\n",
        " }\n",
        "\n",
        "with yt_dlp.YoutubeDL(ydl_opts) as ydl:\n",
        "     error_code = ydl.download(url)"
      ]
    },
    {
      "cell_type": "markdown",
      "id": "b147c9ba",
      "metadata": {
        "id": "b147c9ba"
      },
      "source": [
        "### Spliting the audio (`min_per_split = 1`)\n",
        "> - When it comes to using the free version of Google's transcriber (**`speech_recognition`**), there is a limit on the length of the video (or audio) that should not be exceeded (this limit is around 5 minutes ). To remedy this problem, the following script splits the video into one minute long intervals and puts the generated mini-videos in a directory that has a name in the form of **`split files for: Video_Name.wav`**"
      ]
    },
    {
      "cell_type": "code",
      "execution_count": 5,
      "id": "d48a25ae",
      "metadata": {
        "id": "d48a25ae"
      },
      "outputs": [],
      "source": [
        "class SplitWavAudioMubin():\n",
        "    def __init__(self, folder, filename):\n",
        "        self.folder = folder\n",
        "        self.filename = filename\n",
        "        self.filepath = folder + filename\n",
        "        self.audio = AudioSegment.from_wav(self.filepath)\n",
        "    \n",
        "    def get_duration(self):\n",
        "        return self.audio.duration_seconds\n",
        "    \n",
        "    def single_split(self, from_min, to_min, split_filename):\n",
        "        t1 = from_min * 60 * 1000\n",
        "        t2 = to_min * 60 * 1000\n",
        "        split_audio = self.audio[t1:t2]\n",
        "        split_audio.export(split_filename, format=\"wav\")\n",
        "        \n",
        "    def multiple_split(self, min_per_split):\n",
        "        total_mins = math.ceil(self.get_duration() / 60)\n",
        "        for i in range(0, total_mins, min_per_split):\n",
        "            split_fn = str(i) + '_' + self.filename\n",
        "            self.single_split(i, i+min_per_split, split_fn)\n",
        "            if i == total_mins - min_per_split:\n",
        "                print('All splited successfully')\n",
        "        print('>>> Video duration: ' + str(self.get_duration()))\n",
        "        \n",
        "def split_audio(file_name):\n",
        "    directory = \"splitted files for: \" + file_name\n",
        "    os.mkdir(directory)\n",
        "    os.chdir(directory)\n",
        "    split_wav = SplitWavAudioMubin(\"../\", file_name)\n",
        "    split_wav.multiple_split(min_per_split=1)"
      ]
    },
    {
      "cell_type": "code",
      "execution_count": 6,
      "id": "b98e9a78",
      "metadata": {
        "colab": {
          "base_uri": "https://localhost:8080/"
        },
        "id": "b98e9a78",
        "outputId": "4624c5a7-806a-484d-ad43-fc402ac1d03a"
      },
      "outputs": [
        {
          "output_type": "stream",
          "name": "stdout",
          "text": [
            "All splited successfully\n",
            ">>> Video duration: 304.7386848072562\n"
          ]
        }
      ],
      "source": [
        "file_name = \"{}.wav\".format(video_name)\n",
        "split_audio(file_name)"
      ]
    },
    {
      "cell_type": "markdown",
      "id": "e4a1ca8d",
      "metadata": {
        "id": "e4a1ca8d"
      },
      "source": [
        "### Recognizing the text (` language = \"en-US\"`) https://cloud.google.com/speech-to-text/docs/languages\n",
        "> - To perform text detection, we must first specify the language spoken in the video. To do this, we must search for the keyword equivalent to language in the language catalog available in the link on the title. ( In our case, it's **`English`** so the keyword is **`en-US`** )"
      ]
    },
    {
      "cell_type": "code",
      "execution_count": 7,
      "id": "94b639b9",
      "metadata": {
        "colab": {
          "base_uri": "https://localhost:8080/"
        },
        "id": "94b639b9",
        "outputId": "3a77e679-8b4b-482d-ef16-e14b30c3a65a"
      },
      "outputs": [
        {
          "output_type": "execute_result",
          "data": {
            "text/plain": [
              "['./0_Donald Trump Victory Speech.wav',\n",
              " './1_Donald Trump Victory Speech.wav',\n",
              " './2_Donald Trump Victory Speech.wav',\n",
              " './3_Donald Trump Victory Speech.wav',\n",
              " './4_Donald Trump Victory Speech.wav',\n",
              " './5_Donald Trump Victory Speech.wav']"
            ]
          },
          "metadata": {},
          "execution_count": 7
        }
      ],
      "source": [
        "search_dir = \"./\"\n",
        "files = filter(os.path.isfile, os.listdir(search_dir))\n",
        "files = [os.path.join(search_dir, f) for f in files] # add path to each file\n",
        "files.sort(key=lambda x: os.path.getmtime(x))\n",
        "files"
      ]
    },
    {
      "cell_type": "code",
      "execution_count": 8,
      "id": "485b9aa0",
      "metadata": {
        "scrolled": true,
        "colab": {
          "base_uri": "https://localhost:8080/"
        },
        "id": "485b9aa0",
        "outputId": "2e062791-2f6d-40eb-d468-68edf02d6160"
      },
      "outputs": [
        {
          "output_type": "stream",
          "name": "stderr",
          "text": [
            "100%|██████████| 6/6 [00:22<00:00,  3.74s/it]"
          ]
        },
        {
          "output_type": "stream",
          "name": "stdout",
          "text": [
            "\n"
          ]
        },
        {
          "output_type": "stream",
          "name": "stderr",
          "text": [
            "\n"
          ]
        }
      ],
      "source": [
        "texts = []\n",
        "recognizer = sr.Recognizer()\n",
        "\n",
        "for file in tqdm(files):\n",
        "    with sr.AudioFile(file) as source:\n",
        "        recorded_audio = recognizer.listen(source)\n",
        "    try:\n",
        "        text = recognizer.recognize_google(\n",
        "                recorded_audio, \n",
        "                language=\"en-US\" ## Replace with language keyword\n",
        "            )\n",
        "        texts.append(text)\n",
        "    except Exception as ex:\n",
        "        print(ex)"
      ]
    },
    {
      "cell_type": "code",
      "execution_count": 9,
      "id": "0c61b8db",
      "metadata": {
        "scrolled": false,
        "colab": {
          "base_uri": "https://localhost:8080/"
        },
        "id": "0c61b8db",
        "outputId": "aba1c188-6037-42f4-9ba9-2bd0ae4125f7"
      },
      "outputs": [
        {
          "output_type": "execute_result",
          "data": {
            "text/plain": [
              "[\"it is my high honor and distinct privilege to introduce to you the president-elect of the United States of America Donald Trump thank you very much everything I just received a call from secretary Clinton she congratulated us it's about us and I congratulated her and her family on a very very hard for campaign I mean she she fought very hard\",\n",
              " \"Hillary has worked very long and very hard over a long. Of time and we owe her a major debt of gratitude for her service to our country I mean that very soon soon now it's time for America to bind the wounds of division have to get together do all Republicans and Democrats and independents across this nation I say it is time for us to come together as one United people time I pledge that I will be president for all Americans and this is so important to me\",\n",
              " \"for those who have chosen not to support me in the past of which there were a few people I'm reaching out to you for your guidance and your help so that we can work together and unify our great country I've spent my entire life and business looking at the untapped potential in projects and then people all over the world\",\n",
              " \"we must reclaim our country's Destiny and dream big and bold and daring we have to do that we're going to dream of things for our country and beautiful things and successful things once again\",\n",
              " 'while the campaign is over']"
            ]
          },
          "metadata": {},
          "execution_count": 9
        }
      ],
      "source": [
        "texts"
      ]
    },
    {
      "cell_type": "markdown",
      "id": "d0520c0b",
      "metadata": {
        "id": "d0520c0b"
      },
      "source": [
        "### Saving the recognized text\n",
        "> - After performing the speech detection, we save the resulting text in a file which is in the form of **`Transcription_Video_Name.txt`**"
      ]
    },
    {
      "cell_type": "code",
      "execution_count": 10,
      "id": "93bbf762",
      "metadata": {
        "id": "93bbf762"
      },
      "outputs": [],
      "source": [
        "result = \"\"\n",
        "for text in texts:\n",
        "    result += \" \" + text\n",
        "\n",
        "os.chdir(\"../\")\n",
        "text_file = open(\"Transcription_\"+ file_name[:-4] +\".txt\", \"w\")\n",
        "text_file.write(result)\n",
        "text_file.close()"
      ]
    },
    {
      "cell_type": "markdown",
      "id": "8ffd76e2",
      "metadata": {
        "id": "8ffd76e2"
      },
      "source": [
        "### Translating the recognized text (`dest='fr'`)\n",
        "> - In addition, we have tried here to translate the text into French after transcription, using the Google API (**`googletrans`**)\n",
        "> - To correctly use this API, we must replace the dest variable with the output language keyword ( In our case, **`dest='fr'`**)"
      ]
    },
    {
      "cell_type": "code",
      "execution_count": 11,
      "id": "4941c385",
      "metadata": {
        "colab": {
          "base_uri": "https://localhost:8080/"
        },
        "id": "4941c385",
        "outputId": "90131d35-2606-4f54-f2f6-f341a8519772"
      },
      "outputs": [
        {
          "output_type": "stream",
          "name": "stdout",
          "text": [
            " c'est pour moi un grand honneur et un privilège distinct de vous présenter le président élu des États-Unis d'Amérique Donald Trump merci beaucoup tout ce que je viens de recevoir un appel de la secrétaire Clinton elle nous a félicités c'est à propos de nous et je l'ai félicitée ainsi que sa famille sur une campagne très très dure, je veux dire qu'elle s'est battue très fort Hillary a travaillé très longtemps et très dur pendant longtemps. Du temps et nous lui devons une grande dette de gratitude pour son service envers notre pays, je veux dire que très bientôt, il est temps pour l'Amérique de panser les blessures de la division, il faut que tous les républicains, démocrates et indépendants de ce pays se réunissent, je dis il est temps pour nous de nous rassembler en un seul peuple uni, je promets que je serai président pour tous les Américains et c'est si important pour moi pour ceux qui ont choisi de ne pas me soutenir dans le passé dont il y avait quelques personnes je vous tends la main pour vos conseils et votre aide afin que nous puissions travailler ensemble et unifier notre grand pays j'ai passé toute ma vie et les entreprises qui examinent le potentiel inexploité des projets, puis les personnes du monde entier nous devons reconquérir le destin de notre pays et rêver grand et audacieux et audacieux nous devons faire que nous allons rêver de choses pour notre pays et de belles choses et de choses réussies une fois de plus alors que la campagne est terminée\n"
          ]
        }
      ],
      "source": [
        "translator = Translator()\n",
        "\n",
        "translate_text = \"\"\n",
        "for text in texts:\n",
        "    translate_text += \" \" + translator.translate(text, dest='fr').text\n",
        "print(translate_text)"
      ]
    },
    {
      "cell_type": "markdown",
      "id": "da84013a",
      "metadata": {
        "id": "da84013a"
      },
      "source": [
        "### Saving the translated text\n",
        "> - We save the resulting translated text in a file which is in the form of **`Transcription_translated_Video_Name.txt`**"
      ]
    },
    {
      "cell_type": "code",
      "execution_count": 12,
      "id": "81ac63a6",
      "metadata": {
        "id": "81ac63a6"
      },
      "outputs": [],
      "source": [
        "text_file = open(\"Transcription_translated_\"+ file_name[:-4] +\".txt\", \"w\")\n",
        "text_file.write(translate_text)\n",
        "text_file.close()"
      ]
    },
    {
      "cell_type": "markdown",
      "id": "7849eb8b",
      "metadata": {
        "id": "7849eb8b"
      },
      "source": [
        "### General Idea summarization\n",
        "> - Finally, we can use the text we have recovered to have a summary of the general idea discussed in the video\n",
        "> - Here it is necessary to specify the **`max_length`** and the **`min_length`**, by default we have chosen that the length of the general idea of a text must be at least 10% of the total length of the text."
      ]
    },
    {
      "cell_type": "code",
      "execution_count": 13,
      "id": "aefb7c79",
      "metadata": {
        "colab": {
          "base_uri": "https://localhost:8080/",
          "height": 177,
          "referenced_widgets": [
            "3849798f25a64e988d5f7674dbf3efdc",
            "fff807830d054547a8aeb7a40688fdf0",
            "63785cf3871648ec9d18b791f5d20e0b",
            "6929664efc334ca08348bab8b7f3e4bb",
            "7164f591c0df4e808bf11982756f7d33",
            "d82aad5b7829488faca20737496f6d4a",
            "7bc56873b1d94cbea30f5dbbe0f4e468",
            "bc32306b7bbf41b0b037b8bc3f47b58f",
            "336dbc280b88483f8c28e14e62b27835",
            "2700bd416891409390aec634af5b9da3",
            "52ac2ae6e60149b6acd41483660743ba",
            "4bacaf04458c43099163965a72b3806d",
            "34cb2334fb5747fb84d1c9fa06211d00",
            "755df969c58f450db7b6a2452ea00390",
            "6ae035fe24bf46c99b0c143def4ba6d8",
            "97f17adaa878458b8cc572913645f927",
            "ab2f3d54e78a44439a42ec4aaf227585",
            "f0e1bb828fe54c3a93b06e50e3d6b377",
            "785eafdfac7c4f3b823b277cde13ee85",
            "9291ccf8a6e241f9b8c7b1c32fab9ce7",
            "6deec81893584b19870ea3a2347cafee",
            "e4c366bdecb44ad3bafbebfd4e60b27b",
            "cecfc2135cb5458faabc64d5945dafa5",
            "1816ddf0bd3a4719bc18e981851da6d8",
            "aac8d942b96f40158d5568eaa636e039",
            "549b064bdaca42cc8f887528d30e94fe",
            "af04d359fd0547c3a5db0242ebd728e8",
            "d7d6d69bf61349488b280f96e3c1e285",
            "4657b1731e24444a9d11660f4ed1ba8b",
            "17fb6d33690548aab1937c4714726586",
            "ff368be41f294cc08dae8371cd0786ac",
            "59a942011317447d884aca521d28c4a9",
            "5bb1aa892cf34dde816bf4f65783851d",
            "11944affc3de4e4a804223b20dff078e",
            "99fb8e21348c4757be1a0bc89dca29d7",
            "88ef8479765a4c24a9f18b6bcc38e493",
            "968aae554be04fad9aaaa92d84d2baf1",
            "f47934443f8349ec8359a2e5aab9b215",
            "31bdd7c465424cf0a614e0b6cd1d17d8",
            "52b646b47bb64324aca69fae2bfb3e06",
            "66d94b7d54df4b28905eb633ed4b8948",
            "e0e25046fb1f47fb8ddfed6b16547663",
            "44061896268749bfbdaeeb1691ce5f35",
            "9cdf82d2a5c645348d3cca8c1f3bc1da",
            "a694b8ece6144055912483c252debd56",
            "9600dc8ce828474c994102dce4a85e33",
            "ee45c674d1f141f0a39423f9a784ee7e",
            "9d44ec717b7947f69428578744695866",
            "4850f983528844a48868de819f368d78",
            "00637ab74b4d41a4b1c0d61b7eeb937d",
            "6490494285e74c35a8d8ea350ff160ab",
            "9701aa20374f43cb92fbdb27974aa95b",
            "9334f0020b4e4d1082f45fe162a1c13c",
            "282fc66b420e44bf867db974b1cbf594",
            "6eff1166f4a542b889767b199b7ba9f8"
          ]
        },
        "id": "aefb7c79",
        "outputId": "5658f502-c011-4088-d0a3-cdd341205534"
      },
      "outputs": [
        {
          "output_type": "display_data",
          "data": {
            "text/plain": [
              "Downloading:   0%|          | 0.00/1.55k [00:00<?, ?B/s]"
            ],
            "application/vnd.jupyter.widget-view+json": {
              "version_major": 2,
              "version_minor": 0,
              "model_id": "3849798f25a64e988d5f7674dbf3efdc"
            }
          },
          "metadata": {}
        },
        {
          "output_type": "display_data",
          "data": {
            "text/plain": [
              "Downloading:   0%|          | 0.00/1.51G [00:00<?, ?B/s]"
            ],
            "application/vnd.jupyter.widget-view+json": {
              "version_major": 2,
              "version_minor": 0,
              "model_id": "4bacaf04458c43099163965a72b3806d"
            }
          },
          "metadata": {}
        },
        {
          "output_type": "display_data",
          "data": {
            "text/plain": [
              "Downloading:   0%|          | 0.00/878k [00:00<?, ?B/s]"
            ],
            "application/vnd.jupyter.widget-view+json": {
              "version_major": 2,
              "version_minor": 0,
              "model_id": "cecfc2135cb5458faabc64d5945dafa5"
            }
          },
          "metadata": {}
        },
        {
          "output_type": "display_data",
          "data": {
            "text/plain": [
              "Downloading:   0%|          | 0.00/446k [00:00<?, ?B/s]"
            ],
            "application/vnd.jupyter.widget-view+json": {
              "version_major": 2,
              "version_minor": 0,
              "model_id": "11944affc3de4e4a804223b20dff078e"
            }
          },
          "metadata": {}
        },
        {
          "output_type": "display_data",
          "data": {
            "text/plain": [
              "Downloading:   0%|          | 0.00/1.29M [00:00<?, ?B/s]"
            ],
            "application/vnd.jupyter.widget-view+json": {
              "version_major": 2,
              "version_minor": 0,
              "model_id": "a694b8ece6144055912483c252debd56"
            }
          },
          "metadata": {}
        }
      ],
      "source": [
        "from transformers import pipeline\n",
        "summarizer = pipeline(\"summarization\", model=\"facebook/bart-large-cnn\")"
      ]
    },
    {
      "cell_type": "code",
      "execution_count": 14,
      "id": "b22e43d9",
      "metadata": {
        "colab": {
          "base_uri": "https://localhost:8080/"
        },
        "id": "b22e43d9",
        "outputId": "fe2efeb4-93a3-4ee1-d4d1-d3600f3ad071"
      },
      "outputs": [
        {
          "output_type": "stream",
          "name": "stdout",
          "text": [
            "Donald Trump: It's time for America to bind the wounds of division have to get together do all Republicans and Democrats and independents across this nation. I pledge that I will be president for all Americans.\n"
          ]
        }
      ],
      "source": [
        "ARTICLE = result\n",
        "summary_text = summarizer(ARTICLE, max_length=100, min_length=int(len(result.split(\" \"))/10), do_sample=False)[0][\"summary_text\"]\n",
        "print(summary_text)"
      ]
    },
    {
      "cell_type": "markdown",
      "id": "4a332562",
      "metadata": {
        "id": "4a332562"
      },
      "source": [
        "> - 🙌 Notebook made by [@labriji_saad](https://github.com/labrijisaad)\n",
        "> - 🔗 Linledin [@labriji_saad](https://www.linkedin.com/in/labrijisaad/)"
      ]
    }
  ],
  "metadata": {
    "kernelspec": {
      "display_name": "Python 3 (ipykernel)",
      "language": "python",
      "name": "python3"
    },
    "language_info": {
      "codemirror_mode": {
        "name": "ipython",
        "version": 3
      },
      "file_extension": ".py",
      "mimetype": "text/x-python",
      "name": "python",
      "nbconvert_exporter": "python",
      "pygments_lexer": "ipython3",
      "version": "3.9.7"
    },
    "colab": {
      "name": "Youtube Video Transcriptor .ipynb",
      "provenance": []
    },
    "widgets": {
      "application/vnd.jupyter.widget-state+json": {
        "3849798f25a64e988d5f7674dbf3efdc": {
          "model_module": "@jupyter-widgets/controls",
          "model_name": "HBoxModel",
          "model_module_version": "1.5.0",
          "state": {
            "_dom_classes": [],
            "_model_module": "@jupyter-widgets/controls",
            "_model_module_version": "1.5.0",
            "_model_name": "HBoxModel",
            "_view_count": null,
            "_view_module": "@jupyter-widgets/controls",
            "_view_module_version": "1.5.0",
            "_view_name": "HBoxView",
            "box_style": "",
            "children": [
              "IPY_MODEL_fff807830d054547a8aeb7a40688fdf0",
              "IPY_MODEL_63785cf3871648ec9d18b791f5d20e0b",
              "IPY_MODEL_6929664efc334ca08348bab8b7f3e4bb"
            ],
            "layout": "IPY_MODEL_7164f591c0df4e808bf11982756f7d33"
          }
        },
        "fff807830d054547a8aeb7a40688fdf0": {
          "model_module": "@jupyter-widgets/controls",
          "model_name": "HTMLModel",
          "model_module_version": "1.5.0",
          "state": {
            "_dom_classes": [],
            "_model_module": "@jupyter-widgets/controls",
            "_model_module_version": "1.5.0",
            "_model_name": "HTMLModel",
            "_view_count": null,
            "_view_module": "@jupyter-widgets/controls",
            "_view_module_version": "1.5.0",
            "_view_name": "HTMLView",
            "description": "",
            "description_tooltip": null,
            "layout": "IPY_MODEL_d82aad5b7829488faca20737496f6d4a",
            "placeholder": "​",
            "style": "IPY_MODEL_7bc56873b1d94cbea30f5dbbe0f4e468",
            "value": "Downloading: 100%"
          }
        },
        "63785cf3871648ec9d18b791f5d20e0b": {
          "model_module": "@jupyter-widgets/controls",
          "model_name": "FloatProgressModel",
          "model_module_version": "1.5.0",
          "state": {
            "_dom_classes": [],
            "_model_module": "@jupyter-widgets/controls",
            "_model_module_version": "1.5.0",
            "_model_name": "FloatProgressModel",
            "_view_count": null,
            "_view_module": "@jupyter-widgets/controls",
            "_view_module_version": "1.5.0",
            "_view_name": "ProgressView",
            "bar_style": "success",
            "description": "",
            "description_tooltip": null,
            "layout": "IPY_MODEL_bc32306b7bbf41b0b037b8bc3f47b58f",
            "max": 1585,
            "min": 0,
            "orientation": "horizontal",
            "style": "IPY_MODEL_336dbc280b88483f8c28e14e62b27835",
            "value": 1585
          }
        },
        "6929664efc334ca08348bab8b7f3e4bb": {
          "model_module": "@jupyter-widgets/controls",
          "model_name": "HTMLModel",
          "model_module_version": "1.5.0",
          "state": {
            "_dom_classes": [],
            "_model_module": "@jupyter-widgets/controls",
            "_model_module_version": "1.5.0",
            "_model_name": "HTMLModel",
            "_view_count": null,
            "_view_module": "@jupyter-widgets/controls",
            "_view_module_version": "1.5.0",
            "_view_name": "HTMLView",
            "description": "",
            "description_tooltip": null,
            "layout": "IPY_MODEL_2700bd416891409390aec634af5b9da3",
            "placeholder": "​",
            "style": "IPY_MODEL_52ac2ae6e60149b6acd41483660743ba",
            "value": " 1.55k/1.55k [00:00&lt;00:00, 35.7kB/s]"
          }
        },
        "7164f591c0df4e808bf11982756f7d33": {
          "model_module": "@jupyter-widgets/base",
          "model_name": "LayoutModel",
          "model_module_version": "1.2.0",
          "state": {
            "_model_module": "@jupyter-widgets/base",
            "_model_module_version": "1.2.0",
            "_model_name": "LayoutModel",
            "_view_count": null,
            "_view_module": "@jupyter-widgets/base",
            "_view_module_version": "1.2.0",
            "_view_name": "LayoutView",
            "align_content": null,
            "align_items": null,
            "align_self": null,
            "border": null,
            "bottom": null,
            "display": null,
            "flex": null,
            "flex_flow": null,
            "grid_area": null,
            "grid_auto_columns": null,
            "grid_auto_flow": null,
            "grid_auto_rows": null,
            "grid_column": null,
            "grid_gap": null,
            "grid_row": null,
            "grid_template_areas": null,
            "grid_template_columns": null,
            "grid_template_rows": null,
            "height": null,
            "justify_content": null,
            "justify_items": null,
            "left": null,
            "margin": null,
            "max_height": null,
            "max_width": null,
            "min_height": null,
            "min_width": null,
            "object_fit": null,
            "object_position": null,
            "order": null,
            "overflow": null,
            "overflow_x": null,
            "overflow_y": null,
            "padding": null,
            "right": null,
            "top": null,
            "visibility": null,
            "width": null
          }
        },
        "d82aad5b7829488faca20737496f6d4a": {
          "model_module": "@jupyter-widgets/base",
          "model_name": "LayoutModel",
          "model_module_version": "1.2.0",
          "state": {
            "_model_module": "@jupyter-widgets/base",
            "_model_module_version": "1.2.0",
            "_model_name": "LayoutModel",
            "_view_count": null,
            "_view_module": "@jupyter-widgets/base",
            "_view_module_version": "1.2.0",
            "_view_name": "LayoutView",
            "align_content": null,
            "align_items": null,
            "align_self": null,
            "border": null,
            "bottom": null,
            "display": null,
            "flex": null,
            "flex_flow": null,
            "grid_area": null,
            "grid_auto_columns": null,
            "grid_auto_flow": null,
            "grid_auto_rows": null,
            "grid_column": null,
            "grid_gap": null,
            "grid_row": null,
            "grid_template_areas": null,
            "grid_template_columns": null,
            "grid_template_rows": null,
            "height": null,
            "justify_content": null,
            "justify_items": null,
            "left": null,
            "margin": null,
            "max_height": null,
            "max_width": null,
            "min_height": null,
            "min_width": null,
            "object_fit": null,
            "object_position": null,
            "order": null,
            "overflow": null,
            "overflow_x": null,
            "overflow_y": null,
            "padding": null,
            "right": null,
            "top": null,
            "visibility": null,
            "width": null
          }
        },
        "7bc56873b1d94cbea30f5dbbe0f4e468": {
          "model_module": "@jupyter-widgets/controls",
          "model_name": "DescriptionStyleModel",
          "model_module_version": "1.5.0",
          "state": {
            "_model_module": "@jupyter-widgets/controls",
            "_model_module_version": "1.5.0",
            "_model_name": "DescriptionStyleModel",
            "_view_count": null,
            "_view_module": "@jupyter-widgets/base",
            "_view_module_version": "1.2.0",
            "_view_name": "StyleView",
            "description_width": ""
          }
        },
        "bc32306b7bbf41b0b037b8bc3f47b58f": {
          "model_module": "@jupyter-widgets/base",
          "model_name": "LayoutModel",
          "model_module_version": "1.2.0",
          "state": {
            "_model_module": "@jupyter-widgets/base",
            "_model_module_version": "1.2.0",
            "_model_name": "LayoutModel",
            "_view_count": null,
            "_view_module": "@jupyter-widgets/base",
            "_view_module_version": "1.2.0",
            "_view_name": "LayoutView",
            "align_content": null,
            "align_items": null,
            "align_self": null,
            "border": null,
            "bottom": null,
            "display": null,
            "flex": null,
            "flex_flow": null,
            "grid_area": null,
            "grid_auto_columns": null,
            "grid_auto_flow": null,
            "grid_auto_rows": null,
            "grid_column": null,
            "grid_gap": null,
            "grid_row": null,
            "grid_template_areas": null,
            "grid_template_columns": null,
            "grid_template_rows": null,
            "height": null,
            "justify_content": null,
            "justify_items": null,
            "left": null,
            "margin": null,
            "max_height": null,
            "max_width": null,
            "min_height": null,
            "min_width": null,
            "object_fit": null,
            "object_position": null,
            "order": null,
            "overflow": null,
            "overflow_x": null,
            "overflow_y": null,
            "padding": null,
            "right": null,
            "top": null,
            "visibility": null,
            "width": null
          }
        },
        "336dbc280b88483f8c28e14e62b27835": {
          "model_module": "@jupyter-widgets/controls",
          "model_name": "ProgressStyleModel",
          "model_module_version": "1.5.0",
          "state": {
            "_model_module": "@jupyter-widgets/controls",
            "_model_module_version": "1.5.0",
            "_model_name": "ProgressStyleModel",
            "_view_count": null,
            "_view_module": "@jupyter-widgets/base",
            "_view_module_version": "1.2.0",
            "_view_name": "StyleView",
            "bar_color": null,
            "description_width": ""
          }
        },
        "2700bd416891409390aec634af5b9da3": {
          "model_module": "@jupyter-widgets/base",
          "model_name": "LayoutModel",
          "model_module_version": "1.2.0",
          "state": {
            "_model_module": "@jupyter-widgets/base",
            "_model_module_version": "1.2.0",
            "_model_name": "LayoutModel",
            "_view_count": null,
            "_view_module": "@jupyter-widgets/base",
            "_view_module_version": "1.2.0",
            "_view_name": "LayoutView",
            "align_content": null,
            "align_items": null,
            "align_self": null,
            "border": null,
            "bottom": null,
            "display": null,
            "flex": null,
            "flex_flow": null,
            "grid_area": null,
            "grid_auto_columns": null,
            "grid_auto_flow": null,
            "grid_auto_rows": null,
            "grid_column": null,
            "grid_gap": null,
            "grid_row": null,
            "grid_template_areas": null,
            "grid_template_columns": null,
            "grid_template_rows": null,
            "height": null,
            "justify_content": null,
            "justify_items": null,
            "left": null,
            "margin": null,
            "max_height": null,
            "max_width": null,
            "min_height": null,
            "min_width": null,
            "object_fit": null,
            "object_position": null,
            "order": null,
            "overflow": null,
            "overflow_x": null,
            "overflow_y": null,
            "padding": null,
            "right": null,
            "top": null,
            "visibility": null,
            "width": null
          }
        },
        "52ac2ae6e60149b6acd41483660743ba": {
          "model_module": "@jupyter-widgets/controls",
          "model_name": "DescriptionStyleModel",
          "model_module_version": "1.5.0",
          "state": {
            "_model_module": "@jupyter-widgets/controls",
            "_model_module_version": "1.5.0",
            "_model_name": "DescriptionStyleModel",
            "_view_count": null,
            "_view_module": "@jupyter-widgets/base",
            "_view_module_version": "1.2.0",
            "_view_name": "StyleView",
            "description_width": ""
          }
        },
        "4bacaf04458c43099163965a72b3806d": {
          "model_module": "@jupyter-widgets/controls",
          "model_name": "HBoxModel",
          "model_module_version": "1.5.0",
          "state": {
            "_dom_classes": [],
            "_model_module": "@jupyter-widgets/controls",
            "_model_module_version": "1.5.0",
            "_model_name": "HBoxModel",
            "_view_count": null,
            "_view_module": "@jupyter-widgets/controls",
            "_view_module_version": "1.5.0",
            "_view_name": "HBoxView",
            "box_style": "",
            "children": [
              "IPY_MODEL_34cb2334fb5747fb84d1c9fa06211d00",
              "IPY_MODEL_755df969c58f450db7b6a2452ea00390",
              "IPY_MODEL_6ae035fe24bf46c99b0c143def4ba6d8"
            ],
            "layout": "IPY_MODEL_97f17adaa878458b8cc572913645f927"
          }
        },
        "34cb2334fb5747fb84d1c9fa06211d00": {
          "model_module": "@jupyter-widgets/controls",
          "model_name": "HTMLModel",
          "model_module_version": "1.5.0",
          "state": {
            "_dom_classes": [],
            "_model_module": "@jupyter-widgets/controls",
            "_model_module_version": "1.5.0",
            "_model_name": "HTMLModel",
            "_view_count": null,
            "_view_module": "@jupyter-widgets/controls",
            "_view_module_version": "1.5.0",
            "_view_name": "HTMLView",
            "description": "",
            "description_tooltip": null,
            "layout": "IPY_MODEL_ab2f3d54e78a44439a42ec4aaf227585",
            "placeholder": "​",
            "style": "IPY_MODEL_f0e1bb828fe54c3a93b06e50e3d6b377",
            "value": "Downloading: 100%"
          }
        },
        "755df969c58f450db7b6a2452ea00390": {
          "model_module": "@jupyter-widgets/controls",
          "model_name": "FloatProgressModel",
          "model_module_version": "1.5.0",
          "state": {
            "_dom_classes": [],
            "_model_module": "@jupyter-widgets/controls",
            "_model_module_version": "1.5.0",
            "_model_name": "FloatProgressModel",
            "_view_count": null,
            "_view_module": "@jupyter-widgets/controls",
            "_view_module_version": "1.5.0",
            "_view_name": "ProgressView",
            "bar_style": "success",
            "description": "",
            "description_tooltip": null,
            "layout": "IPY_MODEL_785eafdfac7c4f3b823b277cde13ee85",
            "max": 1625270765,
            "min": 0,
            "orientation": "horizontal",
            "style": "IPY_MODEL_9291ccf8a6e241f9b8c7b1c32fab9ce7",
            "value": 1625270765
          }
        },
        "6ae035fe24bf46c99b0c143def4ba6d8": {
          "model_module": "@jupyter-widgets/controls",
          "model_name": "HTMLModel",
          "model_module_version": "1.5.0",
          "state": {
            "_dom_classes": [],
            "_model_module": "@jupyter-widgets/controls",
            "_model_module_version": "1.5.0",
            "_model_name": "HTMLModel",
            "_view_count": null,
            "_view_module": "@jupyter-widgets/controls",
            "_view_module_version": "1.5.0",
            "_view_name": "HTMLView",
            "description": "",
            "description_tooltip": null,
            "layout": "IPY_MODEL_6deec81893584b19870ea3a2347cafee",
            "placeholder": "​",
            "style": "IPY_MODEL_e4c366bdecb44ad3bafbebfd4e60b27b",
            "value": " 1.51G/1.51G [00:34&lt;00:00, 49.4MB/s]"
          }
        },
        "97f17adaa878458b8cc572913645f927": {
          "model_module": "@jupyter-widgets/base",
          "model_name": "LayoutModel",
          "model_module_version": "1.2.0",
          "state": {
            "_model_module": "@jupyter-widgets/base",
            "_model_module_version": "1.2.0",
            "_model_name": "LayoutModel",
            "_view_count": null,
            "_view_module": "@jupyter-widgets/base",
            "_view_module_version": "1.2.0",
            "_view_name": "LayoutView",
            "align_content": null,
            "align_items": null,
            "align_self": null,
            "border": null,
            "bottom": null,
            "display": null,
            "flex": null,
            "flex_flow": null,
            "grid_area": null,
            "grid_auto_columns": null,
            "grid_auto_flow": null,
            "grid_auto_rows": null,
            "grid_column": null,
            "grid_gap": null,
            "grid_row": null,
            "grid_template_areas": null,
            "grid_template_columns": null,
            "grid_template_rows": null,
            "height": null,
            "justify_content": null,
            "justify_items": null,
            "left": null,
            "margin": null,
            "max_height": null,
            "max_width": null,
            "min_height": null,
            "min_width": null,
            "object_fit": null,
            "object_position": null,
            "order": null,
            "overflow": null,
            "overflow_x": null,
            "overflow_y": null,
            "padding": null,
            "right": null,
            "top": null,
            "visibility": null,
            "width": null
          }
        },
        "ab2f3d54e78a44439a42ec4aaf227585": {
          "model_module": "@jupyter-widgets/base",
          "model_name": "LayoutModel",
          "model_module_version": "1.2.0",
          "state": {
            "_model_module": "@jupyter-widgets/base",
            "_model_module_version": "1.2.0",
            "_model_name": "LayoutModel",
            "_view_count": null,
            "_view_module": "@jupyter-widgets/base",
            "_view_module_version": "1.2.0",
            "_view_name": "LayoutView",
            "align_content": null,
            "align_items": null,
            "align_self": null,
            "border": null,
            "bottom": null,
            "display": null,
            "flex": null,
            "flex_flow": null,
            "grid_area": null,
            "grid_auto_columns": null,
            "grid_auto_flow": null,
            "grid_auto_rows": null,
            "grid_column": null,
            "grid_gap": null,
            "grid_row": null,
            "grid_template_areas": null,
            "grid_template_columns": null,
            "grid_template_rows": null,
            "height": null,
            "justify_content": null,
            "justify_items": null,
            "left": null,
            "margin": null,
            "max_height": null,
            "max_width": null,
            "min_height": null,
            "min_width": null,
            "object_fit": null,
            "object_position": null,
            "order": null,
            "overflow": null,
            "overflow_x": null,
            "overflow_y": null,
            "padding": null,
            "right": null,
            "top": null,
            "visibility": null,
            "width": null
          }
        },
        "f0e1bb828fe54c3a93b06e50e3d6b377": {
          "model_module": "@jupyter-widgets/controls",
          "model_name": "DescriptionStyleModel",
          "model_module_version": "1.5.0",
          "state": {
            "_model_module": "@jupyter-widgets/controls",
            "_model_module_version": "1.5.0",
            "_model_name": "DescriptionStyleModel",
            "_view_count": null,
            "_view_module": "@jupyter-widgets/base",
            "_view_module_version": "1.2.0",
            "_view_name": "StyleView",
            "description_width": ""
          }
        },
        "785eafdfac7c4f3b823b277cde13ee85": {
          "model_module": "@jupyter-widgets/base",
          "model_name": "LayoutModel",
          "model_module_version": "1.2.0",
          "state": {
            "_model_module": "@jupyter-widgets/base",
            "_model_module_version": "1.2.0",
            "_model_name": "LayoutModel",
            "_view_count": null,
            "_view_module": "@jupyter-widgets/base",
            "_view_module_version": "1.2.0",
            "_view_name": "LayoutView",
            "align_content": null,
            "align_items": null,
            "align_self": null,
            "border": null,
            "bottom": null,
            "display": null,
            "flex": null,
            "flex_flow": null,
            "grid_area": null,
            "grid_auto_columns": null,
            "grid_auto_flow": null,
            "grid_auto_rows": null,
            "grid_column": null,
            "grid_gap": null,
            "grid_row": null,
            "grid_template_areas": null,
            "grid_template_columns": null,
            "grid_template_rows": null,
            "height": null,
            "justify_content": null,
            "justify_items": null,
            "left": null,
            "margin": null,
            "max_height": null,
            "max_width": null,
            "min_height": null,
            "min_width": null,
            "object_fit": null,
            "object_position": null,
            "order": null,
            "overflow": null,
            "overflow_x": null,
            "overflow_y": null,
            "padding": null,
            "right": null,
            "top": null,
            "visibility": null,
            "width": null
          }
        },
        "9291ccf8a6e241f9b8c7b1c32fab9ce7": {
          "model_module": "@jupyter-widgets/controls",
          "model_name": "ProgressStyleModel",
          "model_module_version": "1.5.0",
          "state": {
            "_model_module": "@jupyter-widgets/controls",
            "_model_module_version": "1.5.0",
            "_model_name": "ProgressStyleModel",
            "_view_count": null,
            "_view_module": "@jupyter-widgets/base",
            "_view_module_version": "1.2.0",
            "_view_name": "StyleView",
            "bar_color": null,
            "description_width": ""
          }
        },
        "6deec81893584b19870ea3a2347cafee": {
          "model_module": "@jupyter-widgets/base",
          "model_name": "LayoutModel",
          "model_module_version": "1.2.0",
          "state": {
            "_model_module": "@jupyter-widgets/base",
            "_model_module_version": "1.2.0",
            "_model_name": "LayoutModel",
            "_view_count": null,
            "_view_module": "@jupyter-widgets/base",
            "_view_module_version": "1.2.0",
            "_view_name": "LayoutView",
            "align_content": null,
            "align_items": null,
            "align_self": null,
            "border": null,
            "bottom": null,
            "display": null,
            "flex": null,
            "flex_flow": null,
            "grid_area": null,
            "grid_auto_columns": null,
            "grid_auto_flow": null,
            "grid_auto_rows": null,
            "grid_column": null,
            "grid_gap": null,
            "grid_row": null,
            "grid_template_areas": null,
            "grid_template_columns": null,
            "grid_template_rows": null,
            "height": null,
            "justify_content": null,
            "justify_items": null,
            "left": null,
            "margin": null,
            "max_height": null,
            "max_width": null,
            "min_height": null,
            "min_width": null,
            "object_fit": null,
            "object_position": null,
            "order": null,
            "overflow": null,
            "overflow_x": null,
            "overflow_y": null,
            "padding": null,
            "right": null,
            "top": null,
            "visibility": null,
            "width": null
          }
        },
        "e4c366bdecb44ad3bafbebfd4e60b27b": {
          "model_module": "@jupyter-widgets/controls",
          "model_name": "DescriptionStyleModel",
          "model_module_version": "1.5.0",
          "state": {
            "_model_module": "@jupyter-widgets/controls",
            "_model_module_version": "1.5.0",
            "_model_name": "DescriptionStyleModel",
            "_view_count": null,
            "_view_module": "@jupyter-widgets/base",
            "_view_module_version": "1.2.0",
            "_view_name": "StyleView",
            "description_width": ""
          }
        },
        "cecfc2135cb5458faabc64d5945dafa5": {
          "model_module": "@jupyter-widgets/controls",
          "model_name": "HBoxModel",
          "model_module_version": "1.5.0",
          "state": {
            "_dom_classes": [],
            "_model_module": "@jupyter-widgets/controls",
            "_model_module_version": "1.5.0",
            "_model_name": "HBoxModel",
            "_view_count": null,
            "_view_module": "@jupyter-widgets/controls",
            "_view_module_version": "1.5.0",
            "_view_name": "HBoxView",
            "box_style": "",
            "children": [
              "IPY_MODEL_1816ddf0bd3a4719bc18e981851da6d8",
              "IPY_MODEL_aac8d942b96f40158d5568eaa636e039",
              "IPY_MODEL_549b064bdaca42cc8f887528d30e94fe"
            ],
            "layout": "IPY_MODEL_af04d359fd0547c3a5db0242ebd728e8"
          }
        },
        "1816ddf0bd3a4719bc18e981851da6d8": {
          "model_module": "@jupyter-widgets/controls",
          "model_name": "HTMLModel",
          "model_module_version": "1.5.0",
          "state": {
            "_dom_classes": [],
            "_model_module": "@jupyter-widgets/controls",
            "_model_module_version": "1.5.0",
            "_model_name": "HTMLModel",
            "_view_count": null,
            "_view_module": "@jupyter-widgets/controls",
            "_view_module_version": "1.5.0",
            "_view_name": "HTMLView",
            "description": "",
            "description_tooltip": null,
            "layout": "IPY_MODEL_d7d6d69bf61349488b280f96e3c1e285",
            "placeholder": "​",
            "style": "IPY_MODEL_4657b1731e24444a9d11660f4ed1ba8b",
            "value": "Downloading: 100%"
          }
        },
        "aac8d942b96f40158d5568eaa636e039": {
          "model_module": "@jupyter-widgets/controls",
          "model_name": "FloatProgressModel",
          "model_module_version": "1.5.0",
          "state": {
            "_dom_classes": [],
            "_model_module": "@jupyter-widgets/controls",
            "_model_module_version": "1.5.0",
            "_model_name": "FloatProgressModel",
            "_view_count": null,
            "_view_module": "@jupyter-widgets/controls",
            "_view_module_version": "1.5.0",
            "_view_name": "ProgressView",
            "bar_style": "success",
            "description": "",
            "description_tooltip": null,
            "layout": "IPY_MODEL_17fb6d33690548aab1937c4714726586",
            "max": 898823,
            "min": 0,
            "orientation": "horizontal",
            "style": "IPY_MODEL_ff368be41f294cc08dae8371cd0786ac",
            "value": 898823
          }
        },
        "549b064bdaca42cc8f887528d30e94fe": {
          "model_module": "@jupyter-widgets/controls",
          "model_name": "HTMLModel",
          "model_module_version": "1.5.0",
          "state": {
            "_dom_classes": [],
            "_model_module": "@jupyter-widgets/controls",
            "_model_module_version": "1.5.0",
            "_model_name": "HTMLModel",
            "_view_count": null,
            "_view_module": "@jupyter-widgets/controls",
            "_view_module_version": "1.5.0",
            "_view_name": "HTMLView",
            "description": "",
            "description_tooltip": null,
            "layout": "IPY_MODEL_59a942011317447d884aca521d28c4a9",
            "placeholder": "​",
            "style": "IPY_MODEL_5bb1aa892cf34dde816bf4f65783851d",
            "value": " 878k/878k [00:00&lt;00:00, 2.53MB/s]"
          }
        },
        "af04d359fd0547c3a5db0242ebd728e8": {
          "model_module": "@jupyter-widgets/base",
          "model_name": "LayoutModel",
          "model_module_version": "1.2.0",
          "state": {
            "_model_module": "@jupyter-widgets/base",
            "_model_module_version": "1.2.0",
            "_model_name": "LayoutModel",
            "_view_count": null,
            "_view_module": "@jupyter-widgets/base",
            "_view_module_version": "1.2.0",
            "_view_name": "LayoutView",
            "align_content": null,
            "align_items": null,
            "align_self": null,
            "border": null,
            "bottom": null,
            "display": null,
            "flex": null,
            "flex_flow": null,
            "grid_area": null,
            "grid_auto_columns": null,
            "grid_auto_flow": null,
            "grid_auto_rows": null,
            "grid_column": null,
            "grid_gap": null,
            "grid_row": null,
            "grid_template_areas": null,
            "grid_template_columns": null,
            "grid_template_rows": null,
            "height": null,
            "justify_content": null,
            "justify_items": null,
            "left": null,
            "margin": null,
            "max_height": null,
            "max_width": null,
            "min_height": null,
            "min_width": null,
            "object_fit": null,
            "object_position": null,
            "order": null,
            "overflow": null,
            "overflow_x": null,
            "overflow_y": null,
            "padding": null,
            "right": null,
            "top": null,
            "visibility": null,
            "width": null
          }
        },
        "d7d6d69bf61349488b280f96e3c1e285": {
          "model_module": "@jupyter-widgets/base",
          "model_name": "LayoutModel",
          "model_module_version": "1.2.0",
          "state": {
            "_model_module": "@jupyter-widgets/base",
            "_model_module_version": "1.2.0",
            "_model_name": "LayoutModel",
            "_view_count": null,
            "_view_module": "@jupyter-widgets/base",
            "_view_module_version": "1.2.0",
            "_view_name": "LayoutView",
            "align_content": null,
            "align_items": null,
            "align_self": null,
            "border": null,
            "bottom": null,
            "display": null,
            "flex": null,
            "flex_flow": null,
            "grid_area": null,
            "grid_auto_columns": null,
            "grid_auto_flow": null,
            "grid_auto_rows": null,
            "grid_column": null,
            "grid_gap": null,
            "grid_row": null,
            "grid_template_areas": null,
            "grid_template_columns": null,
            "grid_template_rows": null,
            "height": null,
            "justify_content": null,
            "justify_items": null,
            "left": null,
            "margin": null,
            "max_height": null,
            "max_width": null,
            "min_height": null,
            "min_width": null,
            "object_fit": null,
            "object_position": null,
            "order": null,
            "overflow": null,
            "overflow_x": null,
            "overflow_y": null,
            "padding": null,
            "right": null,
            "top": null,
            "visibility": null,
            "width": null
          }
        },
        "4657b1731e24444a9d11660f4ed1ba8b": {
          "model_module": "@jupyter-widgets/controls",
          "model_name": "DescriptionStyleModel",
          "model_module_version": "1.5.0",
          "state": {
            "_model_module": "@jupyter-widgets/controls",
            "_model_module_version": "1.5.0",
            "_model_name": "DescriptionStyleModel",
            "_view_count": null,
            "_view_module": "@jupyter-widgets/base",
            "_view_module_version": "1.2.0",
            "_view_name": "StyleView",
            "description_width": ""
          }
        },
        "17fb6d33690548aab1937c4714726586": {
          "model_module": "@jupyter-widgets/base",
          "model_name": "LayoutModel",
          "model_module_version": "1.2.0",
          "state": {
            "_model_module": "@jupyter-widgets/base",
            "_model_module_version": "1.2.0",
            "_model_name": "LayoutModel",
            "_view_count": null,
            "_view_module": "@jupyter-widgets/base",
            "_view_module_version": "1.2.0",
            "_view_name": "LayoutView",
            "align_content": null,
            "align_items": null,
            "align_self": null,
            "border": null,
            "bottom": null,
            "display": null,
            "flex": null,
            "flex_flow": null,
            "grid_area": null,
            "grid_auto_columns": null,
            "grid_auto_flow": null,
            "grid_auto_rows": null,
            "grid_column": null,
            "grid_gap": null,
            "grid_row": null,
            "grid_template_areas": null,
            "grid_template_columns": null,
            "grid_template_rows": null,
            "height": null,
            "justify_content": null,
            "justify_items": null,
            "left": null,
            "margin": null,
            "max_height": null,
            "max_width": null,
            "min_height": null,
            "min_width": null,
            "object_fit": null,
            "object_position": null,
            "order": null,
            "overflow": null,
            "overflow_x": null,
            "overflow_y": null,
            "padding": null,
            "right": null,
            "top": null,
            "visibility": null,
            "width": null
          }
        },
        "ff368be41f294cc08dae8371cd0786ac": {
          "model_module": "@jupyter-widgets/controls",
          "model_name": "ProgressStyleModel",
          "model_module_version": "1.5.0",
          "state": {
            "_model_module": "@jupyter-widgets/controls",
            "_model_module_version": "1.5.0",
            "_model_name": "ProgressStyleModel",
            "_view_count": null,
            "_view_module": "@jupyter-widgets/base",
            "_view_module_version": "1.2.0",
            "_view_name": "StyleView",
            "bar_color": null,
            "description_width": ""
          }
        },
        "59a942011317447d884aca521d28c4a9": {
          "model_module": "@jupyter-widgets/base",
          "model_name": "LayoutModel",
          "model_module_version": "1.2.0",
          "state": {
            "_model_module": "@jupyter-widgets/base",
            "_model_module_version": "1.2.0",
            "_model_name": "LayoutModel",
            "_view_count": null,
            "_view_module": "@jupyter-widgets/base",
            "_view_module_version": "1.2.0",
            "_view_name": "LayoutView",
            "align_content": null,
            "align_items": null,
            "align_self": null,
            "border": null,
            "bottom": null,
            "display": null,
            "flex": null,
            "flex_flow": null,
            "grid_area": null,
            "grid_auto_columns": null,
            "grid_auto_flow": null,
            "grid_auto_rows": null,
            "grid_column": null,
            "grid_gap": null,
            "grid_row": null,
            "grid_template_areas": null,
            "grid_template_columns": null,
            "grid_template_rows": null,
            "height": null,
            "justify_content": null,
            "justify_items": null,
            "left": null,
            "margin": null,
            "max_height": null,
            "max_width": null,
            "min_height": null,
            "min_width": null,
            "object_fit": null,
            "object_position": null,
            "order": null,
            "overflow": null,
            "overflow_x": null,
            "overflow_y": null,
            "padding": null,
            "right": null,
            "top": null,
            "visibility": null,
            "width": null
          }
        },
        "5bb1aa892cf34dde816bf4f65783851d": {
          "model_module": "@jupyter-widgets/controls",
          "model_name": "DescriptionStyleModel",
          "model_module_version": "1.5.0",
          "state": {
            "_model_module": "@jupyter-widgets/controls",
            "_model_module_version": "1.5.0",
            "_model_name": "DescriptionStyleModel",
            "_view_count": null,
            "_view_module": "@jupyter-widgets/base",
            "_view_module_version": "1.2.0",
            "_view_name": "StyleView",
            "description_width": ""
          }
        },
        "11944affc3de4e4a804223b20dff078e": {
          "model_module": "@jupyter-widgets/controls",
          "model_name": "HBoxModel",
          "model_module_version": "1.5.0",
          "state": {
            "_dom_classes": [],
            "_model_module": "@jupyter-widgets/controls",
            "_model_module_version": "1.5.0",
            "_model_name": "HBoxModel",
            "_view_count": null,
            "_view_module": "@jupyter-widgets/controls",
            "_view_module_version": "1.5.0",
            "_view_name": "HBoxView",
            "box_style": "",
            "children": [
              "IPY_MODEL_99fb8e21348c4757be1a0bc89dca29d7",
              "IPY_MODEL_88ef8479765a4c24a9f18b6bcc38e493",
              "IPY_MODEL_968aae554be04fad9aaaa92d84d2baf1"
            ],
            "layout": "IPY_MODEL_f47934443f8349ec8359a2e5aab9b215"
          }
        },
        "99fb8e21348c4757be1a0bc89dca29d7": {
          "model_module": "@jupyter-widgets/controls",
          "model_name": "HTMLModel",
          "model_module_version": "1.5.0",
          "state": {
            "_dom_classes": [],
            "_model_module": "@jupyter-widgets/controls",
            "_model_module_version": "1.5.0",
            "_model_name": "HTMLModel",
            "_view_count": null,
            "_view_module": "@jupyter-widgets/controls",
            "_view_module_version": "1.5.0",
            "_view_name": "HTMLView",
            "description": "",
            "description_tooltip": null,
            "layout": "IPY_MODEL_31bdd7c465424cf0a614e0b6cd1d17d8",
            "placeholder": "​",
            "style": "IPY_MODEL_52b646b47bb64324aca69fae2bfb3e06",
            "value": "Downloading: 100%"
          }
        },
        "88ef8479765a4c24a9f18b6bcc38e493": {
          "model_module": "@jupyter-widgets/controls",
          "model_name": "FloatProgressModel",
          "model_module_version": "1.5.0",
          "state": {
            "_dom_classes": [],
            "_model_module": "@jupyter-widgets/controls",
            "_model_module_version": "1.5.0",
            "_model_name": "FloatProgressModel",
            "_view_count": null,
            "_view_module": "@jupyter-widgets/controls",
            "_view_module_version": "1.5.0",
            "_view_name": "ProgressView",
            "bar_style": "success",
            "description": "",
            "description_tooltip": null,
            "layout": "IPY_MODEL_66d94b7d54df4b28905eb633ed4b8948",
            "max": 456318,
            "min": 0,
            "orientation": "horizontal",
            "style": "IPY_MODEL_e0e25046fb1f47fb8ddfed6b16547663",
            "value": 456318
          }
        },
        "968aae554be04fad9aaaa92d84d2baf1": {
          "model_module": "@jupyter-widgets/controls",
          "model_name": "HTMLModel",
          "model_module_version": "1.5.0",
          "state": {
            "_dom_classes": [],
            "_model_module": "@jupyter-widgets/controls",
            "_model_module_version": "1.5.0",
            "_model_name": "HTMLModel",
            "_view_count": null,
            "_view_module": "@jupyter-widgets/controls",
            "_view_module_version": "1.5.0",
            "_view_name": "HTMLView",
            "description": "",
            "description_tooltip": null,
            "layout": "IPY_MODEL_44061896268749bfbdaeeb1691ce5f35",
            "placeholder": "​",
            "style": "IPY_MODEL_9cdf82d2a5c645348d3cca8c1f3bc1da",
            "value": " 446k/446k [00:00&lt;00:00, 876kB/s]"
          }
        },
        "f47934443f8349ec8359a2e5aab9b215": {
          "model_module": "@jupyter-widgets/base",
          "model_name": "LayoutModel",
          "model_module_version": "1.2.0",
          "state": {
            "_model_module": "@jupyter-widgets/base",
            "_model_module_version": "1.2.0",
            "_model_name": "LayoutModel",
            "_view_count": null,
            "_view_module": "@jupyter-widgets/base",
            "_view_module_version": "1.2.0",
            "_view_name": "LayoutView",
            "align_content": null,
            "align_items": null,
            "align_self": null,
            "border": null,
            "bottom": null,
            "display": null,
            "flex": null,
            "flex_flow": null,
            "grid_area": null,
            "grid_auto_columns": null,
            "grid_auto_flow": null,
            "grid_auto_rows": null,
            "grid_column": null,
            "grid_gap": null,
            "grid_row": null,
            "grid_template_areas": null,
            "grid_template_columns": null,
            "grid_template_rows": null,
            "height": null,
            "justify_content": null,
            "justify_items": null,
            "left": null,
            "margin": null,
            "max_height": null,
            "max_width": null,
            "min_height": null,
            "min_width": null,
            "object_fit": null,
            "object_position": null,
            "order": null,
            "overflow": null,
            "overflow_x": null,
            "overflow_y": null,
            "padding": null,
            "right": null,
            "top": null,
            "visibility": null,
            "width": null
          }
        },
        "31bdd7c465424cf0a614e0b6cd1d17d8": {
          "model_module": "@jupyter-widgets/base",
          "model_name": "LayoutModel",
          "model_module_version": "1.2.0",
          "state": {
            "_model_module": "@jupyter-widgets/base",
            "_model_module_version": "1.2.0",
            "_model_name": "LayoutModel",
            "_view_count": null,
            "_view_module": "@jupyter-widgets/base",
            "_view_module_version": "1.2.0",
            "_view_name": "LayoutView",
            "align_content": null,
            "align_items": null,
            "align_self": null,
            "border": null,
            "bottom": null,
            "display": null,
            "flex": null,
            "flex_flow": null,
            "grid_area": null,
            "grid_auto_columns": null,
            "grid_auto_flow": null,
            "grid_auto_rows": null,
            "grid_column": null,
            "grid_gap": null,
            "grid_row": null,
            "grid_template_areas": null,
            "grid_template_columns": null,
            "grid_template_rows": null,
            "height": null,
            "justify_content": null,
            "justify_items": null,
            "left": null,
            "margin": null,
            "max_height": null,
            "max_width": null,
            "min_height": null,
            "min_width": null,
            "object_fit": null,
            "object_position": null,
            "order": null,
            "overflow": null,
            "overflow_x": null,
            "overflow_y": null,
            "padding": null,
            "right": null,
            "top": null,
            "visibility": null,
            "width": null
          }
        },
        "52b646b47bb64324aca69fae2bfb3e06": {
          "model_module": "@jupyter-widgets/controls",
          "model_name": "DescriptionStyleModel",
          "model_module_version": "1.5.0",
          "state": {
            "_model_module": "@jupyter-widgets/controls",
            "_model_module_version": "1.5.0",
            "_model_name": "DescriptionStyleModel",
            "_view_count": null,
            "_view_module": "@jupyter-widgets/base",
            "_view_module_version": "1.2.0",
            "_view_name": "StyleView",
            "description_width": ""
          }
        },
        "66d94b7d54df4b28905eb633ed4b8948": {
          "model_module": "@jupyter-widgets/base",
          "model_name": "LayoutModel",
          "model_module_version": "1.2.0",
          "state": {
            "_model_module": "@jupyter-widgets/base",
            "_model_module_version": "1.2.0",
            "_model_name": "LayoutModel",
            "_view_count": null,
            "_view_module": "@jupyter-widgets/base",
            "_view_module_version": "1.2.0",
            "_view_name": "LayoutView",
            "align_content": null,
            "align_items": null,
            "align_self": null,
            "border": null,
            "bottom": null,
            "display": null,
            "flex": null,
            "flex_flow": null,
            "grid_area": null,
            "grid_auto_columns": null,
            "grid_auto_flow": null,
            "grid_auto_rows": null,
            "grid_column": null,
            "grid_gap": null,
            "grid_row": null,
            "grid_template_areas": null,
            "grid_template_columns": null,
            "grid_template_rows": null,
            "height": null,
            "justify_content": null,
            "justify_items": null,
            "left": null,
            "margin": null,
            "max_height": null,
            "max_width": null,
            "min_height": null,
            "min_width": null,
            "object_fit": null,
            "object_position": null,
            "order": null,
            "overflow": null,
            "overflow_x": null,
            "overflow_y": null,
            "padding": null,
            "right": null,
            "top": null,
            "visibility": null,
            "width": null
          }
        },
        "e0e25046fb1f47fb8ddfed6b16547663": {
          "model_module": "@jupyter-widgets/controls",
          "model_name": "ProgressStyleModel",
          "model_module_version": "1.5.0",
          "state": {
            "_model_module": "@jupyter-widgets/controls",
            "_model_module_version": "1.5.0",
            "_model_name": "ProgressStyleModel",
            "_view_count": null,
            "_view_module": "@jupyter-widgets/base",
            "_view_module_version": "1.2.0",
            "_view_name": "StyleView",
            "bar_color": null,
            "description_width": ""
          }
        },
        "44061896268749bfbdaeeb1691ce5f35": {
          "model_module": "@jupyter-widgets/base",
          "model_name": "LayoutModel",
          "model_module_version": "1.2.0",
          "state": {
            "_model_module": "@jupyter-widgets/base",
            "_model_module_version": "1.2.0",
            "_model_name": "LayoutModel",
            "_view_count": null,
            "_view_module": "@jupyter-widgets/base",
            "_view_module_version": "1.2.0",
            "_view_name": "LayoutView",
            "align_content": null,
            "align_items": null,
            "align_self": null,
            "border": null,
            "bottom": null,
            "display": null,
            "flex": null,
            "flex_flow": null,
            "grid_area": null,
            "grid_auto_columns": null,
            "grid_auto_flow": null,
            "grid_auto_rows": null,
            "grid_column": null,
            "grid_gap": null,
            "grid_row": null,
            "grid_template_areas": null,
            "grid_template_columns": null,
            "grid_template_rows": null,
            "height": null,
            "justify_content": null,
            "justify_items": null,
            "left": null,
            "margin": null,
            "max_height": null,
            "max_width": null,
            "min_height": null,
            "min_width": null,
            "object_fit": null,
            "object_position": null,
            "order": null,
            "overflow": null,
            "overflow_x": null,
            "overflow_y": null,
            "padding": null,
            "right": null,
            "top": null,
            "visibility": null,
            "width": null
          }
        },
        "9cdf82d2a5c645348d3cca8c1f3bc1da": {
          "model_module": "@jupyter-widgets/controls",
          "model_name": "DescriptionStyleModel",
          "model_module_version": "1.5.0",
          "state": {
            "_model_module": "@jupyter-widgets/controls",
            "_model_module_version": "1.5.0",
            "_model_name": "DescriptionStyleModel",
            "_view_count": null,
            "_view_module": "@jupyter-widgets/base",
            "_view_module_version": "1.2.0",
            "_view_name": "StyleView",
            "description_width": ""
          }
        },
        "a694b8ece6144055912483c252debd56": {
          "model_module": "@jupyter-widgets/controls",
          "model_name": "HBoxModel",
          "model_module_version": "1.5.0",
          "state": {
            "_dom_classes": [],
            "_model_module": "@jupyter-widgets/controls",
            "_model_module_version": "1.5.0",
            "_model_name": "HBoxModel",
            "_view_count": null,
            "_view_module": "@jupyter-widgets/controls",
            "_view_module_version": "1.5.0",
            "_view_name": "HBoxView",
            "box_style": "",
            "children": [
              "IPY_MODEL_9600dc8ce828474c994102dce4a85e33",
              "IPY_MODEL_ee45c674d1f141f0a39423f9a784ee7e",
              "IPY_MODEL_9d44ec717b7947f69428578744695866"
            ],
            "layout": "IPY_MODEL_4850f983528844a48868de819f368d78"
          }
        },
        "9600dc8ce828474c994102dce4a85e33": {
          "model_module": "@jupyter-widgets/controls",
          "model_name": "HTMLModel",
          "model_module_version": "1.5.0",
          "state": {
            "_dom_classes": [],
            "_model_module": "@jupyter-widgets/controls",
            "_model_module_version": "1.5.0",
            "_model_name": "HTMLModel",
            "_view_count": null,
            "_view_module": "@jupyter-widgets/controls",
            "_view_module_version": "1.5.0",
            "_view_name": "HTMLView",
            "description": "",
            "description_tooltip": null,
            "layout": "IPY_MODEL_00637ab74b4d41a4b1c0d61b7eeb937d",
            "placeholder": "​",
            "style": "IPY_MODEL_6490494285e74c35a8d8ea350ff160ab",
            "value": "Downloading: 100%"
          }
        },
        "ee45c674d1f141f0a39423f9a784ee7e": {
          "model_module": "@jupyter-widgets/controls",
          "model_name": "FloatProgressModel",
          "model_module_version": "1.5.0",
          "state": {
            "_dom_classes": [],
            "_model_module": "@jupyter-widgets/controls",
            "_model_module_version": "1.5.0",
            "_model_name": "FloatProgressModel",
            "_view_count": null,
            "_view_module": "@jupyter-widgets/controls",
            "_view_module_version": "1.5.0",
            "_view_name": "ProgressView",
            "bar_style": "success",
            "description": "",
            "description_tooltip": null,
            "layout": "IPY_MODEL_9701aa20374f43cb92fbdb27974aa95b",
            "max": 1355863,
            "min": 0,
            "orientation": "horizontal",
            "style": "IPY_MODEL_9334f0020b4e4d1082f45fe162a1c13c",
            "value": 1355863
          }
        },
        "9d44ec717b7947f69428578744695866": {
          "model_module": "@jupyter-widgets/controls",
          "model_name": "HTMLModel",
          "model_module_version": "1.5.0",
          "state": {
            "_dom_classes": [],
            "_model_module": "@jupyter-widgets/controls",
            "_model_module_version": "1.5.0",
            "_model_name": "HTMLModel",
            "_view_count": null,
            "_view_module": "@jupyter-widgets/controls",
            "_view_module_version": "1.5.0",
            "_view_name": "HTMLView",
            "description": "",
            "description_tooltip": null,
            "layout": "IPY_MODEL_282fc66b420e44bf867db974b1cbf594",
            "placeholder": "​",
            "style": "IPY_MODEL_6eff1166f4a542b889767b199b7ba9f8",
            "value": " 1.29M/1.29M [00:00&lt;00:00, 2.93MB/s]"
          }
        },
        "4850f983528844a48868de819f368d78": {
          "model_module": "@jupyter-widgets/base",
          "model_name": "LayoutModel",
          "model_module_version": "1.2.0",
          "state": {
            "_model_module": "@jupyter-widgets/base",
            "_model_module_version": "1.2.0",
            "_model_name": "LayoutModel",
            "_view_count": null,
            "_view_module": "@jupyter-widgets/base",
            "_view_module_version": "1.2.0",
            "_view_name": "LayoutView",
            "align_content": null,
            "align_items": null,
            "align_self": null,
            "border": null,
            "bottom": null,
            "display": null,
            "flex": null,
            "flex_flow": null,
            "grid_area": null,
            "grid_auto_columns": null,
            "grid_auto_flow": null,
            "grid_auto_rows": null,
            "grid_column": null,
            "grid_gap": null,
            "grid_row": null,
            "grid_template_areas": null,
            "grid_template_columns": null,
            "grid_template_rows": null,
            "height": null,
            "justify_content": null,
            "justify_items": null,
            "left": null,
            "margin": null,
            "max_height": null,
            "max_width": null,
            "min_height": null,
            "min_width": null,
            "object_fit": null,
            "object_position": null,
            "order": null,
            "overflow": null,
            "overflow_x": null,
            "overflow_y": null,
            "padding": null,
            "right": null,
            "top": null,
            "visibility": null,
            "width": null
          }
        },
        "00637ab74b4d41a4b1c0d61b7eeb937d": {
          "model_module": "@jupyter-widgets/base",
          "model_name": "LayoutModel",
          "model_module_version": "1.2.0",
          "state": {
            "_model_module": "@jupyter-widgets/base",
            "_model_module_version": "1.2.0",
            "_model_name": "LayoutModel",
            "_view_count": null,
            "_view_module": "@jupyter-widgets/base",
            "_view_module_version": "1.2.0",
            "_view_name": "LayoutView",
            "align_content": null,
            "align_items": null,
            "align_self": null,
            "border": null,
            "bottom": null,
            "display": null,
            "flex": null,
            "flex_flow": null,
            "grid_area": null,
            "grid_auto_columns": null,
            "grid_auto_flow": null,
            "grid_auto_rows": null,
            "grid_column": null,
            "grid_gap": null,
            "grid_row": null,
            "grid_template_areas": null,
            "grid_template_columns": null,
            "grid_template_rows": null,
            "height": null,
            "justify_content": null,
            "justify_items": null,
            "left": null,
            "margin": null,
            "max_height": null,
            "max_width": null,
            "min_height": null,
            "min_width": null,
            "object_fit": null,
            "object_position": null,
            "order": null,
            "overflow": null,
            "overflow_x": null,
            "overflow_y": null,
            "padding": null,
            "right": null,
            "top": null,
            "visibility": null,
            "width": null
          }
        },
        "6490494285e74c35a8d8ea350ff160ab": {
          "model_module": "@jupyter-widgets/controls",
          "model_name": "DescriptionStyleModel",
          "model_module_version": "1.5.0",
          "state": {
            "_model_module": "@jupyter-widgets/controls",
            "_model_module_version": "1.5.0",
            "_model_name": "DescriptionStyleModel",
            "_view_count": null,
            "_view_module": "@jupyter-widgets/base",
            "_view_module_version": "1.2.0",
            "_view_name": "StyleView",
            "description_width": ""
          }
        },
        "9701aa20374f43cb92fbdb27974aa95b": {
          "model_module": "@jupyter-widgets/base",
          "model_name": "LayoutModel",
          "model_module_version": "1.2.0",
          "state": {
            "_model_module": "@jupyter-widgets/base",
            "_model_module_version": "1.2.0",
            "_model_name": "LayoutModel",
            "_view_count": null,
            "_view_module": "@jupyter-widgets/base",
            "_view_module_version": "1.2.0",
            "_view_name": "LayoutView",
            "align_content": null,
            "align_items": null,
            "align_self": null,
            "border": null,
            "bottom": null,
            "display": null,
            "flex": null,
            "flex_flow": null,
            "grid_area": null,
            "grid_auto_columns": null,
            "grid_auto_flow": null,
            "grid_auto_rows": null,
            "grid_column": null,
            "grid_gap": null,
            "grid_row": null,
            "grid_template_areas": null,
            "grid_template_columns": null,
            "grid_template_rows": null,
            "height": null,
            "justify_content": null,
            "justify_items": null,
            "left": null,
            "margin": null,
            "max_height": null,
            "max_width": null,
            "min_height": null,
            "min_width": null,
            "object_fit": null,
            "object_position": null,
            "order": null,
            "overflow": null,
            "overflow_x": null,
            "overflow_y": null,
            "padding": null,
            "right": null,
            "top": null,
            "visibility": null,
            "width": null
          }
        },
        "9334f0020b4e4d1082f45fe162a1c13c": {
          "model_module": "@jupyter-widgets/controls",
          "model_name": "ProgressStyleModel",
          "model_module_version": "1.5.0",
          "state": {
            "_model_module": "@jupyter-widgets/controls",
            "_model_module_version": "1.5.0",
            "_model_name": "ProgressStyleModel",
            "_view_count": null,
            "_view_module": "@jupyter-widgets/base",
            "_view_module_version": "1.2.0",
            "_view_name": "StyleView",
            "bar_color": null,
            "description_width": ""
          }
        },
        "282fc66b420e44bf867db974b1cbf594": {
          "model_module": "@jupyter-widgets/base",
          "model_name": "LayoutModel",
          "model_module_version": "1.2.0",
          "state": {
            "_model_module": "@jupyter-widgets/base",
            "_model_module_version": "1.2.0",
            "_model_name": "LayoutModel",
            "_view_count": null,
            "_view_module": "@jupyter-widgets/base",
            "_view_module_version": "1.2.0",
            "_view_name": "LayoutView",
            "align_content": null,
            "align_items": null,
            "align_self": null,
            "border": null,
            "bottom": null,
            "display": null,
            "flex": null,
            "flex_flow": null,
            "grid_area": null,
            "grid_auto_columns": null,
            "grid_auto_flow": null,
            "grid_auto_rows": null,
            "grid_column": null,
            "grid_gap": null,
            "grid_row": null,
            "grid_template_areas": null,
            "grid_template_columns": null,
            "grid_template_rows": null,
            "height": null,
            "justify_content": null,
            "justify_items": null,
            "left": null,
            "margin": null,
            "max_height": null,
            "max_width": null,
            "min_height": null,
            "min_width": null,
            "object_fit": null,
            "object_position": null,
            "order": null,
            "overflow": null,
            "overflow_x": null,
            "overflow_y": null,
            "padding": null,
            "right": null,
            "top": null,
            "visibility": null,
            "width": null
          }
        },
        "6eff1166f4a542b889767b199b7ba9f8": {
          "model_module": "@jupyter-widgets/controls",
          "model_name": "DescriptionStyleModel",
          "model_module_version": "1.5.0",
          "state": {
            "_model_module": "@jupyter-widgets/controls",
            "_model_module_version": "1.5.0",
            "_model_name": "DescriptionStyleModel",
            "_view_count": null,
            "_view_module": "@jupyter-widgets/base",
            "_view_module_version": "1.2.0",
            "_view_name": "StyleView",
            "description_width": ""
          }
        }
      }
    }
  },
  "nbformat": 4,
  "nbformat_minor": 5
}
